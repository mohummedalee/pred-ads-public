{
 "cells": [
  {
   "cell_type": "code",
   "execution_count": 53,
   "id": "b5e2e7fb-c9f7-45ad-8e7c-8bf60ef6e225",
   "metadata": {},
   "outputs": [],
   "source": [
    "library(dplyr)\n",
    "library(ggplot2)\n",
    "library(toffee)\n",
    "library(lme4)\n",
    "library(tidyr)\n",
    "library(xtable)\n",
    "library(broom)\n",
    "library(broom.mixed)"
   ]
  },
  {
   "cell_type": "code",
   "execution_count": 54,
   "id": "f710d3e9-4efe-461b-97dc-cc640bb703df",
   "metadata": {},
   "outputs": [],
   "source": [
    "make_model_tbl <- function(model){\n",
    "  tidy(model) %>%\n",
    "    mutate(star = ifelse(p.value < 0.05, \"*\", \"\")) %>%\n",
    "    mutate(O.R. = exp(estimate)) %>%\n",
    "    mutate(p.value = ifelse(p.value < 0.001, \"<0.001\", as.character(round(p.value, 3)))) %>%\n",
    "    mutate(p.value = paste0(p.value, star)) %>%\n",
    "    mutate(C.I. = CI_fmt(estimate, std.error)) %>%\n",
    "    dplyr::select(term, O.R., C.I., p.value)\n",
    "}"
   ]
  },
  {
   "cell_type": "code",
   "execution_count": 59,
   "id": "715dbda0-14ca-4212-b58d-f66a3239d3fc",
   "metadata": {},
   "outputs": [],
   "source": [
    "ad_counts <- read.csv('../data/harmful_counts_df.csv')\n",
    "dems <- read.csv('../data/ALLDEMS.csv')\n",
    "\n",
    "\n",
    "# Elissa's example model: prop_harmful_grouped ~ !men + !white + high_ed\n",
    "ad_counts.dems <- merge(ad_counts, dems, by=\"pid\") %>%\n",
    "    mutate(prop_harmful_grouped = harmful_grouped / total) %>%\n",
    "    mutate(prop_prohibited =  prohibited / total) %>%\n",
    "    mutate(prop_deceptive = deceptive / total) %>%\n",
    "    mutate(prop_clickbait = clickbait / total) %>%\n",
    "    mutate(prop_financial = financial / total) %>%\n",
    "    mutate(prop_sensitive = sensitive / total) %>%\n",
    "    # ===== don't care about anything else below =====\n",
    "    mutate(prop_other = other / total) %>%\n",
    "    mutate(prop_opportunity = opportunity / total) %>%\n",
    "    mutate(prop_healthcare = healthcare / total) %>%\n",
    "    mutate(prop_neutral = neutral / total)"
   ]
  },
  {
   "cell_type": "code",
   "execution_count": 25,
   "id": "734f623c-d0d3-4569-96ab-5e04f2d13ab3",
   "metadata": {},
   "outputs": [],
   "source": [
    "# ad_counts.dems <- merge(ad_counts, dems, by=\"pid\") %>%\n",
    "#     mutate(prop_harmful_grouped = harmful_grouped / total) %>%\n",
    "#     mutate(prop_neutral = neutral / total)\n",
    "    # mutate(notman = !man) %>%\n",
    "    # mutate(notwhite = !white)\n",
    "\n",
    "# TODO: have a version of this DF with financial excluded, prop_nonfin_harmful e.g."
   ]
  },
  {
   "cell_type": "markdown",
   "id": "d2d61023-2718-4018-aa84-bc9b0cfc2837",
   "metadata": {},
   "source": [
    "#### What demographic factors impact your fraction of all grouped harmful ads?"
   ]
  },
  {
   "cell_type": "code",
   "execution_count": 66,
   "id": "7fc93bae-e968-4b3e-979b-f103e5266fe4",
   "metadata": {},
   "outputs": [],
   "source": [
    "# fit all models\n",
    "mod.frac_harmful_dems <- lm(prop_harmful_grouped ~ man + white + black + hispanic + asian + high_ed + older, data=ad_counts.dems)\n",
    "mod.frac_prohibited_dems <- lm(prop_prohibited ~ man + white + black + hispanic + asian + high_ed + older, data=ad_counts.dems)\n",
    "mod.frac_deceptive_dems <- lm(prop_deceptive ~ man + white + black + hispanic + asian + high_ed + older, data=ad_counts.dems)\n",
    "mod.frac_clickbait_dems <- lm(prop_clickbait ~ man + white + black + hispanic + asian + high_ed + older, data=ad_counts.dems)\n",
    "mod.frac_financial_dems <- lm(prop_financial ~ man + white + black + hispanic + asian + high_ed + older, data=ad_counts.dems)\n",
    "mod.frac_sensitive_dems <- lm(prop_sensitive ~ man + white + black + hispanic + asian + high_ed + older, data=ad_counts.dems)"
   ]
  },
  {
   "cell_type": "code",
   "execution_count": 80,
   "id": "60b1b92d-a233-454f-94e1-3116f6b67ffa",
   "metadata": {},
   "outputs": [],
   "source": [
    "# pull out formatted parameters\n",
    "cols <- c('term', 'estimate', 'p.value')\n",
    "\n",
    "# === OMNIBUS ===\n",
    "omnibus.model.params <- tidy(mod.frac_harmful_dems) %>%\n",
    "    select(cols) %>%\n",
    "    mutate(sig = case_when(\n",
    "        p.value < 0.001 ~ \"**\",\n",
    "        p.value < 0.05 ~ \"*\",\n",
    "        p.value <= 0.1 ~ \"+\",\n",
    "        TRUE ~ \"\")) %>%\n",
    "    # add confidence interval column\n",
    "    mutate(CI = toffee_tbl(mod.frac_harmful_dems)$CI) %>%\n",
    "    # format p value and CI into O.R. column\n",
    "    mutate(estimate = paste0(as.character(round(estimate, 3)), sig, ' ', CI)) %>%\n",
    "    select(-sig, -CI) %>%\n",
    "    # rename columns for easier joining later\n",
    "    rename(estimate.omnibus = estimate, p.omnibus = p.value)\n",
    "\n",
    "# === PROHIBITED ===\n",
    "prohibited.model.params <- tidy(mod.frac_prohibited_dems) %>%\n",
    "    select(cols) %>%\n",
    "    mutate(sig = case_when(\n",
    "        p.value < 0.001 ~ \"**\",\n",
    "        p.value < 0.05 ~ \"*\",\n",
    "        p.value <= 0.1 ~ \"+\",\n",
    "        TRUE ~ \"\")) %>%\n",
    "    # add confidence interval column\n",
    "    mutate(CI = toffee_tbl(mod.frac_prohibited_dems)$CI) %>%\n",
    "    # format p value and CI into O.R. column\n",
    "    mutate(estimate = paste0(as.character(round(estimate, 3)), sig, ' ', CI)) %>%\n",
    "    select(-sig, -CI) %>%\n",
    "    # rename columns for easier joining later\n",
    "    rename(estimate.prohibited = estimate, p.prohibited = p.value)\n",
    "\n",
    "# === DECEPTIVE ===\n",
    "deceptive.model.params <- tidy(mod.frac_deceptive_dems) %>%\n",
    "    select(cols) %>%\n",
    "    mutate(sig = case_when(\n",
    "        p.value < 0.001 ~ \"**\",\n",
    "        p.value < 0.05 ~ \"*\",\n",
    "        p.value <= 0.1 ~ \"+\",\n",
    "        TRUE ~ \"\")) %>%\n",
    "    # add confidence interval column\n",
    "    mutate(CI = toffee_tbl(mod.frac_deceptive_dems)$CI) %>%\n",
    "    # format p value and CI into O.R. column\n",
    "    mutate(estimate = paste0(as.character(round(estimate, 3)), sig, ' ', CI)) %>%\n",
    "    select(-sig, -CI) %>%\n",
    "    # rename columns for easier joining later\n",
    "    rename(estimate.deceptive = estimate, p.deceptive = p.value)\n",
    "\n",
    "# === CLICKBAIT ===\n",
    "clickbait.model.params <- tidy(mod.frac_clickbait_dems) %>%\n",
    "    select(cols) %>%\n",
    "    mutate(sig = case_when(\n",
    "        p.value < 0.001 ~ \"**\",\n",
    "        p.value < 0.05 ~ \"*\",\n",
    "        p.value <= 0.1 ~ \"+\",\n",
    "        TRUE ~ \"\")) %>%\n",
    "    # add confidence interval column\n",
    "    mutate(CI = toffee_tbl(mod.frac_clickbait_dems)$CI) %>%\n",
    "    # format p value and CI into O.R. column\n",
    "    mutate(estimate = paste0(as.character(round(estimate, 3)), sig, ' ', CI)) %>%\n",
    "    select(-sig, -CI) %>%\n",
    "    # rename columns for easier joining later\n",
    "    rename(estimate.clickbait = estimate, p.clickbait = p.value)\n",
    "\n",
    "# === FINANCIAL ===\n",
    "financial.model.params <- tidy(mod.frac_financial_dems) %>%\n",
    "    select(cols) %>%\n",
    "    mutate(sig = case_when(\n",
    "        p.value < 0.001 ~ \"**\",\n",
    "        p.value < 0.05 ~ \"*\",\n",
    "        p.value <= 0.1 ~ \"+\",\n",
    "        TRUE ~ \"\")) %>%\n",
    "    # add confidence interval column\n",
    "    mutate(CI = toffee_tbl(mod.frac_financial_dems)$CI) %>%\n",
    "    # format p value and CI into O.R. column\n",
    "    mutate(estimate = paste0(as.character(round(estimate, 3)), sig, ' ', CI)) %>%\n",
    "    select(-sig, -CI) %>%\n",
    "    # rename columns for easier joining later\n",
    "    rename(estimate.financial = estimate, p.financial = p.value)\n",
    "\n",
    "# === SENSITIVE ===\n",
    "sensitive.model.params <- tidy(mod.frac_sensitive_dems) %>%\n",
    "    select(cols) %>%\n",
    "    mutate(sig = case_when(\n",
    "        p.value < 0.001 ~ \"**\",\n",
    "        p.value < 0.05 ~ \"*\",\n",
    "        p.value <= 0.1 ~ \"+\",\n",
    "        TRUE ~ \"\")) %>%\n",
    "    # add confidence interval column\n",
    "    mutate(CI = toffee_tbl(mod.frac_sensitive_dems)$CI) %>%\n",
    "    # format p value and CI into O.R. column\n",
    "    mutate(estimate = paste0(as.character(round(estimate, 3)), sig, ' ', CI)) %>%\n",
    "    select(-sig, -CI) %>%\n",
    "    # rename columns for easier joining later\n",
    "    rename(estimate.sensitive = estimate, p.sensitive = p.value)"
   ]
  },
  {
   "cell_type": "code",
   "execution_count": 81,
   "id": "9a156185-47d7-477c-b413-8d7ba3c306dd",
   "metadata": {},
   "outputs": [
    {
     "name": "stdout",
     "output_type": "stream",
     "text": [
      "% latex table generated in R 4.1.2 by xtable 1.8-4 package\n",
      "% Wed Jan 11 09:16:39 2023\n",
      "\\begin{table}[ht]\n",
      "\\centering\n",
      "\\begin{tabular}{rlllllll}\n",
      "  \\hline\n",
      " & term & estimate.omnibus & estimate.prohibited & estimate.deceptive & estimate.clickbait & estimate.financial & estimate.sensitive \\\\ \n",
      "  \\hline\n",
      "1 & (Intercept) & 0.032 [-0.02, 0.08] & 0.006+ [0, 0.01] & -0.011 [-0.03, 0.01] & -0.003 [-0.02, 0.02] & 0.009 [-0.03, 0.05] & 0.019+ [0, 0.04] \\\\ \n",
      "  2 & asian & 0.02 [-0.04, 0.08] & 0.001 [-0.01, 0.01] & 0.011 [-0.01, 0.03] & 0.011 [-0.01, 0.03] & 0.011 [-0.04, 0.06] & -0.003 [-0.03, 0.02] \\\\ \n",
      "  3 & black & 0.043+ [0, 0.09] & 0 [-0.01, 0.01] & 0.018* [0, 0.03] & 0.021* [0, 0.04] & 0.021 [-0.02, 0.06] & -0.002 [-0.02, 0.02] \\\\ \n",
      "  4 & high\\_ed & 0.001 [-0.02, 0.03] & -0.001 [0, 0] & 0.003 [0, 0.01] & 0.007 [0, 0.02] & -0.008 [-0.03, 0.01] & 0.001 [-0.01, 0.01] \\\\ \n",
      "  5 & hispanic & 0.017 [-0.03, 0.06] & -0.003 [-0.01, 0] & 0.008 [-0.01, 0.02] & 0.002 [-0.01, 0.02] & 0.02 [-0.01, 0.05] & -0.005 [-0.02, 0.01] \\\\ \n",
      "  6 & man & 0.057** [0.03, 0.08] & 0.002 [0, 0] & 0.004 [0, 0.01] & 0.009* [0, 0.02] & 0.039** [0.02, 0.06] & 0.005 [0, 0.02] \\\\ \n",
      "  7 & older & 0.039* [0.01, 0.06] & -0.004* [-0.01, 0] & 0.01* [0, 0.02] & 0.016* [0.01, 0.03] & 0.013 [-0.01, 0.03] & 0.007 [0, 0.02] \\\\ \n",
      "  8 & white & 0.024 [-0.02, 0.07] & 0.001 [0, 0.01] & 0.015+ [0, 0.03] & 0.008 [-0.01, 0.03] & 0.019 [-0.02, 0.06] & -0.006 [-0.03, 0.01] \\\\ \n",
      "   \\hline\n",
      "\\end{tabular}\n",
      "\\end{table}\n"
     ]
    }
   ],
   "source": [
    "# join all into one table\n",
    "params.list <- list(omnibus.model.params, clickbait.model.params, deceptive.model.params,\n",
    "                    prohibited.model.params, financial.model.params, sensitive.model.params)\n",
    "all.params <- Reduce(function(x, y, ...) merge(x, y, by='term', ...), params.list)\n",
    "                     \n",
    "print(xtable(all.params %>%\n",
    "    select(term, estimate.omnibus, estimate.prohibited, estimate.deceptive, estimate.clickbait, estimate.financial, estimate.sensitive)))"
   ]
  },
  {
   "cell_type": "code",
   "execution_count": null,
   "id": "00e398e8-8ec8-4722-8996-4a4bb751fa29",
   "metadata": {},
   "outputs": [],
   "source": []
  },
  {
   "cell_type": "code",
   "execution_count": 63,
   "id": "57a8d288-676d-4c06-b5a1-7d034ad108b8",
   "metadata": {},
   "outputs": [
    {
     "data": {
      "text/html": [
       "<table class=\"dataframe\">\n",
       "<caption>A xtable: 8 × 4</caption>\n",
       "<thead>\n",
       "\t<tr><th scope=col>Variable</th><th scope=col>Estimate</th><th scope=col>CI</th><th scope=col>p_value</th></tr>\n",
       "\t<tr><th scope=col>&lt;chr&gt;</th><th scope=col>&lt;dbl&gt;</th><th scope=col>&lt;chr&gt;</th><th scope=col>&lt;chr&gt;</th></tr>\n",
       "</thead>\n",
       "<tbody>\n",
       "\t<tr><td>(Intercept)</td><td>0.03</td><td>[-0.02, 0.08]</td><td>0.23     </td></tr>\n",
       "\t<tr><td><span style=white-space:pre-wrap>man        </span></td><td>0.06</td><td>[0.03, 0.08] </td><td>&lt; 0.01***</td></tr>\n",
       "\t<tr><td>white      </td><td>0.02</td><td>[-0.02, 0.07]</td><td>0.31     </td></tr>\n",
       "\t<tr><td>black      </td><td>0.04</td><td>[0, 0.09]    </td><td>0.07     </td></tr>\n",
       "\t<tr><td>hispanic   </td><td>0.02</td><td>[-0.03, 0.06]</td><td>0.44     </td></tr>\n",
       "\t<tr><td>asian      </td><td>0.02</td><td>[-0.04, 0.08]</td><td>0.51     </td></tr>\n",
       "\t<tr><td>high_ed    </td><td>0.00</td><td>[-0.02, 0.03]</td><td>0.91     </td></tr>\n",
       "\t<tr><td><span style=white-space:pre-wrap>older      </span></td><td>0.04</td><td>[0.01, 0.06] </td><td>&lt; 0.01** </td></tr>\n",
       "</tbody>\n",
       "</table>\n"
      ],
      "text/latex": [
       "A xtable: 8 × 4\n",
       "\\begin{tabular}{llll}\n",
       " Variable & Estimate & CI & p\\_value\\\\\n",
       " <chr> & <dbl> & <chr> & <chr>\\\\\n",
       "\\hline\n",
       "\t (Intercept) & 0.03 & {[}-0.02, 0.08{]} & 0.23     \\\\\n",
       "\t man         & 0.06 & {[}0.03, 0.08{]}  & < 0.01***\\\\\n",
       "\t white       & 0.02 & {[}-0.02, 0.07{]} & 0.31     \\\\\n",
       "\t black       & 0.04 & {[}0, 0.09{]}     & 0.07     \\\\\n",
       "\t hispanic    & 0.02 & {[}-0.03, 0.06{]} & 0.44     \\\\\n",
       "\t asian       & 0.02 & {[}-0.04, 0.08{]} & 0.51     \\\\\n",
       "\t high\\_ed     & 0.00 & {[}-0.02, 0.03{]} & 0.91     \\\\\n",
       "\t older       & 0.04 & {[}0.01, 0.06{]}  & < 0.01** \\\\\n",
       "\\end{tabular}\n"
      ],
      "text/markdown": [
       "\n",
       "A xtable: 8 × 4\n",
       "\n",
       "| Variable &lt;chr&gt; | Estimate &lt;dbl&gt; | CI &lt;chr&gt; | p_value &lt;chr&gt; |\n",
       "|---|---|---|---|\n",
       "| (Intercept) | 0.03 | [-0.02, 0.08] | 0.23      |\n",
       "| man         | 0.06 | [0.03, 0.08]  | &lt; 0.01*** |\n",
       "| white       | 0.02 | [-0.02, 0.07] | 0.31      |\n",
       "| black       | 0.04 | [0, 0.09]     | 0.07      |\n",
       "| hispanic    | 0.02 | [-0.03, 0.06] | 0.44      |\n",
       "| asian       | 0.02 | [-0.04, 0.08] | 0.51      |\n",
       "| high_ed     | 0.00 | [-0.02, 0.03] | 0.91      |\n",
       "| older       | 0.04 | [0.01, 0.06]  | &lt; 0.01**  |\n",
       "\n"
      ],
      "text/plain": [
       "  Variable    Estimate CI            p_value  \n",
       "1 (Intercept) 0.03     [-0.02, 0.08] 0.23     \n",
       "2 man         0.06     [0.03, 0.08]  < 0.01***\n",
       "3 white       0.02     [-0.02, 0.07] 0.31     \n",
       "4 black       0.04     [0, 0.09]     0.07     \n",
       "5 hispanic    0.02     [-0.03, 0.06] 0.44     \n",
       "6 asian       0.02     [-0.04, 0.08] 0.51     \n",
       "7 high_ed     0.00     [-0.02, 0.03] 0.91     \n",
       "8 older       0.04     [0.01, 0.06]  < 0.01** "
      ]
     },
     "metadata": {},
     "output_type": "display_data"
    }
   ],
   "source": [
    "mod.frac_harmful_dems <- lm(prop_harmful_grouped ~ man + white + black + hispanic + asian + high_ed + older,\n",
    "                            data=ad_counts.dems)\n",
    "\n",
    "xtable(toffee_tbl(mod.frac_harmful_dems))\n",
    "\n",
    "# Observation: if you model with `woman`, estimate is -0.05 p(<0.01), i.e. being a woman actually means you see fewer harmful ads"
   ]
  },
  {
   "cell_type": "code",
   "execution_count": 64,
   "id": "c16a57ca-bc78-459a-8fb5-d79ee8252ba3",
   "metadata": {},
   "outputs": [
    {
     "data": {
      "text/html": [
       "<table class=\"dataframe\">\n",
       "<caption>A tibble: 8 × 5</caption>\n",
       "<thead>\n",
       "\t<tr><th scope=col>term</th><th scope=col>estimate</th><th scope=col>std.error</th><th scope=col>statistic</th><th scope=col>p.value</th></tr>\n",
       "\t<tr><th scope=col>&lt;chr&gt;</th><th scope=col>&lt;dbl&gt;</th><th scope=col>&lt;dbl&gt;</th><th scope=col>&lt;dbl&gt;</th><th scope=col>&lt;dbl&gt;</th></tr>\n",
       "</thead>\n",
       "<tbody>\n",
       "\t<tr><td>(Intercept)</td><td>1.0062944</td><td>0.003258710</td><td> 1.92552183</td><td>0.05647235</td></tr>\n",
       "\t<tr><td>man        </td><td>1.0019288</td><td>0.001467926</td><td> 1.31270117</td><td>0.19172771</td></tr>\n",
       "\t<tr><td>white      </td><td>1.0010215</td><td>0.002928333</td><td> 0.34865064</td><td>0.72794768</td></tr>\n",
       "\t<tr><td>black      </td><td>0.9999411</td><td>0.002944345</td><td>-0.02001786</td><td>0.98406156</td></tr>\n",
       "\t<tr><td>hispanic   </td><td>0.9968429</td><td>0.002667769</td><td>-1.18528696</td><td>0.23818894</td></tr>\n",
       "\t<tr><td>asian      </td><td>1.0012954</td><td>0.003680650</td><td> 0.35172325</td><td>0.72564765</td></tr>\n",
       "\t<tr><td>high_ed    </td><td>0.9994288</td><td>0.001494887</td><td>-0.38220600</td><td>0.70296815</td></tr>\n",
       "\t<tr><td>older      </td><td>0.9959816</td><td>0.001601226</td><td>-2.51465428</td><td>0.01320532</td></tr>\n",
       "</tbody>\n",
       "</table>\n"
      ],
      "text/latex": [
       "A tibble: 8 × 5\n",
       "\\begin{tabular}{lllll}\n",
       " term & estimate & std.error & statistic & p.value\\\\\n",
       " <chr> & <dbl> & <dbl> & <dbl> & <dbl>\\\\\n",
       "\\hline\n",
       "\t (Intercept) & 1.0062944 & 0.003258710 &  1.92552183 & 0.05647235\\\\\n",
       "\t man         & 1.0019288 & 0.001467926 &  1.31270117 & 0.19172771\\\\\n",
       "\t white       & 1.0010215 & 0.002928333 &  0.34865064 & 0.72794768\\\\\n",
       "\t black       & 0.9999411 & 0.002944345 & -0.02001786 & 0.98406156\\\\\n",
       "\t hispanic    & 0.9968429 & 0.002667769 & -1.18528696 & 0.23818894\\\\\n",
       "\t asian       & 1.0012954 & 0.003680650 &  0.35172325 & 0.72564765\\\\\n",
       "\t high\\_ed     & 0.9994288 & 0.001494887 & -0.38220600 & 0.70296815\\\\\n",
       "\t older       & 0.9959816 & 0.001601226 & -2.51465428 & 0.01320532\\\\\n",
       "\\end{tabular}\n"
      ],
      "text/markdown": [
       "\n",
       "A tibble: 8 × 5\n",
       "\n",
       "| term &lt;chr&gt; | estimate &lt;dbl&gt; | std.error &lt;dbl&gt; | statistic &lt;dbl&gt; | p.value &lt;dbl&gt; |\n",
       "|---|---|---|---|---|\n",
       "| (Intercept) | 1.0062944 | 0.003258710 |  1.92552183 | 0.05647235 |\n",
       "| man         | 1.0019288 | 0.001467926 |  1.31270117 | 0.19172771 |\n",
       "| white       | 1.0010215 | 0.002928333 |  0.34865064 | 0.72794768 |\n",
       "| black       | 0.9999411 | 0.002944345 | -0.02001786 | 0.98406156 |\n",
       "| hispanic    | 0.9968429 | 0.002667769 | -1.18528696 | 0.23818894 |\n",
       "| asian       | 1.0012954 | 0.003680650 |  0.35172325 | 0.72564765 |\n",
       "| high_ed     | 0.9994288 | 0.001494887 | -0.38220600 | 0.70296815 |\n",
       "| older       | 0.9959816 | 0.001601226 | -2.51465428 | 0.01320532 |\n",
       "\n"
      ],
      "text/plain": [
       "  term        estimate  std.error   statistic   p.value   \n",
       "1 (Intercept) 1.0062944 0.003258710  1.92552183 0.05647235\n",
       "2 man         1.0019288 0.001467926  1.31270117 0.19172771\n",
       "3 white       1.0010215 0.002928333  0.34865064 0.72794768\n",
       "4 black       0.9999411 0.002944345 -0.02001786 0.98406156\n",
       "5 hispanic    0.9968429 0.002667769 -1.18528696 0.23818894\n",
       "6 asian       1.0012954 0.003680650  0.35172325 0.72564765\n",
       "7 high_ed     0.9994288 0.001494887 -0.38220600 0.70296815\n",
       "8 older       0.9959816 0.001601226 -2.51465428 0.01320532"
      ]
     },
     "metadata": {},
     "output_type": "display_data"
    }
   ],
   "source": [
    "mod.frac_prohibited_dems <- lm(prop_prohibited ~ man + white + black + hispanic + asian + high_ed + older,\n",
    "                               data=ad_counts.dems)\n",
    "\n",
    "toffee_tbl(mod.frac_prohibited_dems)"
   ]
  },
  {
   "cell_type": "code",
   "execution_count": 40,
   "id": "5a2bdc8a-78e1-4510-b25a-32323b4dcb96",
   "metadata": {},
   "outputs": [
    {
     "data": {
      "text/plain": [
       "\n",
       "Call:\n",
       "lm(formula = prop_harmful_grouped ~ man + white + black + hispanic + \n",
       "    asian + high_ed + older, data = ad_counts.dems)\n",
       "\n",
       "Residuals:\n",
       "      Min        1Q    Median        3Q       Max \n",
       "-0.131236 -0.041362 -0.008607  0.030253  0.245619 \n",
       "\n",
       "Coefficients:\n",
       "            Estimate Std. Error t value Pr(>|t|)    \n",
       "(Intercept) 0.031820   0.026397   1.205  0.23034    \n",
       "man         0.057362   0.011891   4.824 4.08e-06 ***\n",
       "white       0.024331   0.023721   1.026  0.30703    \n",
       "black       0.043015   0.023850   1.804  0.07375 .  \n",
       "hispanic    0.016621   0.021610   0.769  0.44330    \n",
       "asian       0.019839   0.029815   0.665  0.50703    \n",
       "high_ed     0.001333   0.012109   0.110  0.91256    \n",
       "older       0.039116   0.012971   3.016  0.00311 ** \n",
       "---\n",
       "Signif. codes:  0 ‘***’ 0.001 ‘**’ 0.01 ‘*’ 0.05 ‘.’ 0.1 ‘ ’ 1\n",
       "\n",
       "Residual standard error: 0.06534 on 123 degrees of freedom\n",
       "  (1 observation deleted due to missingness)\n",
       "Multiple R-squared:  0.2216,\tAdjusted R-squared:  0.1773 \n",
       "F-statistic: 5.003 on 7 and 123 DF,  p-value: 5.186e-05\n"
      ]
     },
     "metadata": {},
     "output_type": "display_data"
    }
   ],
   "source": [
    "summary(mod.frac_harmful_dems)"
   ]
  },
  {
   "cell_type": "code",
   "execution_count": 28,
   "id": "8240080f-cf05-4a9d-9865-2a7e6377fc88",
   "metadata": {},
   "outputs": [
    {
     "name": "stdout",
     "output_type": "stream",
     "text": [
      "% latex table generated in R 4.1.2 by xtable 1.8-4 package\n",
      "% Thu Dec  1 12:02:31 2022\n",
      "\\begin{table}[ht]\n",
      "\\centering\n",
      "\\begin{tabular}{rlrll}\n",
      "  \\hline\n",
      " & Variable & Estimate & CI & p\\_value \\\\ \n",
      "  \\hline\n",
      "1 & (Intercept) & 0.05 & [0.01, 0.08] & 0.01* \\\\ \n",
      "  2 & man & 0.06 & [0.04, 0.08] & $<$ 0.01*** \\\\ \n",
      "  3 & white & 0.01 & [-0.02, 0.04] & 0.42 \\\\ \n",
      "  4 & black & 0.03 & [0, 0.06] & 0.06 \\\\ \n",
      "  5 & hispanic & 0.01 & [-0.03, 0.05] & 0.61 \\\\ \n",
      "  6 & high\\_ed & 0.00 & [-0.02, 0.03] & 0.89 \\\\ \n",
      "  7 & older & 0.04 & [0.01, 0.06] & $<$ 0.01** \\\\ \n",
      "   \\hline\n",
      "\\end{tabular}\n",
      "\\end{table}\n"
     ]
    }
   ],
   "source": [
    "print(xtable(toffee_tbl(mod.frac_harmful_dems)))"
   ]
  },
  {
   "cell_type": "markdown",
   "id": "b290c811-fec6-49c8-bd85-b26bf4a97bab",
   "metadata": {},
   "source": [
    "### Healthcare and Opportunity included"
   ]
  },
  {
   "cell_type": "code",
   "execution_count": 41,
   "id": "cd556775-557d-4c57-b350-8d560f7ad90c",
   "metadata": {},
   "outputs": [
    {
     "data": {
      "text/html": [
       "<table class=\"dataframe\">\n",
       "<caption>A xtable: 8 × 4</caption>\n",
       "<thead>\n",
       "\t<tr><th scope=col>Variable</th><th scope=col>Estimate</th><th scope=col>CI</th><th scope=col>p_value</th></tr>\n",
       "\t<tr><th scope=col>&lt;chr&gt;</th><th scope=col>&lt;dbl&gt;</th><th scope=col>&lt;chr&gt;</th><th scope=col>&lt;chr&gt;</th></tr>\n",
       "</thead>\n",
       "<tbody>\n",
       "\t<tr><td>(Intercept)</td><td> 0.22</td><td>[0.11, 0.33] </td><td>&lt; 0.01***</td></tr>\n",
       "\t<tr><td>man        </td><td> 0.01</td><td>[-0.04, 0.06]</td><td>0.65     </td></tr>\n",
       "\t<tr><td>white      </td><td>-0.03</td><td>[-0.13, 0.07]</td><td>0.52     </td></tr>\n",
       "\t<tr><td>black      </td><td>-0.02</td><td>[-0.12, 0.08]</td><td>0.74     </td></tr>\n",
       "\t<tr><td>hispanic   </td><td>-0.04</td><td>[-0.13, 0.05]</td><td>0.35     </td></tr>\n",
       "\t<tr><td>asian      </td><td> 0.00</td><td>[-0.13, 0.12]</td><td>0.96     </td></tr>\n",
       "\t<tr><td>high_ed    </td><td> 0.03</td><td>[-0.02, 0.08]</td><td>0.27     </td></tr>\n",
       "\t<tr><td>older      </td><td> 0.02</td><td>[-0.03, 0.08]</td><td>0.4      </td></tr>\n",
       "</tbody>\n",
       "</table>\n"
      ],
      "text/latex": [
       "A xtable: 8 × 4\n",
       "\\begin{tabular}{llll}\n",
       " Variable & Estimate & CI & p\\_value\\\\\n",
       " <chr> & <dbl> & <chr> & <chr>\\\\\n",
       "\\hline\n",
       "\t (Intercept) &  0.22 & {[}0.11, 0.33{]}  & < 0.01***\\\\\n",
       "\t man         &  0.01 & {[}-0.04, 0.06{]} & 0.65     \\\\\n",
       "\t white       & -0.03 & {[}-0.13, 0.07{]} & 0.52     \\\\\n",
       "\t black       & -0.02 & {[}-0.12, 0.08{]} & 0.74     \\\\\n",
       "\t hispanic    & -0.04 & {[}-0.13, 0.05{]} & 0.35     \\\\\n",
       "\t asian       &  0.00 & {[}-0.13, 0.12{]} & 0.96     \\\\\n",
       "\t high\\_ed     &  0.03 & {[}-0.02, 0.08{]} & 0.27     \\\\\n",
       "\t older       &  0.02 & {[}-0.03, 0.08{]} & 0.4      \\\\\n",
       "\\end{tabular}\n"
      ],
      "text/markdown": [
       "\n",
       "A xtable: 8 × 4\n",
       "\n",
       "| Variable &lt;chr&gt; | Estimate &lt;dbl&gt; | CI &lt;chr&gt; | p_value &lt;chr&gt; |\n",
       "|---|---|---|---|\n",
       "| (Intercept) |  0.22 | [0.11, 0.33]  | &lt; 0.01*** |\n",
       "| man         |  0.01 | [-0.04, 0.06] | 0.65      |\n",
       "| white       | -0.03 | [-0.13, 0.07] | 0.52      |\n",
       "| black       | -0.02 | [-0.12, 0.08] | 0.74      |\n",
       "| hispanic    | -0.04 | [-0.13, 0.05] | 0.35      |\n",
       "| asian       |  0.00 | [-0.13, 0.12] | 0.96      |\n",
       "| high_ed     |  0.03 | [-0.02, 0.08] | 0.27      |\n",
       "| older       |  0.02 | [-0.03, 0.08] | 0.4       |\n",
       "\n"
      ],
      "text/plain": [
       "  Variable    Estimate CI            p_value  \n",
       "1 (Intercept)  0.22    [0.11, 0.33]  < 0.01***\n",
       "2 man          0.01    [-0.04, 0.06] 0.65     \n",
       "3 white       -0.03    [-0.13, 0.07] 0.52     \n",
       "4 black       -0.02    [-0.12, 0.08] 0.74     \n",
       "5 hispanic    -0.04    [-0.13, 0.05] 0.35     \n",
       "6 asian        0.00    [-0.13, 0.12] 0.96     \n",
       "7 high_ed      0.03    [-0.02, 0.08] 0.27     \n",
       "8 older        0.02    [-0.03, 0.08] 0.4      "
      ]
     },
     "metadata": {},
     "output_type": "display_data"
    }
   ],
   "source": [
    "mod.frac_other_dems <- lm(prop_other ~ man + white + black + hispanic + asian + high_ed + older,\n",
    "                            data=ad_counts.dems)\n",
    "\n",
    "xtable(toffee_tbl(mod.frac_other_dems))"
   ]
  },
  {
   "cell_type": "code",
   "execution_count": 47,
   "id": "086fac89-2394-46f4-998d-a45a094f8a28",
   "metadata": {},
   "outputs": [
    {
     "data": {
      "text/html": [
       "<table class=\"dataframe\">\n",
       "<caption>A xtable: 8 × 4</caption>\n",
       "<thead>\n",
       "\t<tr><th scope=col>Variable</th><th scope=col>Estimate</th><th scope=col>CI</th><th scope=col>p_value</th></tr>\n",
       "\t<tr><th scope=col>&lt;chr&gt;</th><th scope=col>&lt;dbl&gt;</th><th scope=col>&lt;chr&gt;</th><th scope=col>&lt;chr&gt;</th></tr>\n",
       "</thead>\n",
       "<tbody>\n",
       "\t<tr><td>(Intercept)</td><td> 0.05</td><td>[0, 0.1]     </td><td>0.07 </td></tr>\n",
       "\t<tr><td>man        </td><td>-0.01</td><td>[-0.04, 0.01]</td><td>0.26 </td></tr>\n",
       "\t<tr><td>white      </td><td> 0.01</td><td>[-0.03, 0.06]</td><td>0.54 </td></tr>\n",
       "\t<tr><td>black      </td><td> 0.05</td><td>[0.01, 0.1]  </td><td>0.02*</td></tr>\n",
       "\t<tr><td>hispanic   </td><td> 0.00</td><td>[-0.04, 0.04]</td><td>0.94 </td></tr>\n",
       "\t<tr><td>asian      </td><td> 0.03</td><td>[-0.02, 0.09]</td><td>0.26 </td></tr>\n",
       "\t<tr><td>high_ed    </td><td> 0.02</td><td>[0, 0.05]    </td><td>0.05*</td></tr>\n",
       "\t<tr><td>older      </td><td>-0.02</td><td>[-0.04, 0.01]</td><td>0.13 </td></tr>\n",
       "</tbody>\n",
       "</table>\n"
      ],
      "text/latex": [
       "A xtable: 8 × 4\n",
       "\\begin{tabular}{llll}\n",
       " Variable & Estimate & CI & p\\_value\\\\\n",
       " <chr> & <dbl> & <chr> & <chr>\\\\\n",
       "\\hline\n",
       "\t (Intercept) &  0.05 & {[}0, 0.1{]}      & 0.07 \\\\\n",
       "\t man         & -0.01 & {[}-0.04, 0.01{]} & 0.26 \\\\\n",
       "\t white       &  0.01 & {[}-0.03, 0.06{]} & 0.54 \\\\\n",
       "\t black       &  0.05 & {[}0.01, 0.1{]}   & 0.02*\\\\\n",
       "\t hispanic    &  0.00 & {[}-0.04, 0.04{]} & 0.94 \\\\\n",
       "\t asian       &  0.03 & {[}-0.02, 0.09{]} & 0.26 \\\\\n",
       "\t high\\_ed     &  0.02 & {[}0, 0.05{]}     & 0.05*\\\\\n",
       "\t older       & -0.02 & {[}-0.04, 0.01{]} & 0.13 \\\\\n",
       "\\end{tabular}\n"
      ],
      "text/markdown": [
       "\n",
       "A xtable: 8 × 4\n",
       "\n",
       "| Variable &lt;chr&gt; | Estimate &lt;dbl&gt; | CI &lt;chr&gt; | p_value &lt;chr&gt; |\n",
       "|---|---|---|---|\n",
       "| (Intercept) |  0.05 | [0, 0.1]      | 0.07  |\n",
       "| man         | -0.01 | [-0.04, 0.01] | 0.26  |\n",
       "| white       |  0.01 | [-0.03, 0.06] | 0.54  |\n",
       "| black       |  0.05 | [0.01, 0.1]   | 0.02* |\n",
       "| hispanic    |  0.00 | [-0.04, 0.04] | 0.94  |\n",
       "| asian       |  0.03 | [-0.02, 0.09] | 0.26  |\n",
       "| high_ed     |  0.02 | [0, 0.05]     | 0.05* |\n",
       "| older       | -0.02 | [-0.04, 0.01] | 0.13  |\n",
       "\n"
      ],
      "text/plain": [
       "  Variable    Estimate CI            p_value\n",
       "1 (Intercept)  0.05    [0, 0.1]      0.07   \n",
       "2 man         -0.01    [-0.04, 0.01] 0.26   \n",
       "3 white        0.01    [-0.03, 0.06] 0.54   \n",
       "4 black        0.05    [0.01, 0.1]   0.02*  \n",
       "5 hispanic     0.00    [-0.04, 0.04] 0.94   \n",
       "6 asian        0.03    [-0.02, 0.09] 0.26   \n",
       "7 high_ed      0.02    [0, 0.05]     0.05*  \n",
       "8 older       -0.02    [-0.04, 0.01] 0.13   "
      ]
     },
     "metadata": {},
     "output_type": "display_data"
    }
   ],
   "source": [
    "mod.frac_opportunity_dems <- lm(prop_opportunity ~ man + white + black + hispanic + asian + high_ed + older,\n",
    "                            data=ad_counts.dems)\n",
    "\n",
    "xtable(toffee_tbl(mod.frac_opportunity_dems))"
   ]
  },
  {
   "cell_type": "code",
   "execution_count": 48,
   "id": "f54a4985-e97a-48cb-8217-8c8b4e017f8b",
   "metadata": {},
   "outputs": [
    {
     "data": {
      "text/html": [
       "<table class=\"dataframe\">\n",
       "<caption>A xtable: 8 × 4</caption>\n",
       "<thead>\n",
       "\t<tr><th scope=col>Variable</th><th scope=col>Estimate</th><th scope=col>CI</th><th scope=col>p_value</th></tr>\n",
       "\t<tr><th scope=col>&lt;chr&gt;</th><th scope=col>&lt;dbl&gt;</th><th scope=col>&lt;chr&gt;</th><th scope=col>&lt;chr&gt;</th></tr>\n",
       "</thead>\n",
       "<tbody>\n",
       "\t<tr><td>(Intercept)</td><td> 0.19</td><td>[0.09, 0.28] </td><td>&lt; 0.01***</td></tr>\n",
       "\t<tr><td>man        </td><td> 0.02</td><td>[-0.02, 0.06]</td><td>0.36     </td></tr>\n",
       "\t<tr><td>white      </td><td>-0.05</td><td>[-0.14, 0.04]</td><td>0.27     </td></tr>\n",
       "\t<tr><td>black      </td><td>-0.07</td><td>[-0.16, 0.02]</td><td>0.11     </td></tr>\n",
       "\t<tr><td>hispanic   </td><td>-0.04</td><td>[-0.12, 0.04]</td><td>0.31     </td></tr>\n",
       "\t<tr><td>asian      </td><td>-0.04</td><td>[-0.15, 0.07]</td><td>0.48     </td></tr>\n",
       "\t<tr><td>high_ed    </td><td> 0.01</td><td>[-0.04, 0.05]</td><td>0.81     </td></tr>\n",
       "\t<tr><td>older      </td><td> 0.04</td><td>[-0.01, 0.09]</td><td>0.08     </td></tr>\n",
       "</tbody>\n",
       "</table>\n"
      ],
      "text/latex": [
       "A xtable: 8 × 4\n",
       "\\begin{tabular}{llll}\n",
       " Variable & Estimate & CI & p\\_value\\\\\n",
       " <chr> & <dbl> & <chr> & <chr>\\\\\n",
       "\\hline\n",
       "\t (Intercept) &  0.19 & {[}0.09, 0.28{]}  & < 0.01***\\\\\n",
       "\t man         &  0.02 & {[}-0.02, 0.06{]} & 0.36     \\\\\n",
       "\t white       & -0.05 & {[}-0.14, 0.04{]} & 0.27     \\\\\n",
       "\t black       & -0.07 & {[}-0.16, 0.02{]} & 0.11     \\\\\n",
       "\t hispanic    & -0.04 & {[}-0.12, 0.04{]} & 0.31     \\\\\n",
       "\t asian       & -0.04 & {[}-0.15, 0.07{]} & 0.48     \\\\\n",
       "\t high\\_ed     &  0.01 & {[}-0.04, 0.05{]} & 0.81     \\\\\n",
       "\t older       &  0.04 & {[}-0.01, 0.09{]} & 0.08     \\\\\n",
       "\\end{tabular}\n"
      ],
      "text/markdown": [
       "\n",
       "A xtable: 8 × 4\n",
       "\n",
       "| Variable &lt;chr&gt; | Estimate &lt;dbl&gt; | CI &lt;chr&gt; | p_value &lt;chr&gt; |\n",
       "|---|---|---|---|\n",
       "| (Intercept) |  0.19 | [0.09, 0.28]  | &lt; 0.01*** |\n",
       "| man         |  0.02 | [-0.02, 0.06] | 0.36      |\n",
       "| white       | -0.05 | [-0.14, 0.04] | 0.27      |\n",
       "| black       | -0.07 | [-0.16, 0.02] | 0.11      |\n",
       "| hispanic    | -0.04 | [-0.12, 0.04] | 0.31      |\n",
       "| asian       | -0.04 | [-0.15, 0.07] | 0.48      |\n",
       "| high_ed     |  0.01 | [-0.04, 0.05] | 0.81      |\n",
       "| older       |  0.04 | [-0.01, 0.09] | 0.08      |\n",
       "\n"
      ],
      "text/plain": [
       "  Variable    Estimate CI            p_value  \n",
       "1 (Intercept)  0.19    [0.09, 0.28]  < 0.01***\n",
       "2 man          0.02    [-0.02, 0.06] 0.36     \n",
       "3 white       -0.05    [-0.14, 0.04] 0.27     \n",
       "4 black       -0.07    [-0.16, 0.02] 0.11     \n",
       "5 hispanic    -0.04    [-0.12, 0.04] 0.31     \n",
       "6 asian       -0.04    [-0.15, 0.07] 0.48     \n",
       "7 high_ed      0.01    [-0.04, 0.05] 0.81     \n",
       "8 older        0.04    [-0.01, 0.09] 0.08     "
      ]
     },
     "metadata": {},
     "output_type": "display_data"
    }
   ],
   "source": [
    "mod.frac_healthcare_dems <- lm(prop_healthcare ~ man + white + black + hispanic + asian + high_ed + older,\n",
    "                            data=ad_counts.dems)\n",
    "\n",
    "xtable(toffee_tbl(mod.frac_healthcare_dems))"
   ]
  },
  {
   "cell_type": "markdown",
   "id": "817e6b11-aaba-488b-8903-37a90a5e409c",
   "metadata": {},
   "source": [
    "#### What impacts your fraction of non-financial harmful ads?"
   ]
  },
  {
   "cell_type": "code",
   "execution_count": 13,
   "id": "a459dcc2-03dd-44ab-a0c1-d8b2a6916720",
   "metadata": {},
   "outputs": [
    {
     "data": {
      "text/html": [
       "<table class=\"dataframe\">\n",
       "<caption>A tibble: 7 × 4</caption>\n",
       "<thead>\n",
       "\t<tr><th scope=col>Variable</th><th scope=col>Estimate</th><th scope=col>CI</th><th scope=col>p_value</th></tr>\n",
       "\t<tr><th scope=col>&lt;chr&gt;</th><th scope=col>&lt;dbl&gt;</th><th scope=col>&lt;chr&gt;</th><th scope=col>&lt;chr&gt;</th></tr>\n",
       "</thead>\n",
       "<tbody>\n",
       "\t<tr><td>(Intercept)</td><td> 0.03</td><td>[0.01, 0.05] </td><td>0.01**  </td></tr>\n",
       "\t<tr><td>man        </td><td> 0.02</td><td>[0, 0.03]    </td><td>0.01*   </td></tr>\n",
       "\t<tr><td>white      </td><td> 0.00</td><td>[-0.02, 0.02]</td><td>0.95    </td></tr>\n",
       "\t<tr><td>black      </td><td> 0.02</td><td>[0, 0.04]    </td><td>0.11    </td></tr>\n",
       "\t<tr><td>hispanic   </td><td>-0.01</td><td>[-0.03, 0.02]</td><td>0.6     </td></tr>\n",
       "\t<tr><td>high_ed    </td><td> 0.01</td><td>[-0.01, 0.02]</td><td>0.21    </td></tr>\n",
       "\t<tr><td><span style=white-space:pre-wrap>older      </span></td><td> 0.03</td><td>[0.01, 0.04] </td><td>&lt; 0.01**</td></tr>\n",
       "</tbody>\n",
       "</table>\n"
      ],
      "text/latex": [
       "A tibble: 7 × 4\n",
       "\\begin{tabular}{llll}\n",
       " Variable & Estimate & CI & p\\_value\\\\\n",
       " <chr> & <dbl> & <chr> & <chr>\\\\\n",
       "\\hline\n",
       "\t (Intercept) &  0.03 & {[}0.01, 0.05{]}  & 0.01**  \\\\\n",
       "\t man         &  0.02 & {[}0, 0.03{]}     & 0.01*   \\\\\n",
       "\t white       &  0.00 & {[}-0.02, 0.02{]} & 0.95    \\\\\n",
       "\t black       &  0.02 & {[}0, 0.04{]}     & 0.11    \\\\\n",
       "\t hispanic    & -0.01 & {[}-0.03, 0.02{]} & 0.6     \\\\\n",
       "\t high\\_ed     &  0.01 & {[}-0.01, 0.02{]} & 0.21    \\\\\n",
       "\t older       &  0.03 & {[}0.01, 0.04{]}  & < 0.01**\\\\\n",
       "\\end{tabular}\n"
      ],
      "text/markdown": [
       "\n",
       "A tibble: 7 × 4\n",
       "\n",
       "| Variable &lt;chr&gt; | Estimate &lt;dbl&gt; | CI &lt;chr&gt; | p_value &lt;chr&gt; |\n",
       "|---|---|---|---|\n",
       "| (Intercept) |  0.03 | [0.01, 0.05]  | 0.01**   |\n",
       "| man         |  0.02 | [0, 0.03]     | 0.01*    |\n",
       "| white       |  0.00 | [-0.02, 0.02] | 0.95     |\n",
       "| black       |  0.02 | [0, 0.04]     | 0.11     |\n",
       "| hispanic    | -0.01 | [-0.03, 0.02] | 0.6      |\n",
       "| high_ed     |  0.01 | [-0.01, 0.02] | 0.21     |\n",
       "| older       |  0.03 | [0.01, 0.04]  | &lt; 0.01** |\n",
       "\n"
      ],
      "text/plain": [
       "  Variable    Estimate CI            p_value \n",
       "1 (Intercept)  0.03    [0.01, 0.05]  0.01**  \n",
       "2 man          0.02    [0, 0.03]     0.01*   \n",
       "3 white        0.00    [-0.02, 0.02] 0.95    \n",
       "4 black        0.02    [0, 0.04]     0.11    \n",
       "5 hispanic    -0.01    [-0.03, 0.02] 0.6     \n",
       "6 high_ed      0.01    [-0.01, 0.02] 0.21    \n",
       "7 older        0.03    [0.01, 0.04]  < 0.01**"
      ]
     },
     "metadata": {},
     "output_type": "display_data"
    },
    {
     "name": "stdout",
     "output_type": "stream",
     "text": [
      "\n",
      "Call:\n",
      "lm(formula = prop_nonfin_harmful ~ man + white + black + hispanic + \n",
      "    high_ed + older, data = ad_counts.dems)\n",
      "\n",
      "Residuals:\n",
      "      Min        1Q    Median        3Q       Max \n",
      "-0.081926 -0.024744 -0.005115  0.013837  0.130685 \n",
      "\n",
      "Coefficients:\n",
      "              Estimate Std. Error t value Pr(>|t|)   \n",
      "(Intercept)  0.0285230  0.0105906   2.693  0.00803 **\n",
      "man          0.0180261  0.0070345   2.563  0.01156 * \n",
      "white        0.0005739  0.0090703   0.063  0.94965   \n",
      "black        0.0161570  0.0100006   1.616  0.10866   \n",
      "hispanic    -0.0061076  0.0115574  -0.528  0.59811   \n",
      "high_ed      0.0092070  0.0072960   1.262  0.20929   \n",
      "older        0.0255957  0.0078183   3.274  0.00137 **\n",
      "---\n",
      "Signif. codes:  0 ‘***’ 0.001 ‘**’ 0.01 ‘*’ 0.05 ‘.’ 0.1 ‘ ’ 1\n",
      "\n",
      "Residual standard error: 0.03995 on 127 degrees of freedom\n",
      "  (1 observation deleted due to missingness)\n",
      "Multiple R-squared:  0.1435,\tAdjusted R-squared:  0.1031 \n",
      "F-statistic: 3.548 on 6 and 127 DF,  p-value: 0.002789\n",
      "\n"
     ]
    }
   ],
   "source": [
    "mod.frac_nonfin_harmful_dems <- lm(prop_nonfin_harmful ~ man + white + black + hispanic + high_ed + older,\n",
    "                                   data=ad_counts.dems)\n",
    "\n",
    "toffee_tbl(mod.frac_nonfin_harmful_dems)\n",
    "\n",
    "print(summary(mod.frac_nonfin_harmful_dems))"
   ]
  },
  {
   "cell_type": "markdown",
   "id": "5742ea63-0af9-4102-a7fa-7266c67b2f8e",
   "metadata": {},
   "source": [
    "#### What impacts your fraction of `Sensitive` ads?"
   ]
  },
  {
   "cell_type": "code",
   "execution_count": 57,
   "id": "d0bf9ed2-7596-4adc-bc85-2651dd3a8cc9",
   "metadata": {},
   "outputs": [
    {
     "data": {
      "text/html": [
       "<table class=\"dataframe\">\n",
       "<caption>A tibble: 7 × 4</caption>\n",
       "<thead>\n",
       "\t<tr><th scope=col>Variable</th><th scope=col>Estimate</th><th scope=col>CI</th><th scope=col>p_value</th></tr>\n",
       "\t<tr><th scope=col>&lt;chr&gt;</th><th scope=col>&lt;dbl&gt;</th><th scope=col>&lt;chr&gt;</th><th scope=col>&lt;chr&gt;</th></tr>\n",
       "</thead>\n",
       "<tbody>\n",
       "\t<tr><td>(Intercept)</td><td>0.02</td><td>[0, 0.03]    </td><td>0.01**</td></tr>\n",
       "\t<tr><td>woman      </td><td>0.00</td><td>[-0.01, 0.01]</td><td>0.36  </td></tr>\n",
       "\t<tr><td>white      </td><td>0.00</td><td>[-0.02, 0.01]</td><td>0.56  </td></tr>\n",
       "\t<tr><td>black      </td><td>0.00</td><td>[-0.01, 0.01]</td><td>0.98  </td></tr>\n",
       "\t<tr><td>hispanic   </td><td>0.00</td><td>[-0.02, 0.01]</td><td>0.73  </td></tr>\n",
       "\t<tr><td>high_ed    </td><td>0.00</td><td>[-0.01, 0.01]</td><td>0.88  </td></tr>\n",
       "\t<tr><td>older      </td><td>0.01</td><td>[0, 0.02]    </td><td>0.15  </td></tr>\n",
       "</tbody>\n",
       "</table>\n"
      ],
      "text/latex": [
       "A tibble: 7 × 4\n",
       "\\begin{tabular}{llll}\n",
       " Variable & Estimate & CI & p\\_value\\\\\n",
       " <chr> & <dbl> & <chr> & <chr>\\\\\n",
       "\\hline\n",
       "\t (Intercept) & 0.02 & {[}0, 0.03{]}     & 0.01**\\\\\n",
       "\t woman       & 0.00 & {[}-0.01, 0.01{]} & 0.36  \\\\\n",
       "\t white       & 0.00 & {[}-0.02, 0.01{]} & 0.56  \\\\\n",
       "\t black       & 0.00 & {[}-0.01, 0.01{]} & 0.98  \\\\\n",
       "\t hispanic    & 0.00 & {[}-0.02, 0.01{]} & 0.73  \\\\\n",
       "\t high\\_ed     & 0.00 & {[}-0.01, 0.01{]} & 0.88  \\\\\n",
       "\t older       & 0.01 & {[}0, 0.02{]}     & 0.15  \\\\\n",
       "\\end{tabular}\n"
      ],
      "text/markdown": [
       "\n",
       "A tibble: 7 × 4\n",
       "\n",
       "| Variable &lt;chr&gt; | Estimate &lt;dbl&gt; | CI &lt;chr&gt; | p_value &lt;chr&gt; |\n",
       "|---|---|---|---|\n",
       "| (Intercept) | 0.02 | [0, 0.03]     | 0.01** |\n",
       "| woman       | 0.00 | [-0.01, 0.01] | 0.36   |\n",
       "| white       | 0.00 | [-0.02, 0.01] | 0.56   |\n",
       "| black       | 0.00 | [-0.01, 0.01] | 0.98   |\n",
       "| hispanic    | 0.00 | [-0.02, 0.01] | 0.73   |\n",
       "| high_ed     | 0.00 | [-0.01, 0.01] | 0.88   |\n",
       "| older       | 0.01 | [0, 0.02]     | 0.15   |\n",
       "\n"
      ],
      "text/plain": [
       "  Variable    Estimate CI            p_value\n",
       "1 (Intercept) 0.02     [0, 0.03]     0.01** \n",
       "2 woman       0.00     [-0.01, 0.01] 0.36   \n",
       "3 white       0.00     [-0.02, 0.01] 0.56   \n",
       "4 black       0.00     [-0.01, 0.01] 0.98   \n",
       "5 hispanic    0.00     [-0.02, 0.01] 0.73   \n",
       "6 high_ed     0.00     [-0.01, 0.01] 0.88   \n",
       "7 older       0.01     [0, 0.02]     0.15   "
      ]
     },
     "metadata": {},
     "output_type": "display_data"
    }
   ],
   "source": [
    "mod.frac_sensitive_dems <- lm(prop_sensitive ~ woman + white + black  + hispanic + high_ed + older, \n",
    "                              data=ad_counts.dems)\n",
    "\n",
    "toffee_tbl(mod.frac_sensitive_dems)"
   ]
  },
  {
   "cell_type": "code",
   "execution_count": 49,
   "id": "a1d032a1-9306-4e04-8f67-93a0a0a2bdb0",
   "metadata": {},
   "outputs": [
    {
     "data": {
      "text/plain": [
       "\n",
       "Call:\n",
       "lm(formula = prop_harmful_grouped ~ man + white + high_ed + older, \n",
       "    data = ad_counts.dems)\n",
       "\n",
       "Residuals:\n",
       "      Min        1Q    Median        3Q       Max \n",
       "-0.132519 -0.040527 -0.008733  0.030101  0.243639 \n",
       "\n",
       "Coefficients:\n",
       "             Estimate Std. Error t value Pr(>|t|)    \n",
       "(Intercept)  0.060379   0.011890   5.078 1.29e-06 ***\n",
       "man          0.054847   0.010990   4.991 1.89e-06 ***\n",
       "white       -0.005363   0.011619  -0.462  0.64520    \n",
       "high_ed     -0.001230   0.011199  -0.110  0.91271    \n",
       "older        0.035933   0.011904   3.018  0.00306 ** \n",
       "---\n",
       "Signif. codes:  0 ‘***’ 0.001 ‘**’ 0.01 ‘*’ 0.05 ‘.’ 0.1 ‘ ’ 1\n",
       "\n",
       "Residual standard error: 0.06284 on 130 degrees of freedom\n",
       "  (1 observation deleted due to missingness)\n",
       "Multiple R-squared:  0.1917,\tAdjusted R-squared:  0.1668 \n",
       "F-statistic: 7.708 on 4 and 130 DF,  p-value: 1.321e-05\n"
      ]
     },
     "metadata": {},
     "output_type": "display_data"
    }
   ],
   "source": [
    "summary(mod.frac_harmful_dems)"
   ]
  },
  {
   "cell_type": "code",
   "execution_count": null,
   "id": "63cc550a-717c-4379-9fe0-cbceb4da919f",
   "metadata": {},
   "outputs": [],
   "source": []
  }
 ],
 "metadata": {
  "kernelspec": {
   "display_name": "R",
   "language": "R",
   "name": "ir"
  },
  "language_info": {
   "codemirror_mode": "r",
   "file_extension": ".r",
   "mimetype": "text/x-r-source",
   "name": "R",
   "pygments_lexer": "r",
   "version": "4.1.2"
  }
 },
 "nbformat": 4,
 "nbformat_minor": 5
}
