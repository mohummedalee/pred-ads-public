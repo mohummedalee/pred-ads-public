{
 "cells": [
  {
   "cell_type": "markdown",
   "id": "4830c3f1-2a49-4093-997f-f687f256e53c",
   "metadata": {},
   "source": [
    "### RQ2: Given different kinds of harmful ads identified via RQ1, are there disparities in who gets exposed to them?\n",
    "\n",
    "e.g. for ads disliked for mistrust-related reasons, do some users see more of them? It would be important here to not throw away the more boring categories like healthcare and opportunity (Elissa suggested)"
   ]
  },
  {
   "cell_type": "code",
   "execution_count": null,
   "id": "3eb6dbb4-970e-4795-a943-3efcbaf7eac2",
   "metadata": {},
   "outputs": [],
   "source": []
  }
 ],
 "metadata": {
  "kernelspec": {
   "display_name": "Python 3",
   "language": "python",
   "name": "python3"
  },
  "language_info": {
   "codemirror_mode": {
    "name": "ipython",
    "version": 3
   },
   "file_extension": ".py",
   "mimetype": "text/x-python",
   "name": "python",
   "nbconvert_exporter": "python",
   "pygments_lexer": "ipython3",
   "version": "3.9.13"
  }
 },
 "nbformat": 4,
 "nbformat_minor": 5
}
