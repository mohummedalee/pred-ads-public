{
 "cells": [
  {
   "cell_type": "markdown",
   "id": "839c4ab4-2cf3-4225-8a55-330ce58df0c5",
   "metadata": {},
   "source": [
    "Table taken from `survey-heatmap.ipynb`:\n",
    "\n",
    "|                        |   type | no like reasons   | no dislike reasons   |\n",
    "|------------------------|--------|-------------------|----------------------|\n",
    "| Clickbait              |    589 | 0.506 (298)       | 0.409 (241)          |\n",
    "| Potentially Prohibited |    165 | 0.503 (83)        | 0.388 (64)           |\n",
    "| Sensitive              |    322 | 0.441 (142)       | 0.509 (164)          |\n",
    "| Potentially Harmful    |    281 | 0.491 (138)       | 0.427 (120)          |\n",
    "| Financial              |    788 | 0.447 (352)       | 0.487 (384)          |\n",
    "| Opportunity            |   1086 | 0.322 (350)       | 0.559 (607)          |\n",
    "| Healthcare             |   1843 | 0.333 (614)       | 0.547 (1009)         |\n",
    "| Benign                 |   3895 | 0.292 (1138)      | 0.604 (2353)         |"
   ]
  },
  {
   "cell_type": "markdown",
   "id": "28a06835-1edc-47a8-89fd-72d93327a02a",
   "metadata": {},
   "source": [
    "#### Finding the line for \"potentially harmful\" ads\n",
    "\n",
    "```\n",
    "{\n",
    "    'Potentially Prohibited': (83, 0.503030303030303, 165),\n",
    "    'Clickbait': (298, 0.5059422750424448, 589),\n",
    "    'Potentially Harmful': (138, 0.49110320284697506, 281),\n",
    "    'Sensitive': (142, 0.4409937888198758, 322), \n",
    "    'Financial': (352, 0.4467005076142132, 788),\n",
    "    'Opportunity': (350, 0.32228360957642727, 1086),\n",
    "    'Healthcare': (614, 0.33315246880086813, 1843),\n",
    "    'Benign': (1138, 0.29216944801026956, 3895)\n",
    "}\n",
    "```\n",
    "\n",
    "no like reasons = dislike is our signal of dislike from our survey\n",
    "\n",
    "fuck the second column"
   ]
  },
  {
   "cell_type": "code",
   "execution_count": 28,
   "id": "28d98362-397a-42b5-848b-03aa90fb1bec",
   "metadata": {},
   "outputs": [
    {
     "data": {
      "text/plain": [
       "\n",
       "\t8-sample test for equality of proportions without continuity\n",
       "\tcorrection\n",
       "\n",
       "data:  c(83, 298, 138, 142, 352, 350, 614, 1138) out of c(165, 589, 281, 322, 788, 1086, 1843, 3895)\n",
       "X-squared = 212.35, df = 7, p-value < 2.2e-16\n",
       "alternative hypothesis: two.sided\n",
       "sample estimates:\n",
       "   prop 1    prop 2    prop 3    prop 4    prop 5    prop 6    prop 7    prop 8 \n",
       "0.5030303 0.5059423 0.4911032 0.4409938 0.4467005 0.3222836 0.3331525 0.2921694 \n"
      ]
     },
     "metadata": {},
     "output_type": "display_data"
    }
   ],
   "source": [
    "# omnibus test: are the fraction of dont-like significant at all?\n",
    "prop.test(c(83, 298, 138, 142, 352, 350, 614, 1138), c(165, 589, 281, 322, 788, 1086, 1843, 3895))"
   ]
  },
  {
   "cell_type": "code",
   "execution_count": 29,
   "id": "9767e7ba-1937-45ff-a549-d60ea7be5a9c",
   "metadata": {},
   "outputs": [
    {
     "data": {
      "text/plain": [
       "\n",
       "\t2-sample test for equality of proportions with continuity correction\n",
       "\n",
       "data:  c(83, 1138) out of c(165, 3895)\n",
       "X-squared = 32.473, df = 1, p-value = 1.209e-08\n",
       "alternative hypothesis: two.sided\n",
       "95 percent confidence interval:\n",
       " 0.1300868 0.2916349\n",
       "sample estimates:\n",
       "   prop 1    prop 2 \n",
       "0.5030303 0.2921694 \n"
      ]
     },
     "metadata": {},
     "output_type": "display_data"
    }
   ],
   "source": [
    "# YES!\n",
    "\n",
    "# now on to pairwise testing with a corrected p-value: 0.05/7 = 0.0071\n",
    "# prohibited vs. benign\n",
    "prop.test(c(83, 1138), c(165, 3895))"
   ]
  },
  {
   "cell_type": "code",
   "execution_count": 34,
   "id": "c282203e-6c32-4d08-892f-a8b2f526e132",
   "metadata": {},
   "outputs": [
    {
     "name": "stdout",
     "output_type": "stream",
     "text": [
      "[1] \"=== Healthcare vs. Benign ===\"\n"
     ]
    },
    {
     "data": {
      "text/plain": [
       "\n",
       "\t2-sample test for equality of proportions with continuity correction\n",
       "\n",
       "data:  c(614, 1138) out of c(1843, 3895)\n",
       "X-squared = 9.7144, df = 1, p-value = 0.001828\n",
       "alternative hypothesis: two.sided\n",
       "95 percent confidence interval:\n",
       " 0.01475649 0.06720955\n",
       "sample estimates:\n",
       "   prop 1    prop 2 \n",
       "0.3331525 0.2921694 \n"
      ]
     },
     "metadata": {},
     "output_type": "display_data"
    },
    {
     "data": {
      "text/plain": [
       "\n",
       "\t2-sample test for equality of proportions with continuity correction\n",
       "\n",
       "data:  c(298, 1138) out of c(589, 3895)\n",
       "X-squared = 106.43, df = 1, p-value < 2.2e-16\n",
       "alternative hypothesis: two.sided\n",
       "95 percent confidence interval:\n",
       " 0.1699676 0.2575780\n",
       "sample estimates:\n",
       "   prop 1    prop 2 \n",
       "0.5059423 0.2921694 \n"
      ]
     },
     "metadata": {},
     "output_type": "display_data"
    }
   ],
   "source": [
    "# healthcare vs. benign\n",
    "print('=== Healthcare vs. Benign ===')\n",
    "prop.test(c(614, 1138), c(1843, 3895))\n",
    "# clickbait vs. benign\n",
    "prop.test(c(298, 1138), c(589, 3895))"
   ]
  },
  {
   "cell_type": "code",
   "execution_count": 2,
   "id": "36d252e8-9c06-4cbb-b58f-c937e04d2c89",
   "metadata": {},
   "outputs": [],
   "source": [
    "benign <- c(1138, 2353)"
   ]
  },
  {
   "cell_type": "code",
   "execution_count": 5,
   "id": "710e469d-d11b-422e-b109-b02c95d13f3d",
   "metadata": {},
   "outputs": [
    {
     "data": {
      "text/plain": [
       "\n",
       "\t2-sample test for equality of proportions with continuity correction\n",
       "\n",
       "data:  c(298, 1138) out of c(589, 3895)\n",
       "X-squared = 106.43, df = 1, p-value < 2.2e-16\n",
       "alternative hypothesis: two.sided\n",
       "95 percent confidence interval:\n",
       " 0.1699676 0.2575780\n",
       "sample estimates:\n",
       "   prop 1    prop 2 \n",
       "0.5059423 0.2921694 \n"
      ]
     },
     "metadata": {},
     "output_type": "display_data"
    }
   ],
   "source": [
    "# clickbait vs. benign\n",
    "# counts of disliked, counts of totals\n",
    "prop.test(c(298, 1138), c(589, 3895))"
   ]
  },
  {
   "cell_type": "code",
   "execution_count": 6,
   "id": "c608fde8-35ed-45f7-bac4-2f7b9551266c",
   "metadata": {},
   "outputs": [
    {
     "data": {
      "text/plain": [
       "\n",
       "\t2-sample test for equality of proportions with continuity correction\n",
       "\n",
       "data:  c(614, 1138) out of c(1843, 3895)\n",
       "X-squared = 9.7144, df = 1, p-value = 0.001828\n",
       "alternative hypothesis: two.sided\n",
       "95 percent confidence interval:\n",
       " 0.01475649 0.06720955\n",
       "sample estimates:\n",
       "   prop 1    prop 2 \n",
       "0.3331525 0.2921694 \n"
      ]
     },
     "metadata": {},
     "output_type": "display_data"
    }
   ],
   "source": [
    "# healthcare\n",
    "prop.test(c(614, 1138), c(1843, 3895))"
   ]
  },
  {
   "cell_type": "code",
   "execution_count": 7,
   "id": "84d16d60-a645-41ba-8d53-597e5976ba22",
   "metadata": {},
   "outputs": [
    {
     "data": {
      "text/html": [
       "TRUE"
      ],
      "text/latex": [
       "TRUE"
      ],
      "text/markdown": [
       "TRUE"
      ],
      "text/plain": [
       "[1] TRUE"
      ]
     },
     "metadata": {},
     "output_type": "display_data"
    }
   ],
   "source": [
    "0.001828 < (.05/7)"
   ]
  },
  {
   "cell_type": "markdown",
   "id": "33512cb3-cd7d-4ebc-a55b-8c59e1f36b58",
   "metadata": {},
   "source": [
    "### Goodness of fit test for raw dislike reasons\n",
    "\n",
    "All 10 dislike reasons shown here:\n",
    "```\n",
    "{\n",
    "    'Clickbait': [76, 160, 44, 89, 126, 56, 55, 27, 34, 15],\n",
    "    'Potentially Prohibited': [30, 57, 9, 11, 30, 15, 20, 6, 6, 6],\n",
    "    'Potentially Harmful': [18, 74, 20, 33, 60, 34, 22, 10, 17, 8],\n",
    "    'Sensitive': [33, 76, 15, 28, 51, 41, 20, 7, 30, 0],\n",
    "    'Financial': [76, 211, 47, 58, 113, 69, 75, 15, 31, 11],\n",
    "    'Opportunity': [60, 257, 47, 61, 140, 73, 91, 27, 54, 18],\n",
    "    'Healthcare': [172, 439, 91, 93, 203, 88, 171, 47, 60, 35],\n",
    "    'Benign': [330, 672, 181, 220, 365, 211, 335, 79, 160, 49]\n",
    "}\n",
    "```"
   ]
  },
  {
   "cell_type": "code",
   "execution_count": 23,
   "id": "dde0b97f-d486-4790-9bde-bbb10ab0d161",
   "metadata": {},
   "outputs": [
    {
     "name": "stdout",
     "output_type": "stream",
     "text": [
      " [1] 0.12682552 0.25826287 0.06956188 0.08455035 0.14027671 0.08109147\n",
      " [7] 0.12874712 0.03036126 0.06149116 0.01883167\n"
     ]
    }
   ],
   "source": [
    "benign_counts <- c(330, 672, 181, 220, 365, 211, 335, 79, 160, 49)\n",
    "benign_p <- benign_counts / sum(benign_counts)\n",
    "print(benign_p)"
   ]
  },
  {
   "cell_type": "code",
   "execution_count": 24,
   "id": "fc1e2411-9155-4c32-b130-00d8aee7e5f4",
   "metadata": {},
   "outputs": [
    {
     "data": {
      "text/plain": [
       "\n",
       "\tChi-squared test for given probabilities\n",
       "\n",
       "data:  c(76, 160, 44, 89, 126, 56, 55, 27, 34, 15)\n",
       "X-squared = 45.69, df = 9, p-value = 6.875e-07\n"
      ]
     },
     "metadata": {},
     "output_type": "display_data"
    }
   ],
   "source": [
    "# clickbait vs. benign\n",
    "chisq.test(c(76, 160, 44, 89, 126, 56, 55, 27, 34, 15), p=benign_p)"
   ]
  },
  {
   "cell_type": "code",
   "execution_count": 25,
   "id": "0fd210c3-651d-42ac-8e86-7195cd0179e3",
   "metadata": {},
   "outputs": [
    {
     "name": "stderr",
     "output_type": "stream",
     "text": [
      "Warning message in chisq.test(c(30, 57, 9, 11, 30, 15, 20, 6, 6, 6), p = benign_p):\n",
      "“Chi-squared approximation may be incorrect”\n"
     ]
    },
    {
     "data": {
      "text/plain": [
       "\n",
       "\tChi-squared test for given probabilities\n",
       "\n",
       "data:  c(30, 57, 9, 11, 30, 15, 20, 6, 6, 6)\n",
       "X-squared = 11.328, df = 9, p-value = 0.2539\n"
      ]
     },
     "metadata": {},
     "output_type": "display_data"
    }
   ],
   "source": [
    "# prohibited vs. benign\n",
    "chisq.test(c(30, 57, 9, 11, 30, 15, 20, 6, 6, 6), p=benign_p)"
   ]
  },
  {
   "cell_type": "code",
   "execution_count": 26,
   "id": "662908c2-06e2-4e03-8482-52f75cb35d4f",
   "metadata": {},
   "outputs": [
    {
     "data": {
      "text/plain": [
       "\n",
       "\tChi-squared test for given probabilities\n",
       "\n",
       "data:  c(18, 74, 20, 33, 60, 34, 22, 10, 17, 8)\n",
       "X-squared = 33.252, df = 9, p-value = 0.0001207\n"
      ]
     },
     "metadata": {},
     "output_type": "display_data"
    }
   ],
   "source": [
    "# harmful vs. benign\n",
    "chisq.test(c(18, 74, 20, 33, 60, 34, 22, 10, 17, 8), p=benign_p)"
   ]
  },
  {
   "cell_type": "code",
   "execution_count": 27,
   "id": "7db13dda-9320-4ad2-9aa9-dc87c6b5d437",
   "metadata": {},
   "outputs": [
    {
     "data": {
      "text/plain": [
       "\n",
       "\tChi-squared test for given probabilities\n",
       "\n",
       "data:  c(172, 439, 91, 93, 203, 88, 171, 47, 60, 35)\n",
       "X-squared = 40.287, df = 9, p-value = 6.739e-06\n"
      ]
     },
     "metadata": {},
     "output_type": "display_data"
    }
   ],
   "source": [
    "# healthcare vs. benign\n",
    "chisq.test(c(172, 439, 91, 93, 203, 88, 171, 47, 60, 35), p=benign_p)"
   ]
  },
  {
   "cell_type": "markdown",
   "id": "1bd52b0a-22d3-45b8-adbf-31c62cd018de",
   "metadata": {},
   "source": [
    "### Goodness of fit test for groups of dislike reasons\n",
    "\n",
    "Frequency of survey responses per code, for reasons: irrelevant, dislike, discomfort, mistrust, other\n",
    "```\n",
    "{'Potentially Prohibited': [57, 18, 15, 60, 26],\n",
    " 'Clickbait': [160, 74, 57, 213, 67],\n",
    " 'Potentially Harmful': [75, 42, 26, 85, 29],\n",
    " 'Sensitive': [76, 58, 20, 80, 20],\n",
    " 'Financial': [211, 87, 54, 189, 81],\n",
    " 'Opportunity': [257, 107, 66, 209, 104],\n",
    " 'Healthcare': [439, 131, 125, 364, 199],\n",
    " 'Benign': [672, 328, 234, 721, 369]}\n",
    "```"
   ]
  },
  {
   "cell_type": "code",
   "execution_count": 21,
   "id": "b5aefa40-9ab8-488e-82ac-3b7d6380ac54",
   "metadata": {},
   "outputs": [
    {
     "data": {
      "text/plain": [
       "\n",
       "\tChi-squared test for given probabilities\n",
       "\n",
       "data:  c(57, 18, 15, 60, 26)\n",
       "X-squared = 3.7034, df = 4, p-value = 0.4476\n"
      ]
     },
     "metadata": {},
     "output_type": "display_data"
    }
   ],
   "source": [
    "benign_props <- c(672, 328, 234, 721, 369) / sum(c(672, 328, 234, 721, 369))\n",
    "chisq.test(c(57, 18, 15, 60, 26), p=benign_props)"
   ]
  },
  {
   "cell_type": "code",
   "execution_count": 15,
   "id": "b738f1b4-2d3c-496c-ad39-23895ee928d6",
   "metadata": {},
   "outputs": [
    {
     "data": {
      "text/plain": [
       "\n",
       "\tChi-squared test for given probabilities\n",
       "\n",
       "data:  c(160, 74, 57, 213, 67)\n",
       "X-squared = 14.133, df = 4, p-value = 0.006883\n"
      ]
     },
     "metadata": {},
     "output_type": "display_data"
    }
   ],
   "source": [
    "# clickbait vs. benign\n",
    "chisq.test(c(160, 74, 57, 213, 67), p=benign_props)"
   ]
  },
  {
   "cell_type": "code",
   "execution_count": 16,
   "id": "8413452b-2a81-4262-bfda-1337c8a6a086",
   "metadata": {},
   "outputs": [
    {
     "data": {
      "text/plain": [
       "\n",
       "\tChi-squared test for given probabilities\n",
       "\n",
       "data:  c(439, 131, 125, 364, 199)\n",
       "X-squared = 29.562, df = 4, p-value = 6.01e-06\n"
      ]
     },
     "metadata": {},
     "output_type": "display_data"
    }
   ],
   "source": [
    "# healthcare vs. benign\n",
    "chisq.test(c(439, 131, 125, 364, 199), p=benign_props)"
   ]
  },
  {
   "cell_type": "code",
   "execution_count": null,
   "id": "f2752ab6-1ef8-4be1-ba44-3b4737b93a92",
   "metadata": {},
   "outputs": [],
   "source": []
  }
 ],
 "metadata": {
  "kernelspec": {
   "display_name": "R",
   "language": "R",
   "name": "ir"
  },
  "language_info": {
   "codemirror_mode": "r",
   "file_extension": ".r",
   "mimetype": "text/x-r-source",
   "name": "R",
   "pygments_lexer": "r",
   "version": "4.1.2"
  }
 },
 "nbformat": 4,
 "nbformat_minor": 5
}
