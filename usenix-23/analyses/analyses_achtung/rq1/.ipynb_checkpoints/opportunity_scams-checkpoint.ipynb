{
 "cells": [
  {
   "cell_type": "markdown",
   "id": "47582485-0b38-4bf1-9423-147d0ae58744",
   "metadata": {},
   "source": [
    "Which opportunity ads were marked as scam by our users -- what is going wrong there?"
   ]
  },
  {
   "cell_type": "code",
   "execution_count": 2,
   "id": "6a78e664-f595-42a2-a949-d30040b6eb8e",
   "metadata": {},
   "outputs": [],
   "source": [
    "import pandas as pd\n",
    "import numpy as np\n",
    "import matplotlib.pyplot as plt\n",
    "import matplotlib\n",
    "from collections import defaultdict, Counter\n",
    "from tabulate import tabulate\n",
    "%matplotlib inline\n",
    "\n",
    "plt.rcParams['font.family'] = 'serif'\n",
    "plt.rcParams[\"font.serif\"] = [\"Nimbus Roman\"]"
   ]
  },
  {
   "cell_type": "code",
   "execution_count": 9,
   "id": "c07f26d2-16cd-4e36-9f36-a710c850a295",
   "metadata": {},
   "outputs": [],
   "source": [
    "survey_file = '../data/survey_responses.tsv'\n",
    "survey = pd.read_csv(survey_file, sep='\\t')\n",
    "\n",
    "codes_file = '../data/ad_codes_transformed.tsv'\n",
    "codes = pd.read_csv(codes_file, sep='\\t')\n",
    "codes_raw = pd.read_csv('../data/ad_codes.tsv', sep='\\t', index_col='adid')\n",
    "\n",
    "survey_codes = survey.merge(codes, 'inner', 'adid')"
   ]
  },
  {
   "cell_type": "code",
   "execution_count": 15,
   "id": "e1c98fed-53a2-4b07-a2b3-a01c1c686b03",
   "metadata": {},
   "outputs": [],
   "source": [
    "pd.options.display.max_rows = None\n",
    "\n",
    "survey_codes[(survey_codes['codes'] == 'Opportunity') & (survey_codes['dislike'].str.contains('scam'))].to_csv('opportunity_scams_repair.csv')"
   ]
  },
  {
   "cell_type": "markdown",
   "id": "0540af3e-2a2b-409a-87c0-2ebe71ecf6c1",
   "metadata": {},
   "source": [
    "#### Examples:\n",
    "- 23849455397100362, Vocal Fiction Writing contest\n",
    "- 23849320325720321, Capella University\n",
    "- 23848682684860581, Chums Browser Extension (they seem to be a two-sided Pinterest)\n",
    "- 23848816746470401, Precision Sample Surveying\n",
    "- 6251996103232, LA Film School, MFA film and TV\n",
    "- 6237744362594, HyreCar, gig-work\n",
    "- 23848473022310575, The People Platform Surveys\n",
    "- 6258415474569, St. John's Univ, Online MS in Library Science\n",
    "- 6235333382694, Purdue Univ Global\n",
    "- 23849503132930695, Degrees for Aspiring Teachers (finddegreesonline.com) -> Clickbait (they're an education marketing firm)\n",
    "- 23849269361120226, Gates Scholarship pointing to todayvibes.com -- seriously?\n",
    "- 23849735866490194, Family First Life -- can't believe this is a real job ad"
   ]
  },
  {
   "cell_type": "code",
   "execution_count": null,
   "id": "a6038b08-cdaf-4f88-86ea-6dd0a0cbf7f6",
   "metadata": {},
   "outputs": [],
   "source": []
  }
 ],
 "metadata": {
  "kernelspec": {
   "display_name": "Python 3",
   "language": "python",
   "name": "python3"
  },
  "language_info": {
   "codemirror_mode": {
    "name": "ipython",
    "version": 3
   },
   "file_extension": ".py",
   "mimetype": "text/x-python",
   "name": "python",
   "nbconvert_exporter": "python",
   "pygments_lexer": "ipython3",
   "version": "3.9.13"
  }
 },
 "nbformat": 4,
 "nbformat_minor": 5
}
