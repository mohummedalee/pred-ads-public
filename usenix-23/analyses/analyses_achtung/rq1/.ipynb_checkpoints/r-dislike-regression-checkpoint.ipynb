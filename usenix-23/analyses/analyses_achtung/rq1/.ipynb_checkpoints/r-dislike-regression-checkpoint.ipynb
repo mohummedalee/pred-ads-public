{
 "cells": [
  {
   "cell_type": "code",
   "execution_count": 28,
   "id": "e786d25a-efe2-4936-8c2c-f500a5cd7b86",
   "metadata": {},
   "outputs": [],
   "source": [
    "library(dplyr)\n",
    "library(ggplot2)\n",
    "library(toffee)\n",
    "library(lme4)\n",
    "library(tidyr)\n",
    "library(xtable)\n",
    "library(broom)\n",
    "library(broom.mixed)"
   ]
  },
  {
   "cell_type": "code",
   "execution_count": 64,
   "id": "5f3f613e-2255-429a-9cee-fb086c9d835c",
   "metadata": {},
   "outputs": [],
   "source": [
    "# removing \"irrelevant\", \"political\", \"dislike_design\" as personal reasons, retaining 7/10 others in nonpersonal_dislike\n",
    "\n",
    "data_all <- read.csv('../data/ad_dislike_data_full.csv') %>%\n",
    "    mutate(mistrust_dislike = as.integer(data_all$scam | data_all$pushy | data_all$unclear | data_all$dislike_clickbait)) %>%\n",
    "    mutate(scam_dislike = as.integer(data_all$scam | data_all$pushy | data_all$unclear | data_all$dislike_clickbait | data_all$uncomfortable)) %>%\n",
    "    mutate(nonpersonal_dislike = as.integer(data_all$unclear | data_all$pushy | data_all$dislike_clickbait | data_all$scam | data_all$dislike_product | data_all$uncomfortable | data_all$dislike_advertiser)) %>%\n",
    "    mutate(personal_dislike = as.integer(data_all$dislike_design | data_all$irrelevant | data_all$political)) %>%\n",
    "    mutate(any_dislike = as.integer(data_all$unclear | data_all$pushy | data_all$dislike_clickbait | data_all$scam | data_all$dislike_product | data_all$uncomfortable | data_all$dislike_advertiser | data_all$dislike_design | data_all$irrelevant | data_all$political)) %>%\n",
    "    mutate(all_but_design = as.integer(data_all$unclear | data_all$pushy | data_all$dislike_clickbait | data_all$scam | data_all$dislike_product | data_all$uncomfortable | data_all$dislike_advertiser | data_all$irrelevant | data_all$political)) %>%\n",
    "    mutate(all_but_design_and_relevance = as.integer(data_all$unclear | data_all$pushy | data_all$dislike_clickbait | data_all$scam | data_all$dislike_product | data_all$uncomfortable | data_all$dislike_advertiser | data_all$political))\n",
    "\n",
    "disliked <- subset(data_all, dont_dislike == 0)   # some reason of disliking this data was picked\n",
    "\n",
    "# TODO: filter out ads where participants specifically said they \"dont-dislike\" the ad"
   ]
  },
  {
   "cell_type": "code",
   "execution_count": 60,
   "id": "ae98174f-ce46-4d3b-b508-532657280c97",
   "metadata": {},
   "outputs": [
    {
     "data": {
      "text/plain": [
       "\n",
       "   0    1 \n",
       "5310 2527 "
      ]
     },
     "metadata": {},
     "output_type": "display_data"
    }
   ],
   "source": [
    "table(data_all$any_dislike)"
   ]
  },
  {
   "cell_type": "code",
   "execution_count": 17,
   "id": "fd67e183-ea17-476d-b637-33412688dbda",
   "metadata": {},
   "outputs": [
    {
     "data": {
      "text/plain": [
       "\n",
       "   0    1 \n",
       "4713 3124 "
      ]
     },
     "metadata": {},
     "output_type": "display_data"
    }
   ],
   "source": [
    "table(data_all$nonpersonal_dislike)"
   ]
  },
  {
   "cell_type": "code",
   "execution_count": 51,
   "id": "7e1ed8d3-fb58-4c14-8391-fd0e556f45eb",
   "metadata": {},
   "outputs": [
    {
     "data": {
      "text/html": [
       "<table class=\"dataframe\">\n",
       "<caption>A tibble: 9 × 4</caption>\n",
       "<thead>\n",
       "\t<tr><th scope=col>Variable</th><th scope=col>Odds_Ratio</th><th scope=col>CI</th><th scope=col>p_value</th></tr>\n",
       "\t<tr><th scope=col>&lt;chr&gt;</th><th scope=col>&lt;dbl&gt;</th><th scope=col>&lt;chr&gt;</th><th scope=col>&lt;chr&gt;</th></tr>\n",
       "</thead>\n",
       "<tbody>\n",
       "\t<tr><td><span style=white-space:pre-wrap>(Intercept)    </span></td><td>0.40</td><td>[0.33, 0.49]</td><td>&lt; 0.01***</td></tr>\n",
       "\t<tr><td>opportunity    </td><td>0.97</td><td>[0.82, 1.15]</td><td>0.73     </td></tr>\n",
       "\t<tr><td>healthcare     </td><td>1.01</td><td>[0.88, 1.16]</td><td>0.85     </td></tr>\n",
       "\t<tr><td><span style=white-space:pre-wrap>sensitive      </span></td><td>1.74</td><td>[1.25, 2.44]</td><td>&lt; 0.01** </td></tr>\n",
       "\t<tr><td><span style=white-space:pre-wrap>financial      </span></td><td>1.39</td><td>[1.15, 1.68]</td><td>&lt; 0.01***</td></tr>\n",
       "\t<tr><td>prohibited     </td><td>1.51</td><td>[1.03, 2.2] </td><td>0.03*    </td></tr>\n",
       "\t<tr><td>harmful        </td><td>1.26</td><td>[0.89, 1.78]</td><td>0.19     </td></tr>\n",
       "\t<tr><td><span style=white-space:pre-wrap>clickbait      </span></td><td>2.36</td><td>[1.89, 2.95]</td><td>&lt; 0.01***</td></tr>\n",
       "\t<tr><td>sd__(Intercept)</td><td>3.15</td><td>[NA, NA]    </td><td>NA       </td></tr>\n",
       "</tbody>\n",
       "</table>\n"
      ],
      "text/latex": [
       "A tibble: 9 × 4\n",
       "\\begin{tabular}{llll}\n",
       " Variable & Odds\\_Ratio & CI & p\\_value\\\\\n",
       " <chr> & <dbl> & <chr> & <chr>\\\\\n",
       "\\hline\n",
       "\t (Intercept)     & 0.40 & {[}0.33, 0.49{]} & < 0.01***\\\\\n",
       "\t opportunity     & 0.97 & {[}0.82, 1.15{]} & 0.73     \\\\\n",
       "\t healthcare      & 1.01 & {[}0.88, 1.16{]} & 0.85     \\\\\n",
       "\t sensitive       & 1.74 & {[}1.25, 2.44{]} & < 0.01** \\\\\n",
       "\t financial       & 1.39 & {[}1.15, 1.68{]} & < 0.01***\\\\\n",
       "\t prohibited      & 1.51 & {[}1.03, 2.2{]}  & 0.03*    \\\\\n",
       "\t harmful         & 1.26 & {[}0.89, 1.78{]} & 0.19     \\\\\n",
       "\t clickbait       & 2.36 & {[}1.89, 2.95{]} & < 0.01***\\\\\n",
       "\t sd\\_\\_(Intercept) & 3.15 & {[}NA, NA{]}     & NA       \\\\\n",
       "\\end{tabular}\n"
      ],
      "text/markdown": [
       "\n",
       "A tibble: 9 × 4\n",
       "\n",
       "| Variable &lt;chr&gt; | Odds_Ratio &lt;dbl&gt; | CI &lt;chr&gt; | p_value &lt;chr&gt; |\n",
       "|---|---|---|---|\n",
       "| (Intercept)     | 0.40 | [0.33, 0.49] | &lt; 0.01*** |\n",
       "| opportunity     | 0.97 | [0.82, 1.15] | 0.73      |\n",
       "| healthcare      | 1.01 | [0.88, 1.16] | 0.85      |\n",
       "| sensitive       | 1.74 | [1.25, 2.44] | &lt; 0.01**  |\n",
       "| financial       | 1.39 | [1.15, 1.68] | &lt; 0.01*** |\n",
       "| prohibited      | 1.51 | [1.03, 2.2]  | 0.03*     |\n",
       "| harmful         | 1.26 | [0.89, 1.78] | 0.19      |\n",
       "| clickbait       | 2.36 | [1.89, 2.95] | &lt; 0.01*** |\n",
       "| sd__(Intercept) | 3.15 | [NA, NA]     | NA        |\n",
       "\n"
      ],
      "text/plain": [
       "  Variable        Odds_Ratio CI           p_value  \n",
       "1 (Intercept)     0.40       [0.33, 0.49] < 0.01***\n",
       "2 opportunity     0.97       [0.82, 1.15] 0.73     \n",
       "3 healthcare      1.01       [0.88, 1.16] 0.85     \n",
       "4 sensitive       1.74       [1.25, 2.44] < 0.01** \n",
       "5 financial       1.39       [1.15, 1.68] < 0.01***\n",
       "6 prohibited      1.51       [1.03, 2.2]  0.03*    \n",
       "7 harmful         1.26       [0.89, 1.78] 0.19     \n",
       "8 clickbait       2.36       [1.89, 2.95] < 0.01***\n",
       "9 sd__(Intercept) 3.15       [NA, NA]     NA       "
      ]
     },
     "metadata": {},
     "output_type": "display_data"
    }
   ],
   "source": [
    "any_dislike_reasons <- lme4::glmer(\n",
    "    any_dislike ~ opportunity + healthcare + sensitive + financial + prohibited + harmful + clickbait + (1|pid),\n",
    "    data=data_all, family=binomial()\n",
    ")\n",
    "\n",
    "toffee_tbl(any_dislike_reasons)"
   ]
  },
  {
   "cell_type": "code",
   "execution_count": 62,
   "id": "a8bec7dc-27de-4ba4-b3a3-cbf6d5d35063",
   "metadata": {},
   "outputs": [
    {
     "data": {
      "text/html": [
       "<table class=\"dataframe\">\n",
       "<caption>A tibble: 9 × 4</caption>\n",
       "<thead>\n",
       "\t<tr><th scope=col>Variable</th><th scope=col>Odds_Ratio</th><th scope=col>CI</th><th scope=col>p_value</th></tr>\n",
       "\t<tr><th scope=col>&lt;chr&gt;</th><th scope=col>&lt;dbl&gt;</th><th scope=col>&lt;chr&gt;</th><th scope=col>&lt;chr&gt;</th></tr>\n",
       "</thead>\n",
       "<tbody>\n",
       "\t<tr><td><span style=white-space:pre-wrap>(Intercept)    </span></td><td>0.20</td><td>[0.16, 0.25]</td><td>&lt; 0.01***</td></tr>\n",
       "\t<tr><td>opportunity    </td><td>1.25</td><td>[1.04, 1.5] </td><td>0.02*    </td></tr>\n",
       "\t<tr><td>healthcare     </td><td>1.13</td><td>[0.97, 1.32]</td><td>0.12     </td></tr>\n",
       "\t<tr><td>sensitive      </td><td>1.64</td><td>[1.15, 2.34]</td><td>0.01**   </td></tr>\n",
       "\t<tr><td>financial      </td><td>1.28</td><td>[1.03, 1.58]</td><td>0.03*    </td></tr>\n",
       "\t<tr><td>prohibited     </td><td>1.12</td><td>[0.74, 1.69]</td><td>0.59     </td></tr>\n",
       "\t<tr><td>harmful        </td><td>1.49</td><td>[1.03, 2.16]</td><td>0.04*    </td></tr>\n",
       "\t<tr><td><span style=white-space:pre-wrap>clickbait      </span></td><td>2.39</td><td>[1.88, 3.02]</td><td>&lt; 0.01***</td></tr>\n",
       "\t<tr><td>sd__(Intercept)</td><td>3.07</td><td>[NA, NA]    </td><td>NA       </td></tr>\n",
       "</tbody>\n",
       "</table>\n"
      ],
      "text/latex": [
       "A tibble: 9 × 4\n",
       "\\begin{tabular}{llll}\n",
       " Variable & Odds\\_Ratio & CI & p\\_value\\\\\n",
       " <chr> & <dbl> & <chr> & <chr>\\\\\n",
       "\\hline\n",
       "\t (Intercept)     & 0.20 & {[}0.16, 0.25{]} & < 0.01***\\\\\n",
       "\t opportunity     & 1.25 & {[}1.04, 1.5{]}  & 0.02*    \\\\\n",
       "\t healthcare      & 1.13 & {[}0.97, 1.32{]} & 0.12     \\\\\n",
       "\t sensitive       & 1.64 & {[}1.15, 2.34{]} & 0.01**   \\\\\n",
       "\t financial       & 1.28 & {[}1.03, 1.58{]} & 0.03*    \\\\\n",
       "\t prohibited      & 1.12 & {[}0.74, 1.69{]} & 0.59     \\\\\n",
       "\t harmful         & 1.49 & {[}1.03, 2.16{]} & 0.04*    \\\\\n",
       "\t clickbait       & 2.39 & {[}1.88, 3.02{]} & < 0.01***\\\\\n",
       "\t sd\\_\\_(Intercept) & 3.07 & {[}NA, NA{]}     & NA       \\\\\n",
       "\\end{tabular}\n"
      ],
      "text/markdown": [
       "\n",
       "A tibble: 9 × 4\n",
       "\n",
       "| Variable &lt;chr&gt; | Odds_Ratio &lt;dbl&gt; | CI &lt;chr&gt; | p_value &lt;chr&gt; |\n",
       "|---|---|---|---|\n",
       "| (Intercept)     | 0.20 | [0.16, 0.25] | &lt; 0.01*** |\n",
       "| opportunity     | 1.25 | [1.04, 1.5]  | 0.02*     |\n",
       "| healthcare      | 1.13 | [0.97, 1.32] | 0.12      |\n",
       "| sensitive       | 1.64 | [1.15, 2.34] | 0.01**    |\n",
       "| financial       | 1.28 | [1.03, 1.58] | 0.03*     |\n",
       "| prohibited      | 1.12 | [0.74, 1.69] | 0.59      |\n",
       "| harmful         | 1.49 | [1.03, 2.16] | 0.04*     |\n",
       "| clickbait       | 2.39 | [1.88, 3.02] | &lt; 0.01*** |\n",
       "| sd__(Intercept) | 3.07 | [NA, NA]     | NA        |\n",
       "\n"
      ],
      "text/plain": [
       "  Variable        Odds_Ratio CI           p_value  \n",
       "1 (Intercept)     0.20       [0.16, 0.25] < 0.01***\n",
       "2 opportunity     1.25       [1.04, 1.5]  0.02*    \n",
       "3 healthcare      1.13       [0.97, 1.32] 0.12     \n",
       "4 sensitive       1.64       [1.15, 2.34] 0.01**   \n",
       "5 financial       1.28       [1.03, 1.58] 0.03*    \n",
       "6 prohibited      1.12       [0.74, 1.69] 0.59     \n",
       "7 harmful         1.49       [1.03, 2.16] 0.04*    \n",
       "8 clickbait       2.39       [1.88, 3.02] < 0.01***\n",
       "9 sd__(Intercept) 3.07       [NA, NA]     NA       "
      ]
     },
     "metadata": {},
     "output_type": "display_data"
    }
   ],
   "source": [
    "mistrust_dislike_reasons <- lme4::glmer(\n",
    "    mistrust_dislike ~ opportunity + healthcare + sensitive + financial + prohibited + harmful + clickbait + (1|pid),\n",
    "    data=data_all, family=binomial()\n",
    ")\n",
    "\n",
    "toffee_tbl(mistrust_dislike_reasons)"
   ]
  },
  {
   "cell_type": "code",
   "execution_count": 65,
   "id": "8690e2e4-98e9-46a6-9d16-198cc1e83b40",
   "metadata": {},
   "outputs": [
    {
     "data": {
      "text/html": [
       "<table class=\"dataframe\">\n",
       "<caption>A tibble: 9 × 4</caption>\n",
       "<thead>\n",
       "\t<tr><th scope=col>Variable</th><th scope=col>Odds_Ratio</th><th scope=col>CI</th><th scope=col>p_value</th></tr>\n",
       "\t<tr><th scope=col>&lt;chr&gt;</th><th scope=col>&lt;dbl&gt;</th><th scope=col>&lt;chr&gt;</th><th scope=col>&lt;chr&gt;</th></tr>\n",
       "</thead>\n",
       "<tbody>\n",
       "\t<tr><td><span style=white-space:pre-wrap>(Intercept)    </span></td><td>0.21</td><td>[0.17, 0.26]</td><td>&lt; 0.01***</td></tr>\n",
       "\t<tr><td>opportunity    </td><td>1.23</td><td>[1.03, 1.48]</td><td>0.03*    </td></tr>\n",
       "\t<tr><td>healthcare     </td><td>1.16</td><td>[0.99, 1.35]</td><td>0.06     </td></tr>\n",
       "\t<tr><td>sensitive      </td><td>1.59</td><td>[1.11, 2.28]</td><td>0.01*    </td></tr>\n",
       "\t<tr><td>financial      </td><td>1.26</td><td>[1.02, 1.56]</td><td>0.03*    </td></tr>\n",
       "\t<tr><td>prohibited     </td><td>1.18</td><td>[0.79, 1.78]</td><td>0.42     </td></tr>\n",
       "\t<tr><td>harmful        </td><td>1.57</td><td>[1.09, 2.27]</td><td>0.02*    </td></tr>\n",
       "\t<tr><td><span style=white-space:pre-wrap>clickbait      </span></td><td>2.31</td><td>[1.83, 2.92]</td><td>&lt; 0.01***</td></tr>\n",
       "\t<tr><td>sd__(Intercept)</td><td>3.12</td><td>[NA, NA]    </td><td>NA       </td></tr>\n",
       "</tbody>\n",
       "</table>\n"
      ],
      "text/latex": [
       "A tibble: 9 × 4\n",
       "\\begin{tabular}{llll}\n",
       " Variable & Odds\\_Ratio & CI & p\\_value\\\\\n",
       " <chr> & <dbl> & <chr> & <chr>\\\\\n",
       "\\hline\n",
       "\t (Intercept)     & 0.21 & {[}0.17, 0.26{]} & < 0.01***\\\\\n",
       "\t opportunity     & 1.23 & {[}1.03, 1.48{]} & 0.03*    \\\\\n",
       "\t healthcare      & 1.16 & {[}0.99, 1.35{]} & 0.06     \\\\\n",
       "\t sensitive       & 1.59 & {[}1.11, 2.28{]} & 0.01*    \\\\\n",
       "\t financial       & 1.26 & {[}1.02, 1.56{]} & 0.03*    \\\\\n",
       "\t prohibited      & 1.18 & {[}0.79, 1.78{]} & 0.42     \\\\\n",
       "\t harmful         & 1.57 & {[}1.09, 2.27{]} & 0.02*    \\\\\n",
       "\t clickbait       & 2.31 & {[}1.83, 2.92{]} & < 0.01***\\\\\n",
       "\t sd\\_\\_(Intercept) & 3.12 & {[}NA, NA{]}     & NA       \\\\\n",
       "\\end{tabular}\n"
      ],
      "text/markdown": [
       "\n",
       "A tibble: 9 × 4\n",
       "\n",
       "| Variable &lt;chr&gt; | Odds_Ratio &lt;dbl&gt; | CI &lt;chr&gt; | p_value &lt;chr&gt; |\n",
       "|---|---|---|---|\n",
       "| (Intercept)     | 0.21 | [0.17, 0.26] | &lt; 0.01*** |\n",
       "| opportunity     | 1.23 | [1.03, 1.48] | 0.03*     |\n",
       "| healthcare      | 1.16 | [0.99, 1.35] | 0.06      |\n",
       "| sensitive       | 1.59 | [1.11, 2.28] | 0.01*     |\n",
       "| financial       | 1.26 | [1.02, 1.56] | 0.03*     |\n",
       "| prohibited      | 1.18 | [0.79, 1.78] | 0.42      |\n",
       "| harmful         | 1.57 | [1.09, 2.27] | 0.02*     |\n",
       "| clickbait       | 2.31 | [1.83, 2.92] | &lt; 0.01*** |\n",
       "| sd__(Intercept) | 3.12 | [NA, NA]     | NA        |\n",
       "\n"
      ],
      "text/plain": [
       "  Variable        Odds_Ratio CI           p_value  \n",
       "1 (Intercept)     0.21       [0.17, 0.26] < 0.01***\n",
       "2 opportunity     1.23       [1.03, 1.48] 0.03*    \n",
       "3 healthcare      1.16       [0.99, 1.35] 0.06     \n",
       "4 sensitive       1.59       [1.11, 2.28] 0.01*    \n",
       "5 financial       1.26       [1.02, 1.56] 0.03*    \n",
       "6 prohibited      1.18       [0.79, 1.78] 0.42     \n",
       "7 harmful         1.57       [1.09, 2.27] 0.02*    \n",
       "8 clickbait       2.31       [1.83, 2.92] < 0.01***\n",
       "9 sd__(Intercept) 3.12       [NA, NA]     NA       "
      ]
     },
     "metadata": {},
     "output_type": "display_data"
    }
   ],
   "source": [
    "# scam dislike reasons\n",
    "scam_dislike_reasons <- lme4::glmer(\n",
    "    scam_dislike ~ opportunity + healthcare + sensitive + financial + prohibited + harmful + clickbait + (1|pid),\n",
    "    data=data_all, family=binomial()\n",
    ")\n",
    "\n",
    "toffee_tbl(scam_dislike_reasons)"
   ]
  },
  {
   "cell_type": "code",
   "execution_count": 44,
   "id": "f04f3988-1a56-423a-9904-a2e37e84f17d",
   "metadata": {},
   "outputs": [
    {
     "data": {
      "text/html": [
       "<table class=\"dataframe\">\n",
       "<caption>A tibble: 10 × 4</caption>\n",
       "<thead>\n",
       "\t<tr><th scope=col>Variable</th><th scope=col>Odds_Ratio</th><th scope=col>CI</th><th scope=col>p_value</th></tr>\n",
       "\t<tr><th scope=col>&lt;chr&gt;</th><th scope=col>&lt;dbl&gt;</th><th scope=col>&lt;chr&gt;</th><th scope=col>&lt;chr&gt;</th></tr>\n",
       "</thead>\n",
       "<tbody>\n",
       "\t<tr><td><span style=white-space:pre-wrap>(Intercept)    </span></td><td>0.28</td><td>[0.23, 0.35]</td><td>&lt; 0.01***</td></tr>\n",
       "\t<tr><td>opportunity    </td><td>1.14</td><td>[0.96, 1.36]</td><td>0.15     </td></tr>\n",
       "\t<tr><td>healthcare     </td><td>1.12</td><td>[0.97, 1.29]</td><td>0.14     </td></tr>\n",
       "\t<tr><td><span style=white-space:pre-wrap>sensitive      </span></td><td>1.77</td><td>[1.25, 2.49]</td><td>&lt; 0.01** </td></tr>\n",
       "\t<tr><td>financial      </td><td>1.28</td><td>[1.05, 1.57]</td><td>0.02*    </td></tr>\n",
       "\t<tr><td>prohibited     </td><td>1.20</td><td>[0.81, 1.78]</td><td>0.37     </td></tr>\n",
       "\t<tr><td>harmful        </td><td>1.60</td><td>[1.12, 2.27]</td><td>0.01**   </td></tr>\n",
       "\t<tr><td><span style=white-space:pre-wrap>clickbait      </span></td><td>2.65</td><td>[2.11, 3.32]</td><td>&lt; 0.01***</td></tr>\n",
       "\t<tr><td>political      </td><td>0.76</td><td>[0.17, 3.43]</td><td>0.73     </td></tr>\n",
       "\t<tr><td>sd__(Intercept)</td><td>3.12</td><td>[NA, NA]    </td><td>NA       </td></tr>\n",
       "</tbody>\n",
       "</table>\n"
      ],
      "text/latex": [
       "A tibble: 10 × 4\n",
       "\\begin{tabular}{llll}\n",
       " Variable & Odds\\_Ratio & CI & p\\_value\\\\\n",
       " <chr> & <dbl> & <chr> & <chr>\\\\\n",
       "\\hline\n",
       "\t (Intercept)     & 0.28 & {[}0.23, 0.35{]} & < 0.01***\\\\\n",
       "\t opportunity     & 1.14 & {[}0.96, 1.36{]} & 0.15     \\\\\n",
       "\t healthcare      & 1.12 & {[}0.97, 1.29{]} & 0.14     \\\\\n",
       "\t sensitive       & 1.77 & {[}1.25, 2.49{]} & < 0.01** \\\\\n",
       "\t financial       & 1.28 & {[}1.05, 1.57{]} & 0.02*    \\\\\n",
       "\t prohibited      & 1.20 & {[}0.81, 1.78{]} & 0.37     \\\\\n",
       "\t harmful         & 1.60 & {[}1.12, 2.27{]} & 0.01**   \\\\\n",
       "\t clickbait       & 2.65 & {[}2.11, 3.32{]} & < 0.01***\\\\\n",
       "\t political       & 0.76 & {[}0.17, 3.43{]} & 0.73     \\\\\n",
       "\t sd\\_\\_(Intercept) & 3.12 & {[}NA, NA{]}     & NA       \\\\\n",
       "\\end{tabular}\n"
      ],
      "text/markdown": [
       "\n",
       "A tibble: 10 × 4\n",
       "\n",
       "| Variable &lt;chr&gt; | Odds_Ratio &lt;dbl&gt; | CI &lt;chr&gt; | p_value &lt;chr&gt; |\n",
       "|---|---|---|---|\n",
       "| (Intercept)     | 0.28 | [0.23, 0.35] | &lt; 0.01*** |\n",
       "| opportunity     | 1.14 | [0.96, 1.36] | 0.15      |\n",
       "| healthcare      | 1.12 | [0.97, 1.29] | 0.14      |\n",
       "| sensitive       | 1.77 | [1.25, 2.49] | &lt; 0.01**  |\n",
       "| financial       | 1.28 | [1.05, 1.57] | 0.02*     |\n",
       "| prohibited      | 1.20 | [0.81, 1.78] | 0.37      |\n",
       "| harmful         | 1.60 | [1.12, 2.27] | 0.01**    |\n",
       "| clickbait       | 2.65 | [2.11, 3.32] | &lt; 0.01*** |\n",
       "| political       | 0.76 | [0.17, 3.43] | 0.73      |\n",
       "| sd__(Intercept) | 3.12 | [NA, NA]     | NA        |\n",
       "\n"
      ],
      "text/plain": [
       "   Variable        Odds_Ratio CI           p_value  \n",
       "1  (Intercept)     0.28       [0.23, 0.35] < 0.01***\n",
       "2  opportunity     1.14       [0.96, 1.36] 0.15     \n",
       "3  healthcare      1.12       [0.97, 1.29] 0.14     \n",
       "4  sensitive       1.77       [1.25, 2.49] < 0.01** \n",
       "5  financial       1.28       [1.05, 1.57] 0.02*    \n",
       "6  prohibited      1.20       [0.81, 1.78] 0.37     \n",
       "7  harmful         1.60       [1.12, 2.27] 0.01**   \n",
       "8  clickbait       2.65       [2.11, 3.32] < 0.01***\n",
       "9  political       0.76       [0.17, 3.43] 0.73     \n",
       "10 sd__(Intercept) 3.12       [NA, NA]     NA       "
      ]
     },
     "metadata": {},
     "output_type": "display_data"
    }
   ],
   "source": [
    "nonpersonal_dislike_reasons <- lme4::glmer(\n",
    "    nonpersonal_dislike ~ opportunity + healthcare + sensitive + financial + prohibited + harmful + clickbait + political + (1|pid),\n",
    "    data=data_all, family=binomial()\n",
    ")\n",
    "\n",
    "toffee_tbl(nonpersonal_dislike_reasons)"
   ]
  },
  {
   "cell_type": "code",
   "execution_count": 53,
   "id": "47d2a434-a52b-4609-afa2-9af0c1a87fd3",
   "metadata": {},
   "outputs": [
    {
     "data": {
      "text/html": [
       "<table class=\"dataframe\">\n",
       "<caption>A tibble: 9 × 4</caption>\n",
       "<thead>\n",
       "\t<tr><th scope=col>Variable</th><th scope=col>Odds_Ratio</th><th scope=col>CI</th><th scope=col>p_value</th></tr>\n",
       "\t<tr><th scope=col>&lt;chr&gt;</th><th scope=col>&lt;dbl&gt;</th><th scope=col>&lt;chr&gt;</th><th scope=col>&lt;chr&gt;</th></tr>\n",
       "</thead>\n",
       "<tbody>\n",
       "\t<tr><td><span style=white-space:pre-wrap>(Intercept)    </span></td><td>0.33</td><td>[0.27, 0.41]</td><td>&lt; 0.01***</td></tr>\n",
       "\t<tr><td>opportunity    </td><td>1.04</td><td>[0.88, 1.24]</td><td>0.62     </td></tr>\n",
       "\t<tr><td>healthcare     </td><td>1.03</td><td>[0.89, 1.18]</td><td>0.72     </td></tr>\n",
       "\t<tr><td><span style=white-space:pre-wrap>sensitive      </span></td><td>1.77</td><td>[1.26, 2.49]</td><td>&lt; 0.01***</td></tr>\n",
       "\t<tr><td>financial      </td><td>1.30</td><td>[1.06, 1.58]</td><td>0.01**   </td></tr>\n",
       "\t<tr><td>prohibited     </td><td>1.31</td><td>[0.89, 1.92]</td><td>0.17     </td></tr>\n",
       "\t<tr><td>harmful        </td><td>1.50</td><td>[1.06, 2.13]</td><td>0.02*    </td></tr>\n",
       "\t<tr><td><span style=white-space:pre-wrap>clickbait      </span></td><td>2.36</td><td>[1.88, 2.95]</td><td>&lt; 0.01***</td></tr>\n",
       "\t<tr><td>sd__(Intercept)</td><td>3.07</td><td>[NA, NA]    </td><td>NA       </td></tr>\n",
       "</tbody>\n",
       "</table>\n"
      ],
      "text/latex": [
       "A tibble: 9 × 4\n",
       "\\begin{tabular}{llll}\n",
       " Variable & Odds\\_Ratio & CI & p\\_value\\\\\n",
       " <chr> & <dbl> & <chr> & <chr>\\\\\n",
       "\\hline\n",
       "\t (Intercept)     & 0.33 & {[}0.27, 0.41{]} & < 0.01***\\\\\n",
       "\t opportunity     & 1.04 & {[}0.88, 1.24{]} & 0.62     \\\\\n",
       "\t healthcare      & 1.03 & {[}0.89, 1.18{]} & 0.72     \\\\\n",
       "\t sensitive       & 1.77 & {[}1.26, 2.49{]} & < 0.01***\\\\\n",
       "\t financial       & 1.30 & {[}1.06, 1.58{]} & 0.01**   \\\\\n",
       "\t prohibited      & 1.31 & {[}0.89, 1.92{]} & 0.17     \\\\\n",
       "\t harmful         & 1.50 & {[}1.06, 2.13{]} & 0.02*    \\\\\n",
       "\t clickbait       & 2.36 & {[}1.88, 2.95{]} & < 0.01***\\\\\n",
       "\t sd\\_\\_(Intercept) & 3.07 & {[}NA, NA{]}     & NA       \\\\\n",
       "\\end{tabular}\n"
      ],
      "text/markdown": [
       "\n",
       "A tibble: 9 × 4\n",
       "\n",
       "| Variable &lt;chr&gt; | Odds_Ratio &lt;dbl&gt; | CI &lt;chr&gt; | p_value &lt;chr&gt; |\n",
       "|---|---|---|---|\n",
       "| (Intercept)     | 0.33 | [0.27, 0.41] | &lt; 0.01*** |\n",
       "| opportunity     | 1.04 | [0.88, 1.24] | 0.62      |\n",
       "| healthcare      | 1.03 | [0.89, 1.18] | 0.72      |\n",
       "| sensitive       | 1.77 | [1.26, 2.49] | &lt; 0.01*** |\n",
       "| financial       | 1.30 | [1.06, 1.58] | 0.01**    |\n",
       "| prohibited      | 1.31 | [0.89, 1.92] | 0.17      |\n",
       "| harmful         | 1.50 | [1.06, 2.13] | 0.02*     |\n",
       "| clickbait       | 2.36 | [1.88, 2.95] | &lt; 0.01*** |\n",
       "| sd__(Intercept) | 3.07 | [NA, NA]     | NA        |\n",
       "\n"
      ],
      "text/plain": [
       "  Variable        Odds_Ratio CI           p_value  \n",
       "1 (Intercept)     0.33       [0.27, 0.41] < 0.01***\n",
       "2 opportunity     1.04       [0.88, 1.24] 0.62     \n",
       "3 healthcare      1.03       [0.89, 1.18] 0.72     \n",
       "4 sensitive       1.77       [1.26, 2.49] < 0.01***\n",
       "5 financial       1.30       [1.06, 1.58] 0.01**   \n",
       "6 prohibited      1.31       [0.89, 1.92] 0.17     \n",
       "7 harmful         1.50       [1.06, 2.13] 0.02*    \n",
       "8 clickbait       2.36       [1.88, 2.95] < 0.01***\n",
       "9 sd__(Intercept) 3.07       [NA, NA]     NA       "
      ]
     },
     "metadata": {},
     "output_type": "display_data"
    }
   ],
   "source": [
    "nondesign_reasons <- lme4::glmer(\n",
    "    all_but_design ~ opportunity + healthcare + sensitive + financial + prohibited + harmful + clickbait + (1|pid),\n",
    "    data=data_all, family=binomial()\n",
    ")\n",
    "\n",
    "toffee_tbl(nondesign_reasons)"
   ]
  },
  {
   "cell_type": "code",
   "execution_count": 55,
   "id": "49ef7909-7f6a-46ca-a0f8-7730ff02078b",
   "metadata": {},
   "outputs": [
    {
     "data": {
      "text/html": [
       "<table class=\"dataframe\">\n",
       "<caption>A tibble: 9 × 4</caption>\n",
       "<thead>\n",
       "\t<tr><th scope=col>Variable</th><th scope=col>Odds_Ratio</th><th scope=col>CI</th><th scope=col>p_value</th></tr>\n",
       "\t<tr><th scope=col>&lt;chr&gt;</th><th scope=col>&lt;dbl&gt;</th><th scope=col>&lt;chr&gt;</th><th scope=col>&lt;chr&gt;</th></tr>\n",
       "</thead>\n",
       "<tbody>\n",
       "\t<tr><td><span style=white-space:pre-wrap>(Intercept)    </span></td><td>0.28</td><td>[0.23, 0.35]</td><td>&lt; 0.01***</td></tr>\n",
       "\t<tr><td>opportunity    </td><td>1.13</td><td>[0.95, 1.35]</td><td>0.17     </td></tr>\n",
       "\t<tr><td>healthcare     </td><td>1.10</td><td>[0.95, 1.28]</td><td>0.18     </td></tr>\n",
       "\t<tr><td><span style=white-space:pre-wrap>sensitive      </span></td><td>1.76</td><td>[1.25, 2.49]</td><td>&lt; 0.01** </td></tr>\n",
       "\t<tr><td>financial      </td><td>1.27</td><td>[1.03, 1.55]</td><td>0.02*    </td></tr>\n",
       "\t<tr><td>prohibited     </td><td>1.28</td><td>[0.87, 1.89]</td><td>0.21     </td></tr>\n",
       "\t<tr><td>harmful        </td><td>1.58</td><td>[1.11, 2.25]</td><td>0.01*    </td></tr>\n",
       "\t<tr><td><span style=white-space:pre-wrap>clickbait      </span></td><td>2.61</td><td>[2.09, 3.27]</td><td>&lt; 0.01***</td></tr>\n",
       "\t<tr><td>sd__(Intercept)</td><td>3.10</td><td>[NA, NA]    </td><td>NA       </td></tr>\n",
       "</tbody>\n",
       "</table>\n"
      ],
      "text/latex": [
       "A tibble: 9 × 4\n",
       "\\begin{tabular}{llll}\n",
       " Variable & Odds\\_Ratio & CI & p\\_value\\\\\n",
       " <chr> & <dbl> & <chr> & <chr>\\\\\n",
       "\\hline\n",
       "\t (Intercept)     & 0.28 & {[}0.23, 0.35{]} & < 0.01***\\\\\n",
       "\t opportunity     & 1.13 & {[}0.95, 1.35{]} & 0.17     \\\\\n",
       "\t healthcare      & 1.10 & {[}0.95, 1.28{]} & 0.18     \\\\\n",
       "\t sensitive       & 1.76 & {[}1.25, 2.49{]} & < 0.01** \\\\\n",
       "\t financial       & 1.27 & {[}1.03, 1.55{]} & 0.02*    \\\\\n",
       "\t prohibited      & 1.28 & {[}0.87, 1.89{]} & 0.21     \\\\\n",
       "\t harmful         & 1.58 & {[}1.11, 2.25{]} & 0.01*    \\\\\n",
       "\t clickbait       & 2.61 & {[}2.09, 3.27{]} & < 0.01***\\\\\n",
       "\t sd\\_\\_(Intercept) & 3.10 & {[}NA, NA{]}     & NA       \\\\\n",
       "\\end{tabular}\n"
      ],
      "text/markdown": [
       "\n",
       "A tibble: 9 × 4\n",
       "\n",
       "| Variable &lt;chr&gt; | Odds_Ratio &lt;dbl&gt; | CI &lt;chr&gt; | p_value &lt;chr&gt; |\n",
       "|---|---|---|---|\n",
       "| (Intercept)     | 0.28 | [0.23, 0.35] | &lt; 0.01*** |\n",
       "| opportunity     | 1.13 | [0.95, 1.35] | 0.17      |\n",
       "| healthcare      | 1.10 | [0.95, 1.28] | 0.18      |\n",
       "| sensitive       | 1.76 | [1.25, 2.49] | &lt; 0.01**  |\n",
       "| financial       | 1.27 | [1.03, 1.55] | 0.02*     |\n",
       "| prohibited      | 1.28 | [0.87, 1.89] | 0.21      |\n",
       "| harmful         | 1.58 | [1.11, 2.25] | 0.01*     |\n",
       "| clickbait       | 2.61 | [2.09, 3.27] | &lt; 0.01*** |\n",
       "| sd__(Intercept) | 3.10 | [NA, NA]     | NA        |\n",
       "\n"
      ],
      "text/plain": [
       "  Variable        Odds_Ratio CI           p_value  \n",
       "1 (Intercept)     0.28       [0.23, 0.35] < 0.01***\n",
       "2 opportunity     1.13       [0.95, 1.35] 0.17     \n",
       "3 healthcare      1.10       [0.95, 1.28] 0.18     \n",
       "4 sensitive       1.76       [1.25, 2.49] < 0.01** \n",
       "5 financial       1.27       [1.03, 1.55] 0.02*    \n",
       "6 prohibited      1.28       [0.87, 1.89] 0.21     \n",
       "7 harmful         1.58       [1.11, 2.25] 0.01*    \n",
       "8 clickbait       2.61       [2.09, 3.27] < 0.01***\n",
       "9 sd__(Intercept) 3.10       [NA, NA]     NA       "
      ]
     },
     "metadata": {},
     "output_type": "display_data"
    }
   ],
   "source": [
    "nondesign_and_relevance_reasons <- lme4::glmer(\n",
    "    all_but_design_and_relevance ~ opportunity + healthcare + sensitive + financial + prohibited + harmful + clickbait + (1|pid),\n",
    "    data=data_all, family=binomial()\n",
    ")\n",
    "\n",
    "toffee_tbl(nondesign_and_relevance_reasons)"
   ]
  },
  {
   "cell_type": "code",
   "execution_count": 56,
   "id": "b576f979-5b34-4c50-87fd-db9ba6a7911b",
   "metadata": {},
   "outputs": [
    {
     "data": {
      "text/html": [
       "<table class=\"dataframe\">\n",
       "<caption>A tibble: 9 × 4</caption>\n",
       "<thead>\n",
       "\t<tr><th scope=col>Variable</th><th scope=col>Odds_Ratio</th><th scope=col>CI</th><th scope=col>p_value</th></tr>\n",
       "\t<tr><th scope=col>&lt;chr&gt;</th><th scope=col>&lt;dbl&gt;</th><th scope=col>&lt;chr&gt;</th><th scope=col>&lt;chr&gt;</th></tr>\n",
       "</thead>\n",
       "<tbody>\n",
       "\t<tr><td><span style=white-space:pre-wrap>(Intercept)    </span></td><td>0.12</td><td>[0.1, 0.15] </td><td>&lt; 0.01***</td></tr>\n",
       "\t<tr><td>opportunity    </td><td>0.76</td><td>[0.6, 0.95] </td><td>0.01*    </td></tr>\n",
       "\t<tr><td>healthcare     </td><td>0.86</td><td>[0.72, 1.02]</td><td>0.09     </td></tr>\n",
       "\t<tr><td><span style=white-space:pre-wrap>sensitive      </span></td><td>1.87</td><td>[1.28, 2.72]</td><td>&lt; 0.01** </td></tr>\n",
       "\t<tr><td>financial      </td><td>1.32</td><td>[1.05, 1.67]</td><td>0.02*    </td></tr>\n",
       "\t<tr><td>prohibited     </td><td>1.81</td><td>[1.19, 2.74]</td><td>0.01**   </td></tr>\n",
       "\t<tr><td>harmful        </td><td>0.82</td><td>[0.52, 1.27]</td><td>0.37     </td></tr>\n",
       "\t<tr><td><span style=white-space:pre-wrap>clickbait      </span></td><td>1.50</td><td>[1.15, 1.95]</td><td>&lt; 0.01** </td></tr>\n",
       "\t<tr><td>sd__(Intercept)</td><td>3.05</td><td>[NA, NA]    </td><td>NA       </td></tr>\n",
       "</tbody>\n",
       "</table>\n"
      ],
      "text/latex": [
       "A tibble: 9 × 4\n",
       "\\begin{tabular}{llll}\n",
       " Variable & Odds\\_Ratio & CI & p\\_value\\\\\n",
       " <chr> & <dbl> & <chr> & <chr>\\\\\n",
       "\\hline\n",
       "\t (Intercept)     & 0.12 & {[}0.1, 0.15{]}  & < 0.01***\\\\\n",
       "\t opportunity     & 0.76 & {[}0.6, 0.95{]}  & 0.01*    \\\\\n",
       "\t healthcare      & 0.86 & {[}0.72, 1.02{]} & 0.09     \\\\\n",
       "\t sensitive       & 1.87 & {[}1.28, 2.72{]} & < 0.01** \\\\\n",
       "\t financial       & 1.32 & {[}1.05, 1.67{]} & 0.02*    \\\\\n",
       "\t prohibited      & 1.81 & {[}1.19, 2.74{]} & 0.01**   \\\\\n",
       "\t harmful         & 0.82 & {[}0.52, 1.27{]} & 0.37     \\\\\n",
       "\t clickbait       & 1.50 & {[}1.15, 1.95{]} & < 0.01** \\\\\n",
       "\t sd\\_\\_(Intercept) & 3.05 & {[}NA, NA{]}     & NA       \\\\\n",
       "\\end{tabular}\n"
      ],
      "text/markdown": [
       "\n",
       "A tibble: 9 × 4\n",
       "\n",
       "| Variable &lt;chr&gt; | Odds_Ratio &lt;dbl&gt; | CI &lt;chr&gt; | p_value &lt;chr&gt; |\n",
       "|---|---|---|---|\n",
       "| (Intercept)     | 0.12 | [0.1, 0.15]  | &lt; 0.01*** |\n",
       "| opportunity     | 0.76 | [0.6, 0.95]  | 0.01*     |\n",
       "| healthcare      | 0.86 | [0.72, 1.02] | 0.09      |\n",
       "| sensitive       | 1.87 | [1.28, 2.72] | &lt; 0.01**  |\n",
       "| financial       | 1.32 | [1.05, 1.67] | 0.02*     |\n",
       "| prohibited      | 1.81 | [1.19, 2.74] | 0.01**    |\n",
       "| harmful         | 0.82 | [0.52, 1.27] | 0.37      |\n",
       "| clickbait       | 1.50 | [1.15, 1.95] | &lt; 0.01**  |\n",
       "| sd__(Intercept) | 3.05 | [NA, NA]     | NA        |\n",
       "\n"
      ],
      "text/plain": [
       "  Variable        Odds_Ratio CI           p_value  \n",
       "1 (Intercept)     0.12       [0.1, 0.15]  < 0.01***\n",
       "2 opportunity     0.76       [0.6, 0.95]  0.01*    \n",
       "3 healthcare      0.86       [0.72, 1.02] 0.09     \n",
       "4 sensitive       1.87       [1.28, 2.72] < 0.01** \n",
       "5 financial       1.32       [1.05, 1.67] 0.02*    \n",
       "6 prohibited      1.81       [1.19, 2.74] 0.01**   \n",
       "7 harmful         0.82       [0.52, 1.27] 0.37     \n",
       "8 clickbait       1.50       [1.15, 1.95] < 0.01** \n",
       "9 sd__(Intercept) 3.05       [NA, NA]     NA       "
      ]
     },
     "metadata": {},
     "output_type": "display_data"
    }
   ],
   "source": [
    "# which ads are disliked for design, irrelevance or political reasons?\n",
    "personal_dislike_reasons <- lme4::glmer(\n",
    "    personal_dislike ~ opportunity + healthcare + sensitive + financial + prohibited + harmful + clickbait + (1|pid),\n",
    "    data=data_all, family=binomial()\n",
    ")\n",
    "\n",
    "toffee_tbl(personal_dislike_reasons)"
   ]
  },
  {
   "cell_type": "code",
   "execution_count": null,
   "id": "75a9d35a-46fc-4cf9-8ce0-5db90964632a",
   "metadata": {},
   "outputs": [],
   "source": [
    "# TODO: also run a model for ads that were disliked for non-mistrust-related reasons"
   ]
  },
  {
   "cell_type": "code",
   "execution_count": 31,
   "id": "93b9ed64-232d-435f-9678-b524999f96b8",
   "metadata": {},
   "outputs": [],
   "source": [
    "# NOTE: there is one thing wrong with this regression,\n",
    "# we want to make sure that if any of the nonpersonal_dislike reasons are not chosen, then the ad was\n",
    "# at least disliked but not for these reasons. what the baseline means precisely should be clear"
   ]
  },
  {
   "cell_type": "markdown",
   "id": "750eab3f-86b4-4b96-b480-6aa134a1c45b",
   "metadata": {},
   "source": [
    "### Simplifying harmful vs. non-harmful ads\n",
    "\n",
    "If prohibited + deceptive + clickbait + financial + sensitive are the \"bad\" ads, as identified by `dont-like` responses, _why_ do the participants find them bad vs. the other opportunity + healthcare + benign ads? Maybe these differing whys tell us user's differing perceptions, and can inform our definition of harm. Perhaps we could also call them unsafe vs. unsafe instead of harmful. "
   ]
  },
  {
   "cell_type": "code",
   "execution_count": 71,
   "id": "272df0ac-bb18-464d-bac0-181ee3e86b55",
   "metadata": {},
   "outputs": [
    {
     "data": {
      "text/html": [
       "<style>\n",
       ".list-inline {list-style: none; margin:0; padding: 0}\n",
       ".list-inline>li {display: inline-block}\n",
       ".list-inline>li:not(:last-child)::after {content: \"\\00b7\"; padding: 0 .5ex}\n",
       "</style>\n",
       "<ol class=list-inline><li>'dont_dislike'</li><li>'unclear'</li><li>'irrelevant'</li><li>'pushy'</li><li>'dislike_clickbait'</li><li>'scam'</li><li>'dislike_product'</li><li>'dislike_design'</li><li>'uncomfortable'</li><li>'dislike_advertiser'</li><li>'dislike_political'</li><li>'opportunity'</li><li>'healthcare'</li><li>'sensitive'</li><li>'financial'</li><li>'prohibited'</li><li>'harmful'</li><li>'clickbait'</li><li>'political'</li><li>'pid'</li><li>'mistrust_dislike'</li><li>'scam_dislike'</li><li>'nonpersonal_dislike'</li><li>'personal_dislike'</li><li>'any_dislike'</li><li>'all_but_design'</li><li>'all_but_design_and_relevance'</li><li>'bad_ads'</li><li>'nonbad_ads'</li></ol>\n"
      ],
      "text/latex": [
       "\\begin{enumerate*}\n",
       "\\item 'dont\\_dislike'\n",
       "\\item 'unclear'\n",
       "\\item 'irrelevant'\n",
       "\\item 'pushy'\n",
       "\\item 'dislike\\_clickbait'\n",
       "\\item 'scam'\n",
       "\\item 'dislike\\_product'\n",
       "\\item 'dislike\\_design'\n",
       "\\item 'uncomfortable'\n",
       "\\item 'dislike\\_advertiser'\n",
       "\\item 'dislike\\_political'\n",
       "\\item 'opportunity'\n",
       "\\item 'healthcare'\n",
       "\\item 'sensitive'\n",
       "\\item 'financial'\n",
       "\\item 'prohibited'\n",
       "\\item 'harmful'\n",
       "\\item 'clickbait'\n",
       "\\item 'political'\n",
       "\\item 'pid'\n",
       "\\item 'mistrust\\_dislike'\n",
       "\\item 'scam\\_dislike'\n",
       "\\item 'nonpersonal\\_dislike'\n",
       "\\item 'personal\\_dislike'\n",
       "\\item 'any\\_dislike'\n",
       "\\item 'all\\_but\\_design'\n",
       "\\item 'all\\_but\\_design\\_and\\_relevance'\n",
       "\\item 'bad\\_ads'\n",
       "\\item 'nonbad\\_ads'\n",
       "\\end{enumerate*}\n"
      ],
      "text/markdown": [
       "1. 'dont_dislike'\n",
       "2. 'unclear'\n",
       "3. 'irrelevant'\n",
       "4. 'pushy'\n",
       "5. 'dislike_clickbait'\n",
       "6. 'scam'\n",
       "7. 'dislike_product'\n",
       "8. 'dislike_design'\n",
       "9. 'uncomfortable'\n",
       "10. 'dislike_advertiser'\n",
       "11. 'dislike_political'\n",
       "12. 'opportunity'\n",
       "13. 'healthcare'\n",
       "14. 'sensitive'\n",
       "15. 'financial'\n",
       "16. 'prohibited'\n",
       "17. 'harmful'\n",
       "18. 'clickbait'\n",
       "19. 'political'\n",
       "20. 'pid'\n",
       "21. 'mistrust_dislike'\n",
       "22. 'scam_dislike'\n",
       "23. 'nonpersonal_dislike'\n",
       "24. 'personal_dislike'\n",
       "25. 'any_dislike'\n",
       "26. 'all_but_design'\n",
       "27. 'all_but_design_and_relevance'\n",
       "28. 'bad_ads'\n",
       "29. 'nonbad_ads'\n",
       "\n",
       "\n"
      ],
      "text/plain": [
       " [1] \"dont_dislike\"                 \"unclear\"                     \n",
       " [3] \"irrelevant\"                   \"pushy\"                       \n",
       " [5] \"dislike_clickbait\"            \"scam\"                        \n",
       " [7] \"dislike_product\"              \"dislike_design\"              \n",
       " [9] \"uncomfortable\"                \"dislike_advertiser\"          \n",
       "[11] \"dislike_political\"            \"opportunity\"                 \n",
       "[13] \"healthcare\"                   \"sensitive\"                   \n",
       "[15] \"financial\"                    \"prohibited\"                  \n",
       "[17] \"harmful\"                      \"clickbait\"                   \n",
       "[19] \"political\"                    \"pid\"                         \n",
       "[21] \"mistrust_dislike\"             \"scam_dislike\"                \n",
       "[23] \"nonpersonal_dislike\"          \"personal_dislike\"            \n",
       "[25] \"any_dislike\"                  \"all_but_design\"              \n",
       "[27] \"all_but_design_and_relevance\" \"bad_ads\"                     \n",
       "[29] \"nonbad_ads\"                  "
      ]
     },
     "metadata": {},
     "output_type": "display_data"
    }
   ],
   "source": [
    "colnames(data_all)"
   ]
  },
  {
   "cell_type": "code",
   "execution_count": 79,
   "id": "71928c62-62c3-4e37-b141-88bc9c408e8e",
   "metadata": {},
   "outputs": [],
   "source": [
    "data_all <- data_all %>%\n",
    "    mutate(bad_ads = as.integer(data_all$clickbait | data_all$prohibited | data_all$sensitive | data_all$harmful | data_all$financial)) %>%\n",
    "    mutate(nonbad_ads = as.integer(data_all$opportunity | data_all$healthcare))\n",
    "\n",
    "# TODO: it might be important to add benign to data_all"
   ]
  },
  {
   "cell_type": "code",
   "execution_count": 80,
   "id": "0fa8f483-29c4-4c40-96c4-a08b4343a06f",
   "metadata": {},
   "outputs": [
    {
     "data": {
      "text/html": [
       "<table class=\"dataframe\">\n",
       "<caption>A tibble: 12 × 4</caption>\n",
       "<thead>\n",
       "\t<tr><th scope=col>Variable</th><th scope=col>Odds_Ratio</th><th scope=col>CI</th><th scope=col>p_value</th></tr>\n",
       "\t<tr><th scope=col>&lt;chr&gt;</th><th scope=col>&lt;dbl&gt;</th><th scope=col>&lt;chr&gt;</th><th scope=col>&lt;chr&gt;</th></tr>\n",
       "</thead>\n",
       "<tbody>\n",
       "\t<tr><td><span style=white-space:pre-wrap>(Intercept)       </span></td><td>0.14</td><td>[0.12, 0.16]</td><td>&lt; 0.01***</td></tr>\n",
       "\t<tr><td><span style=white-space:pre-wrap>unclear           </span></td><td>1.65</td><td>[1.37, 1.99]</td><td>&lt; 0.01***</td></tr>\n",
       "\t<tr><td>irrelevant        </td><td>1.25</td><td>[0.98, 1.59]</td><td>0.08     </td></tr>\n",
       "\t<tr><td>pushy             </td><td>0.98</td><td>[0.79, 1.23]</td><td>0.89     </td></tr>\n",
       "\t<tr><td>dislike_clickbait </td><td>1.20</td><td>[0.89, 1.6] </td><td>0.23     </td></tr>\n",
       "\t<tr><td>scam              </td><td>0.93</td><td>[0.62, 1.41]</td><td>0.74     </td></tr>\n",
       "\t<tr><td>dislike_product   </td><td>1.16</td><td>[0.88, 1.54]</td><td>0.3      </td></tr>\n",
       "\t<tr><td><span style=white-space:pre-wrap>dislike_design    </span></td><td>1.42</td><td>[1.16, 1.75]</td><td>&lt; 0.01***</td></tr>\n",
       "\t<tr><td>uncomfortable     </td><td>0.69</td><td>[0.4, 1.2]  </td><td>0.19     </td></tr>\n",
       "\t<tr><td>dislike_advertiser</td><td>1.86</td><td>[1.47, 2.36]</td><td>&lt; 0.01***</td></tr>\n",
       "\t<tr><td>dislike_political </td><td>1.35</td><td>[1.16, 1.56]</td><td>&lt; 0.01***</td></tr>\n",
       "\t<tr><td>sd__(Intercept)   </td><td>2.29</td><td>[NA, NA]    </td><td>NA       </td></tr>\n",
       "</tbody>\n",
       "</table>\n"
      ],
      "text/latex": [
       "A tibble: 12 × 4\n",
       "\\begin{tabular}{llll}\n",
       " Variable & Odds\\_Ratio & CI & p\\_value\\\\\n",
       " <chr> & <dbl> & <chr> & <chr>\\\\\n",
       "\\hline\n",
       "\t (Intercept)        & 0.14 & {[}0.12, 0.16{]} & < 0.01***\\\\\n",
       "\t unclear            & 1.65 & {[}1.37, 1.99{]} & < 0.01***\\\\\n",
       "\t irrelevant         & 1.25 & {[}0.98, 1.59{]} & 0.08     \\\\\n",
       "\t pushy              & 0.98 & {[}0.79, 1.23{]} & 0.89     \\\\\n",
       "\t dislike\\_clickbait  & 1.20 & {[}0.89, 1.6{]}  & 0.23     \\\\\n",
       "\t scam               & 0.93 & {[}0.62, 1.41{]} & 0.74     \\\\\n",
       "\t dislike\\_product    & 1.16 & {[}0.88, 1.54{]} & 0.3      \\\\\n",
       "\t dislike\\_design     & 1.42 & {[}1.16, 1.75{]} & < 0.01***\\\\\n",
       "\t uncomfortable      & 0.69 & {[}0.4, 1.2{]}   & 0.19     \\\\\n",
       "\t dislike\\_advertiser & 1.86 & {[}1.47, 2.36{]} & < 0.01***\\\\\n",
       "\t dislike\\_political  & 1.35 & {[}1.16, 1.56{]} & < 0.01***\\\\\n",
       "\t sd\\_\\_(Intercept)    & 2.29 & {[}NA, NA{]}     & NA       \\\\\n",
       "\\end{tabular}\n"
      ],
      "text/markdown": [
       "\n",
       "A tibble: 12 × 4\n",
       "\n",
       "| Variable &lt;chr&gt; | Odds_Ratio &lt;dbl&gt; | CI &lt;chr&gt; | p_value &lt;chr&gt; |\n",
       "|---|---|---|---|\n",
       "| (Intercept)        | 0.14 | [0.12, 0.16] | &lt; 0.01*** |\n",
       "| unclear            | 1.65 | [1.37, 1.99] | &lt; 0.01*** |\n",
       "| irrelevant         | 1.25 | [0.98, 1.59] | 0.08      |\n",
       "| pushy              | 0.98 | [0.79, 1.23] | 0.89      |\n",
       "| dislike_clickbait  | 1.20 | [0.89, 1.6]  | 0.23      |\n",
       "| scam               | 0.93 | [0.62, 1.41] | 0.74      |\n",
       "| dislike_product    | 1.16 | [0.88, 1.54] | 0.3       |\n",
       "| dislike_design     | 1.42 | [1.16, 1.75] | &lt; 0.01*** |\n",
       "| uncomfortable      | 0.69 | [0.4, 1.2]   | 0.19      |\n",
       "| dislike_advertiser | 1.86 | [1.47, 2.36] | &lt; 0.01*** |\n",
       "| dislike_political  | 1.35 | [1.16, 1.56] | &lt; 0.01*** |\n",
       "| sd__(Intercept)    | 2.29 | [NA, NA]     | NA        |\n",
       "\n"
      ],
      "text/plain": [
       "   Variable           Odds_Ratio CI           p_value  \n",
       "1  (Intercept)        0.14       [0.12, 0.16] < 0.01***\n",
       "2  unclear            1.65       [1.37, 1.99] < 0.01***\n",
       "3  irrelevant         1.25       [0.98, 1.59] 0.08     \n",
       "4  pushy              0.98       [0.79, 1.23] 0.89     \n",
       "5  dislike_clickbait  1.20       [0.89, 1.6]  0.23     \n",
       "6  scam               0.93       [0.62, 1.41] 0.74     \n",
       "7  dislike_product    1.16       [0.88, 1.54] 0.3      \n",
       "8  dislike_design     1.42       [1.16, 1.75] < 0.01***\n",
       "9  uncomfortable      0.69       [0.4, 1.2]   0.19     \n",
       "10 dislike_advertiser 1.86       [1.47, 2.36] < 0.01***\n",
       "11 dislike_political  1.35       [1.16, 1.56] < 0.01***\n",
       "12 sd__(Intercept)    2.29       [NA, NA]     NA       "
      ]
     },
     "metadata": {},
     "output_type": "display_data"
    }
   ],
   "source": [
    "# why do people dislike purportedly bad ads?\n",
    "bad_dislike_reasons <- lme4::glmer(\n",
    "    bad_ads ~ unclear + irrelevant + pushy + dislike_clickbait + scam + dislike_product + dislike_design + uncomfortable + dislike_advertiser + dislike_political + (1|pid),\n",
    "    data=data_all, family=binomial()\n",
    ")\n",
    "\n",
    "toffee_tbl(bad_dislike_reasons)"
   ]
  },
  {
   "cell_type": "code",
   "execution_count": 75,
   "id": "590d3d65-8237-45b7-a83d-3878e73178a3",
   "metadata": {},
   "outputs": [
    {
     "data": {
      "text/html": [
       "<table class=\"dataframe\">\n",
       "<caption>A tibble: 12 × 4</caption>\n",
       "<thead>\n",
       "\t<tr><th scope=col>Variable</th><th scope=col>Odds_Ratio</th><th scope=col>CI</th><th scope=col>p_value</th></tr>\n",
       "\t<tr><th scope=col>&lt;chr&gt;</th><th scope=col>&lt;dbl&gt;</th><th scope=col>&lt;chr&gt;</th><th scope=col>&lt;chr&gt;</th></tr>\n",
       "</thead>\n",
       "<tbody>\n",
       "\t<tr><td><span style=white-space:pre-wrap>(Intercept)       </span></td><td>0.45</td><td>[0.4, 0.51] </td><td>&lt; 0.01***</td></tr>\n",
       "\t<tr><td>unclear           </td><td>1.13</td><td>[0.96, 1.34]</td><td>0.15     </td></tr>\n",
       "\t<tr><td>irrelevant        </td><td>0.79</td><td>[0.63, 0.99]</td><td>0.04*    </td></tr>\n",
       "\t<tr><td>pushy             </td><td>1.07</td><td>[0.88, 1.29]</td><td>0.5      </td></tr>\n",
       "\t<tr><td>dislike_clickbait </td><td>0.95</td><td>[0.73, 1.24]</td><td>0.71     </td></tr>\n",
       "\t<tr><td>scam              </td><td>1.25</td><td>[0.88, 1.77]</td><td>0.21     </td></tr>\n",
       "\t<tr><td>dislike_product   </td><td>0.96</td><td>[0.75, 1.22]</td><td>0.73     </td></tr>\n",
       "\t<tr><td>dislike_design    </td><td>0.77</td><td>[0.64, 0.93]</td><td>0.01**   </td></tr>\n",
       "\t<tr><td>uncomfortable     </td><td>1.26</td><td>[0.83, 1.92]</td><td>0.27     </td></tr>\n",
       "\t<tr><td>dislike_advertiser</td><td>0.75</td><td>[0.6, 0.94] </td><td>0.01*    </td></tr>\n",
       "\t<tr><td>dislike_political </td><td>1.34</td><td>[1.18, 1.53]</td><td>&lt; 0.01***</td></tr>\n",
       "\t<tr><td>sd__(Intercept)   </td><td>1.89</td><td>[NA, NA]    </td><td>NA       </td></tr>\n",
       "</tbody>\n",
       "</table>\n"
      ],
      "text/latex": [
       "A tibble: 12 × 4\n",
       "\\begin{tabular}{llll}\n",
       " Variable & Odds\\_Ratio & CI & p\\_value\\\\\n",
       " <chr> & <dbl> & <chr> & <chr>\\\\\n",
       "\\hline\n",
       "\t (Intercept)        & 0.45 & {[}0.4, 0.51{]}  & < 0.01***\\\\\n",
       "\t unclear            & 1.13 & {[}0.96, 1.34{]} & 0.15     \\\\\n",
       "\t irrelevant         & 0.79 & {[}0.63, 0.99{]} & 0.04*    \\\\\n",
       "\t pushy              & 1.07 & {[}0.88, 1.29{]} & 0.5      \\\\\n",
       "\t dislike\\_clickbait  & 0.95 & {[}0.73, 1.24{]} & 0.71     \\\\\n",
       "\t scam               & 1.25 & {[}0.88, 1.77{]} & 0.21     \\\\\n",
       "\t dislike\\_product    & 0.96 & {[}0.75, 1.22{]} & 0.73     \\\\\n",
       "\t dislike\\_design     & 0.77 & {[}0.64, 0.93{]} & 0.01**   \\\\\n",
       "\t uncomfortable      & 1.26 & {[}0.83, 1.92{]} & 0.27     \\\\\n",
       "\t dislike\\_advertiser & 0.75 & {[}0.6, 0.94{]}  & 0.01*    \\\\\n",
       "\t dislike\\_political  & 1.34 & {[}1.18, 1.53{]} & < 0.01***\\\\\n",
       "\t sd\\_\\_(Intercept)    & 1.89 & {[}NA, NA{]}     & NA       \\\\\n",
       "\\end{tabular}\n"
      ],
      "text/markdown": [
       "\n",
       "A tibble: 12 × 4\n",
       "\n",
       "| Variable &lt;chr&gt; | Odds_Ratio &lt;dbl&gt; | CI &lt;chr&gt; | p_value &lt;chr&gt; |\n",
       "|---|---|---|---|\n",
       "| (Intercept)        | 0.45 | [0.4, 0.51]  | &lt; 0.01*** |\n",
       "| unclear            | 1.13 | [0.96, 1.34] | 0.15      |\n",
       "| irrelevant         | 0.79 | [0.63, 0.99] | 0.04*     |\n",
       "| pushy              | 1.07 | [0.88, 1.29] | 0.5       |\n",
       "| dislike_clickbait  | 0.95 | [0.73, 1.24] | 0.71      |\n",
       "| scam               | 1.25 | [0.88, 1.77] | 0.21      |\n",
       "| dislike_product    | 0.96 | [0.75, 1.22] | 0.73      |\n",
       "| dislike_design     | 0.77 | [0.64, 0.93] | 0.01**    |\n",
       "| uncomfortable      | 1.26 | [0.83, 1.92] | 0.27      |\n",
       "| dislike_advertiser | 0.75 | [0.6, 0.94]  | 0.01*     |\n",
       "| dislike_political  | 1.34 | [1.18, 1.53] | &lt; 0.01*** |\n",
       "| sd__(Intercept)    | 1.89 | [NA, NA]     | NA        |\n",
       "\n"
      ],
      "text/plain": [
       "   Variable           Odds_Ratio CI           p_value  \n",
       "1  (Intercept)        0.45       [0.4, 0.51]  < 0.01***\n",
       "2  unclear            1.13       [0.96, 1.34] 0.15     \n",
       "3  irrelevant         0.79       [0.63, 0.99] 0.04*    \n",
       "4  pushy              1.07       [0.88, 1.29] 0.5      \n",
       "5  dislike_clickbait  0.95       [0.73, 1.24] 0.71     \n",
       "6  scam               1.25       [0.88, 1.77] 0.21     \n",
       "7  dislike_product    0.96       [0.75, 1.22] 0.73     \n",
       "8  dislike_design     0.77       [0.64, 0.93] 0.01**   \n",
       "9  uncomfortable      1.26       [0.83, 1.92] 0.27     \n",
       "10 dislike_advertiser 0.75       [0.6, 0.94]  0.01*    \n",
       "11 dislike_political  1.34       [1.18, 1.53] < 0.01***\n",
       "12 sd__(Intercept)    1.89       [NA, NA]     NA       "
      ]
     },
     "metadata": {},
     "output_type": "display_data"
    }
   ],
   "source": [
    "nonbad_dislike_reasons <- lme4::glmer(\n",
    "    nonbad_ads ~ unclear + irrelevant + pushy + dislike_clickbait + scam + dislike_product + dislike_design + uncomfortable + dislike_advertiser + dislike_political + (1|pid),\n",
    "    data=data_all, family=binomial()\n",
    ")\n",
    "\n",
    "toffee_tbl(nonbad_dislike_reasons)"
   ]
  },
  {
   "cell_type": "code",
   "execution_count": null,
   "id": "9bb05ae1-d4ac-4186-9d6a-7caeb3b8c621",
   "metadata": {},
   "outputs": [],
   "source": []
  }
 ],
 "metadata": {
  "kernelspec": {
   "display_name": "R",
   "language": "R",
   "name": "ir"
  },
  "language_info": {
   "codemirror_mode": "r",
   "file_extension": ".r",
   "mimetype": "text/x-r-source",
   "name": "R",
   "pygments_lexer": "r",
   "version": "4.1.2"
  }
 },
 "nbformat": 4,
 "nbformat_minor": 5
}
