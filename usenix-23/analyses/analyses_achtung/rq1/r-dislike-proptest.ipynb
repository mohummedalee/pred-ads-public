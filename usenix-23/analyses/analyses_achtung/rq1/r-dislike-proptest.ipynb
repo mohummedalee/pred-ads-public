{
 "cells": [
  {
   "cell_type": "markdown",
   "id": "7c0c13fb-2836-4cd1-858e-1e56a963fd0d",
   "metadata": {},
   "source": [
    "#### ====== Proportion Testing ======\n",
    "```overall dislike: {'Clickbait': (238, 0.4867075664621677, 489), 'Potentially Prohibited': (85, 0.5029585798816568, 169), 'Potentially Harmful': (145, 0.4931972789115646, 294), 'Sensitive': (156, 0.41823056300268097, 373), 'Financial': (318, 0.44600280504908835, 713), 'Opportunity': (340, 0.31835205992509363, 1068), 'Healthcare': (292, 0.3109691160809372, 939), 'Benign': (1067, 0.2924088791449712, 3649)}\n",
    "reasons for dislike: {'Clickbait': [102, 78, 53, 54], 'Potentially Prohibited': [46, 26, 8, 16], 'Potentially Harmful': [67, 49, 28, 39], 'Sensitive': [72, 57, 22, 55], 'Financial': [157, 90, 37, 66], 'Opportunity': [155, 96, 45, 87], 'Healthcare': [130, 62, 26, 59], 'Benign': [421, 259, 128, 246]}```\n",
    "\n",
    "```disliked counts: {'Clickbait': 238, 'Potentially Prohibited': 85, 'Potentially Harmful': 145, 'Sensitive': 156, 'Financial': 318, 'Opportunity': 340, 'Healthcare': 292, 'Benign': 1067}```"
   ]
  },
  {
   "cell_type": "code",
   "execution_count": 1,
   "id": "ea76c701-f51b-4716-8c9c-03a1eba20a82",
   "metadata": {},
   "outputs": [
    {
     "data": {
      "text/html": [
       "<style>\n",
       ".list-inline {list-style: none; margin:0; padding: 0}\n",
       ".list-inline>li {display: inline-block}\n",
       ".list-inline>li:not(:last-child)::after {content: \"\\00b7\"; padding: 0 .5ex}\n",
       "</style>\n",
       "<ol class=list-inline><li>1.38014528458381e-41</li><li>0.852107462465192</li><li>0.852107462465192</li><li>0.444337690795082</li><li>0.852107462465192</li><li>3.16287286404176e-07</li><li>0.444337690795082</li><li>0.00122026745087118</li></ol>\n"
      ],
      "text/latex": [
       "\\begin{enumerate*}\n",
       "\\item 1.38014528458381e-41\n",
       "\\item 0.852107462465192\n",
       "\\item 0.852107462465192\n",
       "\\item 0.444337690795082\n",
       "\\item 0.852107462465192\n",
       "\\item 3.16287286404176e-07\n",
       "\\item 0.444337690795082\n",
       "\\item 0.00122026745087118\n",
       "\\end{enumerate*}\n"
      ],
      "text/markdown": [
       "1. 1.38014528458381e-41\n",
       "2. 0.852107462465192\n",
       "3. 0.852107462465192\n",
       "4. 0.444337690795082\n",
       "5. 0.852107462465192\n",
       "6. 3.16287286404176e-07\n",
       "7. 0.444337690795082\n",
       "8. 0.00122026745087118\n",
       "\n",
       "\n"
      ],
      "text/plain": [
       "[1] 1.380145e-41 8.521075e-01 8.521075e-01 4.443377e-01 8.521075e-01\n",
       "[6] 3.162873e-07 4.443377e-01 1.220267e-03"
      ]
     },
     "metadata": {},
     "output_type": "display_data"
    },
    {
     "data": {
      "text/html": [
       "<style>\n",
       ".list-inline {list-style: none; margin:0; padding: 0}\n",
       ".list-inline>li {display: inline-block}\n",
       ".list-inline>li:not(:last-child)::after {content: \"\\00b7\"; padding: 0 .5ex}\n",
       "</style>\n",
       "<ol class=list-inline><li>1.38014528458381e-41</li><li>2.64913437057825e-26</li><li>1.28083981070806e-08</li><li>7.0776333783918e-12</li><li>1.1922075533961e-08</li><li>2.12204992057766e-16</li><li>0.0464215155859521</li><li>0.000522971764659076</li></ol>\n"
      ],
      "text/latex": [
       "\\begin{enumerate*}\n",
       "\\item 1.38014528458381e-41\n",
       "\\item 2.64913437057825e-26\n",
       "\\item 1.28083981070806e-08\n",
       "\\item 7.0776333783918e-12\n",
       "\\item 1.1922075533961e-08\n",
       "\\item 2.12204992057766e-16\n",
       "\\item 0.0464215155859521\n",
       "\\item 0.000522971764659076\n",
       "\\end{enumerate*}\n"
      ],
      "text/markdown": [
       "1. 1.38014528458381e-41\n",
       "2. 2.64913437057825e-26\n",
       "3. 1.28083981070806e-08\n",
       "4. 7.0776333783918e-12\n",
       "5. 1.1922075533961e-08\n",
       "6. 2.12204992057766e-16\n",
       "7. 0.0464215155859521\n",
       "8. 0.000522971764659076\n",
       "\n",
       "\n"
      ],
      "text/plain": [
       "[1] 1.380145e-41 2.649134e-26 1.280840e-08 7.077633e-12 1.192208e-08\n",
       "[6] 2.122050e-16 4.642152e-02 5.229718e-04"
      ]
     },
     "metadata": {},
     "output_type": "display_data"
    }
   ],
   "source": [
    "#omnibus\n",
    "p_o=prop.test(c(317, 87,148,169,360,374,440,1090), c(616, 173,303,385,806,1147,1265,3700))\n",
    "\n",
    "#Pairwise comparisons decreasing sequential\n",
    "p_1=prop.test(c(317, 87), c(616, 173))    # clickbait vs. prohibited\n",
    "p_2=prop.test(c(87,148), c(173,303))      # prohibited vs. deceptive\n",
    "p_3=prop.test(c(148,169), c(303,385))     # deceptive vs. sensitive\n",
    "p_4=prop.test(c(169,360), c(385,806))     # sensitive vs. financial\n",
    "p_5=prop.test(c(360,374), c(806,1147))    # financial vs. opportunity\n",
    "p_6=prop.test(c(374,440), c(1147,1265))   # opportunity vs. healthcare\n",
    "p_7=prop.test(c(440,1090), c(1265,3700))  # healthcare vs. benign\n",
    "\n",
    "#adjusting omnibus and decreasing pairwise comparisons\n",
    "p.adjust(c(p_o$p.value,p_1$p.value,p_2$p.value,p_3$p.value,p_4$p.value,p_5$p.value,p_6$p.value,p_7$p.value), method=\"BH\" )\n",
    "\n",
    "\n",
    "#pairwise comparisons with neutral\n",
    "p_1=prop.test(c(317, 1090), c(616, 3700))\n",
    "p_2=prop.test(c(87,1090), c(173,3700))\n",
    "p_3=prop.test(c(148,1090), c(303,3700))\n",
    "p_4=prop.test(c(169,1090), c(385,3700))\n",
    "p_5=prop.test(c(360,1090), c(806,3700))\n",
    "p_6=prop.test(c(374,1090), c(1147,3700))\n",
    "p_7=prop.test(c(440,1090), c(1265,3700))\n",
    "#adjusting omnibus and pairwise-with-neutral comparisons\n",
    "p.adjust(c(p_o$p.value,p_1$p.value,p_2$p.value,p_3$p.value,p_4$p.value,p_5$p.value,p_6$p.value,p_7$p.value), method=\"BH\" )"
   ]
  },
  {
   "cell_type": "markdown",
   "id": "bb3ec5e8-0fdb-4138-98e1-3d528d4156f5",
   "metadata": {},
   "source": [
    "### After transforming codes into mutually exclusive"
   ]
  },
  {
   "cell_type": "markdown",
   "id": "28b9f35a-4c79-4ae8-8811-26f7069aad4f",
   "metadata": {},
   "source": [
    "**Survey Code Counts**\n",
    "```      \n",
    "{\n",
    "    'Clickbait': 489,\n",
    "    'Healthcare': 939,\n",
    "    'Benign': 3649,\n",
    "    'Sensitive': 373,\n",
    "    'Opportunity': 1068,\n",
    "    'Potentially Prohibited': 169,\n",
    "    'Financial': 713,\n",
    "    'Potentially Harmful': 294\n",
    "}\n",
    "```\n",
    "\n",
    "**Dislike Counts**\n",
    "```\n",
    "{\n",
    "    'Clickbait': 238,\n",
    "    'Potentially Prohibited': 85,\n",
    "    'Potentially Harmful': 145,\n",
    "    'Sensitive': 156,\n",
    "    'Financial': 318,\n",
    "    'Opportunity': 340,\n",
    "    'Healthcare': 292,\n",
    "    'Benign': 1067\n",
    "}\n",
    "```"
   ]
  },
  {
   "cell_type": "code",
   "execution_count": 39,
   "id": "59ea5c6f-1ae4-4915-b814-43ca3c9ad4e3",
   "metadata": {},
   "outputs": [],
   "source": [
    "totals <- c(\n",
    "    'clickbait' = 489,\n",
    "    'prohibited' = 169,\n",
    "    'healthcare' = 939,\n",
    "    'neutral' = 3649,\n",
    "    'sensitive' = 373,\n",
    "    'opportunity' = 1068,    \n",
    "    'financial' = 713,\n",
    "    'deceptive' = 294\n",
    ")\n",
    "\n",
    "dont_like <- c(\n",
    "    'clickbait' = 238,\n",
    "    'prohibited' = 85,\n",
    "    'deceptive' = 145,\n",
    "    'sensitive' = 156,\n",
    "    'financial' = 318,\n",
    "    'opportunity' = 340,\n",
    "    'healthcare' = 292,\n",
    "    'neutral' = 1067\n",
    ")"
   ]
  },
  {
   "cell_type": "code",
   "execution_count": 42,
   "id": "77ab5e7b-7758-4f78-b44e-ceee6a10ffec",
   "metadata": {},
   "outputs": [
    {
     "name": "stdout",
     "output_type": "stream",
     "text": [
      "[1] \"pairwise comparisons decreasing order:\"\n"
     ]
    },
    {
     "data": {
      "text/html": [
       "<style>\n",
       ".list-inline {list-style: none; margin:0; padding: 0}\n",
       ".list-inline>li {display: inline-block}\n",
       ".list-inline>li:not(:last-child)::after {content: \"\\00b7\"; padding: 0 .5ex}\n",
       "</style>\n",
       "<ol class=list-inline><li>1.43710054123545e-35</li><li>0.91867802456661</li><li>0.91867802456661</li><li>0.488039574731272</li><li>0.666967265597762</li><li>0.002396342521408</li><li>0.91867802456661</li><li>0.568502272476968</li></ol>\n"
      ],
      "text/latex": [
       "\\begin{enumerate*}\n",
       "\\item 1.43710054123545e-35\n",
       "\\item 0.91867802456661\n",
       "\\item 0.91867802456661\n",
       "\\item 0.488039574731272\n",
       "\\item 0.666967265597762\n",
       "\\item 0.002396342521408\n",
       "\\item 0.91867802456661\n",
       "\\item 0.568502272476968\n",
       "\\end{enumerate*}\n"
      ],
      "text/markdown": [
       "1. 1.43710054123545e-35\n",
       "2. 0.91867802456661\n",
       "3. 0.91867802456661\n",
       "4. 0.488039574731272\n",
       "5. 0.666967265597762\n",
       "6. 0.002396342521408\n",
       "7. 0.91867802456661\n",
       "8. 0.568502272476968\n",
       "\n",
       "\n"
      ],
      "text/plain": [
       "[1] 1.437101e-35 9.186780e-01 9.186780e-01 4.880396e-01 6.669673e-01\n",
       "[6] 2.396343e-03 9.186780e-01 5.685023e-01"
      ]
     },
     "metadata": {},
     "output_type": "display_data"
    },
    {
     "name": "stdout",
     "output_type": "stream",
     "text": [
      "[1] \"pairwise comparisons against neutral:\"\n"
     ]
    },
    {
     "data": {
      "text/html": [
       "<style>\n",
       ".list-inline {list-style: none; margin:0; padding: 0}\n",
       ".list-inline>li {display: inline-block}\n",
       ".list-inline>li:not(:last-child)::after {content: \"\\00b7\"; padding: 0 .5ex}\n",
       "</style>\n",
       "<ol class=list-inline><li>1.43710054123545e-35</li><li>1.47950823307748e-08</li><li>2.28325017290858e-12</li><li>2.4254116749619e-17</li><li>8.81351416139364e-07</li><li>2.95736344982381e-15</li><li>0.127321672081236</li><li>0.284251136238484</li></ol>\n"
      ],
      "text/latex": [
       "\\begin{enumerate*}\n",
       "\\item 1.43710054123545e-35\n",
       "\\item 1.47950823307748e-08\n",
       "\\item 2.28325017290858e-12\n",
       "\\item 2.4254116749619e-17\n",
       "\\item 8.81351416139364e-07\n",
       "\\item 2.95736344982381e-15\n",
       "\\item 0.127321672081236\n",
       "\\item 0.284251136238484\n",
       "\\end{enumerate*}\n"
      ],
      "text/markdown": [
       "1. 1.43710054123545e-35\n",
       "2. 1.47950823307748e-08\n",
       "3. 2.28325017290858e-12\n",
       "4. 2.4254116749619e-17\n",
       "5. 8.81351416139364e-07\n",
       "6. 2.95736344982381e-15\n",
       "7. 0.127321672081236\n",
       "8. 0.284251136238484\n",
       "\n",
       "\n"
      ],
      "text/plain": [
       "[1] 1.437101e-35 1.479508e-08 2.283250e-12 2.425412e-17 8.813514e-07\n",
       "[6] 2.957363e-15 1.273217e-01 2.842511e-01"
      ]
     },
     "metadata": {},
     "output_type": "display_data"
    }
   ],
   "source": [
    "#omnibus\n",
    "p_o=prop.test(\n",
    "    c(dont_like['clickbait'], dont_like['deceptive'], dont_like['prohibited'],\n",
    "      dont_like['sensitive'], dont_like['financial'], dont_like['opportunity'],\n",
    "      dont_like['healthcare'], dont_like['neutral']),\n",
    "    c(totals['clickbait'], totals['deceptive'], totals['prohibited'],\n",
    "      totals['sensitive'], totals['financial'], totals['opportunity'],\n",
    "      totals['healthcare'], totals['neutral'])\n",
    ")\n",
    "\n",
    "#Pairwise comparisons decreasing sequential\n",
    "p_1=prop.test(c(dont_like['prohibited'], dont_like['deceptive']), c(totals['prohibited'], totals['deceptive']))\n",
    "p_2=prop.test(c(dont_like['deceptive'], dont_like['clickbait']), c(totals['deceptive'], totals['clickbait']))\n",
    "p_3=prop.test(c(dont_like['clickbait'], dont_like['financial']), c(totals['clickbait'], totals['financial']))\n",
    "p_4=prop.test(c(dont_like['financial'], dont_like['sensitive']), c(totals['financial'], totals['sensitive']))\n",
    "p_5=prop.test(c(dont_like['sensitive'], dont_like['opportunity']), c(totals['sensitive'], totals['opportunity']))\n",
    "p_6=prop.test(c(dont_like['opportunity'], dont_like['healthcare']), c(totals['opportunity'], totals['healthcare']))\n",
    "p_7=prop.test(c(dont_like['healthcare'], dont_like['neutral']), c(totals['healthcare'], totals['neutral']))\n",
    "\n",
    "#adjusting omnibus and decreasing pairwise comparisons\n",
    "print(\"pairwise comparisons decreasing order:\")\n",
    "p.adjust(c(p_o$p.value,p_1$p.value,p_2$p.value,p_3$p.value,p_4$p.value,p_5$p.value,p_6$p.value,p_7$p.value), method=\"BH\" )\n",
    "\n",
    "\n",
    "#pairwise comparisons with neutral\n",
    "p_1=prop.test(c(dont_like['prohibited'], dont_like['neutral']), c(totals['prohibited'], totals['neutral']))\n",
    "p_2=prop.test(c(dont_like['deceptive'], dont_like['neutral']), c(totals['deceptive'], totals['neutral']))\n",
    "p_3=prop.test(c(dont_like['clickbait'], dont_like['neutral']), c(totals['clickbait'], totals['neutral']))\n",
    "p_5=prop.test(c(dont_like['financial'], dont_like['neutral']), c(totals['financial'], totals['neutral']))\n",
    "p_4=prop.test(c(dont_like['sensitive'], dont_like['neutral']), c(totals['sensitive'], totals['neutral']))\n",
    "p_6=prop.test(c(dont_like['opportunity'], dont_like['neutral']), c(totals['opportunity'], totals['neutral']))\n",
    "p_7=prop.test(c(dont_like['healthcare'], dont_like['neutral']), c(totals['healthcare'], totals['neutral']))\n",
    "\n",
    "#adjusting omnibus and pairwise-with-neutral comparisons\n",
    "print(\"pairwise comparisons against neutral:\")\n",
    "p.adjust(c(p_o$p.value,p_1$p.value,p_2$p.value,p_3$p.value,p_4$p.value,p_5$p.value,p_6$p.value,p_7$p.value), method=\"BH\" )"
   ]
  },
  {
   "cell_type": "markdown",
   "id": "595707ab-ae23-4b91-b237-bb96d3150055",
   "metadata": {},
   "source": [
    "### Top 3 Reasons for Dislike\n",
    "```\n",
    "{\n",
    "    'Potentially Prohibited': [('irrelevant', 46), ('scam', 26), ('unclear', 24)],\n",
    "    'Deceptive': [('irrelevant', 67), ('scam', 49), ('dislike-product', 31)],\n",
    "    'Clickbait': [('irrelevant', 102), ('scam', 78), ('unclear', 57)],\n",
    "    'Financial': [('irrelevant', 157), ('scam', 90), ('unclear', 57)],\n",
    "    'Sensitive': [('irrelevant', 72), ('scam', 57), ('dislike-product', 39)],\n",
    "    'Opportunity': [('irrelevant', 155), ('scam', 96), ('dislike-product', 58)],\n",
    "    'Healthcare': [('irrelevant', 130), ('scam', 62), ('dislike-design', 50)],\n",
    "    'Benign': [('irrelevant', 421), ('scam', 259), ('unclear', 210)]\n",
    "}\n",
    "```"
   ]
  },
  {
   "cell_type": "code",
   "execution_count": 66,
   "id": "4331fcb2-75ca-4f43-8e24-71519fde75bd",
   "metadata": {},
   "outputs": [],
   "source": [
    "# reasons present in top 3 for all codes: irrelevant and scam\n",
    "irrelevant_counts <- c(\n",
    "    'prohibited' = 46,\n",
    "    'deceptive' = 67,\n",
    "    'clickbait' = 102,\n",
    "    'financial' = 157,\n",
    "    'sensitive' = 72,\n",
    "    'opportunity' = 155,\n",
    "    'healthcare' = 130,\n",
    "    'neutral' = 421\n",
    ")\n",
    "\n",
    "scam_counts <- c(\n",
    "    'prohibited' = 26,\n",
    "    'deceptive' = 49,\n",
    "    'clickbait' = 78,\n",
    "    'financial' = 90,\n",
    "    'sensitive' = 57,\n",
    "    'opportunity' = 96,\n",
    "    'healthcare' = 62,\n",
    "    'neutral' = 259\n",
    ")"
   ]
  },
  {
   "cell_type": "markdown",
   "id": "7105f942-1be9-416c-bd0a-4025c9f93a34",
   "metadata": {},
   "source": [
    "### Irrelevant"
   ]
  },
  {
   "cell_type": "code",
   "execution_count": 63,
   "id": "e61a76e0-4cc8-45fc-ae0d-2873116cf53f",
   "metadata": {},
   "outputs": [
    {
     "name": "stdout",
     "output_type": "stream",
     "text": [
      "[1] \"pairwise comparison for reason: irrelevant between codes\"\n"
     ]
    },
    {
     "data": {
      "text/html": [
       "<style>\n",
       ".list-inline {list-style: none; margin:0; padding: 0}\n",
       ".list-inline>li {display: inline-block}\n",
       ".list-inline>li:not(:last-child)::after {content: \"\\00b7\"; padding: 0 .5ex}\n",
       "</style>\n",
       "<ol class=list-inline><li>4.73183233718274e-21</li><li>0.542518552217758</li><li>0.715792908598915</li><li>0.715792908598915</li><li>0.542518552217758</li><li>0.141668609582263</li><li>0.715792908598915</li><li>0.15911563871523</li></ol>\n"
      ],
      "text/latex": [
       "\\begin{enumerate*}\n",
       "\\item 4.73183233718274e-21\n",
       "\\item 0.542518552217758\n",
       "\\item 0.715792908598915\n",
       "\\item 0.715792908598915\n",
       "\\item 0.542518552217758\n",
       "\\item 0.141668609582263\n",
       "\\item 0.715792908598915\n",
       "\\item 0.15911563871523\n",
       "\\end{enumerate*}\n"
      ],
      "text/markdown": [
       "1. 4.73183233718274e-21\n",
       "2. 0.542518552217758\n",
       "3. 0.715792908598915\n",
       "4. 0.715792908598915\n",
       "5. 0.542518552217758\n",
       "6. 0.141668609582263\n",
       "7. 0.715792908598915\n",
       "8. 0.15911563871523\n",
       "\n",
       "\n"
      ],
      "text/plain": [
       "[1] 4.731832e-21 5.425186e-01 7.157929e-01 7.157929e-01 5.425186e-01\n",
       "[6] 1.416686e-01 7.157929e-01 1.591156e-01"
      ]
     },
     "metadata": {},
     "output_type": "display_data"
    },
    {
     "name": "stdout",
     "output_type": "stream",
     "text": [
      "[1] \"pairwise comparison for reason: irrelevant vs. neutral\"\n"
     ]
    },
    {
     "data": {
      "text/html": [
       "<style>\n",
       ".list-inline {list-style: none; margin:0; padding: 0}\n",
       ".list-inline>li {display: inline-block}\n",
       ".list-inline>li:not(:last-child)::after {content: \"\\00b7\"; padding: 0 .5ex}\n",
       "</style>\n",
       "<ol class=list-inline><li>4.73183233718274e-21</li><li>6.62217548627012e-09</li><li>4.73590609058778e-08</li><li>1.75534949060002e-08</li><li>2.74781702241405e-13</li><li>2.57042328102809e-05</li><li>0.0119894642215751</li><li>0.0596683645182112</li></ol>\n"
      ],
      "text/latex": [
       "\\begin{enumerate*}\n",
       "\\item 4.73183233718274e-21\n",
       "\\item 6.62217548627012e-09\n",
       "\\item 4.73590609058778e-08\n",
       "\\item 1.75534949060002e-08\n",
       "\\item 2.74781702241405e-13\n",
       "\\item 2.57042328102809e-05\n",
       "\\item 0.0119894642215751\n",
       "\\item 0.0596683645182112\n",
       "\\end{enumerate*}\n"
      ],
      "text/markdown": [
       "1. 4.73183233718274e-21\n",
       "2. 6.62217548627012e-09\n",
       "3. 4.73590609058778e-08\n",
       "4. 1.75534949060002e-08\n",
       "5. 2.74781702241405e-13\n",
       "6. 2.57042328102809e-05\n",
       "7. 0.0119894642215751\n",
       "8. 0.0596683645182112\n",
       "\n",
       "\n"
      ],
      "text/plain": [
       "[1] 4.731832e-21 6.622175e-09 4.735906e-08 1.755349e-08 2.747817e-13\n",
       "[6] 2.570423e-05 1.198946e-02 5.966836e-02"
      ]
     },
     "metadata": {},
     "output_type": "display_data"
    },
    {
     "name": "stdout",
     "output_type": "stream",
     "text": [
      "[1] \"chi-squared vals 115.734392659804 35.5520028648843 30.7336054029081 33.0949256936625 56.1051932596382 18.2593065631023 6.54959880033261 3.54657860529547\"\n"
     ]
    }
   ],
   "source": [
    "p_o=prop.test(\n",
    "    # counts of \"irrelevant\" responses\n",
    "    c(irrelevant_counts['prohibited'], irrelevant_counts['deceptive'], irrelevant_counts['clickbait'], irrelevant_counts['financial'],\n",
    "      irrelevant_counts['sensitive'], irrelevant_counts['opportunity'], irrelevant_counts['healthcare'], irrelevant_counts['neutral']),\n",
    "    # totals\n",
    "    c(totals['prohibited'], totals['deceptive'], totals['clickbait'], totals['financial'],\n",
    "      totals['sensitive'], totals['opportunity'], totals['healthcare'], totals['neutral']))\n",
    "# there are differences according to the omnibus!\n",
    "\n",
    "# Pairwise comparisons decreasing sequential\n",
    "p_1=prop.test(c(irrelevant_counts['prohibited'], irrelevant_counts['deceptive']), c(totals['prohibited'], totals['deceptive']))    # prohibited vs. deceptive\n",
    "p_2=prop.test(c(irrelevant_counts['deceptive'], irrelevant_counts['clickbait']), c(totals['deceptive'], totals['clickbait']))    # deceptive vs. clickbait\n",
    "p_3=prop.test(c(irrelevant_counts['clickbait'], irrelevant_counts['financial']), c(totals['clickbait'], totals['financial']))    # clickbait vs. financial\n",
    "p_4=prop.test(c(irrelevant_counts['financial'], irrelevant_counts['sensitive']), c(totals['financial'], totals['sensitive']))    # financial vs. sensitive\n",
    "p_5=prop.test(c(irrelevant_counts['sensitive'], irrelevant_counts['opportunity']), c(totals['sensitive'], totals['opportunity']))    # sensitive vs. opportunity\n",
    "p_6=prop.test(c(irrelevant_counts['opportunity'], irrelevant_counts['healthcare']), c(totals['opportunity'], totals['healthcare']))    # deceptive vs. clickbait\n",
    "p_7=prop.test(c(irrelevant_counts['healthcare'], irrelevant_counts['neutral']), c(totals['healthcare'], totals['neutral']))    # healthcare vs. neutral\n",
    "\n",
    "print('pairwise comparison for reason: irrelevant between codes')\n",
    "p.adjust(c(p_o$p.value, p_1$p.value, p_2$p.value, p_3$p.value, p_4$p.value, p_5$p.value, p_6$p.value, p_7$p.value), method=\"BH\")\n",
    "# no differences at all between categories!\n",
    "\n",
    "# TODO: pairwise comparisons with neutral\n",
    "p_1=prop.test(c(irrelevant_counts['prohibited'], irrelevant_counts['neutral']), c(totals['prohibited'], totals['neutral']))\n",
    "p_2=prop.test(c(irrelevant_counts['deceptive'], irrelevant_counts['neutral']), c(totals['deceptive'], totals['neutral']))\n",
    "p_3=prop.test(c(irrelevant_counts['clickbait'], irrelevant_counts['neutral']), c(totals['clickbait'], totals['neutral']))\n",
    "p_4=prop.test(c(irrelevant_counts['financial'], irrelevant_counts['neutral']), c(totals['financial'], totals['neutral']))\n",
    "p_5=prop.test(c(irrelevant_counts['sensitive'], irrelevant_counts['neutral']), c(totals['sensitive'], totals['neutral']))\n",
    "p_6=prop.test(c(irrelevant_counts['opportunity'], irrelevant_counts['neutral']), c(totals['opportunity'], totals['neutral']))\n",
    "p_7=prop.test(c(irrelevant_counts['healthcare'], irrelevant_counts['neutral']), c(totals['healthcare'], totals['neutral']))\n",
    "\n",
    "print('pairwise comparison for reason: irrelevant vs. neutral')\n",
    "p.adjust(c(p_o$p.value, p_1$p.value, p_2$p.value, p_3$p.value, p_4$p.value, p_5$p.value, p_6$p.value, p_7$p.value), method=\"BH\")\n",
    "print(paste(\"chi-squared vals\", p_o$statistic, p_1$statistic, p_2$statistic, p_3$statistic, p_4$statistic, p_5$statistic, p_6$statistic, p_7$statistic))\n",
    "# all differences significant vs. neutral -- except for healthcare vs. neutral"
   ]
  },
  {
   "cell_type": "markdown",
   "id": "1394eb4f-7f4d-495f-b564-8a17bf60025a",
   "metadata": {},
   "source": [
    "## Scam"
   ]
  },
  {
   "cell_type": "code",
   "execution_count": 67,
   "id": "01489713-b564-4df6-bc8c-7723a8060dee",
   "metadata": {},
   "outputs": [
    {
     "name": "stdout",
     "output_type": "stream",
     "text": [
      "[1] \"pairwise comparison for reason: scam between codes\"\n"
     ]
    },
    {
     "data": {
      "text/html": [
       "<style>\n",
       ".list-inline {list-style: none; margin:0; padding: 0}\n",
       ".list-inline>li {display: inline-block}\n",
       ".list-inline>li:not(:last-child)::after {content: \"\\00b7\"; padding: 0 .5ex}\n",
       "</style>\n",
       "<ol class=list-inline><li>4.65318165549031e-19</li><li>0.870520919661259</li><li>0.870520919661259</li><li>0.242252975753812</li><li>0.418432380483768</li><li>0.00388536154654675</li><li>0.154068275134856</li><li>0.861983481184967</li></ol>\n"
      ],
      "text/latex": [
       "\\begin{enumerate*}\n",
       "\\item 4.65318165549031e-19\n",
       "\\item 0.870520919661259\n",
       "\\item 0.870520919661259\n",
       "\\item 0.242252975753812\n",
       "\\item 0.418432380483768\n",
       "\\item 0.00388536154654675\n",
       "\\item 0.154068275134856\n",
       "\\item 0.861983481184967\n",
       "\\end{enumerate*}\n"
      ],
      "text/markdown": [
       "1. 4.65318165549031e-19\n",
       "2. 0.870520919661259\n",
       "3. 0.870520919661259\n",
       "4. 0.242252975753812\n",
       "5. 0.418432380483768\n",
       "6. 0.00388536154654675\n",
       "7. 0.154068275134856\n",
       "8. 0.861983481184967\n",
       "\n",
       "\n"
      ],
      "text/plain": [
       "[1] 4.653182e-19 8.705209e-01 8.705209e-01 2.422530e-01 4.184324e-01\n",
       "[6] 3.885362e-03 1.540683e-01 8.619835e-01"
      ]
     },
     "metadata": {},
     "output_type": "display_data"
    },
    {
     "name": "stdout",
     "output_type": "stream",
     "text": [
      "[1] \"pairwise comparison for reason: irrelevant vs. neutral\"\n"
     ]
    },
    {
     "data": {
      "text/html": [
       "<style>\n",
       ".list-inline {list-style: none; margin:0; padding: 0}\n",
       ".list-inline>li {display: inline-block}\n",
       ".list-inline>li:not(:last-child)::after {content: \"\\00b7\"; padding: 0 .5ex}\n",
       "</style>\n",
       "<ol class=list-inline><li>4.65318165549031e-19</li><li>0.000152738951063645</li><li>2.12934058420229e-08</li><li>1.31141848087296e-10</li><li>1.54980608043187e-06</li><li>7.85137654304276e-08</li><li>0.0527040696727279</li><li>0.646487610888726</li></ol>\n"
      ],
      "text/latex": [
       "\\begin{enumerate*}\n",
       "\\item 4.65318165549031e-19\n",
       "\\item 0.000152738951063645\n",
       "\\item 2.12934058420229e-08\n",
       "\\item 1.31141848087296e-10\n",
       "\\item 1.54980608043187e-06\n",
       "\\item 7.85137654304276e-08\n",
       "\\item 0.0527040696727279\n",
       "\\item 0.646487610888726\n",
       "\\end{enumerate*}\n"
      ],
      "text/markdown": [
       "1. 4.65318165549031e-19\n",
       "2. 0.000152738951063645\n",
       "3. 2.12934058420229e-08\n",
       "4. 1.31141848087296e-10\n",
       "5. 1.54980608043187e-06\n",
       "6. 7.85137654304276e-08\n",
       "7. 0.0527040696727279\n",
       "8. 0.646487610888726\n",
       "\n",
       "\n"
      ],
      "text/plain": [
       "[1] 4.653182e-19 1.527390e-04 2.129341e-08 1.311418e-10 1.549806e-06\n",
       "[6] 7.851377e-08 5.270407e-02 6.464876e-01"
      ]
     },
     "metadata": {},
     "output_type": "display_data"
    },
    {
     "name": "stdout",
     "output_type": "stream",
     "text": [
      "[1] \"chi-squared vals 106.132403532429 14.8802809897564 33.278754210255 44.00310943737 23.9894925179984 30.1858219152816 3.97735002492299 0.210357158375983\"\n"
     ]
    }
   ],
   "source": [
    "p_o=prop.test(\n",
    "    # counts of \"irrelevant\" responses\n",
    "    c(scam_counts['prohibited'], scam_counts['deceptive'], scam_counts['clickbait'], scam_counts['financial'],\n",
    "      scam_counts['sensitive'], scam_counts['opportunity'], scam_counts['healthcare'], scam_counts['neutral']),\n",
    "    # totals\n",
    "    c(totals['prohibited'], totals['deceptive'], totals['clickbait'], totals['financial'],\n",
    "      totals['sensitive'], totals['opportunity'], totals['healthcare'], totals['neutral']))\n",
    "# there are differences according to the omnibus!\n",
    "\n",
    "# Pairwise comparisons decreasing sequential\n",
    "p_1=prop.test(c(scam_counts['prohibited'], scam_counts['deceptive']), c(totals['prohibited'], totals['deceptive']))    # prohibited vs. deceptive\n",
    "p_2=prop.test(c(scam_counts['deceptive'], scam_counts['clickbait']), c(totals['deceptive'], totals['clickbait']))    # deceptive vs. clickbait\n",
    "p_3=prop.test(c(scam_counts['clickbait'], scam_counts['financial']), c(totals['clickbait'], totals['financial']))    # clickbait vs. financial\n",
    "p_4=prop.test(c(scam_counts['financial'], scam_counts['sensitive']), c(totals['financial'], totals['sensitive']))    # financial vs. sensitive\n",
    "p_5=prop.test(c(scam_counts['sensitive'], scam_counts['opportunity']), c(totals['sensitive'], totals['opportunity']))    # sensitive vs. opportunity\n",
    "p_6=prop.test(c(scam_counts['opportunity'], scam_counts['healthcare']), c(totals['opportunity'], totals['healthcare']))    # deceptive vs. clickbait\n",
    "p_7=prop.test(c(scam_counts['healthcare'], scam_counts['neutral']), c(totals['healthcare'], totals['neutral']))    # healthcare vs. neutral\n",
    "\n",
    "print('pairwise comparison for reason: scam between codes')\n",
    "p.adjust(c(p_o$p.value, p_1$p.value, p_2$p.value, p_3$p.value, p_4$p.value, p_5$p.value, p_6$p.value, p_7$p.value), method=\"BH\")\n",
    "# sensitive is different from opportunity\n",
    "\n",
    "# TODO: pairwise comparisons with neutral\n",
    "p_1=prop.test(c(scam_counts['prohibited'], scam_counts['neutral']), c(totals['prohibited'], totals['neutral']))\n",
    "p_2=prop.test(c(scam_counts['deceptive'], scam_counts['neutral']), c(totals['deceptive'], totals['neutral']))\n",
    "p_3=prop.test(c(scam_counts['clickbait'], scam_counts['neutral']), c(totals['clickbait'], totals['neutral']))\n",
    "p_4=prop.test(c(scam_counts['financial'], scam_counts['neutral']), c(totals['financial'], totals['neutral']))\n",
    "p_5=prop.test(c(scam_counts['sensitive'], scam_counts['neutral']), c(totals['sensitive'], totals['neutral']))\n",
    "p_6=prop.test(c(scam_counts['opportunity'], scam_counts['neutral']), c(totals['opportunity'], totals['neutral']))\n",
    "p_7=prop.test(c(scam_counts['healthcare'], scam_counts['neutral']), c(totals['healthcare'], totals['neutral']))\n",
    "\n",
    "print('pairwise comparison for reason: irrelevant vs. neutral')\n",
    "p.adjust(c(p_o$p.value, p_1$p.value, p_2$p.value, p_3$p.value, p_4$p.value, p_5$p.value, p_6$p.value, p_7$p.value), method=\"BH\")\n",
    "print(paste(\"chi-squared vals\", p_o$statistic, p_1$statistic, p_2$statistic, p_3$statistic, p_4$statistic, p_5$statistic, p_6$statistic, p_7$statistic))\n",
    "# all differences significant vs. neutral -- except for healthcare vs. neutral"
   ]
  },
  {
   "cell_type": "code",
   "execution_count": null,
   "id": "ada2f21c-e412-477b-af07-c03fef3ec33d",
   "metadata": {},
   "outputs": [],
   "source": []
  }
 ],
 "metadata": {
  "kernelspec": {
   "display_name": "R",
   "language": "R",
   "name": "ir"
  },
  "language_info": {
   "codemirror_mode": "r",
   "file_extension": ".r",
   "mimetype": "text/x-r-source",
   "name": "R",
   "pygments_lexer": "r",
   "version": "4.1.2"
  }
 },
 "nbformat": 4,
 "nbformat_minor": 5
}
