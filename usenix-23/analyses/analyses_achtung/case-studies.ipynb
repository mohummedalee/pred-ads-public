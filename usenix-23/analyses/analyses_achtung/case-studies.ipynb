{
 "cells": [
  {
   "cell_type": "code",
   "execution_count": 226,
   "id": "97c86c11-9aef-468f-a9da-d414fded1e15",
   "metadata": {},
   "outputs": [],
   "source": [
    "import pandas as pd\n",
    "import numpy as np\n",
    "import os, json\n",
    "\n",
    "import matplotlib.pyplot as plt\n",
    "from tabulate import tabulate\n",
    "from collections import defaultdict, Counter\n",
    "%matplotlib inline\n",
    "\n",
    "plt.rcParams['font.family'] = 'serif'\n",
    "plt.rcParams[\"font.serif\"] = [\"Nimbus Roman\"]"
   ]
  },
  {
   "cell_type": "markdown",
   "id": "b5125f61-8930-4339-9dac-cd6a51b782c8",
   "metadata": {},
   "source": [
    "**Load all data: targeting, participant -> ads maps, codes, surveys**"
   ]
  },
  {
   "cell_type": "code",
   "execution_count": null,
   "id": "a60045f8-0ca4-4cb1-a54f-8c2c547ae818",
   "metadata": {},
   "outputs": [],
   "source": [
    "targeting_params = pd.read_csv('/home/piotr/targeting_params.csv', low_memory=False)\n",
    "params_df = targeting_params.set_index('adid')\n",
    "\n",
    "import json\n",
    "interests = json.loads(open('/home/piotr/interest_lookup.json').read())"
   ]
  },
  {
   "cell_type": "code",
   "execution_count": 228,
   "id": "6512ad39-a9e8-4f3b-a5a2-195429f9869b",
   "metadata": {},
   "outputs": [
    {
     "name": "stdout",
     "output_type": "stream",
     "text": [
      "pid_adid shape: (35387, 2)\n",
      "codes shape: (32586, 2)\n"
     ]
    }
   ],
   "source": [
    "DATA_DIR = 'data/'\n",
    "active_pids = open(os.path.join(DATA_DIR, 'pid_active_contribs_cleaned.txt'), 'r').readlines()\n",
    "active_pids = [p.strip() for p in active_pids]\n",
    "\n",
    "# load PID to ADID mapping of annotated ads\n",
    "pid_adid_files = [os.path.join(DATA_DIR, f'surveys/survey-{n}/survey{n}_coding_subsample.tsv') for n in range(1, 8)]\n",
    "pid_adid_files.append(os.path.join(DATA_DIR, 'surveys/survey-1/survey1_batch2_coding_subsample.tsv'))\n",
    "\n",
    "# Load with frequency too\n",
    "pid_adid_freqs_noind = pd.read_csv(os.path.join(DATA_DIR, 'participant_ad_freqs.tsv'), sep='\\t')\n",
    "pid_adid_freqs = pid_adid_freqs_noind.set_index(['pid', 'adid'])\n",
    "\n",
    "pid_adid = pd.read_csv(pid_adid_files[0], sep='\\t')\n",
    "for f in pid_adid_files[1:]:\n",
    "    pid_adid = pd.concat([pid_adid, pd.read_csv(f, sep='\\t')], ignore_index=True)    \n",
    "\n",
    "# only keep PID ADID mapping for active participants\n",
    "pid_adid = pid_adid[pid_adid['pid'].isin(active_pids)]\n",
    "print('pid_adid shape:', pid_adid.shape)  \n",
    "\n",
    "codes = pd.read_csv(os.path.join(DATA_DIR, 'ad_codes.tsv'), sep='\\t')\n",
    "print('codes shape:', codes.shape)\n",
    "\n",
    "adid_codes = dict(zip(codes['adid'], codes['codes']))"
   ]
  },
  {
   "cell_type": "code",
   "execution_count": 133,
   "id": "deaf4ec7-262f-44a9-b8ed-a09952543ffb",
   "metadata": {},
   "outputs": [],
   "source": [
    "survey_file = 'survey_responses.tsv'\n",
    "survey = pd.read_csv(os.path.join(DATA_DIR, survey_file), sep='\\t')\n",
    "survey_codes = survey.merge(codes, 'inner', 'adid')\n",
    "\n",
    "short_names = {\n",
    "    # dislike\n",
    "    \"I do not dislike this ad.\": \"dont-dislike\",\n",
    "    \"I cannot tell what is being advertised.\": \"unclear\",\n",
    "    \"It is irrelevant to me, or doesn’t contain interesting information.\": \"irrelevant\",\n",
    "    \"I find the ad pushy or it causes me to feel anxious.\": \"pushy\",\n",
    "    \"It contains clickbait, sensationalized, or shocking content.\": \"clickbait\",\n",
    "    \"I do not trust this ad, it seems like a scam.\": \"scam\",\n",
    "    \"I dislike the type of product being advertised.\": \"dislike-product\",\n",
    "    \"I do not like the design of the ad.\": \"dislike-design\",\n",
    "    \"I find the content uncomfortable, offensive, or repulsive.\": \"uncomfortable\",    \n",
    "    \"I dislike the advertiser.\": \"dislike-advertiser\",\n",
    "    \"I dislike the political nature of the ad.\": \"political\",\n",
    "    # like\n",
    "    \"The content is engaging, clever or amusing.\": \"amusing\",\n",
    "    \"It is well designed or eye-catching.\": \"like-design\",\n",
    "    \"I am interested in what is being advertised.\": \"interested\",\n",
    "    \"It is clear what product the ad is selling.\": \"clear\",\n",
    "    \"I trust the ad, it looks authentic or trustworthy.\": \"trust-ad\",\n",
    "    \"I trust the advertiser.\": \"trust-advertiser\",\n",
    "    \"It is useful, interesting, or informative.\": \"useful\",\n",
    "    \"It clearly looks like an ad and can be filtered out.\": \"filterable\",\n",
    "    \"I do not like this ad.\": \"dont-like\"\n",
    "}\n",
    "\n",
    "like_list = [\"amusing\", \"like-design\", \"interested\", \"clear\", \"trust-ad\",\n",
    "     \"trust-advertiser\", \"useful\", \"filterable\", \"dont-like\"]\n",
    "dislike_list = [\"dont-dislike\", \"unclear\", \"irrelevant\", \"pushy\", \"clickbait\",\n",
    "    \"scam\", \"dislike-product\", \"dislike-design\", \"uncomfortable\",\n",
    "    \"dislike-advertiser\", \"political\"]\n",
    "\n",
    "# actual reasons for liking or disliking\n",
    "like_reasons = set(like_list) - set([\"dont-like\"])\n",
    "dislike_reasons = set(dislike_list) - set([\"dont-dislike\"])"
   ]
  },
  {
   "cell_type": "markdown",
   "id": "237d4113-2c82-45ec-8423-caf7fbb0e827",
   "metadata": {},
   "source": [
    "### Compute Top 20% Consumers"
   ]
  },
  {
   "cell_type": "code",
   "execution_count": 229,
   "id": "03968dfd-95a9-40d1-88ca-6dbcab1c848e",
   "metadata": {},
   "outputs": [],
   "source": [
    "DONT_COUNT = [\"Can't determine, return to this one\", \"Study\", \"UNCAT\", \n",
    "             \"Political\", \"CA Lawsuit\"]\n",
    "\n",
    "# NOTE: to count for groups of codes, add another parameters\n",
    "def measure_exposure(pids: list, adid_codes: dict,\n",
    "                     pid_adid: pd.DataFrame, freqs: pd.DataFrame, code_groups: dict = None) -> dict:\n",
    "    # map from PID -> Code -> count (frequency included)\n",
    "    exposure = {p: Counter() for p in pids}\n",
    "    total_ads = {}    # map from PID to total number of ads\n",
    "    for p in pids:\n",
    "        pid_ads = pid_adid[pid_adid['pid'] == p]\n",
    "        total_ads[p] = 0\n",
    "        for aid in pid_ads['adid']:            \n",
    "            f = int(freqs.loc[p, str(aid)])\n",
    "            if int(aid) in adid_codes:\n",
    "                allcodes = adid_codes[int(aid)].split(';')                \n",
    "                if not code_groups:\n",
    "                    for c in allcodes:\n",
    "                        if c not in DONT_COUNT:\n",
    "                            # code c was seen f times by participant p\n",
    "                            exposure[p][c] += f                \n",
    "                            total_ads[p] += f\n",
    "                else:\n",
    "                    # grouped code counting from `code_groups` in the else clause, don't double-count\n",
    "                    done = set([])\n",
    "                    for c in allcodes:\n",
    "                        if c in code_groups and c not in DONT_COUNT:\n",
    "                            mapped = code_groups[c]\n",
    "                            if mapped not in done:\n",
    "                                # code group mapped was see f times by participant p\n",
    "                                exposure[p][mapped] += f\n",
    "                                total_ads[p] += f\n",
    "                                done.add(mapped)\n",
    "            else:\n",
    "                # we don't have annotations for this, don't count in analysis\n",
    "                # total_ads[p] -= 1\n",
    "                continue                        \n",
    "            \n",
    "    # NOTE: total_ads contains not just number of ads, but number of observations, factoring in frequencies\n",
    "    return exposure, total_ads\n",
    "\n",
    "exposure, ann_ads_count = measure_exposure(active_pids, adid_codes, pid_adid, pid_adid_freqs)\n",
    "\n",
    "# count grouped exposure\n",
    "harmful, non_harmful = 'harmful', 'non_harmful'\n",
    "groups = {\n",
    "    'Potentially Harmful': harmful, 'Sensitive': harmful, 'Financial': harmful,\n",
    "    'Clickbait': harmful, 'Potentially Prohibited': harmful, 'Benign': non_harmful,\n",
    "    'Opportunity': 'other', 'Healthcare': 'other'\n",
    "}\n",
    "grouped_exposure, _ = measure_exposure(active_pids, adid_codes, pid_adid, pid_adid_freqs, groups)"
   ]
  },
  {
   "cell_type": "code",
   "execution_count": 230,
   "id": "fcc9d69c-3e52-4977-96c6-d187fae866cc",
   "metadata": {},
   "outputs": [
    {
     "name": "stdout",
     "output_type": "stream",
     "text": [
      "19\n"
     ]
    },
    {
     "name": "stderr",
     "output_type": "stream",
     "text": [
      "<ipython-input-230-3c26d311b593>:4: RuntimeWarning: invalid value encountered in divide\n",
      "  neutral_expos_fracs = np.array(neutral_counts) / np.array(total_vals)\n",
      "<ipython-input-230-3c26d311b593>:7: RuntimeWarning: invalid value encountered in divide\n",
      "  harmful_expos_fracs = np.array(harmful_counts) / np.array(total_vals)\n",
      "<ipython-input-230-3c26d311b593>:10: RuntimeWarning: invalid value encountered in divide\n",
      "  other_expos_frac = np.array(other_counts) / np.array(total_vals)\n"
     ]
    }
   ],
   "source": [
    "total_vals = [ann_ads_count[p] for p in active_pids]\n",
    "\n",
    "neutral_counts = [grouped_exposure[p][non_harmful] for p in active_pids]\n",
    "neutral_expos_fracs = np.array(neutral_counts) / np.array(total_vals)\n",
    "\n",
    "harmful_counts = [grouped_exposure[p][harmful] for p in active_pids]\n",
    "harmful_expos_fracs = np.array(harmful_counts) / np.array(total_vals)\n",
    "\n",
    "other_counts = [grouped_exposure[p]['other'] for p in active_pids]\n",
    "other_expos_frac = np.array(other_counts) / np.array(total_vals)\n",
    "\n",
    "# cut off THRESH%\n",
    "order = [(p, grouped_exposure[p][harmful] / ann_ads_count[p]) for p in active_pids if ann_ads_count[p] > 0]\n",
    "order = sorted(order, key=lambda t: t[1])\n",
    "order = [t[0] for t in order]\n",
    "THRESH = 0.2\n",
    "thresh = int(THRESH * len(order))\n",
    "top_consumers = order[-thresh:]\n",
    "\n",
    "# filter out top consumers who didn't fill out surveys\n",
    "# top_consumers_filtered = set(top_consumers) & set(survey['pid'].unique())\n",
    "top_consumers_filtered = [p for p in top_consumers if p in survey['pid'].unique()]\n",
    "print(len(top_consumers_filtered))"
   ]
  },
  {
   "cell_type": "code",
   "execution_count": 272,
   "id": "119b8e57-d36d-4111-ac5b-0dcd694b2bf4",
   "metadata": {},
   "outputs": [],
   "source": [
    "# what fraction of their problematic ads do these people dislike?? judge via dont-like\n",
    "def count_dislike(pid, qstring):\n",
    "    filtered = survey_codes[(survey_codes['pid'] == pid) & (survey_codes.codes.str.contains(qstring))]\n",
    "\n",
    "    disliked = 0\n",
    "    for i in range(filtered.shape[0]):    \n",
    "        row = filtered.iloc[i]\n",
    "        if 'Study' in row['codes']:\n",
    "            continue\n",
    "\n",
    "        if \"I do not like this ad.\" in row['like']:\n",
    "            disliked += 1\n",
    "\n",
    "    return disliked, filtered.shape[0]"
   ]
  },
  {
   "cell_type": "code",
   "execution_count": 279,
   "id": "78a109f3-b0b2-44d4-aacc-92a915bee9c5",
   "metadata": {},
   "outputs": [
    {
     "name": "stdout",
     "output_type": "stream",
     "text": [
      "\\textbf{P1} & 0.17 & 5 & 4 & 1 & 2 & 25 \\\\\n",
      "\\textbf{P2} & 0.17 & 44 & 6 & 2 & 80 & 5 \\\\\n",
      "\\textbf{P3} & 0.17 & 53 & 4 & 8 & 66 & 8 \\\\\n",
      "\\textbf{P4} & 0.18 & 39 & 0 & 0 & 2 & 0 \\\\\n",
      "\\textbf{P5} & 0.18 & 11 & 8 & 5 & 46 & 58 \\\\\n",
      "\\textbf{P6} & 0.20 & 4 & 1 & 0 & 14 & 1 \\\\\n",
      "\\textbf{P7} & 0.20 & 8 & 1 & 0 & 24 & 6 \\\\\n",
      "\\textbf{P8} & 0.22 & 21 & 16 & 2 & 42 & 14 \\\\\n",
      "\\textbf{P9} & 0.22 & 9 & 6 & 0 & 16 & 19 \\\\\n",
      "\\textbf{P10} & 0.23 & 46 & 18 & 11 & 130 & 14 \\\\\n",
      "\\textbf{P11} & 0.26 & 6 & 0 & 1 & 36 & 3 \\\\\n",
      "|                   | disliked Prob.   | disliked Neutral   | Clickbait   | Deceptive   | Prohibited   |   Financial |   Sensitive |\n",
      "|-------------------|------------------|--------------------|-------------|-------------|--------------|-------------|-------------|\n",
      "| Median            |                  |                    | 6           | 4           | 2            |          14 |           5 |\n",
      "| ----------        | ----------       | ----------         | ----------  | ----------  | ----------   |             |             |\n",
      "| (1) 5e5ab (0.17)  | 0.82             | 0.75               | 5           | 4           | 1            |           2 |          25 |\n",
      "| (2) 35247 (0.17)  | 0.38             | 0.18               | 44          | 6           | 2            |          80 |           5 |\n",
      "| (3) 80510 (0.17)  | 0.72             | 0.43               | 53          | 4           | 8            |          66 |           8 |\n",
      "| (4) 6130e (0.18)  | 0.60             | 0.43               | 39          | 0           | 0            |           2 |           0 |\n",
      "| (5) 67391 (0.18)  | 0.11             | 0.09               | 11          | 8           | 5            |          46 |          58 |\n",
      "| (6) 92131 (0.20)  | 0.62             | 0.30               | 4           | 1           | 0            |          14 |           1 |\n",
      "| (7) 89949 (0.20)  | 0.27             | 0.21               | 8           | 1           | 0            |          24 |           6 |\n",
      "| (8) 99345 (0.22)  | 0.74             | 0.52               | 21          | 16          | 2            |          42 |          14 |\n",
      "| (9) 60138 (0.22)  | 0.13             | 0.15               | 9           | 6           | 0            |          16 |          19 |\n",
      "| (10) 59765 (0.23) | 0.60             | 0.45               | 46          | 18          | 11           |         130 |          14 |\n",
      "| (11) 5f8f4 (0.26) | 0.19             | 0.59               | 6           | 0           | 1            |          36 |           3 |\n"
     ]
    }
   ],
   "source": [
    "# show table\n",
    "table = []\n",
    "tab_codes = ['Clickbait', 'Potentially Harmful', 'Potentially Prohibited', 'Financial', 'Sensitive']\n",
    "prob_qstring = 'Clickbait|Potentially Prohibited|Potentially Harmful|Sensitive|Financial'\n",
    "neut_qstring = 'Benign'\n",
    "\n",
    "# median row\n",
    "row = ['Median', '', '']\n",
    "# active_pids.remove('372771')\n",
    "for c in tab_codes:\n",
    "    row.append(int(np.median([exposure[p][c] for p in active_pids if ann_ads_count[p] >= 100])))\n",
    "table.append(row)\n",
    "table.append(['----------']*6)\n",
    "\n",
    "i = 1\n",
    "for p in top_consumers_filtered:\n",
    "    if ann_ads_count[p] >= 100:\n",
    "        disliked, tot = count_dislike(p, prob_qstring)\n",
    "        disliked_neutral, tot_neutral = count_dislike(p, neut_qstring)\n",
    "        \n",
    "        latex_row = [\"\\\\textbf{\" + f'P{i}' + '}', f'{grouped_exposure[p][harmful] / ann_ads_count[p]:.2f}']\n",
    "        row = [f'({i}) {p[:5]} ({grouped_exposure[p][harmful] / ann_ads_count[p]:.2f})',\n",
    "               # disliked problematic, disliked neutral\n",
    "               f'{disliked/tot:.2f}', f'{disliked_neutral/tot_neutral:.2f}']\n",
    "        for c in tab_codes:\n",
    "            row.append(exposure[p][c])\n",
    "            latex_row.append(str(exposure[p][c]))\n",
    "        table.append(row)\n",
    "        print(' & '.join(latex_row) + ' \\\\\\\\')\n",
    "        i += 1\n",
    "        \n",
    "print(tabulate(table, tablefmt='github',\n",
    "      headers=['', 'disliked Prob.', 'disliked Neutral', 'Clickbait', 'Deceptive', 'Prohibited', 'Financial', 'Sensitive']))\n",
    "\n",
    "# TODO: I think this is in good shape now, I should generate a LaTeX version of this table and move it to the paper"
   ]
  },
  {
   "cell_type": "code",
   "execution_count": 270,
   "id": "8e02f51d-1b58-4646-bca3-79b0c4939e94",
   "metadata": {},
   "outputs": [
    {
     "name": "stdout",
     "output_type": "stream",
     "text": [
      "median dislike frac: 0.45454545454545453\n"
     ]
    }
   ],
   "source": [
    "# median fraction of dislike?\n",
    "dislike_frac = []\n",
    "for p in active_pids:\n",
    "    if ann_ads_count[p] >= 100:\n",
    "        d, t = problematic_dislike(p)\n",
    "        if t > 0:\n",
    "            dislike_frac.append(d/t)\n",
    "        \n",
    "print('median dislike frac:', np.median(dislike_frac))"
   ]
  },
  {
   "cell_type": "code",
   "execution_count": 236,
   "id": "23e10f5e-4aad-40d2-b738-fddebfae03f1",
   "metadata": {},
   "outputs": [
    {
     "name": "stdout",
     "output_type": "stream",
     "text": [
      "fraction problematic median: 0.09\n"
     ]
    }
   ],
   "source": [
    "problematic_fracs = [grouped_exposure[p][\"harmful\"] / ann_ads_count[p] for p in active_pids if ann_ads_count[p] >= 100]\n",
    "print(f'fraction problematic median: {np.nanmedian(problematic_fracs):.2f}')"
   ]
  },
  {
   "cell_type": "markdown",
   "id": "84cc661a-a017-405d-acfb-2ecb95280ca0",
   "metadata": {},
   "source": [
    "### Deep Dive into Top Consumers' surveys and targeting"
   ]
  },
  {
   "cell_type": "code",
   "execution_count": 139,
   "id": "f28c7899-b6d8-4466-b8ce-30a36d14e262",
   "metadata": {},
   "outputs": [],
   "source": [
    "def deepdive(pid, code):\n",
    "    # Show ads given to PID for code, and a summary of their survey responses for these ads\n",
    "    perceptions = defaultdict(list)\n",
    "    perceptions_by_ad = defaultdict(list)\n",
    "\n",
    "    filtered = survey_codes[(survey_codes['pid'] == pid) & (survey_codes.codes.str.contains(code))]\n",
    "    print(f'Total: {filtered.shape[0]}\\n')\n",
    "\n",
    "    for i in range(filtered.shape[0]):    \n",
    "        row = filtered.iloc[i]\n",
    "        if 'Study' in row['codes']:\n",
    "            continue\n",
    "\n",
    "        pid, adid = row['pid'], row['adid']\n",
    "        # Show how many times an ad was shown\n",
    "        print(adid, adid_codes[adid], int(pid_adid_freqs.loc[str(pid), str(adid)]))\n",
    "\n",
    "        perceptions_by_ad[adid].extend([short_names[r] for r in row['like'].split(';')])\n",
    "        perceptions_by_ad[adid].extend([short_names[r] for r in row['dislike'].split(';')])\n",
    "        for curr_code in row['codes'].split(';'):        \n",
    "            perceptions[curr_code].extend(['like: ' + short_names[r] for r in row['like'].split(';')])\n",
    "            perceptions[curr_code].extend(['dislike: ' + short_names[r] for r in row['dislike'].split(';')])\n",
    "\n",
    "    print('\\n', dict(Counter(perceptions[code])))\n",
    "    print('\\n', dict(perceptions_by_ad))"
   ]
  },
  {
   "cell_type": "markdown",
   "id": "85eb5861-950d-4479-a150-1dd57087c022",
   "metadata": {},
   "source": [
    "## Things that went in paper's case studies section"
   ]
  },
  {
   "cell_type": "markdown",
   "id": "1a8a07b6-7db5-4d15-b8ad-1700ff77f1ee",
   "metadata": {},
   "source": [
    "### Financial Discussion (P10)"
   ]
  },
  {
   "cell_type": "code",
   "execution_count": 244,
   "id": "48900e07-c0c7-4511-9e31-3482849e7518",
   "metadata": {},
   "outputs": [
    {
     "name": "stdout",
     "output_type": "stream",
     "text": [
      "Total: 8\n",
      "\n",
      "23849698645820160 Clickbait;Potentially Prohibited 1\n",
      "23850177766620456 Clickbait;Potentially Prohibited 1\n",
      "23849955907630513 Clickbait;Potentially Prohibited 1\n",
      "23849279664790753 Clickbait;Potentially Harmful;Potentially Prohibited 1\n",
      "23849536477620166 Clickbait;Potentially Prohibited 1\n",
      "23849562033080494 Clickbait;Potentially Prohibited 1\n",
      "23850261965810103 Clickbait;Potentially Prohibited 1\n",
      "23849899280210077 Clickbait;Potentially Prohibited 1\n",
      "\n",
      " {'like: like-design': 1, 'dislike: dont-dislike': 3, 'like: dont-like': 5, 'dislike: pushy': 1, 'dislike: dislike-product': 1, 'dislike: scam': 4, 'like: trust-advertiser': 1, 'like: filterable': 1}\n",
      "\n",
      " {23849698645820160: ['like-design', 'dont-dislike'], 23850177766620456: ['dont-like', 'pushy'], 23849955907630513: ['dont-like', 'dislike-product', 'scam'], 23849279664790753: ['dont-like', 'scam'], 23849536477620166: ['dont-like', 'dont-dislike'], 23849562033080494: ['trust-advertiser', 'dont-dislike'], 23850261965810103: ['filterable', 'scam'], 23849899280210077: ['dont-like', 'scam']}\n"
     ]
    }
   ],
   "source": [
    "# experimenting if prohibited can be used to discuss this person's ads\n",
    "deepdive('597658', 'Potentially Prohibited')"
   ]
  },
  {
   "cell_type": "code",
   "execution_count": 237,
   "id": "06e13b88-2623-43f7-8216-f55e2b3c5b3a",
   "metadata": {},
   "outputs": [
    {
     "name": "stdout",
     "output_type": "stream",
     "text": [
      "Total: 19\n",
      "\n",
      "23848712731770341 Financial 1\n",
      "23849228804160545 Financial 2\n",
      "23849792021390405 Financial 1\n",
      "23849702077860005 Financial 2\n",
      "23849849948350660 Financial 1\n",
      "23850646027640338 Financial 2\n",
      "23849034449360137 Financial 1\n",
      "23849468973880301 Financial 1\n",
      "6277641471876 Financial 1\n",
      "23849951550030472 Financial 1\n",
      "6244444798848 Financial 6\n",
      "23849625973630339 Financial 1\n",
      "23849183497570702 Clickbait;Financial 1\n",
      "23849794598040064 Financial 2\n",
      "6269962038404 Financial 1\n",
      "23849800318070670 Financial 1\n",
      "23849775630970637 Financial 1\n",
      "23849501078080264 Financial 1\n",
      "6252731197448 Financial 1\n",
      "\n",
      " {'like: dont-like': 10, 'dislike: scam': 4, 'like: useful': 8, 'dislike: dont-dislike': 12, 'like: interested': 3, 'like: trust-ad': 1, 'dislike: pushy': 1, 'dislike: dislike-advertiser': 1, 'dislike: dislike-design': 1, 'like: like-design': 1}\n",
      "\n",
      " {23848712731770341: ['dont-like', 'scam'], 23849228804160545: ['useful', 'dont-dislike'], 23849792021390405: ['useful', 'interested', 'dont-dislike'], 23849702077860005: ['useful', 'dont-dislike'], 23849849948350660: ['trust-ad', 'dont-dislike'], 23850646027640338: ['dont-like', 'dont-dislike'], 23849034449360137: ['interested', 'useful', 'dont-dislike'], 23849468973880301: ['dont-like', 'dont-dislike'], 6277641471876: ['dont-like', 'scam'], 23849951550030472: ['dont-like', 'scam'], 6244444798848: ['useful', 'dont-dislike'], 23849625973630339: ['dont-like', 'pushy'], 23849183497570702: ['dont-like', 'scam'], 23849794598040064: ['dont-like', 'dont-dislike'], 6269962038404: ['useful', 'dont-dislike'], 23849800318070670: ['dont-like', 'dislike-advertiser'], 23849775630970637: ['dont-like', 'dislike-design'], 23849501078080264: ['useful', 'interested', 'dont-dislike'], 6252731197448: ['useful', 'like-design', 'dont-dislike']}\n"
     ]
    }
   ],
   "source": [
    "deepdive('597658', 'Financial')"
   ]
  },
  {
   "cell_type": "code",
   "execution_count": 242,
   "id": "7a84165f-103e-451a-a226-686db79a5e8b",
   "metadata": {},
   "outputs": [
    {
     "data": {
      "text/plain": [
       "'\\n% 23849228804160545 is liked debit card ad, 23849792021390405 is liked credit monitoring ad\\n% >>>>>>>>>>\\n% $100 per day ad: 23850177766620456, opportun credit card ad: 23849183497570702, playable NFTs: 23849951550030472\\n'"
      ]
     },
     "execution_count": 242,
     "metadata": {},
     "output_type": "execute_result"
    }
   ],
   "source": [
    "\"\"\"\n",
    "% 23849228804160545 is liked debit card ad, 23849792021390405 is liked credit monitoring ad\n",
    "% >>>>>>>>>>\n",
    "% $100 per day ad: 23850177766620456, opportun credit card ad: 23849183497570702, playable NFTs: 23849951550030472\n",
    "\"\"\"\n",
    "# FNBO card\n",
    "# print(params_df.loc[23849702077860005]['WAISTUIInterestsType'])\n",
    "# for i in [6002927007962, 6003061829407, 6003297396138, 6003090714101, 6003100693640, 6003130044117, 6003176678152, 6003304473660, 6003143720966, 6003142505790, 6003388314512, 6003369782940, 6003217093576, 6003154043305, 6003156575084, 6003174867249, 6003198347952, 6003199112065, 6003232036485, 6003264746114, 6003280248159, 6003466585319, 6003349442621, 6003349860951, 6003353637860, 6003402305839, 6003418314031, 6003573036687, 6003574304918, 6003716669862, 6003899195666, 6004925672432]:\n",
    "#     print(interests[str(i)])\n",
    "    \n",
    "# # SoFi credit monitoring ad\n",
    "# print('='*20)\n",
    "# print(params_df.loc[23849792021390405])\n",
    "\n",
    "# # $100 per day\n",
    "# print('='*20)\n",
    "# print(params_df.loc[23849183497570702])\n",
    "# print(interests['6003269553527'], interests['6002998995844'])\n",
    "\n",
    "# # opportun credit card\n",
    "# print('='*20)\n",
    "# cc_interests = params_df.loc[23849183497570702]['WAISTUIInterestsType']\n",
    "# print(cc_interests)\n",
    "# print(interests['6002927007962'])\n",
    "# print(interests['6003143720966'])\n",
    "# print(interests['6003369782940'])\n",
    "# print(interests['6003174867249'])\n",
    "# print(interests['6003198347952'])\n",
    "\n",
    "# # NFTs\n",
    "# print('='*20)\n",
    "# print(params_df.loc[23849951550030472]['WAISTUIInterestsType'])\n",
    "# for i in ['6003380576181', '6003540150873', '6003717913546']:\n",
    "#     print(interests[i])"
   ]
  },
  {
   "cell_type": "code",
   "execution_count": 239,
   "id": "36186a18-916c-430e-b999-3ba7db5a39fa",
   "metadata": {},
   "outputs": [
    {
     "name": "stdout",
     "output_type": "stream",
     "text": [
      "Total: 5\n",
      "\n",
      "23849279664790753 Clickbait;Potentially Harmful;Potentially Prohibited 1\n",
      "23849302932210764 Potentially Harmful 1\n",
      "23849360824750679 Potentially Harmful 1\n",
      "6296561867328 Potentially Harmful 1\n",
      "23849080851220724 Potentially Harmful 1\n",
      "\n",
      " {'like: dont-like': 5, 'dislike: scam': 5}\n",
      "\n",
      " {23849279664790753: ['dont-like', 'scam'], 23849302932210764: ['dont-like', 'scam'], 23849360824750679: ['dont-like', 'scam'], 6296561867328: ['dont-like', 'scam'], 23849080851220724: ['dont-like', 'scam']}\n"
     ]
    }
   ],
   "source": [
    "deepdive('597658', 'Potentially Harmful')"
   ]
  },
  {
   "cell_type": "markdown",
   "id": "18aee750-dc93-435c-8a23-b713456bdf1c",
   "metadata": {},
   "source": [
    "### Clickbait discussion (P3)"
   ]
  },
  {
   "cell_type": "code",
   "execution_count": 241,
   "id": "f5261851-b26d-4bf2-8744-82494b14c53f",
   "metadata": {},
   "outputs": [
    {
     "name": "stdout",
     "output_type": "stream",
     "text": [
      "Total: 16\n",
      "\n",
      "23849737748430308 Clickbait;Potentially Prohibited 1\n",
      "23849320338890245 Clickbait 1\n",
      "23849448076960130 Clickbait 1\n",
      "23849615540910340 Clickbait 1\n",
      "23849588644970447 Clickbait;Financial 1\n",
      "23849481414920452 Clickbait 1\n",
      "23849432482720130 Clickbait 1\n",
      "23849545267470268 Clickbait;Potentially Harmful 1\n",
      "23850066375350415 Clickbait 2\n",
      "23850066375350415 Clickbait 2\n",
      "23850600707080459 Clickbait 1\n",
      "23849954386110545 Clickbait 1\n",
      "23850077806380545 Clickbait 1\n",
      "23850057887360545 Clickbait 1\n",
      "23849360755590643 Clickbait 1\n",
      "23850246892490133 Clickbait;Healthcare;Potentially Prohibited;Sensitive 1\n",
      "\n",
      " {'like: interested': 5, 'like: like-design': 3, 'like: useful': 1, 'like: filterable': 15, 'dislike: unclear': 5, 'dislike: dont-dislike': 2, 'like: dont-like': 9, 'dislike: clickbait': 9, 'dislike: irrelevant': 9, 'dislike: scam': 10, 'dislike: dislike-design': 5, 'dislike: dislike-product': 4, 'like: clear': 5, 'dislike: dislike-advertiser': 2, 'dislike: political': 2, 'dislike: uncomfortable': 1}\n",
      "\n",
      " {23849737748430308: ['interested', 'like-design', 'useful', 'filterable', 'unclear', 'dont-dislike'], 23849320338890245: ['filterable', 'dont-like', 'clickbait', 'irrelevant', 'scam'], 23849448076960130: ['like-design', 'dont-like', 'filterable', 'clickbait', 'irrelevant', 'scam', 'unclear'], 23849615540910340: ['filterable', 'dont-like', 'irrelevant', 'clickbait', 'dislike-design', 'scam', 'unclear'], 23849588644970447: ['dont-like', 'filterable', 'irrelevant', 'dislike-product', 'dislike-design'], 23849481414920452: ['clear', 'filterable', 'dont-like', 'clickbait', 'irrelevant'], 23849432482720130: ['filterable', 'dont-like', 'clickbait', 'irrelevant', 'dislike-design', 'scam', 'unclear'], 23849545267470268: ['interested', 'filterable', 'clickbait', 'dislike-design'], 23850066375350415: ['clear', 'interested', 'filterable', 'clickbait', 'scam', 'interested', 'clear', 'dont-dislike'], 23850600707080459: ['clear', 'interested', 'filterable', 'clickbait', 'scam', 'dislike-product'], 23849954386110545: ['filterable', 'dont-like', 'irrelevant', 'scam'], 23850077806380545: ['filterable', 'like-design', 'scam'], 23850057887360545: ['filterable', 'scam'], 23849360755590643: ['filterable', 'dont-like', 'dislike-advertiser', 'irrelevant', 'political', 'dislike-product', 'clickbait'], 23850246892490133: ['filterable', 'clear', 'dont-like', 'dislike-advertiser', 'irrelevant', 'unclear', 'dislike-design', 'scam', 'political', 'dislike-product', 'uncomfortable']}\n"
     ]
    }
   ],
   "source": [
    "deepdive('805102', 'Clickbait')"
   ]
  },
  {
   "cell_type": "code",
   "execution_count": 249,
   "id": "475e5ba1-20ac-4a89-8c85-695acd124d4e",
   "metadata": {},
   "outputs": [
    {
     "name": "stdout",
     "output_type": "stream",
     "text": [
      "age_min                                         38.0\n",
      "age_max                                         50.0\n",
      "gender                                           NaN\n",
      "location                                         NaN\n",
      "WAISTUIInterestsType                             NaN\n",
      "WAISTUILocaleType                                NaN\n",
      "estimate_mau                              43200000.0\n",
      "WAISTUICustomAudienceType                        NaN\n",
      "WAISTUIBCTType                                   NaN\n",
      "WAISTUIEduStatusType                             NaN\n",
      "WAISTUIDPAType                                   NaN\n",
      "WAISTUIActionableInsightsType                    NaN\n",
      "WAISTUIFriendsOfConnectionType                   NaN\n",
      "WAISTUIRelationshipType                          NaN\n",
      "WAISTUIWorkEmployerType                          NaN\n",
      "WAISTUILocalReachType                            NaN\n",
      "WAISTUIEduSchoolsType                            NaN\n",
      "WAISTUIConnectionType                            NaN\n",
      "WAISTUICollaborativeAdsStoreVisitsType           NaN\n",
      "WAISTUIJobTitleType                              NaN\n",
      "Name: 23850057887360545, dtype: object\n"
     ]
    }
   ],
   "source": [
    "# params_df.loc[23850600707080459]['location']    # Houston, TX\n",
    "\n",
    "# monthly assistance ad\n",
    "print(params_df.loc[23850057887360545])"
   ]
  },
  {
   "cell_type": "markdown",
   "id": "25c122ac-b05d-45d0-8852-e3a93776a564",
   "metadata": {},
   "source": [
    "**Interesting Insight from participant 805102:** They describe Ad ID 23849737748430308 (intermittent fasting app Simple) as many good things and no dislike. On the contrary, they describe 23850246892490133 (Menopause Hormonal Belly) as irrelevant, unclear, scam, uncomfortable -- many many bad things. This shows even when someone might like something in moderation, you can go too far. People's perceptions of problematic ads can be pushed. \n",
    "\n",
    "Largely, they describe many of their ads with scam and dont-like, yet they see them more often than others."
   ]
  },
  {
   "cell_type": "markdown",
   "id": "8277c070-7e41-4ed0-a23f-7b2bf37b5796",
   "metadata": {},
   "source": [
    "### TODO: Sensitive Discussion (P1)"
   ]
  },
  {
   "cell_type": "code",
   "execution_count": 250,
   "id": "bb00619e-8d1c-4718-9962-20e0841b5a15",
   "metadata": {},
   "outputs": [
    {
     "name": "stdout",
     "output_type": "stream",
     "text": [
      "Total: 9\n",
      "\n",
      "23849352724070219 Healthcare;Potentially Harmful;Sensitive 1\n",
      "23850858730460491 Healthcare;Sensitive 1\n",
      "23849224470490027 Healthcare;Sensitive 1\n",
      "23848845113870139 Healthcare;Sensitive 1\n",
      "23850858630200491 Healthcare;Sensitive 1\n",
      "23848927953240002 Healthcare;Sensitive 1\n",
      "23850462777790491 Healthcare;Sensitive 1\n",
      "23848870491900068 Healthcare;Sensitive 2\n",
      "23848967546390166 Sensitive 2\n",
      "\n",
      " {'like: dont-like': 7, 'dislike: scam': 6, 'dislike: unclear': 2, 'like: interested': 2, 'dislike: dont-dislike': 2, 'dislike: dislike-product': 1}\n",
      "\n",
      " {23849352724070219: ['dont-like', 'scam'], 23850858730460491: ['dont-like', 'unclear', 'scam'], 23849224470490027: ['interested', 'dont-dislike'], 23848845113870139: ['dont-like', 'scam'], 23850858630200491: ['dont-like', 'unclear', 'scam'], 23848927953240002: ['interested', 'dont-dislike'], 23850462777790491: ['dont-like', 'scam'], 23848870491900068: ['dont-like', 'scam'], 23848967546390166: ['dont-like', 'dislike-product']}\n"
     ]
    }
   ],
   "source": [
    "deepdive('5e5ab88a43f33029b119a48c', 'Sensitive')\n",
    "# CONSIDER WRITING ABOUT THIS PERSON IN CASE STUDIES"
   ]
  },
  {
   "cell_type": "code",
   "execution_count": 256,
   "id": "a074dec8-0ad9-433c-b567-0c4fc20d7934",
   "metadata": {},
   "outputs": [
    {
     "data": {
      "text/plain": [
       "\"{'serialized': {'location_granularity': 'city', 'location_geo_type': 'home', 'location_code': '2463146'}, 'location_name': 'Severn, Maryland', 'location_type': 'HOME'}\""
      ]
     },
     "execution_count": 256,
     "metadata": {},
     "output_type": "execute_result"
    }
   ],
   "source": [
    "# coolsculpting\n",
    "params_df.loc[23849224470490027]['location']\n",
    "\n",
    "# noom weight\n",
    "# params_df.loc[23850858630200491]"
   ]
  },
  {
   "cell_type": "markdown",
   "id": "4512712d-eee6-4649-9b8b-159df22e3313",
   "metadata": {},
   "source": [
    "#### Older Deepdives"
   ]
  },
  {
   "cell_type": "code",
   "execution_count": 215,
   "id": "2f2829d8-3ac9-4b18-8316-50ef10fe7ef4",
   "metadata": {},
   "outputs": [
    {
     "name": "stdout",
     "output_type": "stream",
     "text": [
      "Total: 11\n",
      "\n",
      "23849477917770348 Clickbait;Potentially Harmful 3\n",
      "6279066532750 Clickbait 1\n",
      "23850291251740504 Clickbait 1\n",
      "23846100427010367 Clickbait 1\n",
      "23849765860040469 Clickbait 1\n",
      "23849678638200059 Clickbait 1\n",
      "6291616560416 Clickbait 1\n",
      "23848253012220775 Clickbait 1\n",
      "23849552786840507 Clickbait;Financial;Potentially Prohibited 1\n",
      "6271650884484 Clickbait;Financial 1\n",
      "23849368496470571 Clickbait 1\n",
      "\n",
      " {'like: trust-advertiser': 2, 'like: trust-ad': 6, 'dislike: dont-dislike': 9, 'like: dont-like': 2, 'dislike: scam': 1, 'like: filterable': 1, 'like: like-design': 1, 'dislike: clickbait': 1, 'like: useful': 2, 'like: interested': 1}\n",
      "\n",
      " {23849477917770348: ['trust-advertiser', 'trust-ad', 'dont-dislike'], 6279066532750: ['dont-like', 'scam'], 23850291251740504: ['filterable', 'dont-dislike'], 23846100427010367: ['like-design', 'dont-dislike'], 23849765860040469: ['dont-like', 'clickbait'], 23849678638200059: ['trust-advertiser', 'trust-ad', 'dont-dislike'], 6291616560416: ['useful', 'dont-dislike'], 23848253012220775: ['trust-ad', 'useful', 'dont-dislike'], 23849552786840507: ['trust-ad', 'interested', 'dont-dislike'], 6271650884484: ['trust-ad', 'dont-dislike'], 23849368496470571: ['trust-ad', 'dont-dislike']}\n"
     ]
    }
   ],
   "source": [
    "deepdive('673911', 'Clickbait')\n",
    "# they like gambling -- can be seen by looking at Sensitive\n",
    "# but also cannot decide when they are shown a scam!! (e.g. 23849477917770348)\n",
    "# but this leads to other bad ads too"
   ]
  },
  {
   "cell_type": "code",
   "execution_count": 216,
   "id": "bbd4c5a5-ce9c-4ccf-869a-ab3c6104b465",
   "metadata": {},
   "outputs": [
    {
     "name": "stdout",
     "output_type": "stream",
     "text": [
      "Total: 14\n",
      "\n",
      "23849239160330534 Benign;Clickbait 1\n",
      "23848858845620097 Benign;Clickbait 1\n",
      "23848938185080519 Benign;Clickbait 1\n",
      "23848957132090252 Benign;Clickbait 1\n",
      "23848680911740164 Benign;Clickbait 1\n",
      "23848516316660494 Benign;Clickbait 1\n",
      "23849291472240012 Benign;Clickbait 1\n",
      "23849465207210065 Benign;Clickbait 1\n",
      "23849224532490625 Benign;Clickbait 1\n",
      "23848411710970512 Benign;Clickbait 1\n",
      "23849865598020133 Benign;Clickbait 1\n",
      "23848915793700774 Benign;Clickbait 1\n",
      "23848783775700275 Clickbait 1\n",
      "23848879267500336 Benign;Clickbait 1\n",
      "\n",
      " {'like: dont-like': 9, 'dislike: clickbait': 10, 'dislike: irrelevant': 5, 'like: useful': 3, 'dislike: uncomfortable': 1, 'dislike: unclear': 4, 'like: amusing': 2, 'dislike: dont-dislike': 3, 'like: interested': 1, 'dislike: dislike-design': 2}\n",
      "\n",
      " {23849239160330534: ['dont-like', 'clickbait', 'irrelevant'], 23848858845620097: ['useful', 'clickbait', 'uncomfortable'], 23848938185080519: ['useful', 'clickbait'], 23848957132090252: ['dont-like', 'clickbait', 'irrelevant', 'unclear'], 23848680911740164: ['dont-like', 'clickbait'], 23848516316660494: ['dont-like', 'clickbait', 'irrelevant'], 23849291472240012: ['amusing', 'clickbait', 'unclear'], 23849465207210065: ['dont-like', 'dont-dislike'], 23849224532490625: ['interested', 'useful', 'dislike-design'], 23848411710970512: ['dont-like', 'clickbait', 'unclear'], 23849865598020133: ['dont-like', 'clickbait', 'irrelevant', 'unclear', 'dislike-design'], 23848915793700774: ['dont-like', 'clickbait', 'irrelevant'], 23848783775700275: ['amusing', 'dont-dislike'], 23848879267500336: ['dont-like', 'dont-dislike']}\n"
     ]
    }
   ],
   "source": [
    "# 2nd clickbait person, all the remaining columns are zero but they see a lot of clickbait\n",
    "deepdive('6130e3db169db34eb3cde8cc', 'Clickbait')"
   ]
  },
  {
   "cell_type": "code",
   "execution_count": null,
   "id": "7b60a746-c89d-40e3-a503-9cb018236ae5",
   "metadata": {},
   "outputs": [],
   "source": []
  }
 ],
 "metadata": {
  "kernelspec": {
   "display_name": "Python 3",
   "language": "python",
   "name": "python3"
  },
  "language_info": {
   "codemirror_mode": {
    "name": "ipython",
    "version": 3
   },
   "file_extension": ".py",
   "mimetype": "text/x-python",
   "name": "python",
   "nbconvert_exporter": "python",
   "pygments_lexer": "ipython3",
   "version": "3.9.13"
  }
 },
 "nbformat": 4,
 "nbformat_minor": 5
}
