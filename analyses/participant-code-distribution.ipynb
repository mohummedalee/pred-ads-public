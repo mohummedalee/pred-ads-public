{
 "cells": [
  {
   "cell_type": "code",
   "execution_count": null,
   "id": "4151f8f7",
   "metadata": {},
   "outputs": [],
   "source": [
    "\"\"\"\n",
    "understanding the distribution of codes for each pilot study participant,\n",
    "trying to understand how codes vary by participant\n",
    "\"\"\""
   ]
  },
  {
   "cell_type": "code",
   "execution_count": 1,
   "id": "2aefed13",
   "metadata": {},
   "outputs": [],
   "source": [
    "import csv, json\n",
    "from collections import Counter\n",
    "import os, sys\n",
    "sys.path.insert(0, '../db-processing')\n",
    "import db_utils\n",
    "from math import sqrt\n",
    "from scipy import stats\n",
    "\n",
    "import numpy as np\n",
    "import matplotlib.pyplot as plt"
   ]
  },
  {
   "cell_type": "code",
   "execution_count": 2,
   "id": "f0dff949",
   "metadata": {},
   "outputs": [],
   "source": [
    "# read ads for each user\n",
    "user_ads_file = '../db-processing/user_ads_timestamps.tsv'\n",
    "user_ads = {}\n",
    "with open(user_ads_file, 'r') as fh:\n",
    "    reader = csv.reader(fh, delimiter='\\t')\n",
    "    for line in reader:\n",
    "        uid = line[0]\n",
    "        # load the IDs, leaving out timestamps       \n",
    "        ids = [x.split(',')[0] for x in line[1:]]        \n",
    "        if len(ids):\n",
    "            user_ads[uid] = ids"
   ]
  },
  {
   "cell_type": "code",
   "execution_count": 3,
   "id": "d6608e93",
   "metadata": {},
   "outputs": [],
   "source": [
    "# read pilot ads coding\n",
    "coding_file = '../pilot-ads-coding/angelica-coding.jsonl'\n",
    "coding = {}\n",
    "with open(coding_file, 'r') as fh:\n",
    "    for line in fh:\n",
    "        # TODO: also load ad text and index by code\n",
    "        obj = json.loads(line)\n",
    "        coding[obj['Ad ID']] = obj['label']\n",
    "        \n",
    "# also read user demographics\n",
    "dems = db_utils.load_dem_file('../db-processing/prolific-demographics.csv')\n",
    "\n",
    "# from: https://docs.google.com/document/d/1gpdew9ujr6i4VI1zH1FO0ylR3TUSCwJUIh-Xdu0lNZs/edit\n",
    "high_ses = ['609471590c51b81087087049', '5df3ab425777b528cb364cde', '5d1ea7e579b687001af802c6']\n",
    "low_ses = ['5bba226d70f8df0001c065f3', '5c6ac9e5d9c5be000174497f', '5e3cc28a194a520c0c128f13']"
   ]
  },
  {
   "cell_type": "code",
   "execution_count": 21,
   "id": "39fd811b",
   "metadata": {},
   "outputs": [
    {
     "name": "stdout",
     "output_type": "stream",
     "text": [
      "Counter({'Benign': 601, 'Information': 79, 'Suspicious': 68, 'Revisit': 44, 'Opportunity': 39, 'Financial': 15, 'Potentially prohibited': 13, 'Political': 9, 'Potentially harmful': 1})\n"
     ]
    }
   ],
   "source": [
    "# which codes are not used?\n",
    "from collections import Counter\n",
    "\n",
    "codecounts = Counter()\n",
    "for g in coding.values():\n",
    "    for c in g:\n",
    "        codecounts[c] += 1\n",
    "\n",
    "print(codecounts)"
   ]
  },
  {
   "cell_type": "code",
   "execution_count": 4,
   "id": "37fb440f",
   "metadata": {},
   "outputs": [
    {
     "data": {
      "text/plain": [
       "['Suspicious']"
      ]
     },
     "execution_count": 4,
     "metadata": {},
     "output_type": "execute_result"
    }
   ],
   "source": [
    "coding['23847898979880449']"
   ]
  },
  {
   "cell_type": "code",
   "execution_count": 11,
   "id": "f174ecdc",
   "metadata": {},
   "outputs": [],
   "source": [
    "# count user-level codes\n",
    "user_codes = {}\n",
    "allcodes = set()\n",
    "for uid in user_ads:\n",
    "    user_codes[uid] = Counter()\n",
    "    for ad in user_ads[uid]:\n",
    "        if ad in coding:\n",
    "            # only 2 ads are missing\n",
    "            for code in coding[ad]:\n",
    "                user_codes[uid][code] += 1\n",
    "                allcodes.add(code)\n",
    "                \n",
    "# move benign to start of list                \n",
    "allcodes = list(allcodes)\n",
    "allcodes.remove('Benign')\n",
    "allcodes = ['Benign'] + allcodes"
   ]
  },
  {
   "cell_type": "code",
   "execution_count": 21,
   "id": "d217e406",
   "metadata": {},
   "outputs": [
    {
     "name": "stdout",
     "output_type": "stream",
     "text": [
      "Benign: 601/746 (80.56%); Harmful: 73/746 (9.79%);)\n"
     ]
    }
   ],
   "source": [
    "# what fraction of ads are benign, what fraction are harmful (suspicious+prohibited)\n",
    "benign, harmful = 0, 0\n",
    "for aid in coding:\n",
    "    if 'Benign' in coding[aid]:\n",
    "        benign += 1\n",
    "    elif 'Suspicious' in coding[aid] or 'Potentially prohibited' in coding[aid]:\n",
    "        harmful += 1\n",
    "        \n",
    "n = len(coding)\n",
    "print(f'Benign: {benign}/{n} ({round(benign/n * 100, 2)}%); Harmful: {harmful}/{n} ({round(harmful/n * 100, 2)}%);)')"
   ]
  },
  {
   "cell_type": "code",
   "execution_count": 11,
   "id": "7fbb4398",
   "metadata": {},
   "outputs": [],
   "source": [
    "# Question 1: what fraction of ads are not benign\n",
    "pids = set(user_codes.keys()) - set(['5e1b299528c70235eeed62ef', '5c0fcccc1f6f150001487111'])\n",
    "code_props = {}  # proportion for codes for each user\n",
    "for p in pids:\n",
    "    code_props[p] = [user_codes[p][c] for c in allcodes]\n",
    "    code_props[p] = np.array(code_props[p]) / sum(code_props[p])"
   ]
  },
  {
   "cell_type": "code",
   "execution_count": 13,
   "id": "e5e554bf",
   "metadata": {},
   "outputs": [],
   "source": [
    "def normal_bin_conf(p, n, alpha=.95):\n",
    "    tab = {0.90: 1.645, 0.95: 1.96, 0.99: 2.58}\n",
    "    z = tab[alpha]\n",
    "    # binomial proportion confidence interval\n",
    "    return z * sqrt((p * (1-p))/n)"
   ]
  },
  {
   "cell_type": "code",
   "execution_count": 14,
   "id": "8c47a8bc",
   "metadata": {},
   "outputs": [],
   "source": [
    "user_labels = {\n",
    "    '609471590c51b81087087049': 'A',\n",
    "    '5e3cc28a194a520c0c128f13': 'B',\n",
    "    '5df3ab425777b528cb364cde': 'C',\n",
    "    '5d1ea7e579b687001af802c6': 'D',\n",
    "    '5c6ac9e5d9c5be000174497f': 'E',\n",
    "    '5bba226d70f8df0001c065f3': 'F'\n",
    "}"
   ]
  },
  {
   "cell_type": "code",
   "execution_count": 21,
   "id": "66cd4670",
   "metadata": {},
   "outputs": [
    {
     "name": "stdout",
     "output_type": "stream",
     "text": [
      "not benign, or info or political;\t suspicious+revisit\n",
      "C: 1 \t\t\t\t\t 0.5944055944055945\n",
      "A: 32 \t\t\t\t\t 0.5\n",
      "D: 10 \t\t\t\t\t 0.6470588235294118\n",
      "F: 9 \t\t\t\t\t 0.3333333333333333\n",
      "E: 6 \t\t\t\t\t 0.631578947368421\n",
      "B: 2 \t\t\t\t\t 0.6666666666666666\n"
     ]
    },
    {
     "data": {
      "image/png": "[encoded data removed]",
      "text/plain": [
       "<Figure size 1296x432 with 2 Axes>"
      ]
     },
     "metadata": {
      "needs_background": "light"
     },
     "output_type": "display_data"
    }
   ],
   "source": [
    "f, axs = plt.subplots(1, 2, figsize=(18, 6))\n",
    "\n",
    "# only plotting the 6 users who gave multiple ads\n",
    "offs = [-0.3, -0.2, -0.1, 0, 0.1, 0.2, 0.3]\n",
    "user_order = sorted(pids, key=lambda p: len(user_ads[p]), reverse=True)\n",
    "print('not benign, or info or political;\\t suspicious+revisit')\n",
    "for i, p in enumerate(user_order):\n",
    "    x = np.arange(len(code_props[p]))\n",
    "    n = len(user_ads[p])\n",
    "    errs = [normal_bin_conf(prop, n) for prop in code_props[p]]\n",
    "    axs[0].bar(x + offs[i], code_props[p], 0.1, yerr=errs, capsize=2, lw=0,\n",
    "           error_kw=dict(ecolor='grey', lw=.7),\n",
    "           label=user_labels[p] + f' (# ads: {n})')\n",
    "    \n",
    "    # plot without benign ads in the second panel\n",
    "    n -= user_codes[p]['Benign']    \n",
    "    x = np.arange(len(code_props[p])-1)\n",
    "    # only the interesting code props, benign is removed (on first ind of allcodes)\n",
    "    code_props_int = [user_codes[p][c] for c in allcodes[1:]]\n",
    "    code_props_int = np.array(code_props_int) / sum(code_props_int)\n",
    "    print(f'{user_labels[p]}:', n-user_codes[p]['Information']-user_codes[p]['Political'],\n",
    "          '\\t\\t\\t\\t\\t', sum(code_props_int[:-2]))\n",
    "    errs = [normal_bin_conf(prop, n) for prop in code_props_int]\n",
    "    axs[1].bar(x + offs[i], code_props_int, 0.1, yerr=errs, capsize=2, lw=0,\n",
    "              error_kw=dict(ecolor='grey', lw=.7),\n",
    "              label=user_labels[p])\n",
    "    \n",
    "code_ticks = [x.replace('Potentially', 'P.') for x in allcodes]\n",
    "axs[0].set_xticks(np.arange(len(code_props[p])))\n",
    "axs[0].set_xticklabels(code_ticks, rotation=45)\n",
    "axs[0].legend()\n",
    "axs[0].set_title('All codes')\n",
    "\n",
    "axs[1].set_title('Codes other than benign')\n",
    "axs[1].set_xticks(np.arange(len(code_props[p]) - 1))\n",
    "axs[1].set_xticklabels(code_ticks[1:], rotation=45)\n",
    "\n",
    "for ax in axs:\n",
    "    ax.set_ylim(bottom=0, top=1.1)\n",
    "    ax.set_ylabel('Fraction of ads for participant')\n",
    "    ax.grid(ls=':')\n",
    "\n",
    "# plt.savefig('participant-code-distribution.jpg', dpi=200, bbox_inches='tight')"
   ]
  },
  {
   "cell_type": "code",
   "execution_count": 31,
   "id": "3bc581c8",
   "metadata": {},
   "outputs": [
    {
     "name": "stdout",
     "output_type": "stream",
     "text": [
      "Low SES -- Benign: 81/95 (85.26%) Harmful: 14/95 (14.74%)\n",
      "High SES -- Benign: 578/655 (88.24%) Harmful: 77/655 (11.76%)\n"
     ]
    }
   ],
   "source": [
    "# TODO: observe fraction of non-benign, non-info ads by high/low SES\n",
    "# harmful ads = prohibited + suspicious + hate\n",
    "broadly_harmful = ['6265572946641', '6269895191441', '6269895209841', '23847549917010410',\n",
    "        '23845251205600750', '23847571411330750', '23847689537720750', '23848273117330459',\n",
    "       '23847586780210100', '23847949836880528', '6267697243641', '23848338693850343', '23848232246370343',\n",
    "       '23848232246690343', '23848232246790343', '6242292113312', '23847984315350591', '23848191626470579']\n",
    "\n",
    "labels = ['Low SES', 'High SES']\n",
    "for i, cat in enumerate([low_ses, high_ses]):\n",
    "    benign, harmful = 0, 0\n",
    "    for uid in cat:\n",
    "        for aid in user_ads[uid]:\n",
    "            if aid not in coding:\n",
    "                continue\n",
    "            if aid in broadly_harmful or 'Suspicious' in coding[aid] or 'Potentially prohibited' in coding[aid]:\n",
    "                harmful += 1\n",
    "            else:\n",
    "                benign += 1\n",
    "\n",
    "    total = benign+harmful\n",
    "    print(labels[i], '--', f'Benign: {benign}/{total} ({round(benign/total * 100, 2)}%)',\n",
    "          f'Harmful: {harmful}/{total} ({round(harmful/total * 100, 2)}%)')"
   ]
  },
  {
   "cell_type": "code",
   "execution_count": 34,
   "id": "bc659e6a",
   "metadata": {},
   "outputs": [
    {
     "name": "stdout",
     "output_type": "stream",
     "text": [
      "[[ 30  19]\n",
      " [  9   3]\n",
      " [152  44]\n",
      " [ 36   9]\n",
      " [ 51  51]\n",
      " [326 143]]\n",
      "\n",
      "test result (chi2, p-val):\n",
      "(28.18386525918884, 3.350678148385569e-05)\n"
     ]
    }
   ],
   "source": [
    "# is the fraction of benign ads statistically significant across our pilot participants\n",
    "con_tab = np.array([[user_codes[u]['Benign'], sum(user_codes[u].values()) - user_codes[u]['Benign']]\\\n",
    "                    for u in user_codes if u != '5e1b299528c70235eeed62ef'])\n",
    "print(con_tab)\n",
    "\n",
    "print('\\ntest result (chi2, p-val):')\n",
    "print(stats.chi2_contingency(con_tab)[:2])"
   ]
  },
  {
   "cell_type": "markdown",
   "id": "849c3675",
   "metadata": {},
   "source": [
    "**Quick Notes:**\n",
    "- purple is probably the most interesting: only 50% ads are benign, and the rest are sketchy\n",
    "- blue is getting more opportunity than the rest\n",
    "- purple is getting more suspicious and information\n",
    "- brown is getting more information than usual\n",
    "- orange is getting more financial and \"revisit\" than the rest -- suggests risk\n",
    "- also note only brown and purple saw political ads, not everyone on the platform is political\n",
    "- everyone gets a little bit of potentially prohibited content, good job FB\n",
    "(oh wow after ordering, the color has changed. previous purple is now green (D)\n",
    "\n",
    "**Local Analysis (right panel):**\n",
    "- minor insight: more clear now that red gets more suspicious ads compared to others\n",
    "\n",
    "\n",
    "Perhaps, we can takeaway that D and E are seeing the most sketchy content, since more of their distribution skews towards non-\"benign\" ads. Can statistical tests help me confirm this hypothesis?\n",
    "\n",
    "Also, it doesn't look like Angelica and I have consistent opinions for each code. Probably the only valuable opinion in this case would be the user's -- whatever we might think, if they are comfortable/actually happy to see an ad, who are we to judge. The simplest kind of harmful ad is the one that users themselves perceive as harmful."
   ]
  },
  {
   "cell_type": "code",
   "execution_count": null,
   "id": "7a5dcda9",
   "metadata": {},
   "outputs": [],
   "source": [
    "# next steps: solidify analysis\n",
    "# can i say something more concrete through confidence intervals? DONE -- no i can't\n",
    "\n",
    "# looks muddy. can i concretely say through statistical testing that there is a significant difference b/w our\n",
    "# participants for opportunity ads, or suspicious ads? looks like a fairly simple proportion test...\n",
    "# maybe an omnibus wrapped in somewhere\n",
    "\n",
    "# can i say something using a more concise measure such as gini index?"
   ]
  },
  {
   "cell_type": "code",
   "execution_count": null,
   "id": "926541cc",
   "metadata": {},
   "outputs": [],
   "source": [
    "# MORE ANALYSES\n",
    "# 1. is the proportion of benign+information different compare to the rest for any of these users? use tests to answer\n",
    "# (ignore the political)\n",
    "\n",
    "# 2. understand the volume of ads that are not benign+information+political -- how can we build a survey around \n",
    "# these to elicit user opinions? discuss these numbers with Angelica"
   ]
  },
  {
   "cell_type": "code",
   "execution_count": null,
   "id": "4d96f08c",
   "metadata": {},
   "outputs": [],
   "source": [
    "# is there some sort of harm score that can be given to each participant, such as fraction of suspicious and\n",
    "# prohibited ads"
   ]
  }
 ],
 "metadata": {
  "kernelspec": {
   "display_name": "Python 3",
   "language": "python",
   "name": "python3"
  },
  "language_info": {
   "codemirror_mode": {
    "name": "ipython",
    "version": 3
   },
   "file_extension": ".py",
   "mimetype": "text/x-python",
   "name": "python",
   "nbconvert_exporter": "python",
   "pygments_lexer": "ipython3",
   "version": "3.8.2"
  }
 },
 "nbformat": 4,
 "nbformat_minor": 5
}
