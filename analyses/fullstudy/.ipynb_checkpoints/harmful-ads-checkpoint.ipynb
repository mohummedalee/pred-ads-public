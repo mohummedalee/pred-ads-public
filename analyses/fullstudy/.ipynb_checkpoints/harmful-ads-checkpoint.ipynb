{
 "cells": [
  {
   "cell_type": "code",
   "execution_count": null,
   "id": "9bec4ed3",
   "metadata": {},
   "outputs": [],
   "source": [
    "# === ANALYSIS 1 ===\n",
    "# read ads from ~/Desktop/bad-ads.txt, understand how sparse these advertisers' distribution is\n",
    "# how are these harmful ads targeted?\n",
    "# does the same advertiser change their strategy? a change in interests sometimes"
   ]
  },
  {
   "cell_type": "code",
   "execution_count": null,
   "id": "dee3164b",
   "metadata": {},
   "outputs": [],
   "source": [
    "# === ANALYSIS 2 ===\n",
    "# related (on sensitive ads):\n",
    "# what about the distribution of Lark and Noom ads? are they saturated for the same people in our dataset?\n",
    "# how were they targeted anyway? does FB just know you're fat and trying to lose weight?\n",
    "\n",
    "# pick a subset of ads targeted with healthcare;potentially harmful"
   ]
  },
  {
   "cell_type": "code",
   "execution_count": null,
   "id": "7276a749",
   "metadata": {},
   "outputs": [],
   "source": [
    "# === ANALYSIS 3 ===\n",
    "# which ads do the users think are the absolute worst?\n",
    "# which code is most often described as causing discomfort?\n",
    "# is there an information theoretic way of finding out? like which code has the most mutual information with \"discomfort\"?"
   ]
  },
  {
   "cell_type": "code",
   "execution_count": 2,
   "id": "646bde5b",
   "metadata": {},
   "outputs": [],
   "source": [
    "import sys\n",
    "sys.path.insert(0, '../../db-processing/')\n",
    "import db_utils\n",
    "\n",
    "CONFIG_FILE = '../../db-processing/config.reader.ini'\n",
    "conn, img_path, obs_path = db_utils.connect(CONFIG_FILE)    \n",
    "cursor = conn.cursor()\n",
    "cursor.execute(f\"SET search_path TO 'observations';\")"
   ]
  },
  {
   "cell_type": "code",
   "execution_count": 17,
   "id": "af4c890d",
   "metadata": {},
   "outputs": [],
   "source": [
    "from collections import defaultdict\n",
    "import json\n",
    "import numpy as np\n",
    "import pandas as pd"
   ]
  },
  {
   "cell_type": "code",
   "execution_count": 3,
   "id": "e67a56bf",
   "metadata": {},
   "outputs": [],
   "source": [
    "bad_advertisers = ['Art traveling', 'World music', 'HealthyWage', 'RouFus-WU', 'Scholly', 'Floristero', 'StraightFix']\n",
    "\n",
    "bad_ads = ['23849337677840511', '23849408099440416', '23849317710470219',\n",
    "          '23849772514710031', '23849856046490748','23850361476580459', '23849488842910416']"
   ]
  },
  {
   "cell_type": "code",
   "execution_count": 29,
   "id": "871167a5",
   "metadata": {},
   "outputs": [],
   "source": [
    "# pull out all AD IDs of the bad_ads advertisers\n",
    "cursor.execute(\"SELECT advertiser FROM ads WHERE id IN %s\", (tuple(bad_ads), ))\n",
    "res = cursor.fetchall()\n",
    "bad_advertisers = [r[0] for r in res]\n",
    "\n",
    "# pull out all AD IDs from these advertisers\n",
    "cursor.execute(\"SELECT advertiser, id FROM ads WHERE advertiser IN %s\", (tuple(bad_advertisers), ))\n",
    "res = cursor.fetchall()\n",
    "allbad = [r[0] for r in res]\n",
    "# also prepare bad advertiser -> ad mapping\n",
    "advertiser_ads = defaultdict(set)\n",
    "for advertiser, aid in res:\n",
    "    advertiser_ads[advertiser].add(aid)"
   ]
  },
  {
   "cell_type": "code",
   "execution_count": 14,
   "id": "51c16892",
   "metadata": {},
   "outputs": [],
   "source": [
    "cursor.execute(\"select * from pid_adid where id in %s;\", (tuple(allbad), ))\n",
    "res = cursor.fetchall()\n",
    "badfreqs = defaultdict(list)\n",
    "for pid, adid in res:\n",
    "    badfreqs[pid].append(adid)"
   ]
  },
  {
   "cell_type": "code",
   "execution_count": 19,
   "id": "6664de04",
   "metadata": {},
   "outputs": [],
   "source": [
    "# load targetings\n",
    "ad_targetings = {}\n",
    "with open('../../db-processing/ad-targetings.tsv', 'r') as fh:\n",
    "    for line in fh:\n",
    "        ad_id, targeting = line.split('\\t')\n",
    "        targeting = json.loads(targeting.strip())\n",
    "        ad_targetings[ad_id] = targeting\n",
    "        \n",
    "ca_advertisers = {}\n",
    "# 'ca_owner_name': 'Klarna'\n",
    "\n",
    "def get_targeting(ut, aid):\n",
    "    # also updates global list of CA advertisers\n",
    "    global ca_advertisers\n",
    "    \n",
    "    # there is always an el['__typename'] == 'WAISTUIAgeGenderType'\n",
    "    all_targetings = {'id': aid}\n",
    "    for el in ut['data']['waist_targeting_data']:\n",
    "        if el['__typename'] == 'WAISTUIInterestsType':\n",
    "            all_targetings['interests'] = set([i['name'] for i in el['interests']])\n",
    "        elif el['__typename'] == 'WAISTUICustomAudienceType':\n",
    "            ca_advertisers[aid] = el['dfca_data']['ca_owner_name']\n",
    "            all_targetings['custom'] = True\n",
    "        elif el['__typename'] == 'WAISTUILocationType':\n",
    "            gran = json.loads(el['serialized_data'])['location_granularity']\n",
    "            loc = el['location_name']\n",
    "            all_targetings['location'] = {'loc': loc, 'gran': gran}\n",
    "        elif el['__typename'] == 'WAISTUIAgeGenderType':\n",
    "            all_targetings['age-gender'] = {\n",
    "                'age_min': el['age_min'],\n",
    "                'age_max': el['age_max'],\n",
    "                'gender': el['gender']\n",
    "            }        \n",
    "        \n",
    "    return all_targetings"
   ]
  },
  {
   "cell_type": "code",
   "execution_count": 20,
   "id": "35f3e1cb",
   "metadata": {},
   "outputs": [
    {
     "data": {
      "text/plain": [
       "defaultdict(list,\n",
       "            {'470998': [23849337677840511,\n",
       "              23849653159700080,\n",
       "              23849408099440416],\n",
       "             '606147': [23849772514710031, 23849856046490748],\n",
       "             '5a349be43e523d000194399e': [23849720183600080,\n",
       "              23849720183600080],\n",
       "             '525028': [23849720183600080, 23849358200850219],\n",
       "             '993453': [23849488842910416],\n",
       "             '441420': [23849245300540219,\n",
       "              23849396883360219,\n",
       "              23849543534630219,\n",
       "              23849376739290219,\n",
       "              23849459219030219,\n",
       "              23849503371640219,\n",
       "              23849459219030219],\n",
       "             '588623': [23849317710470219,\n",
       "              23849396883360219,\n",
       "              23849318067870219],\n",
       "             '233362': [23849494349500524],\n",
       "             '5e5ab88a43f33029b119a48c': [23849352724070219],\n",
       "             '111226': [23849358155160219, 23850361476580459],\n",
       "             '277428': [23849276863510009,\n",
       "              23849495771130009,\n",
       "              23850431543670459],\n",
       "             '60e3dea3ffbd0e2a90942794': [23849358773780219,\n",
       "              23849358773780219],\n",
       "             '5ee256134d95f435aa78964e': [23849381921270219],\n",
       "             '140023': [23849440577170219],\n",
       "             '105905': [23849357510370219],\n",
       "             '849164': [23849358150340219],\n",
       "             '5c4af67cdccaa800016b3192': [23849358639060219],\n",
       "             '932389': [23849503192560009],\n",
       "             '748452': [23849543396480219],\n",
       "             '636433': [23849543534160219, 23849597464970219]})"
      ]
     },
     "execution_count": 20,
     "metadata": {},
     "output_type": "execute_result"
    }
   ],
   "source": [
    "badfreqs"
   ]
  },
  {
   "cell_type": "code",
   "execution_count": 32,
   "id": "71a00d2a",
   "metadata": {},
   "outputs": [
    {
     "name": "stdout",
     "output_type": "stream",
     "text": [
      "['HealthyWage', 'Art traveling', 'World music', 'World music', 'RouFus-WU', 'Floristero', 'StraightFix']\n"
     ]
    }
   ],
   "source": [
    "print(bad_advertisers)"
   ]
  },
  {
   "cell_type": "code",
   "execution_count": 38,
   "id": "a9107bf0",
   "metadata": {},
   "outputs": [
    {
     "name": "stdout",
     "output_type": "stream",
     "text": [
      "{'id': 23849318067870219, 'age-gender': {'age_min': 10, 'age_max': 48, 'gender': 'FEMALE'}, 'location': {'loc': 'the United States', 'gran': 'country'}} \n",
      "\n",
      "{'id': 23849358639060219, 'age-gender': {'age_min': 10, 'age_max': 48, 'gender': 'MALE'}, 'location': {'loc': 'the United States', 'gran': 'country'}} \n",
      "\n",
      "{'id': 23849503371640219, 'age-gender': {'age_min': 10, 'age_max': 53, 'gender': 'ANY'}, 'location': {'loc': 'the United States', 'gran': 'country'}} \n",
      "\n",
      "{'id': 23849358155160219, 'age-gender': {'age_min': 10, 'age_max': 48, 'gender': 'FEMALE'}, 'location': {'loc': 'the United States', 'gran': 'country'}} \n",
      "\n",
      "{'id': 23849358200850219, 'age-gender': {'age_min': 13, 'age_max': 53, 'gender': 'ANY'}, 'location': {'loc': 'the United States', 'gran': 'country'}} \n",
      "\n",
      "{'id': 23849440577170219, 'age-gender': {'age_min': 10, 'age_max': 48, 'gender': 'FEMALE'}, 'location': {'loc': 'the United States', 'gran': 'country'}} \n",
      "\n",
      "{'id': 23849357510370219, 'custom': True, 'age-gender': {'age_min': 10, 'age_max': 53, 'gender': 'ANY'}, 'location': {'loc': 'the United States', 'gran': 'country'}} \n",
      "\n",
      "{'id': 23849245300540219, 'age-gender': {'age_min': 13, 'age_max': 53, 'gender': 'FEMALE'}, 'location': {'loc': 'the United States', 'gran': 'country'}} \n",
      "\n",
      "{'id': 23849317710470219, 'age-gender': {'age_min': 10, 'age_max': 48, 'gender': 'FEMALE'}, 'location': {'loc': 'the United States', 'gran': 'country'}} \n",
      "\n",
      "{'id': 23849352724070219, 'age-gender': {'age_min': 6, 'age_max': 53, 'gender': 'FEMALE'}, 'location': {'loc': 'the United States', 'gran': 'country'}} \n",
      "\n",
      "{'id': 23849381921270219, 'age-gender': {'age_min': 10, 'age_max': 48, 'gender': 'FEMALE'}, 'location': {'loc': 'the United States', 'gran': 'country'}} \n",
      "\n",
      "{'id': 23849543534630219, 'age-gender': {'age_min': 10, 'age_max': 53, 'gender': 'FEMALE'}, 'location': {'loc': 'the United States', 'gran': 'country'}} \n",
      "\n",
      "{'id': 23849459219030219, 'age-gender': {'age_min': 10, 'age_max': 53, 'gender': 'FEMALE'}, 'location': {'loc': 'the United States', 'gran': 'country'}} \n",
      "\n",
      "{'id': 23849396883360219, 'age-gender': {'age_min': 6, 'age_max': 53, 'gender': 'FEMALE'}, 'location': {'loc': 'the United States', 'gran': 'country'}} \n",
      "\n",
      "{'id': 23849543396480219, 'age-gender': {'age_min': 10, 'age_max': 48, 'gender': 'FEMALE'}, 'location': {'loc': 'the United States', 'gran': 'country'}} \n",
      "\n",
      "{'id': 23849543534160219, 'age-gender': {'age_min': 10, 'age_max': 53, 'gender': 'FEMALE'}, 'location': {'loc': 'the United States', 'gran': 'country'}} \n",
      "\n",
      "{'id': 23849358773780219, 'interests': {'Beer'}, 'age-gender': {'age_min': 10, 'age_max': 48, 'gender': 'FEMALE'}, 'location': {'loc': 'the United States', 'gran': 'country'}} \n",
      "\n",
      "{'id': 23849376739290219, 'custom': True, 'age-gender': {'age_min': 10, 'age_max': 48, 'gender': 'FEMALE'}, 'location': {'loc': 'the United States', 'gran': 'country'}} \n",
      "\n",
      "{'id': 23849358150340219, 'age-gender': {'age_min': 10, 'age_max': 48, 'gender': 'FEMALE'}, 'location': {'loc': 'the United States', 'gran': 'country'}} \n",
      "\n"
     ]
    }
   ],
   "source": [
    "for aid in advertiser_ads['HealthyWage']:\n",
    "    if str(aid) in ad_targetings:\n",
    "        print(get_targeting(ad_targetings[str(aid)], aid), '\\n')"
   ]
  },
  {
   "cell_type": "code",
   "execution_count": null,
   "id": "d49039a2",
   "metadata": {},
   "outputs": [],
   "source": []
  }
 ],
 "metadata": {
  "kernelspec": {
   "display_name": "Python 3",
   "language": "python",
   "name": "python3"
  },
  "language_info": {
   "codemirror_mode": {
    "name": "ipython",
    "version": 3
   },
   "file_extension": ".py",
   "mimetype": "text/x-python",
   "name": "python",
   "nbconvert_exporter": "python",
   "pygments_lexer": "ipython3",
   "version": "3.8.9"
  }
 },
 "nbformat": 4,
 "nbformat_minor": 5
}
