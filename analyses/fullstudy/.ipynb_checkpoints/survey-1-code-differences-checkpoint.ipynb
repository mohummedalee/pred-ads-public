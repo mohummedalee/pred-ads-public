{
 "cells": [
  {
   "cell_type": "code",
   "execution_count": 1,
   "id": "9790116a",
   "metadata": {},
   "outputs": [],
   "source": [
    "import pandas as pd\n",
    "import numpy as np\n",
    "import matplotlib.pyplot as plt\n",
    "plt.rcParams[\"font.family\"] = \"Helvetica\""
   ]
  },
  {
   "cell_type": "code",
   "execution_count": 2,
   "id": "c734b52a",
   "metadata": {},
   "outputs": [
    {
     "name": "stdout",
     "output_type": "stream",
     "text": [
      "(15232, 2)\n"
     ]
    }
   ],
   "source": [
    "survey_file = '../../db-processing/survey_responses.tsv'\n",
    "codes_file = '../../db-processing/ad_codes.tsv'\n",
    "\n",
    "survey = pd.read_csv(survey_file, sep='\\t')\n",
    "pid_adid_files = ['../../db-processing/surveys/survey-1/pid_adid_survey1.tsv',\n",
    "                 '../../db-processing/surveys/survey-2/pid_adid_survey2.tsv']\n",
    "pid_adid = pd.read_csv(pid_adid_files[0], sep='\\t')\n",
    "for f in pid_adid_files[1:]:\n",
    "    pid_adid = pd.concat([pid_adid, pd.read_csv(f, sep='\\t')], ignore_index=True)\n",
    "print(pid_adid.shape)\n",
    "survey1_pids = set(pid_adid['pid'])\n",
    "\n",
    "codes = pd.read_csv(codes_file, sep='\\t')\n",
    "# copy over Angelica's missing codes from Ali\n",
    "ang_null = codes['codes_angelica'].isna()\n",
    "codes.loc[ang_null, 'codes_angelica'] = codes.loc[ang_null, 'codes_ali']"
   ]
  },
  {
   "cell_type": "code",
   "execution_count": 3,
   "id": "2f81d0d7",
   "metadata": {},
   "outputs": [],
   "source": [
    "from collections import defaultdict\n",
    "\n",
    "def count_code_props(codes, norm=True):\n",
    "    # takes dict from adid -> codes and returns dict of code proportions\n",
    "    counts = defaultdict(lambda: 0)\n",
    "    for aid in codes:\n",
    "        # in case of multiple codes, count each one -- essentially computing fraction of codes and not ads here\n",
    "        for code in codes[aid].split(';'):\n",
    "#             if code not in ['Political', 'Clickbait']:\n",
    "#             if code not in ['Political']:\n",
    "            counts[code] += 1\n",
    "                \n",
    "    # TODO: also return 95% CIs around proportions\n",
    "    if norm:\n",
    "        return {c: counts[c]/sum(counts.values()) for c in counts}\n",
    "    else:\n",
    "        return counts"
   ]
  },
  {
   "cell_type": "markdown",
   "id": "4321e0a5",
   "metadata": {},
   "source": [
    "### Difference in Code Prevalence across users, from manual coding (for survey prep)"
   ]
  },
  {
   "cell_type": "code",
   "execution_count": 4,
   "id": "cba90334",
   "metadata": {},
   "outputs": [
    {
     "name": "stdout",
     "output_type": "stream",
     "text": [
      "{'Benign': 0.706111167980346, 'Opportunity': 0.08834066946463302, 'Financial': 0.020268195311700276, 'Clickbait': 0.02763844815231856, 'Healthcare': 0.11802641007267889, 'CA Lawsuit': 0.0037874910430955064, 'Potentially Harmful': 0.020268195311700276, 'Potentially Prohibited': 0.007882075954550108, 'Political': 0.007063158972259187, \"Can't determine, return to this one\": 0.0006141877367181902} 0.055788719418568944\n"
     ]
    },
    {
     "ename": "KeyError",
     "evalue": "\"Can't determine, return to this one\"",
     "output_type": "error",
     "traceback": [
      "\u001b[0;31m---------------------------------------------------------------------------\u001b[0m",
      "\u001b[0;31mKeyError\u001b[0m                                  Traceback (most recent call last)",
      "\u001b[0;32m<ipython-input-4-049d85e71188>\u001b[0m in \u001b[0;36m<module>\u001b[0;34m\u001b[0m\n\u001b[1;32m     25\u001b[0m \u001b[0;34m\u001b[0m\u001b[0m\n\u001b[1;32m     26\u001b[0m \u001b[0max\u001b[0m\u001b[0;34m.\u001b[0m\u001b[0mset_xticks\u001b[0m\u001b[0;34m(\u001b[0m\u001b[0mrange\u001b[0m\u001b[0;34m(\u001b[0m\u001b[0mlen\u001b[0m\u001b[0;34m(\u001b[0m\u001b[0morder\u001b[0m\u001b[0;34m)\u001b[0m\u001b[0;34m)\u001b[0m\u001b[0;34m)\u001b[0m\u001b[0;34m\u001b[0m\u001b[0;34m\u001b[0m\u001b[0m\n\u001b[0;32m---> 27\u001b[0;31m \u001b[0max\u001b[0m\u001b[0;34m.\u001b[0m\u001b[0mset_xticklabels\u001b[0m\u001b[0;34m(\u001b[0m\u001b[0;34m[\u001b[0m\u001b[0mplot_names\u001b[0m\u001b[0;34m[\u001b[0m\u001b[0mc\u001b[0m\u001b[0;34m]\u001b[0m \u001b[0;32mfor\u001b[0m \u001b[0mc\u001b[0m \u001b[0;32min\u001b[0m \u001b[0morder\u001b[0m\u001b[0;34m]\u001b[0m\u001b[0;34m,\u001b[0m \u001b[0mrotation\u001b[0m\u001b[0;34m=\u001b[0m\u001b[0;36m45\u001b[0m\u001b[0;34m,\u001b[0m \u001b[0mfontsize\u001b[0m\u001b[0;34m=\u001b[0m\u001b[0;36m12\u001b[0m\u001b[0;34m)\u001b[0m\u001b[0;34m\u001b[0m\u001b[0;34m\u001b[0m\u001b[0m\n\u001b[0m\u001b[1;32m     28\u001b[0m \u001b[0max\u001b[0m\u001b[0;34m.\u001b[0m\u001b[0mset_ylabel\u001b[0m\u001b[0;34m(\u001b[0m\u001b[0;34m'Fraction of Codes'\u001b[0m\u001b[0;34m,\u001b[0m \u001b[0mfontsize\u001b[0m\u001b[0;34m=\u001b[0m\u001b[0;36m12\u001b[0m\u001b[0;34m)\u001b[0m\u001b[0;34m\u001b[0m\u001b[0;34m\u001b[0m\u001b[0m\n\u001b[1;32m     29\u001b[0m \u001b[0;31m# ax.set_xlabel('Code')\u001b[0m\u001b[0;34m\u001b[0m\u001b[0;34m\u001b[0m\u001b[0;34m\u001b[0m\u001b[0m\n",
      "\u001b[0;32m<ipython-input-4-049d85e71188>\u001b[0m in \u001b[0;36m<listcomp>\u001b[0;34m(.0)\u001b[0m\n\u001b[1;32m     25\u001b[0m \u001b[0;34m\u001b[0m\u001b[0m\n\u001b[1;32m     26\u001b[0m \u001b[0max\u001b[0m\u001b[0;34m.\u001b[0m\u001b[0mset_xticks\u001b[0m\u001b[0;34m(\u001b[0m\u001b[0mrange\u001b[0m\u001b[0;34m(\u001b[0m\u001b[0mlen\u001b[0m\u001b[0;34m(\u001b[0m\u001b[0morder\u001b[0m\u001b[0;34m)\u001b[0m\u001b[0;34m)\u001b[0m\u001b[0;34m)\u001b[0m\u001b[0;34m\u001b[0m\u001b[0;34m\u001b[0m\u001b[0m\n\u001b[0;32m---> 27\u001b[0;31m \u001b[0max\u001b[0m\u001b[0;34m.\u001b[0m\u001b[0mset_xticklabels\u001b[0m\u001b[0;34m(\u001b[0m\u001b[0;34m[\u001b[0m\u001b[0mplot_names\u001b[0m\u001b[0;34m[\u001b[0m\u001b[0mc\u001b[0m\u001b[0;34m]\u001b[0m \u001b[0;32mfor\u001b[0m \u001b[0mc\u001b[0m \u001b[0;32min\u001b[0m \u001b[0morder\u001b[0m\u001b[0;34m]\u001b[0m\u001b[0;34m,\u001b[0m \u001b[0mrotation\u001b[0m\u001b[0;34m=\u001b[0m\u001b[0;36m45\u001b[0m\u001b[0;34m,\u001b[0m \u001b[0mfontsize\u001b[0m\u001b[0;34m=\u001b[0m\u001b[0;36m12\u001b[0m\u001b[0;34m)\u001b[0m\u001b[0;34m\u001b[0m\u001b[0;34m\u001b[0m\u001b[0m\n\u001b[0m\u001b[1;32m     28\u001b[0m \u001b[0max\u001b[0m\u001b[0;34m.\u001b[0m\u001b[0mset_ylabel\u001b[0m\u001b[0;34m(\u001b[0m\u001b[0;34m'Fraction of Codes'\u001b[0m\u001b[0;34m,\u001b[0m \u001b[0mfontsize\u001b[0m\u001b[0;34m=\u001b[0m\u001b[0;36m12\u001b[0m\u001b[0;34m)\u001b[0m\u001b[0;34m\u001b[0m\u001b[0;34m\u001b[0m\u001b[0m\n\u001b[1;32m     29\u001b[0m \u001b[0;31m# ax.set_xlabel('Code')\u001b[0m\u001b[0;34m\u001b[0m\u001b[0;34m\u001b[0m\u001b[0;34m\u001b[0m\u001b[0m\n",
      "\u001b[0;31mKeyError\u001b[0m: \"Can't determine, return to this one\""
     ]
    },
    {
     "data": {
      "image/png": "[encoded data removed]",
      "text/plain": [
       "<Figure size 720x432 with 1 Axes>"
      ]
     },
     "metadata": {
      "needs_background": "light"
     },
     "output_type": "display_data"
    }
   ],
   "source": [
    "plot_names = {\n",
    "    'Benign': 'Neutral',\n",
    "    'Healthcare': 'Healthcare',\n",
    "    'Opportunity': 'Opportunity',\n",
    "    'Clickbait': 'Clickbait',\n",
    "    'Financial': 'Financial',\n",
    "    'Potentially Harmful': 'Sensitive',\n",
    "    'Political': 'Political',\n",
    "    'Potentially Prohibited': 'Potentially\\nProhibited',\n",
    "    'CA Lawsuit': 'Class Action\\nLawsuit',\n",
    "    'Harmful': 'Problematic',\n",
    "    'Other': 'Other'\n",
    "}\n",
    "\n",
    "# compute overall counts\n",
    "code_counts = count_code_props(dict(codes[['adid', 'codes_angelica']].values), norm=False)\n",
    "code_props = count_code_props(dict(codes[['adid', 'codes_angelica']].values), norm=True)\n",
    "print(code_props,\n",
    "      code_props['Potentially Prohibited'] + code_props['Potentially Harmful'] + code_props['Clickbait'])\n",
    "\n",
    "f, ax = plt.subplots(1, 1, figsize=(10, 6))\n",
    "order = sorted(code_counts.keys(), key=lambda c: code_counts[c], reverse=True)\n",
    "# ax.bar(range(len(order)), [code_counts[c] for c in order], color='black')\n",
    "ax.bar(range(len(order)), [code_props[c] for c in order], color='black')\n",
    "\n",
    "ax.set_xticks(range(len(order)))\n",
    "ax.set_xticklabels([plot_names[c] for c in order], rotation=45, fontsize=12)\n",
    "ax.set_ylabel('Fraction of Codes', fontsize=12)\n",
    "# ax.set_xlabel('Code')\n",
    "ax.bar_label(ax.containers[0], labels=[code_counts[c] for c in order], fontsize=11)\n",
    "ax.grid(ls=':', axis='y')\n",
    "# ax.set_title('Distribution of codes from survey #1\\'s 3200 annotated ads')\n",
    "\n",
    "# plt.savefig('code-distribution-survey1.pdf', dpi=200, bbox_inches='tight')"
   ]
  },
  {
   "cell_type": "markdown",
   "id": "031a5e21",
   "metadata": {},
   "source": [
    "### Unpacking \"Potentially Harmful\""
   ]
  },
  {
   "cell_type": "code",
   "execution_count": 8,
   "id": "a4f64bfd",
   "metadata": {},
   "outputs": [
    {
     "data": {
      "text/html": [
       "<div>\n",
       "<style scoped>\n",
       "    .dataframe tbody tr th:only-of-type {\n",
       "        vertical-align: middle;\n",
       "    }\n",
       "\n",
       "    .dataframe tbody tr th {\n",
       "        vertical-align: top;\n",
       "    }\n",
       "\n",
       "    .dataframe thead th {\n",
       "        text-align: right;\n",
       "    }\n",
       "</style>\n",
       "<table border=\"1\" class=\"dataframe\">\n",
       "  <thead>\n",
       "    <tr style=\"text-align: right;\">\n",
       "      <th></th>\n",
       "      <th>adid</th>\n",
       "      <th>codes_angelica</th>\n",
       "      <th>codes_ali</th>\n",
       "    </tr>\n",
       "  </thead>\n",
       "  <tbody>\n",
       "    <tr>\n",
       "      <th>19</th>\n",
       "      <td>6261364605947</td>\n",
       "      <td>Healthcare;Potentially Harmful</td>\n",
       "      <td>NaN</td>\n",
       "    </tr>\n",
       "    <tr>\n",
       "      <th>566</th>\n",
       "      <td>23848631244790725</td>\n",
       "      <td>Clickbait;Potentially Harmful</td>\n",
       "      <td>NaN</td>\n",
       "    </tr>\n",
       "    <tr>\n",
       "      <th>589</th>\n",
       "      <td>23849189135900061</td>\n",
       "      <td>Potentially Harmful;Healthcare</td>\n",
       "      <td>NaN</td>\n",
       "    </tr>\n",
       "    <tr>\n",
       "      <th>868</th>\n",
       "      <td>23849238773220061</td>\n",
       "      <td>Healthcare;Potentially Harmful</td>\n",
       "      <td>NaN</td>\n",
       "    </tr>\n",
       "    <tr>\n",
       "      <th>891</th>\n",
       "      <td>6268714766572</td>\n",
       "      <td>Healthcare;Potentially Harmful;Clickbait</td>\n",
       "      <td>NaN</td>\n",
       "    </tr>\n",
       "    <tr>\n",
       "      <th>1176</th>\n",
       "      <td>23848975304510061</td>\n",
       "      <td>Healthcare;Potentially Harmful</td>\n",
       "      <td>NaN</td>\n",
       "    </tr>\n",
       "    <tr>\n",
       "      <th>1425</th>\n",
       "      <td>6260824776753</td>\n",
       "      <td>Potentially Harmful;Healthcare</td>\n",
       "      <td>NaN</td>\n",
       "    </tr>\n",
       "    <tr>\n",
       "      <th>1480</th>\n",
       "      <td>23849352161670311</td>\n",
       "      <td>Healthcare;Potentially Harmful</td>\n",
       "      <td>NaN</td>\n",
       "    </tr>\n",
       "    <tr>\n",
       "      <th>1624</th>\n",
       "      <td>23849008124890061</td>\n",
       "      <td>Healthcare;Potentially Harmful;Clickbait</td>\n",
       "      <td>NaN</td>\n",
       "    </tr>\n",
       "    <tr>\n",
       "      <th>1629</th>\n",
       "      <td>23849008112960061</td>\n",
       "      <td>Healthcare;Potentially Harmful;Clickbait</td>\n",
       "      <td>NaN</td>\n",
       "    </tr>\n",
       "    <tr>\n",
       "      <th>1673</th>\n",
       "      <td>23849110441030061</td>\n",
       "      <td>Potentially Harmful;Healthcare</td>\n",
       "      <td>NaN</td>\n",
       "    </tr>\n",
       "    <tr>\n",
       "      <th>1683</th>\n",
       "      <td>23849190633320782</td>\n",
       "      <td>Potentially Harmful;Healthcare</td>\n",
       "      <td>NaN</td>\n",
       "    </tr>\n",
       "    <tr>\n",
       "      <th>1692</th>\n",
       "      <td>23849190633290782</td>\n",
       "      <td>Healthcare;Potentially Harmful</td>\n",
       "      <td>NaN</td>\n",
       "    </tr>\n",
       "    <tr>\n",
       "      <th>2262</th>\n",
       "      <td>23849119139210061</td>\n",
       "      <td>Potentially Harmful;Healthcare</td>\n",
       "      <td>NaN</td>\n",
       "    </tr>\n",
       "    <tr>\n",
       "      <th>2414</th>\n",
       "      <td>23848911261920756</td>\n",
       "      <td>Healthcare;Potentially Harmful</td>\n",
       "      <td>NaN</td>\n",
       "    </tr>\n",
       "    <tr>\n",
       "      <th>2415</th>\n",
       "      <td>23849007967380061</td>\n",
       "      <td>Potentially Harmful;Healthcare</td>\n",
       "      <td>NaN</td>\n",
       "    </tr>\n",
       "    <tr>\n",
       "      <th>2529</th>\n",
       "      <td>6260147916612</td>\n",
       "      <td>Potentially Harmful;Clickbait</td>\n",
       "      <td>NaN</td>\n",
       "    </tr>\n",
       "    <tr>\n",
       "      <th>2862</th>\n",
       "      <td>23848250773390570</td>\n",
       "      <td>Potentially Harmful;Healthcare</td>\n",
       "      <td>NaN</td>\n",
       "    </tr>\n",
       "    <tr>\n",
       "      <th>3081</th>\n",
       "      <td>23848646832550348</td>\n",
       "      <td>Potentially Harmful;Clickbait</td>\n",
       "      <td>NaN</td>\n",
       "    </tr>\n",
       "    <tr>\n",
       "      <th>3084</th>\n",
       "      <td>23849130087880061</td>\n",
       "      <td>Healthcare;Potentially Harmful</td>\n",
       "      <td>NaN</td>\n",
       "    </tr>\n",
       "    <tr>\n",
       "      <th>3089</th>\n",
       "      <td>23849228322010286</td>\n",
       "      <td>Healthcare;Potentially Harmful;Potentially Pro...</td>\n",
       "      <td>NaN</td>\n",
       "    </tr>\n",
       "    <tr>\n",
       "      <th>3146</th>\n",
       "      <td>23849194490280249</td>\n",
       "      <td>Healthcare;Potentially Harmful</td>\n",
       "      <td>NaN</td>\n",
       "    </tr>\n",
       "    <tr>\n",
       "      <th>3152</th>\n",
       "      <td>23849654984380307</td>\n",
       "      <td>Potentially Harmful;Healthcare</td>\n",
       "      <td>NaN</td>\n",
       "    </tr>\n",
       "    <tr>\n",
       "      <th>3159</th>\n",
       "      <td>23848882939060232</td>\n",
       "      <td>Healthcare;Potentially Harmful</td>\n",
       "      <td>NaN</td>\n",
       "    </tr>\n",
       "    <tr>\n",
       "      <th>3183</th>\n",
       "      <td>23849343453760782</td>\n",
       "      <td>Healthcare;Potentially Harmful</td>\n",
       "      <td>NaN</td>\n",
       "    </tr>\n",
       "    <tr>\n",
       "      <th>3543</th>\n",
       "      <td>6249683861963</td>\n",
       "      <td>Potentially Harmful;Political</td>\n",
       "      <td>NaN</td>\n",
       "    </tr>\n",
       "    <tr>\n",
       "      <th>3658</th>\n",
       "      <td>6255405059358</td>\n",
       "      <td>Potentially Harmful;Healthcare</td>\n",
       "      <td>NaN</td>\n",
       "    </tr>\n",
       "    <tr>\n",
       "      <th>3666</th>\n",
       "      <td>6255578050381</td>\n",
       "      <td>Healthcare;Potentially Harmful</td>\n",
       "      <td>NaN</td>\n",
       "    </tr>\n",
       "    <tr>\n",
       "      <th>4364</th>\n",
       "      <td>6267207554019</td>\n",
       "      <td>Healthcare;Potentially Harmful</td>\n",
       "      <td>NaN</td>\n",
       "    </tr>\n",
       "    <tr>\n",
       "      <th>6132</th>\n",
       "      <td>23848927953240002</td>\n",
       "      <td>Potentially Harmful;Potentially Prohibited</td>\n",
       "      <td>NaN</td>\n",
       "    </tr>\n",
       "    <tr>\n",
       "      <th>7581</th>\n",
       "      <td>23849772514710031</td>\n",
       "      <td>Clickbait;Potentially Harmful</td>\n",
       "      <td>Clickbait;Potentially Harmful</td>\n",
       "    </tr>\n",
       "    <tr>\n",
       "      <th>7644</th>\n",
       "      <td>23849269113850381</td>\n",
       "      <td>Potentially Harmful;Healthcare</td>\n",
       "      <td>Potentially Harmful;Healthcare</td>\n",
       "    </tr>\n",
       "    <tr>\n",
       "      <th>7689</th>\n",
       "      <td>23849285348840381</td>\n",
       "      <td>Healthcare;Potentially Harmful</td>\n",
       "      <td>Healthcare;Potentially Harmful</td>\n",
       "    </tr>\n",
       "    <tr>\n",
       "      <th>7700</th>\n",
       "      <td>23849303020560174</td>\n",
       "      <td>Healthcare;Potentially Harmful</td>\n",
       "      <td>Healthcare;Potentially Harmful</td>\n",
       "    </tr>\n",
       "    <tr>\n",
       "      <th>7735</th>\n",
       "      <td>23849317710470219</td>\n",
       "      <td>Opportunity;Potentially Harmful</td>\n",
       "      <td>Opportunity;Potentially Harmful</td>\n",
       "    </tr>\n",
       "    <tr>\n",
       "      <th>7805</th>\n",
       "      <td>23849337677840511</td>\n",
       "      <td>Potentially Prohibited;Clickbait;Potentially H...</td>\n",
       "      <td>Potentially Prohibited;Clickbait;Potentially H...</td>\n",
       "    </tr>\n",
       "    <tr>\n",
       "      <th>7994</th>\n",
       "      <td>23849404971670174</td>\n",
       "      <td>Healthcare;Potentially Harmful</td>\n",
       "      <td>Healthcare;Potentially Harmful</td>\n",
       "    </tr>\n",
       "    <tr>\n",
       "      <th>7995</th>\n",
       "      <td>23849404974250174</td>\n",
       "      <td>Healthcare;Potentially Harmful</td>\n",
       "      <td>Healthcare;Potentially Harmful</td>\n",
       "    </tr>\n",
       "    <tr>\n",
       "      <th>8002</th>\n",
       "      <td>23849408099440416</td>\n",
       "      <td>Potentially Prohibited;Potentially Harmful;Cli...</td>\n",
       "      <td>Potentially Prohibited;Potentially Harmful;Cli...</td>\n",
       "    </tr>\n",
       "    <tr>\n",
       "      <th>8194</th>\n",
       "      <td>23849446813380061</td>\n",
       "      <td>Potentially Harmful;Healthcare</td>\n",
       "      <td>Potentially Harmful;Healthcare</td>\n",
       "    </tr>\n",
       "    <tr>\n",
       "      <th>8321</th>\n",
       "      <td>23849481224520523</td>\n",
       "      <td>Healthcare;Potentially Harmful</td>\n",
       "      <td>Healthcare;Potentially Harmful</td>\n",
       "    </tr>\n",
       "    <tr>\n",
       "      <th>8371</th>\n",
       "      <td>23849490813460461</td>\n",
       "      <td>Clickbait;Potentially Harmful</td>\n",
       "      <td>Clickbait;Potentially Harmful</td>\n",
       "    </tr>\n",
       "    <tr>\n",
       "      <th>8401</th>\n",
       "      <td>23849504383810578</td>\n",
       "      <td>Potentially Harmful;Potentially Prohibited</td>\n",
       "      <td>Potentially Harmful;Potentially Prohibited</td>\n",
       "    </tr>\n",
       "    <tr>\n",
       "      <th>8433</th>\n",
       "      <td>23849517496570308</td>\n",
       "      <td>Potentially Harmful;Clickbait</td>\n",
       "      <td>Potentially Harmful;Clickbait</td>\n",
       "    </tr>\n",
       "    <tr>\n",
       "      <th>8579</th>\n",
       "      <td>23849581688800308</td>\n",
       "      <td>Potentially Harmful;Clickbait</td>\n",
       "      <td>Potentially Harmful;Clickbait</td>\n",
       "    </tr>\n",
       "    <tr>\n",
       "      <th>8611</th>\n",
       "      <td>23849600686450154</td>\n",
       "      <td>Potentially Harmful;Clickbait</td>\n",
       "      <td>Potentially Harmful;Clickbait</td>\n",
       "    </tr>\n",
       "    <tr>\n",
       "      <th>8735</th>\n",
       "      <td>23849667190510154</td>\n",
       "      <td>Clickbait;Potentially Harmful</td>\n",
       "      <td>Clickbait;Potentially Harmful</td>\n",
       "    </tr>\n",
       "    <tr>\n",
       "      <th>8843</th>\n",
       "      <td>23849732039140749</td>\n",
       "      <td>Potentially Harmful;Opportunity</td>\n",
       "      <td>Potentially Harmful;Opportunity</td>\n",
       "    </tr>\n",
       "    <tr>\n",
       "      <th>9016</th>\n",
       "      <td>23849856046490748</td>\n",
       "      <td>Potentially Harmful;Clickbait</td>\n",
       "      <td>Potentially Harmful;Clickbait</td>\n",
       "    </tr>\n",
       "    <tr>\n",
       "      <th>9226</th>\n",
       "      <td>23850091653970728</td>\n",
       "      <td>Healthcare;Potentially Harmful</td>\n",
       "      <td>Healthcare;Potentially Harmful</td>\n",
       "    </tr>\n",
       "    <tr>\n",
       "      <th>9283</th>\n",
       "      <td>23850246892490133</td>\n",
       "      <td>Healthcare;Potentially Harmful</td>\n",
       "      <td>Healthcare;Potentially Harmful</td>\n",
       "    </tr>\n",
       "    <tr>\n",
       "      <th>9295</th>\n",
       "      <td>23850361476580459</td>\n",
       "      <td>Financial;Potentially Harmful;Clickbait</td>\n",
       "      <td>Financial;Potentially Harmful;Clickbait</td>\n",
       "    </tr>\n",
       "  </tbody>\n",
       "</table>\n",
       "</div>"
      ],
      "text/plain": [
       "                   adid                                     codes_angelica  \\\n",
       "19        6261364605947                     Healthcare;Potentially Harmful   \n",
       "566   23848631244790725                      Clickbait;Potentially Harmful   \n",
       "589   23849189135900061                     Potentially Harmful;Healthcare   \n",
       "868   23849238773220061                     Healthcare;Potentially Harmful   \n",
       "891       6268714766572           Healthcare;Potentially Harmful;Clickbait   \n",
       "1176  23848975304510061                     Healthcare;Potentially Harmful   \n",
       "1425      6260824776753                     Potentially Harmful;Healthcare   \n",
       "1480  23849352161670311                     Healthcare;Potentially Harmful   \n",
       "1624  23849008124890061           Healthcare;Potentially Harmful;Clickbait   \n",
       "1629  23849008112960061           Healthcare;Potentially Harmful;Clickbait   \n",
       "1673  23849110441030061                     Potentially Harmful;Healthcare   \n",
       "1683  23849190633320782                     Potentially Harmful;Healthcare   \n",
       "1692  23849190633290782                     Healthcare;Potentially Harmful   \n",
       "2262  23849119139210061                     Potentially Harmful;Healthcare   \n",
       "2414  23848911261920756                     Healthcare;Potentially Harmful   \n",
       "2415  23849007967380061                     Potentially Harmful;Healthcare   \n",
       "2529      6260147916612                      Potentially Harmful;Clickbait   \n",
       "2862  23848250773390570                     Potentially Harmful;Healthcare   \n",
       "3081  23848646832550348                      Potentially Harmful;Clickbait   \n",
       "3084  23849130087880061                     Healthcare;Potentially Harmful   \n",
       "3089  23849228322010286  Healthcare;Potentially Harmful;Potentially Pro...   \n",
       "3146  23849194490280249                     Healthcare;Potentially Harmful   \n",
       "3152  23849654984380307                     Potentially Harmful;Healthcare   \n",
       "3159  23848882939060232                     Healthcare;Potentially Harmful   \n",
       "3183  23849343453760782                     Healthcare;Potentially Harmful   \n",
       "3543      6249683861963                      Potentially Harmful;Political   \n",
       "3658      6255405059358                     Potentially Harmful;Healthcare   \n",
       "3666      6255578050381                     Healthcare;Potentially Harmful   \n",
       "4364      6267207554019                     Healthcare;Potentially Harmful   \n",
       "6132  23848927953240002         Potentially Harmful;Potentially Prohibited   \n",
       "7581  23849772514710031                      Clickbait;Potentially Harmful   \n",
       "7644  23849269113850381                     Potentially Harmful;Healthcare   \n",
       "7689  23849285348840381                     Healthcare;Potentially Harmful   \n",
       "7700  23849303020560174                     Healthcare;Potentially Harmful   \n",
       "7735  23849317710470219                    Opportunity;Potentially Harmful   \n",
       "7805  23849337677840511  Potentially Prohibited;Clickbait;Potentially H...   \n",
       "7994  23849404971670174                     Healthcare;Potentially Harmful   \n",
       "7995  23849404974250174                     Healthcare;Potentially Harmful   \n",
       "8002  23849408099440416  Potentially Prohibited;Potentially Harmful;Cli...   \n",
       "8194  23849446813380061                     Potentially Harmful;Healthcare   \n",
       "8321  23849481224520523                     Healthcare;Potentially Harmful   \n",
       "8371  23849490813460461                      Clickbait;Potentially Harmful   \n",
       "8401  23849504383810578         Potentially Harmful;Potentially Prohibited   \n",
       "8433  23849517496570308                      Potentially Harmful;Clickbait   \n",
       "8579  23849581688800308                      Potentially Harmful;Clickbait   \n",
       "8611  23849600686450154                      Potentially Harmful;Clickbait   \n",
       "8735  23849667190510154                      Clickbait;Potentially Harmful   \n",
       "8843  23849732039140749                    Potentially Harmful;Opportunity   \n",
       "9016  23849856046490748                      Potentially Harmful;Clickbait   \n",
       "9226  23850091653970728                     Healthcare;Potentially Harmful   \n",
       "9283  23850246892490133                     Healthcare;Potentially Harmful   \n",
       "9295  23850361476580459            Financial;Potentially Harmful;Clickbait   \n",
       "\n",
       "                                              codes_ali  \n",
       "19                                                  NaN  \n",
       "566                                                 NaN  \n",
       "589                                                 NaN  \n",
       "868                                                 NaN  \n",
       "891                                                 NaN  \n",
       "1176                                                NaN  \n",
       "1425                                                NaN  \n",
       "1480                                                NaN  \n",
       "1624                                                NaN  \n",
       "1629                                                NaN  \n",
       "1673                                                NaN  \n",
       "1683                                                NaN  \n",
       "1692                                                NaN  \n",
       "2262                                                NaN  \n",
       "2414                                                NaN  \n",
       "2415                                                NaN  \n",
       "2529                                                NaN  \n",
       "2862                                                NaN  \n",
       "3081                                                NaN  \n",
       "3084                                                NaN  \n",
       "3089                                                NaN  \n",
       "3146                                                NaN  \n",
       "3152                                                NaN  \n",
       "3159                                                NaN  \n",
       "3183                                                NaN  \n",
       "3543                                                NaN  \n",
       "3658                                                NaN  \n",
       "3666                                                NaN  \n",
       "4364                                                NaN  \n",
       "6132                                                NaN  \n",
       "7581                      Clickbait;Potentially Harmful  \n",
       "7644                     Potentially Harmful;Healthcare  \n",
       "7689                     Healthcare;Potentially Harmful  \n",
       "7700                     Healthcare;Potentially Harmful  \n",
       "7735                    Opportunity;Potentially Harmful  \n",
       "7805  Potentially Prohibited;Clickbait;Potentially H...  \n",
       "7994                     Healthcare;Potentially Harmful  \n",
       "7995                     Healthcare;Potentially Harmful  \n",
       "8002  Potentially Prohibited;Potentially Harmful;Cli...  \n",
       "8194                     Potentially Harmful;Healthcare  \n",
       "8321                     Healthcare;Potentially Harmful  \n",
       "8371                      Clickbait;Potentially Harmful  \n",
       "8401         Potentially Harmful;Potentially Prohibited  \n",
       "8433                      Potentially Harmful;Clickbait  \n",
       "8579                      Potentially Harmful;Clickbait  \n",
       "8611                      Potentially Harmful;Clickbait  \n",
       "8735                      Clickbait;Potentially Harmful  \n",
       "8843                    Potentially Harmful;Opportunity  \n",
       "9016                      Potentially Harmful;Clickbait  \n",
       "9226                     Healthcare;Potentially Harmful  \n",
       "9283                     Healthcare;Potentially Harmful  \n",
       "9295            Financial;Potentially Harmful;Clickbait  "
      ]
     },
     "execution_count": 8,
     "metadata": {},
     "output_type": "execute_result"
    }
   ],
   "source": [
    "# codes['codes_angelica'].iloc[i] in ['Clickbait;Potentially Harmful', 'Potentially Harmful;Clickbait']\n",
    "codes[codes['codes_angelica'].str.contains('Potentially Harmful;.*|.*;Potentially Harmful')]"
   ]
  },
  {
   "cell_type": "code",
   "execution_count": 384,
   "id": "480af349",
   "metadata": {},
   "outputs": [],
   "source": [
    "def emergency_harmful_wipe(codes):\n",
    "    # for ConPro deadline: to make sure Potentially Harmful (PH) -> Sensitive, stopping use of PH for possible scams\n",
    "    # whatever is coded PH+clickbait becomes just clickbait\n",
    "    change = codes[codes['codes_angelica'].str.contains('Potentially Harmful')]\n",
    "    for i in change.index:    \n",
    "        if codes['codes_angelica'].iloc[i] in ['Clickbait;Potentially Harmful', 'Potentially Harmful;Clickbait']:\n",
    "            codes.at[i, 'codes_angelica'] = 'Clickbait'"
   ]
  },
  {
   "cell_type": "code",
   "execution_count": 387,
   "id": "ab66bacd",
   "metadata": {},
   "outputs": [],
   "source": [
    "emergency_harmful_wipe(codes)"
   ]
  },
  {
   "cell_type": "code",
   "execution_count": 72,
   "id": "f6771201",
   "metadata": {},
   "outputs": [],
   "source": [
    "pid_adid_file = '../../db-processing/surveys/survey-1/pid_adid_survey1.tsv'\n",
    "pid_adid = pd.read_csv(pid_adid_file, sep='\\t')\n",
    "\n",
    "pid_adid_b2_file = '../../db-processing/surveys/survey-1/pid_adid_survey1_batch2.tsv'\n",
    "pid_adid = pd.concat([pid_adid, pd.read_csv(pid_adid_b2_file, sep='\\t')])\n",
    "\n",
    "survey1_pids = set(pid_adid['pid'])\n",
    "\n",
    "part_ad_counts = pid_adid.groupby('pid').count().to_dict()['adid']"
   ]
  },
  {
   "cell_type": "code",
   "execution_count": 204,
   "id": "918f6935",
   "metadata": {},
   "outputs": [],
   "source": [
    "part_code_props = {}\n",
    "part_code_counts = {}\n",
    "\n",
    "for pid in survey1_pids:\n",
    "    joiner = pid_adid[pid_adid['pid'] == pid]\n",
    "    joined = joiner.merge(codes, how='inner', left_on='adid', right_on='adid')\n",
    "    \n",
    "    code_props = count_code_props(dict(joined[['adid', 'codes_angelica']].values), norm=True)\n",
    "    part_code_props[pid] = code_props\n",
    "    \n",
    "    code_counts = count_code_props(dict(joined[['adid', 'codes_angelica']].values), norm=False)\n",
    "    part_code_counts[pid] = code_counts"
   ]
  },
  {
   "cell_type": "code",
   "execution_count": null,
   "id": "254f33b1",
   "metadata": {},
   "outputs": [],
   "source": [
    "### Code distribution results, broken down by participant, that we'd like to understand\n",
    "1. stacked bar chart of proportions -- DONE \n",
    "2. omnibus chi-2 test on fraction of benign -- DONE"
   ]
  },
  {
   "cell_type": "code",
   "execution_count": 77,
   "id": "c2112d6d",
   "metadata": {},
   "outputs": [],
   "source": [
    "colors = {\n",
    "    'Benign': 'dimgray',\n",
    "    'Financial': 'palegreen',\n",
    "    'Healthcare': 'lightseagreen',\n",
    "    'Opportunity': 'gold',\n",
    "    'Harmful': 'tab:red',\n",
    "    'Potentially Harmful': 'tab:red',\n",
    "    'Potentially Prohibited': 'purple',\n",
    "    'Clickbait': 'tab:orange',\n",
    "    'Other': 'lightgray'\n",
    "}"
   ]
  },
  {
   "cell_type": "code",
   "execution_count": 37,
   "id": "cfe22313",
   "metadata": {},
   "outputs": [],
   "source": [
    "from math import sqrt\n",
    "\n",
    "def normal_bin_conf(p, n, alpha=.95):\n",
    "    tab = {0.90: 1.645, 0.95: 1.96, 0.99: 2.58}\n",
    "    z = tab[alpha]\n",
    "    # binomial proportion confidence interval\n",
    "    return z * sqrt((p * (1-p))/n)"
   ]
  },
  {
   "cell_type": "code",
   "execution_count": 534,
   "id": "26789f6b",
   "metadata": {},
   "outputs": [
    {
     "data": {
      "text/plain": [
       "Text(0.5, 1.0, 'Ad Type Breakdown for Participants ≥ 25 Contributed Ads')"
      ]
     },
     "execution_count": 534,
     "metadata": {},
     "output_type": "execute_result"
    },
    {
     "data": {
      "image/png": "[encoded data removed]",
      "text/plain": [
       "<Figure size 1080x576 with 1 Axes>"
      ]
     },
     "metadata": {
      "needs_background": "light"
     },
     "output_type": "display_data"
    }
   ],
   "source": [
    "bar_order = ['Benign', 'Other', 'Financial', 'Healthcare', 'Opportunity',\n",
    "             'Potentially Harmful', 'Potentially Prohibited', 'Clickbait']\n",
    "\n",
    "# visualize in descending order of fraction benign\n",
    "part_order = sorted(survey1_pids, key=lambda pid: part_code_props[pid]['Benign'], reverse=True)\n",
    "# exclude participants with < 25 ads\n",
    "part_order = [p for p in part_order if part_ad_counts[p] >= 25]\n",
    "f, ax = plt.subplots(figsize=(15, 8))\n",
    "\n",
    "# total across categories we care about\n",
    "totals = {p: 0 for p in part_order}\n",
    "for p in part_order:\n",
    "    for code in bar_order:\n",
    "#         if code == 'Harmful':\n",
    "#             totals[p] += part_code_counts[p].get('Potentially Prohibited', 0)\n",
    "#             totals[p] += part_code_counts[p].get('Potentially Harmful', 0)\n",
    "        if code == 'Other':\n",
    "            totals[p] += part_code_counts[p].get('CA Lawsuit', 0)\n",
    "            totals[p] += part_code_counts[p].get('Political', 0)\n",
    "        else:\n",
    "            totals[p] += part_code_counts[p].get(code, 0)\n",
    "\n",
    "last = np.zeros(len(part_order))\n",
    "for code in bar_order:\n",
    "    if code == 'Other':\n",
    "        curr = [part_code_props[p].get('CA Lawsuit', 0) + part_code_props[p].get('Political', 0)\\\n",
    "                         for p in part_order]\n",
    "#     if code == 'Harmful':\n",
    "#         # sum up harmful and prohibited\n",
    "#         curr = [part_code_props[p].get('Potentially Prohibited', 0) + part_code_props[p].get('Potentially Harmful', 0)\\\n",
    "#                          for p in part_order]\n",
    "        # == when plotting counts ==\n",
    "#         curr = [part_code_counts[p].get('Potentially Prohibited', 0) + part_code_counts[p].get('Potentially Harmful', 0)\\\n",
    "#                          for p in part_order]\n",
    "#         print(curr)\n",
    "    else:\n",
    "        curr = [part_code_props[p].get(code, 0) for p in part_order]\n",
    "        # == when plotting counts ==\n",
    "#         curr = [part_code_counts[p].get(code, 0) for p in part_order]\n",
    "        \n",
    "    errs = [normal_bin_conf(curr[i], totals[p]) if (totals[p]*curr[i]) >= 5 else 0 \\\n",
    "            for i, p in enumerate(part_order)]\n",
    "#     errs = None\n",
    "    ax.bar(np.arange(len(part_order)), curr, .5, yerr=errs, label=plot_names[code], bottom=last,\n",
    "           color=colors[code], alpha=.8, ecolor=colors[code])\n",
    "    last += np.array(curr)\n",
    "    \n",
    "ax.set_ylabel('Proportion of Ads')\n",
    "# ax.set_ylabel('Number of annotations')\n",
    "ax.set_xlabel('Participant')\n",
    "ax.set_ylim(top=1.01)\n",
    "ax.grid(ls=':')\n",
    "ax.legend()\n",
    "ax.set_title('Ad Type Breakdown for Participants ≥ 25 Contributed Ads')\n",
    "\n",
    "# plt.savefig('survey-1-code-prevalence-props.jpg', dpi=200, bbox_inches='tight')\n",
    "# plt.savefig('survey-1-code-prevalence-counts.jpg', dpi=200, bbox_inches='tight')"
   ]
  },
  {
   "cell_type": "code",
   "execution_count": 538,
   "id": "d8771d3f",
   "metadata": {},
   "outputs": [
    {
     "name": "stdout",
     "output_type": "stream",
     "text": [
      "{'Benign': 0.9753086419753086, 'Healthcare': 0.024691358024691357} total ads: 162\n"
     ]
    },
    {
     "data": {
      "text/html": [
       "<div>\n",
       "<style scoped>\n",
       "    .dataframe tbody tr th:only-of-type {\n",
       "        vertical-align: middle;\n",
       "    }\n",
       "\n",
       "    .dataframe tbody tr th {\n",
       "        vertical-align: top;\n",
       "    }\n",
       "\n",
       "    .dataframe thead th {\n",
       "        text-align: right;\n",
       "    }\n",
       "</style>\n",
       "<table border=\"1\" class=\"dataframe\">\n",
       "  <thead>\n",
       "    <tr style=\"text-align: right;\">\n",
       "      <th></th>\n",
       "      <th>pid</th>\n",
       "      <th>adid</th>\n",
       "      <th>codes_angelica</th>\n",
       "    </tr>\n",
       "  </thead>\n",
       "  <tbody>\n",
       "    <tr>\n",
       "      <th>0</th>\n",
       "      <td>5db1142453bf830017fc744c</td>\n",
       "      <td>23849181895800030</td>\n",
       "      <td>Benign</td>\n",
       "    </tr>\n",
       "    <tr>\n",
       "      <th>1</th>\n",
       "      <td>5db1142453bf830017fc744c</td>\n",
       "      <td>23849489760030749</td>\n",
       "      <td>Benign</td>\n",
       "    </tr>\n",
       "    <tr>\n",
       "      <th>2</th>\n",
       "      <td>5db1142453bf830017fc744c</td>\n",
       "      <td>23848594929850589</td>\n",
       "      <td>Benign</td>\n",
       "    </tr>\n",
       "    <tr>\n",
       "      <th>3</th>\n",
       "      <td>5db1142453bf830017fc744c</td>\n",
       "      <td>6257108476455</td>\n",
       "      <td>Benign</td>\n",
       "    </tr>\n",
       "    <tr>\n",
       "      <th>4</th>\n",
       "      <td>5db1142453bf830017fc744c</td>\n",
       "      <td>23848995889390434</td>\n",
       "      <td>Benign</td>\n",
       "    </tr>\n",
       "    <tr>\n",
       "      <th>...</th>\n",
       "      <td>...</td>\n",
       "      <td>...</td>\n",
       "      <td>...</td>\n",
       "    </tr>\n",
       "    <tr>\n",
       "      <th>157</th>\n",
       "      <td>5db1142453bf830017fc744c</td>\n",
       "      <td>23849175601850115</td>\n",
       "      <td>Benign</td>\n",
       "    </tr>\n",
       "    <tr>\n",
       "      <th>158</th>\n",
       "      <td>5db1142453bf830017fc744c</td>\n",
       "      <td>23849625866450078</td>\n",
       "      <td>Benign</td>\n",
       "    </tr>\n",
       "    <tr>\n",
       "      <th>159</th>\n",
       "      <td>5db1142453bf830017fc744c</td>\n",
       "      <td>23849128112680683</td>\n",
       "      <td>Benign</td>\n",
       "    </tr>\n",
       "    <tr>\n",
       "      <th>160</th>\n",
       "      <td>5db1142453bf830017fc744c</td>\n",
       "      <td>23849151008850183</td>\n",
       "      <td>Benign</td>\n",
       "    </tr>\n",
       "    <tr>\n",
       "      <th>161</th>\n",
       "      <td>5db1142453bf830017fc744c</td>\n",
       "      <td>23849160839190005</td>\n",
       "      <td>Benign</td>\n",
       "    </tr>\n",
       "  </tbody>\n",
       "</table>\n",
       "<p>162 rows × 3 columns</p>\n",
       "</div>"
      ],
      "text/plain": [
       "                          pid               adid codes_angelica\n",
       "0    5db1142453bf830017fc744c  23849181895800030         Benign\n",
       "1    5db1142453bf830017fc744c  23849489760030749         Benign\n",
       "2    5db1142453bf830017fc744c  23848594929850589         Benign\n",
       "3    5db1142453bf830017fc744c      6257108476455         Benign\n",
       "4    5db1142453bf830017fc744c  23848995889390434         Benign\n",
       "..                        ...                ...            ...\n",
       "157  5db1142453bf830017fc744c  23849175601850115         Benign\n",
       "158  5db1142453bf830017fc744c  23849625866450078         Benign\n",
       "159  5db1142453bf830017fc744c  23849128112680683         Benign\n",
       "160  5db1142453bf830017fc744c  23849151008850183         Benign\n",
       "161  5db1142453bf830017fc744c  23849160839190005         Benign\n",
       "\n",
       "[162 rows x 3 columns]"
      ]
     },
     "execution_count": 538,
     "metadata": {},
     "output_type": "execute_result"
    }
   ],
   "source": [
    "# === debug cell ===\n",
    "\n",
    "inspect = part_order[0]\n",
    "print(part_code_props[inspect], 'total ads:', part_ad_counts[inspect])\n",
    "\n",
    "pid_adid[pid_adid['pid'] == inspect].merge(codes, 'inner', 'adid').drop('codes_ali', axis=1)"
   ]
  },
  {
   "cell_type": "markdown",
   "id": "6087c927",
   "metadata": {},
   "source": [
    "**Observations from Stacked Bar Plot**: Solid result to see that the last two bars/participants, with 251 and 151 ads, have a clear difference in the distribution of the kind of ads they see. Significantly less benign and more healthcare and opportunity ads for both. Also visible that financial ads are popular with a minority of users. Healthcare ads are also not served to everyone and only a subset.\n",
    "\n",
    "It would be interesting to unpack wherever there's a higher fraction of opportunity or financial ads, do the users actually describe as being interested in these? But this should be done in a separate analysis."
   ]
  },
  {
   "cell_type": "markdown",
   "id": "af45c500",
   "metadata": {},
   "source": [
    "**Proportion Test on ratio of benign ads across participants**"
   ]
  },
  {
   "cell_type": "code",
   "execution_count": 535,
   "id": "cbc24fdb",
   "metadata": {},
   "outputs": [],
   "source": [
    "benign = []\n",
    "non_benign = []\n",
    "\n",
    "for pid in survey1_pids:\n",
    "    joiner = pid_adid[pid_adid['pid'] == pid]\n",
    "    joined = joiner.merge(codes, how='inner', left_on='adid', right_on='adid')\n",
    "    code_counts = count_code_props(dict(joined[['adid', 'codes_angelica']].values), norm=False)\n",
    "    \n",
    "    benign.append(code_counts['Benign'])\n",
    "    non_benign.append(sum(code_counts.values()) \\\n",
    "                      - code_counts['Benign'] - code_counts.get('Political', 0))"
   ]
  },
  {
   "cell_type": "code",
   "execution_count": 536,
   "id": "72a33aa0",
   "metadata": {},
   "outputs": [
    {
     "data": {
      "text/plain": [
       "(472.10417815886245,\n",
       " 1.1531995366846966e-74,\n",
       " 41,\n",
       " array([[ 56.63944796,  15.73317999,  18.87981599, 151.82518689,\n",
       "          81.81253594,  81.81253594,  17.30649799,  36.97297297,\n",
       "          70.01265095,   7.86658999,  59.78608396,  25.17308798,\n",
       "          66.07935595,  10.22656699, 102.26566993,  96.75905693,\n",
       "           5.506613  ,  13.37320299, 179.35825187,  28.31972398,\n",
       "          48.77285796, 113.27889592, 164.41173088,  21.23979298,\n",
       "          91.25244393, 123.50546291,  94.39907993,   6.293272  ,\n",
       "           5.506613  , 118.78550891,   4.719954  ,   9.43990799,\n",
       "         101.47901093,  58.99942496, 127.43875791,  92.03910293,\n",
       "          18.87981599,  48.77285796,  70.79930995,  29.89304198,\n",
       "         166.77170788,  93.61242093],\n",
       "        [ 15.36055204,   4.26682001,   5.12018401,  41.17481311,\n",
       "          22.18746406,  22.18746406,   4.69350201,  10.02702703,\n",
       "          18.98734905,   2.13341001,  16.21391604,   6.82691202,\n",
       "          17.92064405,   2.77343301,  27.73433007,  26.24094307,\n",
       "           1.493387  ,   3.62679701,  48.64174813,   7.68027602,\n",
       "          13.22714204,  30.72110408,  44.58826912,   5.76020702,\n",
       "          24.74755607,  33.49453709,  25.60092007,   1.706728  ,\n",
       "           1.493387  ,  32.21449109,   1.280046  ,   2.56009201,\n",
       "          27.52098907,  16.00057504,  34.56124209,  24.96089707,\n",
       "           5.12018401,  13.22714204,  19.20069005,   8.10695802,\n",
       "          45.22829212,  25.38757907]]))"
      ]
     },
     "execution_count": 536,
     "metadata": {},
     "output_type": "execute_result"
    }
   ],
   "source": [
    "from scipy.stats import chi2_contingency\n",
    "\n",
    "chi2_contingency(np.array([benign, non_benign]))"
   ]
  },
  {
   "cell_type": "markdown",
   "id": "f32bc8a7",
   "metadata": {},
   "source": [
    "**Above:** p << 0.05, therefore the null hypothesis that proportions (of benign ads) for all users are the same is rejected."
   ]
  },
  {
   "cell_type": "code",
   "execution_count": 181,
   "id": "87ab1127",
   "metadata": {},
   "outputs": [
    {
     "data": {
      "text/html": [
       "<div>\n",
       "<style scoped>\n",
       "    .dataframe tbody tr th:only-of-type {\n",
       "        vertical-align: middle;\n",
       "    }\n",
       "\n",
       "    .dataframe tbody tr th {\n",
       "        vertical-align: top;\n",
       "    }\n",
       "\n",
       "    .dataframe thead th {\n",
       "        text-align: right;\n",
       "    }\n",
       "</style>\n",
       "<table border=\"1\" class=\"dataframe\">\n",
       "  <thead>\n",
       "    <tr style=\"text-align: right;\">\n",
       "      <th></th>\n",
       "      <th>pid</th>\n",
       "      <th>adid</th>\n",
       "      <th>relevance</th>\n",
       "      <th>like</th>\n",
       "      <th>dislike</th>\n",
       "      <th>codes_angelica</th>\n",
       "      <th>codes_ali</th>\n",
       "    </tr>\n",
       "  </thead>\n",
       "  <tbody>\n",
       "    <tr>\n",
       "      <th>0</th>\n",
       "      <td>61648bb6ad1eceeee2c056ee</td>\n",
       "      <td>23848873531490112</td>\n",
       "      <td>4</td>\n",
       "      <td>It is clear what product the ad is selling.;I ...</td>\n",
       "      <td>I do not dislike this ad.</td>\n",
       "      <td>Potentially Harmful</td>\n",
       "      <td>NaN</td>\n",
       "    </tr>\n",
       "    <tr>\n",
       "      <th>1</th>\n",
       "      <td>61648bb6ad1eceeee2c056ee</td>\n",
       "      <td>23848922479820561</td>\n",
       "      <td>4</td>\n",
       "      <td>It is clear what product the ad is selling.;It...</td>\n",
       "      <td>I do not dislike this ad.</td>\n",
       "      <td>Healthcare</td>\n",
       "      <td>NaN</td>\n",
       "    </tr>\n",
       "    <tr>\n",
       "      <th>2</th>\n",
       "      <td>61648bb6ad1eceeee2c056ee</td>\n",
       "      <td>6262629184060</td>\n",
       "      <td>1</td>\n",
       "      <td>I do not like this ad.</td>\n",
       "      <td>It is irrelevant to me, or doesn’t contain int...</td>\n",
       "      <td>Opportunity</td>\n",
       "      <td>NaN</td>\n",
       "    </tr>\n",
       "    <tr>\n",
       "      <th>3</th>\n",
       "      <td>61648bb6ad1eceeee2c056ee</td>\n",
       "      <td>23849052911990447</td>\n",
       "      <td>3</td>\n",
       "      <td>It is well designed or eye-catching.</td>\n",
       "      <td>I cannot tell what is being advertised.</td>\n",
       "      <td>Potentially Harmful</td>\n",
       "      <td>NaN</td>\n",
       "    </tr>\n",
       "    <tr>\n",
       "      <th>4</th>\n",
       "      <td>61648bb6ad1eceeee2c056ee</td>\n",
       "      <td>23848416807530508</td>\n",
       "      <td>3</td>\n",
       "      <td>I am interested in what is being advertised.</td>\n",
       "      <td>I cannot tell what is being advertised.</td>\n",
       "      <td>Benign</td>\n",
       "      <td>NaN</td>\n",
       "    </tr>\n",
       "  </tbody>\n",
       "</table>\n",
       "</div>"
      ],
      "text/plain": [
       "                        pid               adid  relevance  \\\n",
       "0  61648bb6ad1eceeee2c056ee  23848873531490112          4   \n",
       "1  61648bb6ad1eceeee2c056ee  23848922479820561          4   \n",
       "2  61648bb6ad1eceeee2c056ee      6262629184060          1   \n",
       "3  61648bb6ad1eceeee2c056ee  23849052911990447          3   \n",
       "4  61648bb6ad1eceeee2c056ee  23848416807530508          3   \n",
       "\n",
       "                                                like  \\\n",
       "0  It is clear what product the ad is selling.;I ...   \n",
       "1  It is clear what product the ad is selling.;It...   \n",
       "2                             I do not like this ad.   \n",
       "3               It is well designed or eye-catching.   \n",
       "4       I am interested in what is being advertised.   \n",
       "\n",
       "                                             dislike       codes_angelica  \\\n",
       "0                          I do not dislike this ad.  Potentially Harmful   \n",
       "1                          I do not dislike this ad.           Healthcare   \n",
       "2  It is irrelevant to me, or doesn’t contain int...          Opportunity   \n",
       "3            I cannot tell what is being advertised.  Potentially Harmful   \n",
       "4            I cannot tell what is being advertised.               Benign   \n",
       "\n",
       "  codes_ali  \n",
       "0       NaN  \n",
       "1       NaN  \n",
       "2       NaN  \n",
       "3       NaN  \n",
       "4       NaN  "
      ]
     },
     "execution_count": 181,
     "metadata": {},
     "output_type": "execute_result"
    }
   ],
   "source": [
    "survey[survey['pid'] == '61648bb6ad1eceeee2c056ee'].merge(codes, 'inner', left_on='adid', right_on='adid').head()"
   ]
  },
  {
   "cell_type": "code",
   "execution_count": 178,
   "id": "a5b920d9",
   "metadata": {},
   "outputs": [
    {
     "data": {
      "text/plain": [
       "'\\nINTERESTING REMAINING QUESTION:\\n\\ndo the women see more healthcare ads compared to the men? (analysis #1)\\nessentially, the above bar chart needs to be extended to a demographic-level analysis\\ninstead of just a user level one\\n\\nwhat do they think about it? (analysis #2)\\n'"
      ]
     },
     "execution_count": 178,
     "metadata": {},
     "output_type": "execute_result"
    }
   ],
   "source": [
    "\"\"\"\n",
    "INTERESTING REMAINING QUESTION:\n",
    "\n",
    "do the women see more healthcare ads compared to the men? (analysis #1)\n",
    "essentially, the above bar chart needs to be extended to a demographic-level analysis\n",
    "instead of just a user level one\n",
    "\n",
    "what do they think about it? (analysis #2)\n",
    "\"\"\""
   ]
  },
  {
   "cell_type": "markdown",
   "id": "c900f456",
   "metadata": {},
   "source": [
    "### Demographic-level Analysis of Code Distribution"
   ]
  },
  {
   "cell_type": "code",
   "execution_count": 548,
   "id": "94294443",
   "metadata": {},
   "outputs": [],
   "source": [
    "dems_file = '../../db-processing/participant_dems.tsv'\n",
    "dems = pd.read_csv(dems_file, sep='\\t')\n",
    "pids_unique = set(survey['pid'])\n",
    "\n",
    "gender_file = '../../db-processing/surveys/survey-1/participant_genders.csv'\n",
    "gender = pd.read_csv(gender_file)\n",
    "gender = dict(gender.values)\n",
    "\n",
    "ages_file = '../../db-processing/surveys/survey-1/participant_ages.csv'\n",
    "ages = pd.read_csv(ages_file)\n",
    "ages = dict(ages.values)\n",
    "\n",
    "dems = dems[dems['pid'].isin(survey1_pids)]\n",
    "dems['gender'] = pd.Series(dtype='int')\n",
    "for i in dems.index:\n",
    "    pid = dems.loc[i]['pid']\n",
    "    if pid in gender:\n",
    "        dems.loc[i, 'gender'] = int(gender[pid])"
   ]
  },
  {
   "cell_type": "code",
   "execution_count": 541,
   "id": "f1914c89",
   "metadata": {},
   "outputs": [
    {
     "data": {
      "text/plain": [
       "Counter({1: 49, 3: 1, 2: 31})"
      ]
     },
     "execution_count": 541,
     "metadata": {},
     "output_type": "execute_result"
    }
   ],
   "source": [
    "from collections import Counter\n",
    "Counter(gender.values())"
   ]
  },
  {
   "cell_type": "code",
   "execution_count": 552,
   "id": "9ad06083",
   "metadata": {},
   "outputs": [
    {
     "name": "stdout",
     "output_type": "stream",
     "text": [
      "-- gender --\n",
      "1.0    26\n",
      "2.0    15\n",
      "Name: gender, dtype: int64\n",
      "[26 15]\n",
      "[0.63414634 0.36585366]\n",
      "\n",
      "\n",
      "-- income --\n",
      "25k-50k      13\n",
      "100k+        11\n",
      "75k-100k      6\n",
      "50k-75k       5\n",
      "under-25k     4\n",
      "no-answer     2\n",
      "Name: income, dtype: int64\n",
      "[13 11  6  5  4  2]\n",
      "[0.31707317 0.26829268 0.14634146 0.12195122 0.09756098 0.04878049]\n",
      "\n",
      "\n",
      "-- ethnicity --\n",
      "white             23\n",
      "black              7\n",
      "hispanic           6\n",
      "asian              4\n",
      "pacific-native     1\n",
      "Name: ethnicity, dtype: int64\n",
      "[23  7  6  4  1]\n",
      "[0.56097561 0.17073171 0.14634146 0.09756098 0.02439024]\n",
      "\n",
      "\n",
      "-- education --\n",
      "college         18\n",
      "some-college     7\n",
      "gradschool       7\n",
      "highschool       5\n",
      "associate        4\n",
      "Name: education, dtype: int64\n",
      "[18  7  7  5  4]\n",
      "[0.43902439 0.17073171 0.17073171 0.12195122 0.09756098]\n",
      "\n",
      "\n"
     ]
    }
   ],
   "source": [
    "for var in ['gender', 'income', 'ethnicity', 'education']:\n",
    "    print('--', var, '--')\n",
    "    print(dems[var].value_counts())    \n",
    "    vals = np.array(dems[var].value_counts())\n",
    "    print(vals)\n",
    "    print(vals/sum(vals))\n",
    "    print('\\n')"
   ]
  },
  {
   "cell_type": "code",
   "execution_count": 408,
   "id": "503b7252",
   "metadata": {},
   "outputs": [],
   "source": [
    "# compute at demographic and not user-level\n",
    "dem_code_props = {}\n",
    "dem_code_counts = {}\n",
    "var = 'income'\n",
    "\n",
    "# compute code proportions for each unique demographic bucket in survey #1 participants\n",
    "for bucket in list(dems[var].value_counts().index):\n",
    "    if bucket == 'no-answer':\n",
    "        continue\n",
    "        \n",
    "    # find all PIDs that belong to current demographic bucket e.g. 25-34 for age\n",
    "    bucket_pids = set(dems[dems[var] == bucket]['pid'])\n",
    "    \n",
    "    # find ad IDs and codes corresponding to PIDs found above\n",
    "    joiner = pid_adid[pid_adid['pid'].isin(bucket_pids)]\n",
    "    joined = joiner.merge(codes, how='inner', left_on='adid', right_on='adid')\n",
    "    code_props = count_code_props(dict(joined[['adid', 'codes_angelica']].values), norm=True)\n",
    "    code_counts = count_code_props(dict(joined[['adid', 'codes_angelica']].values), norm=False)\n",
    "    \n",
    "    # save bucket-level results\n",
    "    dem_code_props[bucket] = code_props\n",
    "    dem_code_counts[bucket] = code_counts"
   ]
  },
  {
   "cell_type": "code",
   "execution_count": 409,
   "id": "7366f15d",
   "metadata": {},
   "outputs": [
    {
     "name": "stdout",
     "output_type": "stream",
     "text": [
      "{'under-25k': 336, '25k-50k': 1442, '50k-75k': 239, '75k-100k': 436, '100k+': 835}\n"
     ]
    },
    {
     "data": {
      "image/png": "[encoded data removed]",
      "text/plain": [
       "<Figure size 1080x576 with 2 Axes>"
      ]
     },
     "metadata": {
      "needs_background": "light"
     },
     "output_type": "display_data"
    }
   ],
   "source": [
    "orders = {\n",
    "    'ethnicity': ['white', 'black', 'hispanic', 'asian'],\n",
    "    'income': ['under-25k', '25k-50k', '50k-75k', '75k-100k', '100k+'],\n",
    "    'age': ['18-24', '25-34', '35-44', '45-54'],\n",
    "    'gender': [1, 2],\n",
    "    'education': ['highschool', 'associate', 'some-college', 'college', 'gradschool']\n",
    "}\n",
    "\n",
    "hor_order = orders[var]\n",
    "\n",
    "bar_order = ['Benign', 'Financial', 'Healthcare', 'Opportunity', 'Harmful', 'Clickbait']\n",
    "f, axs = plt.subplots(1, 2, figsize=(15, 8))\n",
    "\n",
    "# compute totals for CI calculation\n",
    "totals = {p: 0 for p in hor_order}\n",
    "for p in hor_order:\n",
    "    for code in bar_order:\n",
    "        if code == 'Harmful':\n",
    "            totals[p] += dem_code_counts[p].get('Potentially Prohibited', 0)\n",
    "            totals[p] += dem_code_counts[p].get('Potentially Harmful', 0)\n",
    "        else:\n",
    "            totals[p] += dem_code_counts[p].get(code, 0)\n",
    "            \n",
    "print(totals)\n",
    "\n",
    "# visuzlize counts\n",
    "last = np.zeros(len(hor_order))\n",
    "for code in bar_order:\n",
    "    if code == 'Harmful':\n",
    "        # sum up harmful and prohibited\n",
    "        curr = [dem_code_counts[b].get('Potentially Prohibited', 0) + dem_code_counts[b].get('Potentially Harmful', 0)\\\n",
    "                         for b in hor_order]\n",
    "    else:\n",
    "        curr = [dem_code_counts[b].get(code, 0) for b in hor_order]\n",
    "        \n",
    "    axs[0].bar(np.arange(len(hor_order)), curr, .5, label=code, bottom=last,\n",
    "              color=colors[code], alpha=.8)\n",
    "    last += np.array(curr)\n",
    "\n",
    "axs[0].set_ylabel('Number of annotations')\n",
    "axs[0].legend()\n",
    "    \n",
    "# visualize proportions\n",
    "last = np.zeros(len(hor_order))\n",
    "for code in bar_order:\n",
    "    if code == 'Harmful':\n",
    "        # sum up harmful and prohibited\n",
    "        curr = [dem_code_props[b].get('Potentially Prohibited', 0) + dem_code_props[b].get('Potentially Harmful', 0)\\\n",
    "                         for b in hor_order]\n",
    "    else:\n",
    "        curr = [dem_code_props[b].get(code, 0) for b in hor_order]\n",
    "        \n",
    "    errs = [normal_bin_conf(curr[i], totals[p]) if (totals[p]*curr[i]) >= 5 else 0 \\\n",
    "        for i, p in enumerate(hor_order)]\n",
    "    axs[1].bar(np.arange(len(hor_order)), curr, .5, label=code, bottom=last,\n",
    "              color=colors[code], alpha=.8, yerr=errs, ecolor=colors[code])\n",
    "    last += np.array(curr)\n",
    "\n",
    "axs[1].set_ylabel('Proportion of annotations')\n",
    "axs[1].set_ylim(top=1.01)\n",
    "for ax in axs:\n",
    "    ax.set_xlabel('Demographic Bucket')\n",
    "    ax.set_xticks(np.arange(len(hor_order)))\n",
    "    ax.set_xticklabels(hor_order)\n",
    "    ax.grid(ls=':')\n",
    "    \n",
    "# ax.suptitle('Difference of ad types across Survey #1 participants')\n",
    "plt.suptitle(f'Difference of ad types by {var}')\n",
    "plt.savefig(f'{var}-codes-survey-1.jpg', dpi=200, bbox_inches='tight')"
   ]
  },
  {
   "cell_type": "code",
   "execution_count": 473,
   "id": "ba605585",
   "metadata": {},
   "outputs": [
    {
     "name": "stdout",
     "output_type": "stream",
     "text": [
      "[('25k-50k', 13), ('100k+', 11), ('75k-100k', 6), ('50k-75k', 5), ('under-25k', 4)]\n"
     ]
    },
    {
     "data": {
      "image/png": "[encoded data removed]",
      "text/plain": [
       "<Figure size 864x576 with 1 Axes>"
      ]
     },
     "metadata": {
      "needs_background": "light"
     },
     "output_type": "display_data"
    }
   ],
   "source": [
    "# Demographic differences over median\n",
    "f, axs = plt.subplots(1, 1, figsize=(12, 8))\n",
    "var = 'income'\n",
    "plot_codes = ['Benign']\n",
    "dem_code_props_dist = {}  # {dem_bucket: {code: [list of participant props]}}\n",
    "\n",
    "# compute code proportions for each unique demographic bucket in survey #1 participants\n",
    "for bucket in list(dems[var].value_counts().index):\n",
    "    if bucket == 'no-answer':\n",
    "        continue\n",
    "    dem_code_props_dist[bucket] = defaultdict(list)\n",
    "        \n",
    "    # find all PIDs that belong to current demographic bucket e.g. 25-34 for age\n",
    "    bucket_pids = set(dems[dems[var] == bucket]['pid'])\n",
    "    for pid in bucket_pids:\n",
    "        for c in plot_codes:\n",
    "            dem_code_props_dist[bucket][c].append(part_code_counts[pid].get(c, 0) / sum(part_code_counts[pid].values()))\n",
    "    \n",
    "# == sanity checks ==\n",
    "# print(dem_code_props_dist)\n",
    "print([(b, len(l['Benign'])) for b, l in dem_code_props_dist.items()])\n",
    "# print(dems['income'].value_counts())\n",
    "\n",
    "# Show box plot of fraction benign\n",
    "plotdist = [dem_code_props_dist[b]['Benign'] for b in orders[var]]\n",
    "axs.boxplot(plotdist, showbox=True)\n",
    "axs.set_xticks(range(1, len(orders[var])+1), orders[var], fontsize=12)\n",
    "axs.set_ylabel('Fraction of Neutral Ads', fontsize=13)\n",
    "axs.set_xlabel('Participant Income', fontsize=13)\n",
    "axs.grid(ls=':')"
   ]
  },
  {
   "cell_type": "code",
   "execution_count": 489,
   "id": "2a69e065",
   "metadata": {},
   "outputs": [
    {
     "name": "stdout",
     "output_type": "stream",
     "text": [
      "['under-25k', '25k-50k', '50k-75k', '75k-100k', '100k+']\n"
     ]
    }
   ],
   "source": [
    "x = dems[dems['pid'] == '58a2788898124900015923bf']['income'].values[0]\n",
    "print(orders[var])"
   ]
  },
  {
   "cell_type": "code",
   "execution_count": 493,
   "id": "ad7f732a",
   "metadata": {},
   "outputs": [
    {
     "data": {
      "text/plain": [
       "{'Benign': 0.959349593495935,\n",
       " 'Healthcare': 0.008130081300813009,\n",
       " 'Potentially Prohibited': 0.008130081300813009,\n",
       " 'Opportunity': 0.024390243902439025}"
      ]
     },
     "execution_count": 493,
     "metadata": {},
     "output_type": "execute_result"
    }
   ],
   "source": [
    "part_code_props['58a2788898124900015923bf']"
   ]
  },
  {
   "cell_type": "code",
   "execution_count": 500,
   "id": "8837d504",
   "metadata": {},
   "outputs": [
    {
     "name": "stdout",
     "output_type": "stream",
     "text": [
      "KruskalResult(statistic=6.864054523605101, pvalue=0.1432491064292756)\n",
      "(0.6528214320068113, 0.23234920368287001)\n",
      "unpacked correlation: (0.20043627584323132, 0.22115574254748405)\n"
     ]
    }
   ],
   "source": [
    "from scipy.stats import kruskal, pearsonr\n",
    "\n",
    "# are the medians above significantly different?\n",
    "print(kruskal(*plotdist))\n",
    "\n",
    "# is there a correlation?\n",
    "print(pearsonr(np.arange(len(plotdist)), [np.median(group) for group in plotdist]))\n",
    "\n",
    "# does individual income correlate with\n",
    "incomes, benign_fracs = [], []\n",
    "for pid in survey1_pids:\n",
    "    income = dems[dems['pid'] == pid]['income']\n",
    "    if not income.shape[0] or income.values[0] == 'no-answer':\n",
    "        continue\n",
    "    income = income.values[0]\n",
    "    incomes.append(orders['income'].index(income))\n",
    "    benign_fracs.append(part_code_props[pid]['Benign'])\n",
    "    \n",
    "print('unpacked correlation:', pearsonr(incomes, benign_fracs))"
   ]
  },
  {
   "cell_type": "markdown",
   "id": "0342fb60",
   "metadata": {},
   "source": [
    "### Age Differences (based on 1980 cutoff)"
   ]
  },
  {
   "cell_type": "code",
   "execution_count": 397,
   "id": "db13822e",
   "metadata": {},
   "outputs": [
    {
     "name": "stdout",
     "output_type": "stream",
     "text": [
      "7 25\n"
     ]
    }
   ],
   "source": [
    "# compute at demographic and not user-level\n",
    "age_code_counts = {'young': defaultdict(lambda: 0), 'old': defaultdict(lambda: 0)}\n",
    "var = 'age'\n",
    "young_count, old_count = 0, 0\n",
    "\n",
    "# compute code proportions for each unique demographic bucket in survey #1 participants\n",
    "# for pid in survey1_pids:        \n",
    "for pid in part_order:\n",
    "    # find ad IDs and codes corresponding to PID\n",
    "    joiner = pid_adid[pid_adid['pid'] == pid]\n",
    "    joined = joiner.merge(codes, how='inner', left_on='adid', right_on='adid')\n",
    "    code_counts = count_code_props(dict(joined[['adid', 'codes_angelica']].values), norm=False)\n",
    "\n",
    "    if ages[pid] >= 1980:\n",
    "        record = 'old'\n",
    "        old_count += 1\n",
    "    else:\n",
    "        record = 'young'\n",
    "        young_count += 1\n",
    "\n",
    "    for c in code_counts:\n",
    "        age_code_counts[record][c] += code_counts[c]\n",
    "        \n",
    "print(young_count, old_count)"
   ]
  },
  {
   "cell_type": "code",
   "execution_count": 398,
   "id": "91e9d4e2",
   "metadata": {},
   "outputs": [
    {
     "name": "stdout",
     "output_type": "stream",
     "text": [
      "Benign <1980: 0.7942073170731707 -- >=1980: 0.7420212765957447\n",
      "Financial <1980: 0.014481707317073171 -- >=1980: 0.003989361702127659\n",
      "Healthcare <1980: 0.09451219512195122 -- >=1980: 0.09042553191489362\n",
      "Opportunity <1980: 0.056021341463414635 -- >=1980: 0.08377659574468085\n",
      "Potentially Harmful <1980: 0.009908536585365854 -- >=1980: 0.007978723404255319\n",
      "Potentially Prohibited <1980: 0.009908536585365854 -- >=1980: 0.0013297872340425532\n",
      "Clickbait <1980: 0.011432926829268292 -- >=1980: 0.04654255319148936\n"
     ]
    }
   ],
   "source": [
    "codes_total = sum(age_code_counts['young'].values()) + sum(age_code_counts['old'].values())\n",
    "young_total = sum(age_code_counts['young'].values())\n",
    "old_total = sum(age_code_counts['old'].values())\n",
    "\n",
    "for c in ['Benign', 'Financial', 'Healthcare', 'Opportunity','Potentially Harmful', 'Potentially Prohibited', 'Clickbait']:\n",
    "    print(c, f'<1980: {age_code_counts[\"old\"][c]/old_total} -- >=1980: {age_code_counts[\"young\"][c]/young_total}')"
   ]
  },
  {
   "cell_type": "code",
   "execution_count": 472,
   "id": "dafee4e9",
   "metadata": {},
   "outputs": [
    {
     "name": "stdout",
     "output_type": "stream",
     "text": [
      "COUNTS --- older (<1980): 7 younger (>= 1980): 25\n"
     ]
    },
    {
     "data": {
      "image/png": "[encoded data removed]",
      "text/plain": [
       "<Figure size 432x288 with 1 Axes>"
      ]
     },
     "metadata": {
      "needs_background": "light"
     },
     "output_type": "display_data"
    }
   ],
   "source": [
    "old_dist, young_dist = defaultdict(list), defaultdict(list)\n",
    "old_dist, young_dist = [], []\n",
    "\n",
    "for pid in part_order:\n",
    "    frac = part_code_counts[pid]['Benign']/sum(part_code_counts[pid].values())\n",
    "    if ages[pid] >= 1980:\n",
    "        young_dist.append(frac)\n",
    "    else:\n",
    "        old_dist.append(frac)\n",
    "        \n",
    "print('COUNTS --- older (<1980):', len(old_dist), 'younger (>= 1980):', len(young_dist))\n",
    "plt.hist(old_dist, label='<1980', alpha=.8)\n",
    "plt.hist(young_dist, label='>=1980', alpha=.8)\n",
    "plt.legend()\n",
    "plt.xlabel('fraction benign')\n",
    "plt.ylabel('frequency')\n",
    "plt.grid(ls=':')"
   ]
  },
  {
   "cell_type": "code",
   "execution_count": 469,
   "id": "68becbf4",
   "metadata": {},
   "outputs": [
    {
     "name": "stdout",
     "output_type": "stream",
     "text": [
      "KruskalResult(statistic=0.5658179913578703, pvalue=0.45192553734432594)\n"
     ]
    },
    {
     "data": {
      "image/png": "[encoded data removed]",
      "text/plain": [
       "<Figure size 432x288 with 1 Axes>"
      ]
     },
     "metadata": {
      "needs_background": "light"
     },
     "output_type": "display_data"
    }
   ],
   "source": [
    "plt.boxplot([old_dist, young_dist])\n",
    "plt.xticks([1, 2], ['<1980', '>=1980'])\n",
    "plt.grid(ls=':')\n",
    "\n",
    "print(kruskal(old_dist, young_dist))"
   ]
  },
  {
   "cell_type": "code",
   "execution_count": 477,
   "id": "3a663a3f",
   "metadata": {},
   "outputs": [
    {
     "data": {
      "text/plain": [
       "Text(0, 0.5, 'fraction of participants in group')"
      ]
     },
     "execution_count": 477,
     "metadata": {},
     "output_type": "execute_result"
    },
    {
     "data": {
      "image/png": "[encoded data removed]",
      "text/plain": [
       "<Figure size 432x288 with 1 Axes>"
      ]
     },
     "metadata": {
      "needs_background": "light"
     },
     "output_type": "display_data"
    }
   ],
   "source": [
    "# cdf = np.cumsum(np.array(old_dist) / sum(old_dist))\n",
    "plt.hist(old_dist, density=True, histtype='step', cumulative=True, label='old')\n",
    "# cdf = np.cumsum(np.array(young_dist) / sum(young_dist))\n",
    "plt.hist(young_dist, density=True, histtype='step', cumulative=True, label='young')\n",
    "\n",
    "# plt.xlim(right=.99)\n",
    "plt.legend()\n",
    "plt.xlabel('fraction of benign content', fontsize=12)\n",
    "plt.ylabel('fraction of participants in group', fontsize=12)"
   ]
  },
  {
   "cell_type": "markdown",
   "id": "24cdc528",
   "metadata": {},
   "source": [
    "### Proportion Testing"
   ]
  },
  {
   "cell_type": "code",
   "execution_count": 269,
   "id": "59bc693d",
   "metadata": {},
   "outputs": [
    {
     "name": "stdout",
     "output_type": "stream",
     "text": [
      "chi-2: 30.851525062251582\n",
      "p: 9.134894414288526e-07\n"
     ]
    }
   ],
   "source": [
    "# benign vs. non-benign in each demographic bucket\n",
    "benign = []\n",
    "non_benign = []\n",
    "\n",
    "for b in dem_code_counts:\n",
    "    benign.append(dem_code_counts[b]['Benign'])\n",
    "    non_benign.append(sum(dem_code_counts[b].values()) \\\n",
    "                      - dem_code_counts[b]['Benign'] - dem_code_counts[b].get('Political', 0))\n",
    "    \n",
    "#  omnibus test across demographic variable from above plot\n",
    "res = chi2_contingency(np.array([benign, non_benign]))\n",
    "print('chi-2:', res[0])\n",
    "print('p:', res[1])"
   ]
  },
  {
   "cell_type": "code",
   "execution_count": 178,
   "id": "dbcff930",
   "metadata": {},
   "outputs": [
    {
     "name": "stdout",
     "output_type": "stream",
     "text": [
      "{'6111ad0842f24784fc58b1dc', '5cf3115e978d46001924e679', '5c4af67cdccaa800016b3192', '606df53de4b0550a5f42fefe', '5ed5eb6e89c9b81780219ab6', '603e370c5ed1c2db2c3bde24', '612e7ef85edba8d26ef96c99', '5c315f577626080001a88cb2', '6130e3db169db34eb3cde8cc', '5ae5b7e26735bd0001d7dfe3', '6112cec057db665aefdd7a85', '5dee72917309b950e5262f3a', '5bdfa18a90edd30001c90bc8', '5c61ab19776b38000156cc95', '5f969b802a498b000aab2571', '60ee4077cdf4f24a1c607783', '5c80c02f8740a300165833bc', '605504fc7a5a699c16ae8b4d', '5ee256134d95f435aa78964e', '6102c2bafd71006cf4fcbd67', '61648bb6ad1eceeee2c056ee', '60e3dea3ffbd0e2a90942794'} 22 \n",
      "\n",
      "{'5a8cb6aaaa46dd00016be788', '612e7ef85edba8d26ef96c99', '6111ad0842f24784fc58b1dc', '5ee256134d95f435aa78964e', '611d8aa6ab57a5ddf8025b8e', '58a2788898124900015923bf', '5ed5eb6e89c9b81780219ab6', '5ea3310bf9c4f828f0c909c5', '5ae5b7e26735bd0001d7dfe3', '60bd88b8fc436774352f53b9', '5e861812b23b0a22ef59c4ee', '6112cec057db665aefdd7a85', '61648bb6ad1eceeee2c056ee', '5dee72917309b950e5262f3a'} 14 \n",
      "\n",
      "{'612e7ef85edba8d26ef96c99', '6111ad0842f24784fc58b1dc', '5ed5eb6e89c9b81780219ab6', '5ae5b7e26735bd0001d7dfe3', '5dee72917309b950e5262f3a', '6112cec057db665aefdd7a85', '61648bb6ad1eceeee2c056ee', '5ee256134d95f435aa78964e'} 8 \n",
      "\n"
     ]
    }
   ],
   "source": [
    "clickbait_aff = set([])\n",
    "prohibited_aff = set([])\n",
    "\n",
    "for p in part_code_props:\n",
    "    if 'Clickbait' in part_code_props[p]:\n",
    "        clickbait_aff.add(p)\n",
    "    if 'Potentially Prohibited' in part_code_props[p]:\n",
    "        prohibited_aff.add(p)\n",
    "        \n",
    "print(clickbait_aff, len(clickbait_aff), '\\n')\n",
    "print(prohibited_aff, len(prohibited_aff), '\\n')\n",
    "print(prohibited_aff.intersection(clickbait_aff), len(prohibited_aff.intersection(clickbait_aff)), '\\n')"
   ]
  },
  {
   "cell_type": "markdown",
   "id": "3e6e149f",
   "metadata": {},
   "source": [
    "## CDF (of Problematic Categories)"
   ]
  },
  {
   "cell_type": "code",
   "execution_count": 533,
   "id": "2c13b393",
   "metadata": {
    "scrolled": false
   },
   "outputs": [
    {
     "name": "stdout",
     "output_type": "stream",
     "text": [
      "Benign -- 0.8 CDF @: 0.86\n",
      "Healthcare -- 0.8 CDF @: 0.5\n",
      "Potentially Harmful -- 0.8 CDF @: 0.45\n",
      "Potentially Prohibited -- 0.8 CDF @: 0.5\n",
      "Clickbait -- 0.8 CDF @: 0.48\n"
     ]
    },
    {
     "data": {
      "image/png": "[encoded data removed]",
      "text/plain": [
       "<Figure size 720x432 with 1 Axes>"
      ]
     },
     "metadata": {
      "needs_background": "light"
     },
     "output_type": "display_data"
    }
   ],
   "source": [
    "part_order_full = sorted(survey1_pids, key=lambda pid: part_code_props[pid]['Benign'])\n",
    "toplot = ['Benign', 'Healthcare',          \n",
    "             'Potentially Harmful', 'Potentially Prohibited', 'Clickbait']\n",
    "\n",
    "# compute total codes as summed over participants, \n",
    "# because of possible double counting of the same ad in `part_code_counts`\n",
    "code_counts_local = {c: 0 for c in toplot}\n",
    "for p in part_order_full:\n",
    "    for c in toplot:\n",
    "        code_counts_local[c] += part_code_counts[p][c]\n",
    "\n",
    "f, ax = plt.subplots(figsize=(10, 6))\n",
    "for c in toplot:\n",
    "    # what fraction of the total was contributed by each participant\n",
    "    pdf = [part_code_counts[p].get(c, 0)/code_counts_local[c] for p in part_order_full]\n",
    "    pareto_cdf = np.argwhere(np.cumsum(pdf) >= .8)[0]\n",
    "    print(f'{c} -- 0.8 CDF @:', round(np.argwhere(np.cumsum(pdf) >= .8)[0][0]/len(pdf), 2))\n",
    "#     ax.plot(np.arange(0, 1, 1/(len(pdf))), np.cumsum(pdf), color=colors[c], label=plot_names[c])\n",
    "    ax.plot(np.arange(len(pdf)), np.cumsum(pdf), color=colors[c], label=plot_names[c], lw=1.5)\n",
    "    \n",
    "ax.plot(np.arange(len(pdf)), np.arange(0, 1, 1/(len(pdf))),\n",
    "        ls=':', color='k', label='Equality', lw=1.5)\n",
    "# ax.set_xticks(range(len(pdf)))\n",
    "# ax.set_xticklabels(range(0, 1.0, .25))\n",
    "ax.legend(fontsize=10)\n",
    "ax.grid(ls=':')\n",
    "ax.set_xlabel('Participant', fontsize=13)\n",
    "ax.set_ylabel('CDF', fontsize=13)\n",
    "ax.set_title('CDF of Ad Type Contributions across Participants', fontsize=12)\n",
    "\n",
    "plt.savefig('cdf.pdf', dpi=200, bbox_inches='tight')"
   ]
  },
  {
   "cell_type": "code",
   "execution_count": 592,
   "id": "0a3c071f",
   "metadata": {},
   "outputs": [
    {
     "name": "stdout",
     "output_type": "stream",
     "text": [
      "{'Benign': 0.10529024746740398, 'Healthcare': 0.4384671842907866, 'Opportunity': 0.5925145847680761, 'Clickbait': 0.767289751219335, 'Financial': 0.8519157947491183, 'Potentially Harmful': 0.7862285545833332, 'Political': 0.9191176950752683, 'Potentially Prohibited': 0.792361309667827, 'CA Lawsuit': 0.8697316662146567}\n"
     ]
    },
    {
     "data": {
      "image/png": "[encoded data removed]",
      "text/plain": [
       "<Figure size 720x432 with 1 Axes>"
      ]
     },
     "metadata": {
      "needs_background": "light"
     },
     "output_type": "display_data"
    }
   ],
   "source": [
    "# https://stackoverflow.com/questions/39512260/calculating-gini-coefficient-in-python-numpy\n",
    "def gini(x):\n",
    "    # Mean absolute difference\n",
    "    mad = np.abs(np.subtract.outer(x, x)).mean()\n",
    "    # Relative mean absolute difference\n",
    "    rmad = mad/np.mean(x)\n",
    "    # Gini coefficient\n",
    "    g = 0.5 * rmad\n",
    "    return g\n",
    "\n",
    "# plotorder = ['Benign', 'Healthcare', 'Potentially Harmful', 'Clickbait', 'Potentially Prohibited']\n",
    "# plotorder = sorted(code_counts.keys(), key=lambda c: code_counts[c], reverse=True)\n",
    "plotorder = sorted(code_counts.keys(), key=lambda c: code_counts[c], reverse=True)\n",
    "\n",
    "code_counts_local = {c: 0 for c in plotorder}\n",
    "for p in part_order_full:\n",
    "    for c in plotorder:\n",
    "        code_counts_local[c] += part_code_counts[p][c]\n",
    "\n",
    "ginis = {}\n",
    "ginis_2 = {}\n",
    "for c in plotorder:\n",
    "    # accumulate fractions of this plot for all users\n",
    "    # counts = [part_code_counts[p][c] for p in part_order_full]\n",
    "    # === trying fractions ===\n",
    "    counts = [part_code_counts[p][c]/sum(part_code_counts[p].values()) for p in part_order_full]\n",
    "    # what fraction of the total was contributed by each participant\n",
    "    ginis[c] = gini(counts)\n",
    "\n",
    "print(ginis)\n",
    "\n",
    "f, ax = plt.subplots(figsize=(10, 6))\n",
    "\n",
    "vals = [ginis[c] for c in plotorder]\n",
    "ax.bar(range(len(vals)), vals, color='maroon')\n",
    "ax.set_xticks(range(len(vals)))\n",
    "ax.set_xticklabels([plot_names[c] for c in plotorder], rotation=45, fontsize=13)\n",
    "ax.set_ylabel('Gini Coefficient', fontsize=13)\n",
    "ax.grid(ls=':')\n",
    "\n",
    "plt.savefig('gini.pdf', dpi=200, bbox_inches='tight')"
   ]
  },
  {
   "cell_type": "code",
   "execution_count": 591,
   "id": "65a1f15d",
   "metadata": {},
   "outputs": [
    {
     "data": {
      "text/plain": [
       "defaultdict(<function __main__.count_code_props.<locals>.<lambda>()>,\n",
       "            {'Benign': 47,\n",
       "             'Healthcare': 10,\n",
       "             'Opportunity': 15,\n",
       "             'Clickbait': 2,\n",
       "             'Potentially Harmful': 1,\n",
       "             'Financial': 1,\n",
       "             'Potentially Prohibited': 1,\n",
       "             'CA Lawsuit': 0,\n",
       "             'Political': 0})"
      ]
     },
     "execution_count": 591,
     "metadata": {},
     "output_type": "execute_result"
    }
   ],
   "source": [
    "part_code_counts[part_order_full[5]]"
   ]
  },
  {
   "cell_type": "code",
   "execution_count": null,
   "id": "06b34fbc",
   "metadata": {},
   "outputs": [],
   "source": [
    "# alternative way to plot this CDF: fraction of content on the x-axis and CDF over participants on the y-axis"
   ]
  }
 ],
 "metadata": {
  "kernelspec": {
   "display_name": "Python 3",
   "language": "python",
   "name": "python3"
  },
  "language_info": {
   "codemirror_mode": {
    "name": "ipython",
    "version": 3
   },
   "file_extension": ".py",
   "mimetype": "text/x-python",
   "name": "python",
   "nbconvert_exporter": "python",
   "pygments_lexer": "ipython3",
   "version": "3.8.9"
  }
 },
 "nbformat": 4,
 "nbformat_minor": 5
}
