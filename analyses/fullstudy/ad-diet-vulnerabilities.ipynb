{
 "cells": [
  {
   "cell_type": "markdown",
   "id": "3f3ba4d6",
   "metadata": {},
   "source": [
    "**Question**: Do some people get worse ad diets than others / how well are ads aligned with people’s vulnerabilities? (e.g., debt, existing mental health conditions, unemployment?)"
   ]
  },
  {
   "cell_type": "code",
   "execution_count": null,
   "id": "1c273da4",
   "metadata": {},
   "outputs": [],
   "source": [
    "# ad codes can probably be extended to the level of advertisers\n",
    "# to have stronger estimates of the global distribution"
   ]
  },
  {
   "cell_type": "code",
   "execution_count": null,
   "id": "34d94140",
   "metadata": {},
   "outputs": [],
   "source": [
    "# does age have anything to do with fraction clickbait?\n",
    "# does gender have to do with healthcare?\n",
    "# does level of debt have to do with financial?"
   ]
  }
 ],
 "metadata": {
  "kernelspec": {
   "display_name": "Python 3",
   "language": "python",
   "name": "python3"
  },
  "language_info": {
   "codemirror_mode": {
    "name": "ipython",
    "version": 3
   },
   "file_extension": ".py",
   "mimetype": "text/x-python",
   "name": "python",
   "nbconvert_exporter": "python",
   "pygments_lexer": "ipython3",
   "version": "3.8.9"
  }
 },
 "nbformat": 4,
 "nbformat_minor": 5
}
