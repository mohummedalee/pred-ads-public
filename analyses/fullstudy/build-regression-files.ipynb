{
 "cells": [
  {
   "cell_type": "code",
   "execution_count": 1,
   "id": "53dde4e0",
   "metadata": {},
   "outputs": [],
   "source": [
    "import pandas as pd\n",
    "import json\n",
    "import numpy as np\n",
    "import matplotlib.pyplot as plt\n",
    "from collections import defaultdict, Counter\n",
    "plt.rcParams[\"font.family\"] = \"Helvetica\""
   ]
  },
  {
   "cell_type": "code",
   "execution_count": 2,
   "id": "c514165e",
   "metadata": {},
   "outputs": [],
   "source": [
    "pid_adid_file = '../../db-processing/surveys/survey-1/pid_adid_survey1.tsv'\n",
    "pid_adid = pd.read_csv(pid_adid_file, sep='\\t')\n",
    "\n",
    "pid_adid_b2_file = '../../db-processing/surveys/survey-1/pid_adid_survey1_batch2.tsv'\n",
    "pid_adid = pd.concat([pid_adid, pd.read_csv(pid_adid_b2_file, sep='\\t')])\n",
    "\n",
    "survey1_pids = set(pid_adid['pid'])\n",
    "part_ad_counts = pid_adid.groupby('pid').count().to_dict()['adid']"
   ]
  },
  {
   "cell_type": "code",
   "execution_count": 5,
   "id": "5911bae4",
   "metadata": {},
   "outputs": [
    {
     "data": {
      "text/plain": [
       "4173"
      ]
     },
     "execution_count": 5,
     "metadata": {},
     "output_type": "execute_result"
    }
   ],
   "source": [
    "len(set(pid_adid['adid']))"
   ]
  },
  {
   "cell_type": "code",
   "execution_count": 3,
   "id": "35edb9ec",
   "metadata": {},
   "outputs": [],
   "source": [
    "codes_file = '../../db-processing/ad_codes.tsv'\n",
    "codes = pd.read_csv(codes_file, sep='\\t')\n",
    "\n",
    "dems_file = '../../db-processing/participant_dems.tsv'\n",
    "dems = pd.read_csv(dems_file, sep='\\t')\n",
    "\n",
    "gender_file = '../../db-processing/surveys/survey-1/participant_genders.csv'\n",
    "gender = pd.read_csv(gender_file)\n",
    "gender = dict(gender.values)\n",
    "\n",
    "ages_file = '../../db-processing/surveys/survey-1/participant_ages.csv'\n",
    "ages = pd.read_csv(ages_file)\n",
    "ages = dict(ages.values)\n",
    "\n",
    "dems = dems[dems['pid'].isin(survey1_pids)]\n",
    "dems['gender'] = pd.Series(dtype='int')\n",
    "for i in dems.index:\n",
    "    pid = dems.loc[i]['pid']\n",
    "    if pid in gender:\n",
    "        dems.loc[i, 'gender'] = int(gender[pid])        "
   ]
  },
  {
   "cell_type": "code",
   "execution_count": 88,
   "id": "3fb38815",
   "metadata": {},
   "outputs": [],
   "source": [
    "edu_vals = ['highschool', 'associate', 'some-college', 'college', 'gradschool']\n",
    "HIGHED = edu_vals.index('college')"
   ]
  },
  {
   "cell_type": "code",
   "execution_count": 3,
   "id": "d84e6f07",
   "metadata": {},
   "outputs": [],
   "source": [
    "def count_code_props(codes, norm=True):\n",
    "    # takes dict from adid -> codes and returns dict of code proportions\n",
    "    counts = defaultdict(lambda: 0)\n",
    "    for aid in codes:\n",
    "        # in case of multiple codes, count each one -- essentially computing fraction of codes and not ads here\n",
    "        for code in codes[aid].split(';'):\n",
    "            counts[code] += 1\n",
    "                \n",
    "    if norm:\n",
    "        return {c: counts[c]/sum(counts.values()) for c in counts}\n",
    "    else:\n",
    "        return counts"
   ]
  },
  {
   "cell_type": "code",
   "execution_count": 107,
   "id": "7896046e",
   "metadata": {},
   "outputs": [],
   "source": [
    "part_code_props = {}\n",
    "part_code_counts = {}\n",
    "\n",
    "for pid in survey1_pids:\n",
    "    joiner = pid_adid[pid_adid['pid'] == pid]\n",
    "    joined = joiner.merge(codes, how='inner', left_on='adid', right_on='adid')\n",
    "    \n",
    "    code_props = count_code_props(dict(joined[['adid', 'codes_angelica']].values), norm=True)\n",
    "    part_code_props[pid] = code_props\n",
    "    \n",
    "    code_counts = count_code_props(dict(joined[['adid', 'codes_angelica']].values), norm=False)\n",
    "    part_code_counts[pid] = code_counts"
   ]
  },
  {
   "cell_type": "code",
   "execution_count": 113,
   "id": "0d56498b",
   "metadata": {
    "scrolled": true
   },
   "outputs": [
    {
     "name": "stdout",
     "output_type": "stream",
     "text": [
      "3 606df53de4b0550a5f42fefe\n"
     ]
    }
   ],
   "source": [
    "# output format:\n",
    "# pid, prop_benign, prop_clickbait, ..., prop_n, gender, eth, income, age, edu\n",
    "# lm(prop. something ~ older (y/n) + female (y/n) + black (y/n) + hispanic (y/n) + asian (y/n) + high ed (y/n)\n",
    "\n",
    "code_order = ['Benign', 'Financial', 'Healthcare', 'Opportunity',\n",
    "             'Potentially Harmful', 'Potentially Prohibited', 'Clickbait', 'CA Lawsuit', 'Political']\n",
    "\n",
    "allrows = []\n",
    "for i, pid in enumerate(survey1_pids):\n",
    "    row = [pid]\n",
    "    # 1. add code proportions\n",
    "    for code in code_order:\n",
    "        row.append(part_code_props[pid].get(code, 0))\n",
    "    \n",
    "    # 2. add dems\n",
    "    demrow = dems[dems['pid'] == pid]\n",
    "    if demrow.shape[0]:\n",
    "        # older (y/n)\n",
    "        row.append(int(ages[pid] >= 1980))\n",
    "        if gender[pid] == 3:\n",
    "            row.append(None)\n",
    "        else:\n",
    "            # female (y/n)\n",
    "            row.append(int(gender[pid] == 2))\n",
    "        # black (y/n)\n",
    "        row.append(int(demrow['ethnicity'] == 'black'))\n",
    "        # hispanic (y/n)\n",
    "        row.append(int(demrow['ethnicity'] == 'hispanic'))\n",
    "        # asian (y/n)\n",
    "        row.append(int(demrow['ethnicity'] == 'asian'))\n",
    "        # highed (y/n)\n",
    "        row.append(int(demrow['education'].isin(['college', 'gradschool'])))\n",
    "    else:\n",
    "        print(i, pid)\n",
    "        continue\n",
    "        \n",
    "    allrows.append(row)\n",
    "        \n",
    "df = pd.DataFrame(allrows,\n",
    "                  columns=['id', 'p_benign', 'p_financial', 'p_healthcare', 'p_pportunity',\n",
    "             'p_harmful', 'p_prohibited', 'p_clickbait', 'p_lawsuit', 'p_political',\n",
    "               'older', 'female', 'black', 'hispanic', 'asian', 'high_ed'])\n",
    "\n",
    "df.to_csv('regression_data.csv', index=False)"
   ]
  },
  {
   "cell_type": "markdown",
   "id": "52717328",
   "metadata": {},
   "source": [
    "### Regression file for: does targeting improve relevance?"
   ]
  },
  {
   "cell_type": "code",
   "execution_count": 2,
   "id": "126db81d",
   "metadata": {},
   "outputs": [],
   "source": [
    "# load targetings\n",
    "ad_targetings = {}\n",
    "with open('../../db-processing/ad-targetings.tsv', 'r') as fh:\n",
    "    for line in fh:\n",
    "        ad_id, targeting = line.split('\\t')\n",
    "        targeting = json.loads(targeting.strip())\n",
    "        ad_targetings[ad_id] = targeting\n",
    "        \n",
    "# load survey responses\n",
    "survey_file = '../../db-processing/survey_responses.tsv'\n",
    "survey = pd.read_csv(survey_file, sep='\\t')"
   ]
  },
  {
   "cell_type": "code",
   "execution_count": 3,
   "id": "2071808c",
   "metadata": {},
   "outputs": [],
   "source": [
    "ca_advertisers = {}\n",
    "# 'ca_owner_name': 'Klarna'\n",
    "\n",
    "def get_targeting(ut, aid):\n",
    "    # also updates global list of CA advertisers\n",
    "    global ca_advertisers\n",
    "    # there is always an el['__typename'] == 'WAISTUIAgeGenderType'\n",
    "    all_targetings = {'id': aid}\n",
    "    for el in ut['data']['waist_targeting_data']:\n",
    "        if el['__typename'] == 'WAISTUIInterestsType':\n",
    "            all_targetings['interests'] = set([i['name'] for i in el['interests']])\n",
    "        elif el['__typename'] == 'WAISTUICustomAudienceType':\n",
    "            ca_advertisers[aid] = el['dfca_data']['ca_owner_name']\n",
    "            all_targetings['custom'] = True\n",
    "        elif el['__typename'] == 'WAISTUILocationType':\n",
    "            gran = json.loads(el['serialized_data'])['location_granularity']\n",
    "            loc = el['location_name']\n",
    "            all_targetings['location'] = {'loc': loc, 'gran': gran}\n",
    "        elif el['__typename'] == 'WAISTUIAgeGenderType':\n",
    "            all_targetings['age-gender'] = {\n",
    "                'age_min': el['age_min'],\n",
    "                'age_max': el['age_max'],\n",
    "                'gender': el['gender']\n",
    "            }        \n",
    "        \n",
    "    return all_targetings"
   ]
  },
  {
   "cell_type": "code",
   "execution_count": 13,
   "id": "3257a5c3",
   "metadata": {},
   "outputs": [],
   "source": [
    "# prepare regression file for targeting vs. relevance regression\n",
    "allrows = []\n",
    "\n",
    "for i in range(survey.shape[0]):\n",
    "    pid = survey.iloc[i]['pid']\n",
    "    adid = survey.iloc[i]['adid']\n",
    "    relevance = int(survey.iloc[i]['relevance'])\n",
    "    tar = get_targeting(ad_targetings[str(adid)], adid)    \n",
    "    interests = 0\n",
    "    if 'interests' in tar:\n",
    "        interests = len(tar['interests'])\n",
    "    custom = int('custom' in tar)    \n",
    "    if 'location' in tar:\n",
    "        loc = []\n",
    "        for gran in ['city', 'region', 'country']:\n",
    "            if gran in tar['location']['gran']:\n",
    "                loc.append(1)\n",
    "            else:\n",
    "                loc.append(0)\n",
    "    else:\n",
    "        continue\n",
    "    regrow = [pid, adid, relevance, interests, custom] + loc\n",
    "    allrows.append(regrow)\n",
    "\n",
    "df = pd.DataFrame(allrows,\n",
    "              columns=['pid', 'adid', 'relevance', 'n_interests', 'custom', 'city', 'region', 'country'])\n",
    "\n",
    "df.to_csv('relevance_v_targeting.csv', index=False)"
   ]
  },
  {
   "cell_type": "code",
   "execution_count": 6,
   "id": "a610bfb1",
   "metadata": {},
   "outputs": [
    {
     "data": {
      "text/plain": [
       "{'id': 23849374805000583,\n",
       " 'age-gender': {'age_min': 6, 'age_max': 43, 'gender': 'ANY'},\n",
       " 'location': {'loc': 'the United States', 'gran': 'country'}}"
      ]
     },
     "execution_count": 6,
     "metadata": {},
     "output_type": "execute_result"
    }
   ],
   "source": [
    "tar"
   ]
  },
  {
   "cell_type": "code",
   "execution_count": null,
   "id": "0d508a7a",
   "metadata": {},
   "outputs": [],
   "source": []
  }
 ],
 "metadata": {
  "kernelspec": {
   "display_name": "Python 3",
   "language": "python",
   "name": "python3"
  },
  "language_info": {
   "codemirror_mode": {
    "name": "ipython",
    "version": 3
   },
   "file_extension": ".py",
   "mimetype": "text/x-python",
   "name": "python",
   "nbconvert_exporter": "python",
   "pygments_lexer": "ipython3",
   "version": "3.8.9"
  }
 },
 "nbformat": 4,
 "nbformat_minor": 5
}
