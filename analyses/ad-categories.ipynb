{
 "cells": [
  {
   "cell_type": "code",
   "execution_count": 1,
   "id": "0c5048d6",
   "metadata": {},
   "outputs": [],
   "source": [
    "import pandas as pd\n",
    "import numpy as np\n",
    "import matplotlib.pyplot as plt\n",
    "import spacy\n",
    "import operator\n",
    "import string\n",
    "import csv\n",
    "import phrasemachine\n",
    "from collections import defaultdict\n",
    "\n",
    "from sklearn.feature_extraction.text import CountVectorizer, TfidfVectorizer\n",
    "from sklearn.base import TransformerMixin\n",
    "\n",
    "plt.rcParams['font.family'] = 'Helvetica'"
   ]
  },
  {
   "cell_type": "code",
   "execution_count": 2,
   "id": "21eae325",
   "metadata": {},
   "outputs": [],
   "source": [
    "f_adid_message = '../db-processing/adid_message.tsv'\n",
    "ads = pd.read_csv(f_adid_message, sep='\\t')\n",
    "ads.set_index('ad_id', inplace=True)\n",
    "\n",
    "f_adid_pid = '../db-processing/adid_pid.tsv'\n",
    "ads_users = defaultdict(lambda: [])\n",
    "with open(f_adid_pid, 'r') as fh:\n",
    "    reader = csv.reader(fh, delimiter='\\t')\n",
    "    for row in reader:\n",
    "        users = [x for x in row[1].split(',')]\n",
    "        ads_users[int(row[0])] = users\n",
    "        \n",
    "def load_dem_file(filename):\n",
    "    # Q22 = how would you cover a $400 random expense?\n",
    "    # Q20 = kinds of debt\n",
    "    # Q19 = how much are you saving?\n",
    "    # Q18 = how often do you worry about debt?\n",
    "    # Q12 = what industry did your parents work in?\n",
    "    # Q11/Q11_14_TEXT = what industry do you work in\n",
    "    user_demographics = {}\n",
    "    df = pd.read_csv(filename)\n",
    "    df.drop(labels=[0, 1], inplace=True)\n",
    "    for i in range(df.shape[0]):\n",
    "        pid = df['PROLIFIC_PID'].iloc[i]\n",
    "        user_demographics[pid] = {\n",
    "            '400_expense': df['Q22'].iloc[i],\n",
    "            'debt': df['Q20'].iloc[i],\n",
    "            'saving': df['Q19'].iloc[i]            \n",
    "        }        \n",
    "        \n",
    "    return user_demographics\n",
    "        \n",
    "# also load user demographic map\n",
    "demographics_file = '../db-processing/prolific-demographics.csv'\n",
    "user_dem = load_dem_file(demographics_file)"
   ]
  },
  {
   "cell_type": "code",
   "execution_count": 3,
   "id": "ece27826",
   "metadata": {},
   "outputs": [
    {
     "name": "stdout",
     "output_type": "stream",
     "text": [
      "6233283645787 ['5c6ac9e5d9c5be000174497f', '5bba226d70f8df0001c065f3']\n",
      "23847571411330750 ['609471590c51b81087087049', '5e3cc28a194a520c0c128f13']\n",
      "23847574201500787 ['609471590c51b81087087049', '5d1ea7e579b687001af802c6']\n",
      "23847356524490423 ['5c6ac9e5d9c5be000174497f', '5d1ea7e579b687001af802c6', '5e3cc28a194a520c0c128f13']\n"
     ]
    }
   ],
   "source": [
    "# is there any user ad overlap?\n",
    "for user in ads_users:\n",
    "    if len(ads_users[user]) > 1:\n",
    "        print(user, ads_users[user])\n",
    "        \n",
    "# max([len(users) for users in ads_users.values()])"
   ]
  },
  {
   "cell_type": "code",
   "execution_count": 4,
   "id": "485618bf",
   "metadata": {},
   "outputs": [],
   "source": [
    "parser = spacy.load('en_core_web_sm')\n",
    "stop_words = spacy.lang.en.stop_words.STOP_WORDS\n",
    "stop_words.update(['like', 'comment', 'share'])\n",
    "punc = string.punctuation + \"—’...…---™\""
   ]
  },
  {
   "cell_type": "code",
   "execution_count": 5,
   "id": "fab9d8b7",
   "metadata": {},
   "outputs": [],
   "source": [
    "def clean_fb_strings(message):\n",
    "    # removes fb-specific language from ad message\n",
    "    cta_list = ['Apply Now', 'Book Now', 'Buy Tickets', 'Call Now', 'Contact Us',\n",
    "        'Donate Now', 'Get Directions', 'Download', 'Get Offer', 'Get Quote', 'Get Showtimes', 'Install Now',\n",
    "        'Learn More', 'Like Page', 'Listen Now', 'Open Link', 'Order Now', 'Play Game', 'Request Time', 'Save', 'See Menu',\n",
    "        'Send Message', 'Send WhatsApp Message','Shop Now','Sign Up','Subscribe','Use App','View Event','Watch More']\n",
    "    fb_keywords = ['Like', 'Comment', 'Share', 'See More']\n",
    "    lines = []\n",
    "    for line in message.split('\\n'):\n",
    "        if line not in cta_list and line not in fb_keywords:\n",
    "            lines.append(line)\n",
    "            \n",
    "    # re-join back into one message\n",
    "    return '\\n'.join(list(set(lines)))\n",
    "    \n",
    "\n",
    "def spacy_tokenizer(message):\n",
    "    # takes a full facebook message, removes fb-specific messages, and returns tokens\n",
    "    global parser, stop_words, punc\n",
    "    \n",
    "    sent = clean_fb_strings(message)\n",
    "    tokens = parser(sent)\n",
    "    # spacy magic\n",
    "    tokens = [word.lemma_.lower().strip() if word.lemma_ != '-PRON' else word.lower_ for word in tokens]\n",
    "    # remove stop words and punctuation, also ignoring non-ascii chars for now\n",
    "    # (might want to find a more nuance approach that retains emojis)\n",
    "    tokens = [word for word in tokens if word not in stop_words and word not in punc and word.isascii()]\n",
    "    \n",
    "    return tokens\n",
    "\n",
    "def phrasemachine_tokenizer(message):\n",
    "    # takes a full facebook message, removes fb-specific messages, and returns\n",
    "    sent = clean_fb_strings(message)    \n",
    "    return phrasemachine.get_phrases(sent)\n",
    "    "
   ]
  },
  {
   "cell_type": "code",
   "execution_count": 6,
   "id": "88655e71",
   "metadata": {},
   "outputs": [],
   "source": [
    "vectorizer = CountVectorizer(tokenizer=spacy_tokenizer, ngram_range=(1, 1))\n",
    "ads_list = ads['message'].tolist()\n",
    "tf_matrix = vectorizer.fit_transform(ads_list)"
   ]
  },
  {
   "cell_type": "code",
   "execution_count": 7,
   "id": "212a94e9",
   "metadata": {},
   "outputs": [
    {
     "name": "stdout",
     "output_type": "stream",
     "text": [
      "(748, 4954)\n"
     ]
    }
   ],
   "source": [
    "print(tf_matrix.shape)"
   ]
  },
  {
   "cell_type": "code",
   "execution_count": 8,
   "id": "df327fdf",
   "metadata": {},
   "outputs": [
    {
     "name": "stdout",
     "output_type": "stream",
     "text": [
      "Write a post-apocalyptic short fiction story for the chance to win $20,000!\n",
      "Write a post-apocalyptic short fiction story for the chance to win $20,000!\n",
      "About this partnership\n",
      "vocal.media/challenges\n",
      "Win $20,000 - Fiction Writing Challenge\n",
      "Win $20,000 - Fiction Writing Challenge\n",
      "Write a short piece of dystopian fiction involving a heart-shaped locket.\n",
      "Sign Up\n",
      "Like\n",
      "Comment\n"
     ]
    },
    {
     "data": {
      "text/plain": [
       "{'num_tokens': 37,\n",
       " 'counts': Counter({'post-apocalyptic short fiction': 1,\n",
       "          'post-apocalyptic short fiction story': 1,\n",
       "          'post-apocalyptic short fiction story for the chance': 1,\n",
       "          'short fiction': 1,\n",
       "          'short fiction story': 1,\n",
       "          'short fiction story for the chance': 1,\n",
       "          'fiction story': 1,\n",
       "          'fiction story for the chance': 1,\n",
       "          'story for the chance': 1,\n",
       "          'partnership win': 1,\n",
       "          'fiction writing': 1,\n",
       "          'fiction writing challenge': 1,\n",
       "          'writing challenge': 1,\n",
       "          'short piece': 1,\n",
       "          'short piece of dystopian fiction': 1,\n",
       "          'piece of dystopian fiction': 1,\n",
       "          'dystopian fiction': 1,\n",
       "          'heart-shaped locket': 1})}"
      ]
     },
     "execution_count": 8,
     "metadata": {},
     "output_type": "execute_result"
    }
   ],
   "source": [
    "# TODO: use later once basic unigram pipeline is ready\n",
    "# also, read about what this is actually accomplishing: https://github.com/slanglab/phrasemachine\n",
    "\n",
    "ad = ads_list[25]\n",
    "print(ad)\n",
    "phrasemachine_tokenizer(ad)"
   ]
  },
  {
   "cell_type": "code",
   "execution_count": 9,
   "id": "c3ae0c7d",
   "metadata": {},
   "outputs": [
    {
     "name": "stdout",
     "output_type": "stream",
     "text": [
      "freq: 345 word: shop\n",
      "freq: 263 word: free\n",
      "freq: 237 word: learn\n",
      "freq: 216 word: new\n",
      "freq: 136 word: sign\n",
      "freq: 126 word: code\n",
      "freq: 120 word: day\n",
      "freq: 105 word: today\n",
      "freq: 100 word: home\n",
      "freq: 100 word: order\n",
      "freq: 92 word: online\n",
      "freq: 92 word: use\n",
      "freq: 92 word: start\n",
      "freq: 91 word: shipping\n",
      "freq: 87 word: time\n",
      "freq: 83 word: summer\n",
      "freq: 82 word: book\n",
      "freq: 81 word: good\n",
      "freq: 77 word: save\n",
      "freq: 75 word: jewelry\n"
     ]
    }
   ],
   "source": [
    "# top words in the database\n",
    "matrix_np = tf_matrix.toarray()\n",
    "\n",
    "freqs_computed = np.sum(matrix_np, axis=0)\n",
    "maxfreqs = freqs_computed.argsort() \n",
    "\n",
    "# most frequent words\n",
    "for i in range(20):\n",
    "    maxfreq = maxfreqs[-(i+1)]\n",
    "    ind_to_word = dict([v, k] for k, v in vectorizer.vocabulary_.items())\n",
    "    print('freq:', freqs_computed[maxfreq], 'word:', ind_to_word[maxfreq])"
   ]
  },
  {
   "cell_type": "code",
   "execution_count": 10,
   "id": "5cead9fb",
   "metadata": {
    "scrolled": true
   },
   "outputs": [
    {
     "data": {
      "image/png": "[encoded data removed]",
      "text/plain": [
       "<Figure size 432x288 with 1 Axes>"
      ]
     },
     "metadata": {
      "needs_background": "light"
     },
     "output_type": "display_data"
    }
   ],
   "source": [
    "# sanity check by plotting frequencies (freqs_computed)\n",
    "plt.plot(np.arange(len(freqs_computed)), sorted(freqs_computed, reverse=True))\n",
    "# plt.xlim(left=0, right=50)\n",
    "plt.xlabel('words')\n",
    "# plt.xticks([])\n",
    "plt.ylabel('frequency')\n",
    "plt.grid(ls=':')"
   ]
  },
  {
   "cell_type": "markdown",
   "id": "8354e837",
   "metadata": {},
   "source": [
    "## Per-User Themes (tf-idf)"
   ]
  },
  {
   "cell_type": "markdown",
   "id": "75b12391",
   "metadata": {},
   "source": [
    "**idea**: each user's ads is one document, and the whole corpus is made up of $|users|$ documents\n",
    "- top tf-idf terms from each document are the user's major themes"
   ]
  },
  {
   "cell_type": "code",
   "execution_count": 11,
   "id": "f163606b",
   "metadata": {},
   "outputs": [
    {
     "name": "stdout",
     "output_type": "stream",
     "text": [
      "# ads: 748\n",
      "# users: 7\n"
     ]
    }
   ],
   "source": [
    "print('# ads:', len(ads_users))\n",
    "allusers = []\n",
    "list(map(lambda x: allusers.extend(x), ads_users.values()))\n",
    "allusers = list(set(allusers))\n",
    "print('# users:', len(allusers))\n",
    "\n",
    "# compute per-user \"document\"\n",
    "user_ads = {u: \"\" for u in allusers}\n",
    "user_ad_counts = {u: 0 for u in allusers}\n",
    "for adid, users in ads_users.items():\n",
    "    for u in users:\n",
    "        user_ads[u] += ads.loc[adid]['message'] + '\\n'\n",
    "        user_ad_counts[u] += 1"
   ]
  },
  {
   "cell_type": "code",
   "execution_count": 12,
   "id": "8902582f",
   "metadata": {},
   "outputs": [
    {
     "name": "stdout",
     "output_type": "stream",
     "text": [
      "(7, 19165)\n"
     ]
    }
   ],
   "source": [
    "# process user ads to get tf-idf\n",
    "user_ads_tfidf = {u: None for u in allusers}\n",
    "# allowing bigrams as well\n",
    "user_vectorizer = TfidfVectorizer(tokenizer=spacy_tokenizer, ngram_range=(1, 2))\n",
    "corpus = [user_ads[u] for u in allusers]\n",
    "    \n",
    "# now pull out tfidf\n",
    "ads_tfidf = user_vectorizer.fit_transform(corpus)\n",
    "print(ads_tfidf.shape)"
   ]
  },
  {
   "cell_type": "code",
   "execution_count": 13,
   "id": "0212af03",
   "metadata": {
    "scrolled": false
   },
   "outputs": [
    {
     "name": "stdout",
     "output_type": "stream",
     "text": [
      "\n",
      " -- user: 5e3cc28a194a520c0c128f13 (# ads: 11) -- demographics:\n",
      "\t400_expense: Sell something\n",
      "\tdebt: Other debt, not including a home mortgage\n",
      "\tsaving: Saving a little\n",
      "\n",
      "\n",
      "tf-idf: 0.1806 word: solar\n",
      "tf-idf: 0.1736 word: homeowner\n",
      "tf-idf: 0.1632 word: roof\n",
      "tf-idf: 0.1632 word: zip\n",
      "tf-idf: 0.155 word: new\n",
      "tf-idf: 0.136 word: battery backup\n",
      "tf-idf: 0.136 word: battery\n",
      "tf-idf: 0.136 word: backup\n",
      "tf-idf: 0.1351 word: qualify\n",
      "tf-idf: 0.1174 word: check\n",
      "tf-idf: 0.1129 word: solar panel\n",
      "tf-idf: 0.1129 word: panel\n",
      "tf-idf: 0.1088 word: customer use\n",
      "tf-idf: 0.1088 word: zip code\n",
      "tf-idf: 0.1027 word: program\n",
      "\n",
      " -- user: 5bba226d70f8df0001c065f3 (# ads: 45) -- demographics:\n",
      "\t400_expense: Borrow from a friend or family member\n",
      "\tdebt: Student loan debt,Credit card debt,Medical debt\n",
      "\tsaving: Making ends meet\n",
      "\n",
      "\n",
      "tf-idf: 0.1465 word: free\n",
      "tf-idf: 0.1082 word: today\n",
      "tf-idf: 0.1045 word: box\n",
      "tf-idf: 0.095 word: care\n",
      "tf-idf: 0.095 word: member\n",
      "tf-idf: 0.0925 word: annual member\n",
      "tf-idf: 0.0925 word: psychic friend\n",
      "tf-idf: 0.0915 word: day\n",
      "tf-idf: 0.0896 word: bob\n",
      "tf-idf: 0.0806 word: plus\n",
      "tf-idf: 0.0806 word: new\n",
      "tf-idf: 0.0771 word: burger\n",
      "tf-idf: 0.0771 word: cabin\n",
      "tf-idf: 0.0771 word: bob burger\n",
      "tf-idf: 0.0771 word: sticker\n",
      "\n",
      " -- user: 5df3ab425777b528cb364cde (# ads: 393) -- demographics:\n",
      "\t400_expense: Put it on my credit card and pay it off in full at the next statement\n",
      "\tdebt: Credit card debt\n",
      "\tsaving: Saving a little\n",
      "\n",
      "\n",
      "tf-idf: 0.2112 word: earring\n",
      "tf-idf: 0.1365 word: new\n",
      "tf-idf: 0.1351 word: jewelry\n",
      "tf-idf: 0.1293 word: necklace\n",
      "tf-idf: 0.1278 word: woman\n",
      "tf-idf: 0.1217 word: free\n",
      "tf-idf: 0.1088 word: book\n",
      "tf-idf: 0.1065 word: day\n",
      "tf-idf: 0.1032 word: collection\n",
      "tf-idf: 0.102 word: code\n",
      "tf-idf: 0.1004 word: gogh\n",
      "tf-idf: 0.1003 word: dress\n",
      "tf-idf: 0.096 word: floral\n",
      "tf-idf: 0.092 word: vintage\n",
      "tf-idf: 0.0917 word: summer\n",
      "\n",
      " -- user: 5e1b299528c70235eeed62ef (# ads: 1) -- demographics:\n",
      "\t400_expense: Use money currently in my checking or savings account or with cash\n",
      "\tdebt: Student loan debt,Auto loan debt,Credit card debt\n",
      "\tsaving: Saving a little\n",
      "\n",
      "\n",
      "tf-idf: 0.4673 word: air\n",
      "tf-idf: 0.1877 word: air purifier\n",
      "tf-idf: 0.1877 word: kill\n",
      "tf-idf: 0.1877 word: purifier\n",
      "tf-idf: 0.1877 word: remove 99.97\n",
      "tf-idf: 0.1877 word: 99.97\n",
      "tf-idf: 0.1877 word: 99.97 air\n",
      "tf-idf: 0.1558 word: remove\n",
      "tf-idf: 0.1156 word: advanced\n",
      "tf-idf: 0.0938 word: filter\n",
      "tf-idf: 0.0938 word: germ remove\n",
      "tf-idf: 0.0938 word: standby advanced\n",
      "tf-idf: 0.0938 word: germshield\n",
      "tf-idf: 0.0938 word: germshield technology\n",
      "tf-idf: 0.0938 word: monitoring breath\n",
      "\n",
      " -- user: 609471590c51b81087087049 (# ads: 186) -- demographics:\n",
      "\t400_expense: Use money currently in my checking or savings account or with cash\n",
      "\tdebt: Medical debt\n",
      "\tsaving: Saving a little\n",
      "\n",
      "\n",
      "tf-idf: 0.1598 word: meal\n",
      "tf-idf: 0.1341 word: free\n",
      "tf-idf: 0.1283 word: deliver fresh\n",
      "tf-idf: 0.1278 word: chef\n",
      "tf-idf: 0.1225 word: game\n",
      "tf-idf: 0.1158 word: new\n",
      "tf-idf: 0.1119 word: search\n",
      "tf-idf: 0.1108 word: home\n",
      "tf-idf: 0.1093 word: cook\n",
      "tf-idf: 0.1067 word: good\n",
      "tf-idf: 0.1027 word: chef cook\n",
      "tf-idf: 0.1027 word: cook meal\n",
      "tf-idf: 0.0959 word: gaming\n",
      "tf-idf: 0.0911 word: deal\n",
      "tf-idf: 0.0905 word: meal deliver\n",
      "\n",
      " -- user: 5d1ea7e579b687001af802c6 (# ads: 78) -- demographics:\n",
      "\t400_expense: Put it on my credit card and pay it off over time ,Use money currently in my checking or savings account or with cash,Borrow from a friend or family member\n",
      "\tdebt: Auto loan debt,Credit card debt\n",
      "\tsaving: Saving a little\n",
      "\n",
      "\n",
      "tf-idf: 0.216 word: free\n",
      "tf-idf: 0.1355 word: meal\n",
      "tf-idf: 0.107 word: save\n",
      "tf-idf: 0.0968 word: keto\n",
      "tf-idf: 0.0934 word: good\n",
      "tf-idf: 0.0881 word: today\n",
      "tf-idf: 0.0831 word: time\n",
      "tf-idf: 0.0827 word: health\n",
      "tf-idf: 0.0827 word: cash\n",
      "tf-idf: 0.0816 word: keto meal\n",
      "tf-idf: 0.079 word: earn\n",
      "tf-idf: 0.079 word: work\n",
      "tf-idf: 0.079 word: shipping\n",
      "tf-idf: 0.0755 word: home\n",
      "tf-idf: 0.0755 word: amazon\n",
      "\n",
      " -- user: 5c6ac9e5d9c5be000174497f (# ads: 39) -- demographics:\n",
      "\t400_expense: Sell something\n",
      "\tdebt: Credit card debt,Medical debt\n",
      "\tsaving: Making ends meet\n",
      "\n",
      "\n",
      "tf-idf: 0.2434 word: credit\n",
      "tf-idf: 0.219 word: plus\n",
      "tf-idf: 0.1408 word: free\n",
      "tf-idf: 0.1367 word: diamond\n",
      "tf-idf: 0.1317 word: engagement\n",
      "tf-idf: 0.1317 word: engagement ring\n",
      "tf-idf: 0.1285 word: ring\n",
      "tf-idf: 0.1014 word: bikini\n",
      "tf-idf: 0.0988 word: diamond engagement\n",
      "tf-idf: 0.0957 word: chime\n",
      "tf-idf: 0.0957 word: help build\n",
      "tf-idf: 0.0957 word: build credit\n",
      "tf-idf: 0.0913 word: swimsuit\n",
      "tf-idf: 0.0823 word: zumbini\n",
      "tf-idf: 0.0823 word: 100,000 point\n"
     ]
    }
   ],
   "source": [
    "# top 10 words for each user\n",
    "tfidf_np = ads_tfidf.toarray()\n",
    "\n",
    "# top 10 most frequent words\n",
    "ind_to_word = dict([v, k] for k, v in user_vectorizer.vocabulary_.items())\n",
    "for i in range(tfidf_np.shape[0]):\n",
    "    pid = allusers[i]\n",
    "    print('\\n -- user:', list(allusers)[i], f'(# ads: {user_ad_counts[pid]})', '-- demographics:')\n",
    "    for dem in ['400_expense', 'debt', 'saving']:\n",
    "        print(f'\\t{dem}: {user_dem[pid][dem]}')\n",
    "    print('\\n')\n",
    "    \n",
    "    maxes = tfidf_np[i].argsort() \n",
    "    for j in range(15):\n",
    "        curmax = maxes[-(j+1)]\n",
    "        print('tf-idf:', round(tfidf_np[i][curmax], 4), 'word:', ind_to_word[curmax])"
   ]
  },
  {
   "cell_type": "code",
   "execution_count": 21,
   "id": "43e256e2",
   "metadata": {},
   "outputs": [
    {
     "data": {
      "text/plain": [
       "{'5c0fcccc1f6f150001487111': {'400_expense': 'Use money currently in my checking or savings account or with cash',\n",
       "  'debt': 'Auto loan debt',\n",
       "  'saving': 'Saving a lot'},\n",
       " '5c6ac9e5d9c5be000174497f': {'400_expense': 'Sell something',\n",
       "  'debt': 'Credit card debt,Medical debt',\n",
       "  'saving': 'Making ends meet'},\n",
       " '5e3cc28a194a520c0c128f13': {'400_expense': 'Sell something',\n",
       "  'debt': 'Other debt, not including a home mortgage',\n",
       "  'saving': 'Saving a little'},\n",
       " '609471590c51b81087087049': {'400_expense': 'Use money currently in my checking or savings account or with cash',\n",
       "  'debt': 'Medical debt',\n",
       "  'saving': 'Saving a little'},\n",
       " '5bba226d70f8df0001c065f3': {'400_expense': 'Borrow from a friend or family member',\n",
       "  'debt': 'Student loan debt,Credit card debt,Medical debt',\n",
       "  'saving': 'Making ends meet'},\n",
       " '5d1ea7e579b687001af802c6': {'400_expense': 'Put it on my credit card and pay it off over time ,Use money currently in my checking or savings account or with cash,Borrow from a friend or family member',\n",
       "  'debt': 'Auto loan debt,Credit card debt',\n",
       "  'saving': 'Saving a little'},\n",
       " '5df3ab425777b528cb364cde': {'400_expense': 'Put it on my credit card and pay it off in full at the next statement',\n",
       "  'debt': 'Credit card debt',\n",
       "  'saving': 'Saving a little'},\n",
       " '{{%PROLIFIC_PID%}}': {'400_expense': 'Use money currently in my checking or savings account or with cash',\n",
       "  'debt': 'Payday loan debt',\n",
       "  'saving': 'Prefer not to respond'},\n",
       " '5e1b299528c70235eeed62ef': {'400_expense': 'Use money currently in my checking or savings account or with cash',\n",
       "  'debt': 'Student loan debt,Auto loan debt,Credit card debt',\n",
       "  'saving': 'Saving a little'}}"
      ]
     },
     "execution_count": 21,
     "metadata": {},
     "output_type": "execute_result"
    }
   ],
   "source": [
    "user_dem"
   ]
  },
  {
   "cell_type": "code",
   "execution_count": null,
   "id": "6af039a4",
   "metadata": {},
   "outputs": [],
   "source": [
    "# TODO: visualize all the ads for each one of these people"
   ]
  },
  {
   "cell_type": "code",
   "execution_count": 389,
   "id": "a6199b8c",
   "metadata": {},
   "outputs": [
    {
     "name": "stdout",
     "output_type": "stream",
     "text": [
      "… see 16\n",
      "sleep number 14\n",
      "chef-cooked meals 11\n",
      "metal poster 10\n",
      "sleep number beds 9\n",
      "number beds 9\n",
      "top searches 9\n",
      "see more 7\n",
      "trevor wittman 6\n",
      "north carolina 6\n",
      "free shipping 6\n",
      "hbo max 6\n",
      "power punch 5\n",
      "1 month 5\n",
      "3 months 5\n"
     ]
    }
   ],
   "source": [
    "# testing whether phrasemachine is useful for us -- seems a little useful, but not too much\n",
    "phrase_counts = phrasemachine_tokenizer(user_ads['609471590c51b81087087049'])\n",
    "most_common = phrase_counts['counts'].most_common()[:15]\n",
    "for ph, count in most_common:\n",
    "    print(ph, count)\n",
    "    \n",
    "# phrasemachine only picks up on \"noun phrases\""
   ]
  },
  {
   "cell_type": "markdown",
   "id": "288965f6",
   "metadata": {},
   "source": [
    "## User-level SVD Topic Modeling"
   ]
  },
  {
   "cell_type": "code",
   "execution_count": 22,
   "id": "fb5f380c",
   "metadata": {},
   "outputs": [
    {
     "name": "stdout",
     "output_type": "stream",
     "text": [
      "(7, 19168)\n"
     ]
    },
    {
     "data": {
      "text/plain": [
       "19168"
      ]
     },
     "execution_count": 22,
     "metadata": {},
     "output_type": "execute_result"
    }
   ],
   "source": [
    "print(tfidf_np.shape)\n",
    "len(user_vectorizer.get_feature_names())"
   ]
  },
  {
   "cell_type": "code",
   "execution_count": 23,
   "id": "5880de23",
   "metadata": {},
   "outputs": [
    {
     "data": {
      "text/plain": [
       "TruncatedSVD(n_components=10, n_iter=200, random_state=122)"
      ]
     },
     "execution_count": 23,
     "metadata": {},
     "output_type": "execute_result"
    }
   ],
   "source": [
    "from sklearn.decomposition import TruncatedSVD\n",
    "\n",
    "# each row here is a user, so we're trying to find themes common across users (documents)\n",
    "svd_model = TruncatedSVD(n_components=10, algorithm='randomized', n_iter=200, random_state=122)\n",
    "svd_model.fit(tfidf_np)"
   ]
  },
  {
   "cell_type": "code",
   "execution_count": 24,
   "id": "27500b75",
   "metadata": {},
   "outputs": [
    {
     "name": "stdout",
     "output_type": "stream",
     "text": [
      "Topic 0: \n",
      "free ; new ; day ; today ; plus ; good ; home ; meal \n",
      "\n",
      "Topic 1: \n",
      "air ; 99.97 ; 99.97 air ; air purifier ; kill ; purifier ; remove 99.97 ; remove \n",
      "\n",
      "Topic 2: \n",
      "solar ; homeowner ; roof ; zip ; qualify ; backup ; battery ; battery backup \n",
      "\n",
      "Topic 3: \n",
      "credit ; plus ; engagement ; engagement ring ; diamond ; ring ; bikini ; diamond engagement \n",
      "\n",
      "Topic 4: \n",
      "care ; annual member ; psychic friend ; bob ; member ; box ; psychic ; atlanta \n",
      "\n",
      "Topic 5: \n",
      "deliver fresh ; chef ; game ; search ; cook ; chef cook ; cook meal ; gaming \n",
      "\n",
      "Topic 6: \n",
      "earring ; jewelry ; woman ; necklace ; dress ; floral ; gogh ; collection \n",
      "\n"
     ]
    }
   ],
   "source": [
    "terms = user_vectorizer.get_feature_names()\n",
    "\n",
    "for i, comp in enumerate(svd_model.components_):\n",
    "    terms_comp = zip(terms, comp)\n",
    "    sorted_terms = sorted(terms_comp, key= lambda x:x[1], reverse=True)[:8]\n",
    "    print(\"Topic \" + str(i) + \": \")\n",
    "    print(\" ; \".join([t[0] for t in sorted_terms]), '\\n')"
   ]
  },
  {
   "cell_type": "code",
   "execution_count": 25,
   "id": "ceff3d20",
   "metadata": {},
   "outputs": [
    {
     "data": {
      "text/plain": [
       "1.0"
      ]
     },
     "execution_count": 25,
     "metadata": {},
     "output_type": "execute_result"
    }
   ],
   "source": [
    "# why did the SVD just stop at 7 topics? is this the maximum decomposition that can be done?\n",
    "svd_model.explained_variance_ratio_.sum()"
   ]
  },
  {
   "cell_type": "markdown",
   "id": "e202f398",
   "metadata": {},
   "source": [
    "### SVD on the entire dataset (corpus-level themes)"
   ]
  },
  {
   "cell_type": "code",
   "execution_count": 26,
   "id": "6dfbf691",
   "metadata": {},
   "outputs": [],
   "source": [
    "tfidf_vectorizer = TfidfVectorizer(tokenizer=spacy_tokenizer, ngram_range=(1, 2))\n",
    "ads_list = ads['message'].tolist()\n",
    "tfidf_matrix = tfidf_vectorizer.fit_transform(ads_list)"
   ]
  },
  {
   "cell_type": "code",
   "execution_count": 27,
   "id": "883ed435",
   "metadata": {},
   "outputs": [
    {
     "data": {
      "text/plain": [
       "(748, 19050)"
      ]
     },
     "execution_count": 27,
     "metadata": {},
     "output_type": "execute_result"
    }
   ],
   "source": [
    "# every ad in this case is a document, so trying to find generic themes across ads\n",
    "tfidf_matrix.shape"
   ]
  },
  {
   "cell_type": "code",
   "execution_count": 28,
   "id": "c4988ce5",
   "metadata": {},
   "outputs": [
    {
     "data": {
      "text/plain": [
       "TruncatedSVD(n_components=10, n_iter=200, random_state=122)"
      ]
     },
     "execution_count": 28,
     "metadata": {},
     "output_type": "execute_result"
    }
   ],
   "source": [
    "overall_svd_model = TruncatedSVD(n_components=10, algorithm='randomized', n_iter=200, random_state=122)\n",
    "overall_svd_model.fit(tfidf_matrix.toarray())"
   ]
  },
  {
   "cell_type": "code",
   "execution_count": 29,
   "id": "7f8c6083",
   "metadata": {},
   "outputs": [
    {
     "name": "stdout",
     "output_type": "stream",
     "text": [
      "Topic 0 (explained variance 0.0133): \n",
      "code new10 ; new10 ; code ; analuisa.com ; buzzfeed ; buzzfeed instyle ; elle ; elle refinery29 ; refinery29 ; refinery29 buzzfeed \n",
      "\n",
      "Topic 1 (explained variance 0.0111): \n",
      "new ; tracy ; anderson ; tracy anderson ; help achieve ; online studio ; achieve think ; anderson online ; core strategy ; design open \n",
      "\n",
      "Topic 2 (explained variance 0.0041): \n",
      "free ; shop ; learn ; day ; save ; amazon ; today ; order ; sign ; apply \n",
      "\n",
      "Topic 3 (explained variance 0.0069): \n",
      "fiction ; win ; win 20,000 ; write ; 20,000 ; chance win ; chance ; short ; honey ; dystopian \n",
      "\n",
      "Topic 4 (explained variance 0.0067): \n",
      "meal ; chef ; cook ; deliver fresh ; fresh ; meal deliver ; chef cook ; cook meal ; deliver ; fiction \n",
      "\n",
      "Topic 5 (explained variance 0.0065): \n",
      "summer ; test ; sale ; save 35 ; summer sale ; 35 ; 20 ; meal ; home ; sale 20 \n",
      "\n",
      "Topic 6 (explained variance 0.0059): \n",
      "gogh ; van ; van gogh ; sign ; immersive ; immersive van ; book ; new ; family ; exhibit \n",
      "\n",
      "Topic 7 (explained variance 0.0059): \n",
      "order online ; order ; petco.com ; shop petco.com ; online ; fiction ; diet ; day ; pet exclusion ; want pet \n",
      "\n",
      "Topic 8 (explained variance 0.0057): \n",
      "gogh ; van ; van gogh ; immersive ; immersive van ; amazon ; honey ; tool ; ps5 ; chance \n",
      "\n",
      "Topic 9 (explained variance 0.0056): \n",
      "amazon ; coupon ; coupon code ; amazon coupon ; shop amazon ; capitaloneshopping.com ; apply ; fiction ; gogh ; code \n",
      "\n"
     ]
    }
   ],
   "source": [
    "terms = tfidf_vectorizer.get_feature_names()\n",
    "\n",
    "for i, comp in enumerate(overall_svd_model.components_):\n",
    "    terms_comp = zip(terms, comp)\n",
    "    sorted_terms = sorted(terms_comp, key= lambda x:x[1], reverse=True)[:10]\n",
    "    print(\"Topic \" + str(i) + \\\n",
    "          f' (explained variance {round(overall_svd_model.explained_variance_ratio_[i], 4)})' \": \")\n",
    "    print(\" ; \".join([t[0] for t in sorted_terms]), '\\n')"
   ]
  },
  {
   "cell_type": "code",
   "execution_count": null,
   "id": "41c711ce",
   "metadata": {},
   "outputs": [],
   "source": []
  }
 ],
 "metadata": {
  "kernelspec": {
   "display_name": "Python 3",
   "language": "python",
   "name": "python3"
  },
  "language_info": {
   "codemirror_mode": {
    "name": "ipython",
    "version": 3
   },
   "file_extension": ".py",
   "mimetype": "text/x-python",
   "name": "python",
   "nbconvert_exporter": "python",
   "pygments_lexer": "ipython3",
   "version": "3.8.9"
  }
 },
 "nbformat": 4,
 "nbformat_minor": 5
}
