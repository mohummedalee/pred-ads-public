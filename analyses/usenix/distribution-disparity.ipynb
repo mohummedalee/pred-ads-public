{
 "cells": [
  {
   "cell_type": "markdown",
   "id": "506d8914",
   "metadata": {},
   "source": [
    "### Understand disparities in the distribution of deceptive ads (scam+clickbait+prohibited)\n",
    "\n",
    "Remember to peek at `finegrained/global-vs-contextual-harms-frequency.ipynb` for reference, it includes the most polished non-paper-story versions of the analyses.\n",
    "\n",
    "**RQ2: Is there bias in which participants receive which ads?**\n",
    "We need to be able to:\n",
    "- comment on the overall skew of deceptive ads in our dataset, compared to benign or other kinds\n",
    "- comment on the demographics of the people who see the most deceptive ads in our dataset"
   ]
  },
  {
   "cell_type": "code",
   "execution_count": 1,
   "id": "a43a3678",
   "metadata": {},
   "outputs": [],
   "source": [
    "import os, sys\n",
    "import pandas as pd\n",
    "import numpy as np\n",
    "import matplotlib.pyplot as plt\n",
    "from tabulate import tabulate"
   ]
  },
  {
   "cell_type": "code",
   "execution_count": 2,
   "id": "aaf1cd84",
   "metadata": {},
   "outputs": [],
   "source": [
    "from collections import defaultdict\n",
    "\n",
    "# takes dict from adid -> codes and returns dict of code counts, returns proportions of total if norm=True\n",
    "def count_code_props(codes, freqs=None, norm=True):\n",
    "    # `codes`: {adid: codes_string}, `freqs`: number of times each ad was seen, `norm`: counts or proportions\n",
    "    counts = defaultdict(lambda: 0)\n",
    "    for aid in codes:\n",
    "        for code in codes[aid].split(';'):\n",
    "            if \"Can't determine\" not in code and code != 'Study':\n",
    "                # do not count auxiliary codes\n",
    "                if freqs is not None:\n",
    "                    # freqs should be index-set dataframe of the participant's ad counts\n",
    "                    counts[code] += int(freqs.loc[str(aid)])\n",
    "                else:\n",
    "                    counts[code] += 1\n",
    "                \n",
    "    if norm:\n",
    "        return {c: counts[c]/sum(counts.values()) for c in counts}\n",
    "    else:\n",
    "        return counts"
   ]
  },
  {
   "cell_type": "markdown",
   "id": "93e94639",
   "metadata": {},
   "source": [
    "### CDF of Ad Types"
   ]
  },
  {
   "cell_type": "code",
   "execution_count": 3,
   "id": "4c30ee8d",
   "metadata": {},
   "outputs": [
    {
     "name": "stdout",
     "output_type": "stream",
     "text": [
      "Skipiping 445018\n",
      "Skipiping 445018\n",
      "Skipiping 403842\n",
      "Skipiping 403842\n",
      "Skipiping 403842\n",
      "Skipiping 403842\n",
      "Skipiping 403842\n",
      "Skipiping 403842\n",
      "Skipiping 403842\n",
      "Skipiping 403842\n",
      "Skipiping 403842\n",
      "Skipiping 403842\n",
      "Skipiping 403842\n",
      "Skipiping 445018\n",
      "Skipiping 445018\n"
     ]
    }
   ],
   "source": [
    "codes_file = '../../db-processing/ad_codes.tsv'\n",
    "codes = pd.read_csv(codes_file, sep='\\t')\n",
    "\n",
    "freqs_file = '../../db-processing/participant_ad_freqs.tsv'\n",
    "freqs = pd.read_csv(freqs_file, sep='\\t', dtype={'pid': 'str', 'adid': 'str', 'frequency': 'Int32'})\n",
    "freqs = freqs.set_index(['pid', 'adid'])\n",
    "# freqs can be accessed via: int(adcounts.loc['100060217151474', '23847280837380437'])\n",
    "\n",
    "# load the pid adid mapping for each annotation task\n",
    "# limiting this analysis to ads/participants that we have labeled data for\n",
    "pid_adid_files = [f'../../db-processing/surveys/survey-{n}/survey{n}_coding_subsample.tsv'\n",
    "                 for n in range(1, 8)]\n",
    "# survey #1 is an outlier, it had two files\n",
    "pid_adid_files.append('../../db-processing/surveys/survey-1/survey1_batch2_coding_subsample.tsv')\n",
    "\n",
    "# load up all files\n",
    "pid_adid = pd.read_csv(pid_adid_files[0], sep='\\t')\n",
    "for f in pid_adid_files[1:]:\n",
    "    pid_adid = pd.concat([pid_adid, pd.read_csv(f, sep='\\t')],\n",
    "                         ignore_index=True)\n",
    "pids = set(pid_adid['pid'])\n",
    "\n",
    "coded_ads = pid_adid.merge(codes, how='inner', left_on='adid', right_on='adid')\n",
    "part_ad_counts = {p: 0 for p in pids}\n",
    "for row in coded_ads.itertuples():\n",
    "    pid, adid = row.pid, str(row.adid)    \n",
    "    if str(pid) not in freqs.index:\n",
    "        print(f'Skipiping {pid}')\n",
    "        continue\n",
    "    part_ad_counts[pid] += int(freqs.loc[str(pid), str(adid)])\n",
    "# remove zeros -- there seem to be 3 such participants\n",
    "part_ad_counts = {p: part_ad_counts[p] for p in part_ad_counts if part_ad_counts[p] > 0}\n",
    "# revise list of pids\n",
    "pids = list(part_ad_counts.keys())"
   ]
  },
  {
   "cell_type": "code",
   "execution_count": 18,
   "id": "2a81b654",
   "metadata": {},
   "outputs": [
    {
     "data": {
      "text/plain": [
       "149"
      ]
     },
     "execution_count": 18,
     "metadata": {},
     "output_type": "execute_result"
    }
   ],
   "source": [
    "len([p for p in pids if part_ad_counts[p] >= 30])"
   ]
  },
  {
   "cell_type": "code",
   "execution_count": 4,
   "id": "b10026b2",
   "metadata": {},
   "outputs": [],
   "source": [
    "part_code_counts = {}\n",
    "\n",
    "for pid in pids:\n",
    "    # narrow down to only this participant's ads\n",
    "    joiner = pid_adid[pid_adid['pid'] == str(pid)]\n",
    "    # fetch codes for these ads\n",
    "    joined = joiner.merge(codes, how='inner', left_on='adid', right_on='adid')\n",
    "    # count frequencies for codes for participant\n",
    "    if str(pid) not in freqs.index:\n",
    "        print(f'{pid} not in freqs DF')\n",
    "        continue\n",
    "    code_counts = count_code_props(dict(joined[['adid', 'codes']].values), freqs.loc[str(pid)], norm=False)\n",
    "    part_code_counts[str(pid)] = code_counts"
   ]
  },
  {
   "cell_type": "code",
   "execution_count": 19,
   "id": "482f4959",
   "metadata": {},
   "outputs": [
    {
     "name": "stdout",
     "output_type": "stream",
     "text": [
      "Benign 0.447\n",
      "Deceptive 0.313\n",
      "Other 0.38\n"
     ]
    },
    {
     "data": {
      "image/png": "[encoded data removed]",
      "text/plain": [
       "<Figure size 720x576 with 1 Axes>"
      ]
     },
     "metadata": {
      "needs_background": "light"
     },
     "output_type": "display_data"
    }
   ],
   "source": [
    "# harmful, prohibited, and clickbait separately\n",
    "groups = {\n",
    "    'Benign': ['Benign'],\n",
    "    'Deceptive': ['Potentially Harmful', 'Potentially Prohibited', 'Clickbait'],\n",
    "    'Other': ['Financial', 'Opportunity', 'Healthcare', 'Political', 'Sensitive', 'CA Lawsuit']\n",
    "}\n",
    "colors = {'Benign': 'grey', 'Other': 'saddlebrown', 'Deceptive': 'tab:red'}\n",
    "f, ax = plt.subplots(figsize=(10, 8))\n",
    "# not really outliers, but save the highest consumers of \n",
    "outlier_pids = {'Benign': None, 'Deceptive': None, 'Other': None}\n",
    "\n",
    "# TODO: make sure this is accurate\n",
    "analysis_parts = [str(p) for p in part_ad_counts if part_ad_counts[p] >= 30]\n",
    "# analysis_parts = [str(p) for p in pids]\n",
    "for g in ['Benign', 'Deceptive', 'Other']:\n",
    "    group_counts = np.zeros(len(analysis_parts))\n",
    "    for c in groups[g]:\n",
    "        group_counts += [part_code_counts[pid].get(c, 0) for pid in analysis_parts]\n",
    "            \n",
    "    pdf = np.array(group_counts) / sum(group_counts)   \n",
    "    # (PDF, PID) list of tuples in descending order\n",
    "    pid_pdf = sorted(zip(pdf, analysis_parts), key=lambda tup: tup[0], reverse=True)\n",
    "    pdf_desc = [t[0] for t in pid_pdf]\n",
    "    pid_order = [t[1] for t in pid_pdf]\n",
    "    \n",
    "    cdf = np.cumsum(pdf_desc)\n",
    "    cdf = np.array([0, *cdf])\n",
    "    plt.plot(np.arange(len(cdf)), cdf, label=g,\n",
    "         color=colors[g], lw=2)\n",
    "    \n",
    "    # Mark 80% point on the CDF\n",
    "    cdf_80 = np.argmax([cdf >= .8])\n",
    "    print(g, round(cdf_80/len(cdf), 3))\n",
    "    plt.axvline(cdf_80, color=colors[g], ls='--')    \n",
    "    \n",
    "    # save PIDs for consumers beyond the 80th percentile\n",
    "    outlier_pids[g] = pid_order[:cdf_80]\n",
    "    \n",
    "plt.legend()\n",
    "plt.ylabel('Fraction of Contributions')\n",
    "plt.xticks(np.arange(len(cdf))[::20], [round(x, 1) for x in np.arange(0, 1.02, 1/len(cdf))[::20]])\n",
    "plt.xlabel(f'Fraction of participants (with ≥ 30 contributions, n={len(pdf)})')\n",
    "plt.grid(ls=':')\n",
    "\n",
    "# plt.savefig('../figures/CDF_benign_vs_deceptive.pdf', bbox_inches='tight', dpi=150)"
   ]
  },
  {
   "cell_type": "markdown",
   "id": "e4008887",
   "metadata": {},
   "source": [
    "### Demographics Table of Top Consumers"
   ]
  },
  {
   "cell_type": "code",
   "execution_count": 208,
   "id": "4391310d",
   "metadata": {},
   "outputs": [],
   "source": [
    "gender_file = '../../db-processing/participant-demographics/participant_genders_all.csv'\n",
    "gender = pd.read_csv(gender_file)\n",
    "gender = dict(gender.values)\n",
    "\n",
    "ages_file = '../../db-processing/participant-demographics/participant_ages_all.csv'\n",
    "ages = pd.read_csv(ages_file)\n",
    "ages = dict(ages.values)        \n",
    "\n",
    "fbuse_file = \"../../db-processing/participant-demographics/participant_fbuse.csv\"\n",
    "fbuse = pd.read_csv(fbuse_file)\n",
    "fbuse = dict(fbuse.values)\n",
    "\n",
    "# for making codes readable\n",
    "numeric_codes = {\n",
    "    'gender': {1: 'F', 2: 'M', 3: 'NB', 4: 'Other'},\n",
    "    'fbuse': {1: '<10m', 2: '10-30m', 3: '30-60m', 4: '1-2h', 5: '2-3h', 6: '3h+'}\n",
    "}"
   ]
  },
  {
   "cell_type": "code",
   "execution_count": 212,
   "id": "6faecc24",
   "metadata": {},
   "outputs": [],
   "source": [
    "# for gender: \n",
    "\n",
    "def show_demographics(given_pids):\n",
    "    global gender, ages, fbuse\n",
    "    print('given_pids:', len(given_pids), '\\n')\n",
    "    \n",
    "    dems_file = '../../db-processing/participant_dems.tsv'\n",
    "    dems = pd.read_csv(dems_file, sep='\\t')    \n",
    "    \n",
    "    # limit demographics to the list of given PIDs    \n",
    "    dems = dems[dems['pid'].isin(given_pids)]\n",
    "    dems['gender'] = pd.Series(dtype='int')\n",
    "    dems['fbuse'] = pd.Series(dtype='int')\n",
    "    for i in dems.index:\n",
    "        pid = dems.loc[i]['pid']\n",
    "        # fill up additional columns taken from other files\n",
    "        if pid in gender:\n",
    "            dems.loc[i, 'gender'] = int(gender[pid])\n",
    "        if pid in fbuse:\n",
    "            dems.loc[i, 'fbuse'] = int(fbuse[pid])\n",
    "    \n",
    "    table = []\n",
    "    for var in ['gender', 'income', 'age', 'fbuse', 'education']:\n",
    "        table.append(['-----', var.upper(), '-----'])\n",
    "        table.append(['-----', '-----', '-----'])\n",
    "        vals = dict(dems[var].value_counts())\n",
    "        for v in vals:\n",
    "            if var in numeric_codes:\n",
    "                # row format: variable_value, count, percentage (make value interpretable)\n",
    "                table.append([numeric_codes[var][int(v)],\n",
    "                              vals[v], f'{round(vals[v]/sum(vals.values()) * 100, 2)}%'])\n",
    "            else:\n",
    "                # variable_value, count, percentage\n",
    "                table.append([v, vals[v], f'{round(vals[v]/sum(vals.values()) * 100, 2)}%'])\n",
    "        \n",
    "    print(tabulate(table))"
   ]
  },
  {
   "cell_type": "code",
   "execution_count": 213,
   "id": "ec0f2b15",
   "metadata": {},
   "outputs": [
    {
     "name": "stdout",
     "output_type": "stream",
     "text": [
      "given_pids: 135 \n",
      "\n",
      "-------------  ---------  ------\n",
      "-----          GENDER     -----\n",
      "-----          -----      -----\n",
      "F              62         51.67%\n",
      "M              56         46.67%\n",
      "NB             2          1.67%\n",
      "-----          INCOME     -----\n",
      "-----          -----      -----\n",
      "25k-50k        32         26.45%\n",
      "100k+          30         24.79%\n",
      "under-25k      19         15.7%\n",
      "75k-100k       18         14.88%\n",
      "50k-75k        18         14.88%\n",
      "no-answer      4          3.31%\n",
      "-----          AGE        -----\n",
      "-----          -----      -----\n",
      "25-34          42         34.71%\n",
      "35-44          29         23.97%\n",
      "45-54          17         14.05%\n",
      "18-24          16         13.22%\n",
      "55-64          13         10.74%\n",
      "65+            4          3.31%\n",
      "-----          FBUSE      -----\n",
      "-----          -----      -----\n",
      "30-60m         33         27.5%\n",
      "1-2h           27         22.5%\n",
      "3h+            27         22.5%\n",
      "10-30m         21         17.5%\n",
      "2-3h           12         10.0%\n",
      "-----          EDUCATION  -----\n",
      "-----          -----      -----\n",
      "college        53         43.8%\n",
      "gradschool     22         18.18%\n",
      "some-college   21         17.36%\n",
      "highschool     15         12.4%\n",
      "associate      9          7.44%\n",
      "lt-highschool  1          0.83%\n",
      "-------------  ---------  ------\n"
     ]
    }
   ],
   "source": [
    "show_demographics(analysis_parts)"
   ]
  },
  {
   "cell_type": "code",
   "execution_count": 215,
   "id": "4653ae06",
   "metadata": {
    "scrolled": false
   },
   "outputs": [
    {
     "name": "stdout",
     "output_type": "stream",
     "text": [
      "given_pids: 47 \n",
      "\n",
      "------------  ---------  ------\n",
      "-----         GENDER     -----\n",
      "-----         -----      -----\n",
      "M             25         60.98%\n",
      "F             16         39.02%\n",
      "-----         INCOME     -----\n",
      "-----         -----      -----\n",
      "100k+         13         31.71%\n",
      "under-25k     8          19.51%\n",
      "25k-50k       8          19.51%\n",
      "50k-75k       6          14.63%\n",
      "75k-100k      3          7.32%\n",
      "no-answer     3          7.32%\n",
      "-----         AGE        -----\n",
      "-----         -----      -----\n",
      "25-34         12         29.27%\n",
      "35-44         11         26.83%\n",
      "55-64         9          21.95%\n",
      "45-54         4          9.76%\n",
      "65+           3          7.32%\n",
      "18-24         2          4.88%\n",
      "-----         FBUSE      -----\n",
      "-----         -----      -----\n",
      "3h+           13         31.71%\n",
      "30-60m        12         29.27%\n",
      "10-30m        8          19.51%\n",
      "1-2h          6          14.63%\n",
      "2-3h          2          4.88%\n",
      "-----         EDUCATION  -----\n",
      "-----         -----      -----\n",
      "college       17         41.46%\n",
      "gradschool    12         29.27%\n",
      "some-college  8          19.51%\n",
      "highschool    3          7.32%\n",
      "associate     1          2.44%\n",
      "------------  ---------  ------\n"
     ]
    }
   ],
   "source": [
    "show_demographics(outlier_pids['Deceptive'])"
   ]
  },
  {
   "cell_type": "code",
   "execution_count": null,
   "id": "3b74bbfd",
   "metadata": {},
   "outputs": [],
   "source": []
  }
 ],
 "metadata": {
  "kernelspec": {
   "display_name": "Python 3",
   "language": "python",
   "name": "python3"
  },
  "language_info": {
   "codemirror_mode": {
    "name": "ipython",
    "version": 3
   },
   "file_extension": ".py",
   "mimetype": "text/x-python",
   "name": "python",
   "nbconvert_exporter": "python",
   "pygments_lexer": "ipython3",
   "version": "3.8.9"
  }
 },
 "nbformat": 4,
 "nbformat_minor": 5
}
